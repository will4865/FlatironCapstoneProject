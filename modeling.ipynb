{
 "cells": [
  {
   "cell_type": "markdown",
   "metadata": {},
   "source": [
    "# Import Libraries and Data"
   ]
  },
  {
   "cell_type": "code",
   "execution_count": 30,
   "metadata": {
    "ExecuteTime": {
     "end_time": "2020-07-21T15:30:35.811025Z",
     "start_time": "2020-07-21T15:30:35.804526Z"
    }
   },
   "outputs": [],
   "source": [
    "import pandas as pd\n",
    "from sklearn.feature_extraction.text import TfidfVectorizer, CountVectorizer \n",
    "from sklearn.model_selection import train_test_split\n",
    "from sklearn.decomposition import TruncatedSVD\n",
    "from xgboost import XGBClassifier\n",
    "from sklearn.svm import SVC\n",
    "from sklearn.naive_bayes import MultinomialNB\n",
    "from sklearn.metrics import accuracy_score, classification_report, confusion_matrix\n",
    "from joblib import dump, load\n",
    "\n",
    "%run -i 'functions/model_eval.py'"
   ]
  },
  {
   "cell_type": "code",
   "execution_count": 2,
   "metadata": {
    "ExecuteTime": {
     "end_time": "2020-07-21T14:52:45.293190Z",
     "start_time": "2020-07-21T14:52:42.453027Z"
    }
   },
   "outputs": [
    {
     "data": {
      "text/html": [
       "<div>\n",
       "<style scoped>\n",
       "    .dataframe tbody tr th:only-of-type {\n",
       "        vertical-align: middle;\n",
       "    }\n",
       "\n",
       "    .dataframe tbody tr th {\n",
       "        vertical-align: top;\n",
       "    }\n",
       "\n",
       "    .dataframe thead th {\n",
       "        text-align: right;\n",
       "    }\n",
       "</style>\n",
       "<table border=\"1\" class=\"dataframe\">\n",
       "  <thead>\n",
       "    <tr style=\"text-align: right;\">\n",
       "      <th></th>\n",
       "      <th>Title</th>\n",
       "      <th>year</th>\n",
       "      <th>production_budget</th>\n",
       "      <th>domestic_gross</th>\n",
       "      <th>worldwide_gross</th>\n",
       "      <th>profit</th>\n",
       "      <th>ROI</th>\n",
       "      <th>script</th>\n",
       "      <th>Metascore</th>\n",
       "      <th>imdbRating</th>\n",
       "      <th>imdbID</th>\n",
       "      <th>ROI_scaled</th>\n",
       "      <th>Metascore_scaled</th>\n",
       "      <th>imdbRating_scaled</th>\n",
       "      <th>success_metric</th>\n",
       "      <th>cleaned_scripts_lemmatize</th>\n",
       "      <th>success_failure</th>\n",
       "      <th>word_cloud_scripts</th>\n",
       "    </tr>\n",
       "  </thead>\n",
       "  <tbody>\n",
       "    <tr>\n",
       "      <th>0</th>\n",
       "      <td>Pirates of the Caribbean: On Stranger Tides</td>\n",
       "      <td>2011</td>\n",
       "      <td>379000000</td>\n",
       "      <td>241063875</td>\n",
       "      <td>1045663875</td>\n",
       "      <td>666663875</td>\n",
       "      <td>1.76</td>\n",
       "      <td>Sub.Re-Edit.by. :: npdv.indoheroes[at]gmail.co...</td>\n",
       "      <td>45.0</td>\n",
       "      <td>6.6</td>\n",
       "      <td>tt1298650</td>\n",
       "      <td>0.005394</td>\n",
       "      <td>0.408602</td>\n",
       "      <td>0.649351</td>\n",
       "      <td>1.38</td>\n",
       "      <td>sub edit npdv indoheroes gmail com advertise p...</td>\n",
       "      <td>0</td>\n",
       "      <td>['sub', 'edit', 'npdv', 'indoheroes', 'gmail',...</td>\n",
       "    </tr>\n",
       "    <tr>\n",
       "      <th>1</th>\n",
       "      <td>Avengers: Age of Ultron</td>\n",
       "      <td>2015</td>\n",
       "      <td>365000000</td>\n",
       "      <td>459005868</td>\n",
       "      <td>1396099202</td>\n",
       "      <td>1031099202</td>\n",
       "      <td>2.82</td>\n",
       "      <td>(DISTANT EXPLOSION) STRUCKER ON PA: Report to ...</td>\n",
       "      <td>66.0</td>\n",
       "      <td>7.3</td>\n",
       "      <td>tt2395427</td>\n",
       "      <td>0.007520</td>\n",
       "      <td>0.634409</td>\n",
       "      <td>0.740260</td>\n",
       "      <td>1.56</td>\n",
       "      <td>distant explosion strucker pa report station i...</td>\n",
       "      <td>1</td>\n",
       "      <td>['distant', 'explosion', 'strucker', 'pa', 're...</td>\n",
       "    </tr>\n",
       "    <tr>\n",
       "      <th>2</th>\n",
       "      <td>Justice League</td>\n",
       "      <td>2017</td>\n",
       "      <td>300000000</td>\n",
       "      <td>229024295</td>\n",
       "      <td>655945209</td>\n",
       "      <td>355945209</td>\n",
       "      <td>1.19</td>\n",
       "      <td>There he is! Oh, sorry. Superman, Superman, ca...</td>\n",
       "      <td>45.0</td>\n",
       "      <td>6.4</td>\n",
       "      <td>tt0974015</td>\n",
       "      <td>0.004251</td>\n",
       "      <td>0.408602</td>\n",
       "      <td>0.623377</td>\n",
       "      <td>1.34</td>\n",
       "      <td>oh sorry superman superman ask question podcas...</td>\n",
       "      <td>0</td>\n",
       "      <td>['oh', 'sorry', 'superman', 'superman', 'ask',...</td>\n",
       "    </tr>\n",
       "    <tr>\n",
       "      <th>3</th>\n",
       "      <td>Spectre</td>\n",
       "      <td>2015</td>\n",
       "      <td>300000000</td>\n",
       "      <td>200074175</td>\n",
       "      <td>879620923</td>\n",
       "      <td>579620923</td>\n",
       "      <td>1.93</td>\n",
       "      <td>Where are you going? I won't be long. Welcome,...</td>\n",
       "      <td>60.0</td>\n",
       "      <td>6.8</td>\n",
       "      <td>tt2379713</td>\n",
       "      <td>0.005735</td>\n",
       "      <td>0.569892</td>\n",
       "      <td>0.675325</td>\n",
       "      <td>1.45</td>\n",
       "      <td>going long welcome signor soiarra trust pleasa...</td>\n",
       "      <td>1</td>\n",
       "      <td>['going', 'long', 'welcome', 'signor', 'soiarr...</td>\n",
       "    </tr>\n",
       "    <tr>\n",
       "      <th>4</th>\n",
       "      <td>Batman v Superman: Dawn of Justice</td>\n",
       "      <td>2016</td>\n",
       "      <td>263000000</td>\n",
       "      <td>330360194</td>\n",
       "      <td>872395091</td>\n",
       "      <td>609395091</td>\n",
       "      <td>2.32</td>\n",
       "      <td>There was a time above. A time before. There w...</td>\n",
       "      <td>44.0</td>\n",
       "      <td>6.5</td>\n",
       "      <td>tt2975590</td>\n",
       "      <td>0.006517</td>\n",
       "      <td>0.397849</td>\n",
       "      <td>0.636364</td>\n",
       "      <td>1.36</td>\n",
       "      <td>time time perfect thing diamond absolute thing...</td>\n",
       "      <td>0</td>\n",
       "      <td>['time', 'time', 'perfect', 'thing', 'diamond'...</td>\n",
       "    </tr>\n",
       "  </tbody>\n",
       "</table>\n",
       "</div>"
      ],
      "text/plain": [
       "                                         Title  year  production_budget  \\\n",
       "0  Pirates of the Caribbean: On Stranger Tides  2011          379000000   \n",
       "1                      Avengers: Age of Ultron  2015          365000000   \n",
       "2                               Justice League  2017          300000000   \n",
       "3                                      Spectre  2015          300000000   \n",
       "4           Batman v Superman: Dawn of Justice  2016          263000000   \n",
       "\n",
       "   domestic_gross  worldwide_gross      profit   ROI  \\\n",
       "0       241063875       1045663875   666663875  1.76   \n",
       "1       459005868       1396099202  1031099202  2.82   \n",
       "2       229024295        655945209   355945209  1.19   \n",
       "3       200074175        879620923   579620923  1.93   \n",
       "4       330360194        872395091   609395091  2.32   \n",
       "\n",
       "                                              script  Metascore  imdbRating  \\\n",
       "0  Sub.Re-Edit.by. :: npdv.indoheroes[at]gmail.co...       45.0         6.6   \n",
       "1  (DISTANT EXPLOSION) STRUCKER ON PA: Report to ...       66.0         7.3   \n",
       "2  There he is! Oh, sorry. Superman, Superman, ca...       45.0         6.4   \n",
       "3  Where are you going? I won't be long. Welcome,...       60.0         6.8   \n",
       "4  There was a time above. A time before. There w...       44.0         6.5   \n",
       "\n",
       "      imdbID  ROI_scaled  Metascore_scaled  imdbRating_scaled  success_metric  \\\n",
       "0  tt1298650    0.005394          0.408602           0.649351            1.38   \n",
       "1  tt2395427    0.007520          0.634409           0.740260            1.56   \n",
       "2  tt0974015    0.004251          0.408602           0.623377            1.34   \n",
       "3  tt2379713    0.005735          0.569892           0.675325            1.45   \n",
       "4  tt2975590    0.006517          0.397849           0.636364            1.36   \n",
       "\n",
       "                           cleaned_scripts_lemmatize  success_failure  \\\n",
       "0  sub edit npdv indoheroes gmail com advertise p...                0   \n",
       "1  distant explosion strucker pa report station i...                1   \n",
       "2  oh sorry superman superman ask question podcas...                0   \n",
       "3  going long welcome signor soiarra trust pleasa...                1   \n",
       "4  time time perfect thing diamond absolute thing...                0   \n",
       "\n",
       "                                  word_cloud_scripts  \n",
       "0  ['sub', 'edit', 'npdv', 'indoheroes', 'gmail',...  \n",
       "1  ['distant', 'explosion', 'strucker', 'pa', 're...  \n",
       "2  ['oh', 'sorry', 'superman', 'superman', 'ask',...  \n",
       "3  ['going', 'long', 'welcome', 'signor', 'soiarr...  \n",
       "4  ['time', 'time', 'perfect', 'thing', 'diamond'...  "
      ]
     },
     "execution_count": 2,
     "metadata": {},
     "output_type": "execute_result"
    }
   ],
   "source": [
    "modeling_df = pd.read_csv('/Users/will4856/Downloads/modeling_df.csv', index_col='Unnamed: 0')\n",
    "modeling_df.head()"
   ]
  },
  {
   "cell_type": "markdown",
   "metadata": {},
   "source": [
    "# Data Pre-Processing"
   ]
  },
  {
   "cell_type": "code",
   "execution_count": 3,
   "metadata": {
    "ExecuteTime": {
     "end_time": "2020-07-21T14:52:55.124197Z",
     "start_time": "2020-07-21T14:52:55.117968Z"
    }
   },
   "outputs": [],
   "source": [
    "modeling_df = modeling_df.loc[modeling_df['cleaned_scripts_lemmatize'].notna()]"
   ]
  },
  {
   "cell_type": "markdown",
   "metadata": {},
   "source": [
    "## Vectorizing"
   ]
  },
  {
   "cell_type": "code",
   "execution_count": 4,
   "metadata": {
    "ExecuteTime": {
     "end_time": "2020-07-21T14:53:01.832832Z",
     "start_time": "2020-07-21T14:53:01.830048Z"
    }
   },
   "outputs": [],
   "source": [
    "vectorizer = TfidfVectorizer()"
   ]
  },
  {
   "cell_type": "code",
   "execution_count": 5,
   "metadata": {
    "ExecuteTime": {
     "end_time": "2020-07-21T14:53:02.016411Z",
     "start_time": "2020-07-21T14:53:02.013748Z"
    }
   },
   "outputs": [],
   "source": [
    "X = modeling_df['cleaned_scripts_lemmatize']\n",
    "y = modeling_df['success_failure']"
   ]
  },
  {
   "cell_type": "code",
   "execution_count": 6,
   "metadata": {
    "ExecuteTime": {
     "end_time": "2020-07-21T14:53:02.249531Z",
     "start_time": "2020-07-21T14:53:02.244230Z"
    }
   },
   "outputs": [],
   "source": [
    "X_train, X_test, y_train, y_test = train_test_split(X, y, random_state = 42, test_size = 0.2)"
   ]
  },
  {
   "cell_type": "code",
   "execution_count": 7,
   "metadata": {
    "ExecuteTime": {
     "end_time": "2020-07-21T14:53:24.179807Z",
     "start_time": "2020-07-21T14:53:02.654615Z"
    }
   },
   "outputs": [],
   "source": [
    "X_vect = vectorizer.fit_transform(X)\n",
    "X_train_tfidf = vectorizer.transform(X_train)\n",
    "X_test_tfidf = vectorizer.transform(X_test)"
   ]
  },
  {
   "cell_type": "markdown",
   "metadata": {},
   "source": [
    "## Dimensionality Reduction with TruncatedSVD"
   ]
  },
  {
   "cell_type": "code",
   "execution_count": 8,
   "metadata": {
    "ExecuteTime": {
     "end_time": "2020-07-21T14:53:24.321343Z",
     "start_time": "2020-07-21T14:53:24.318855Z"
    }
   },
   "outputs": [],
   "source": [
    "tsvd = TruncatedSVD()"
   ]
  },
  {
   "cell_type": "code",
   "execution_count": 9,
   "metadata": {
    "ExecuteTime": {
     "end_time": "2020-07-21T14:53:26.091559Z",
     "start_time": "2020-07-21T14:53:24.436735Z"
    }
   },
   "outputs": [],
   "source": [
    "tsvd.fit(X_vect)\n",
    "X_train_tsvd = tsvd.transform(X_train_tfidf)\n",
    "X_test_tsvd = tsvd.transform(X_test_tfidf)"
   ]
  },
  {
   "cell_type": "markdown",
   "metadata": {},
   "source": [
    "# Classification Modeling"
   ]
  },
  {
   "cell_type": "markdown",
   "metadata": {},
   "source": [
    "## XGBoosted Classifier"
   ]
  },
  {
   "cell_type": "code",
   "execution_count": 10,
   "metadata": {
    "ExecuteTime": {
     "end_time": "2020-07-21T14:54:29.558528Z",
     "start_time": "2020-07-21T14:54:29.555874Z"
    }
   },
   "outputs": [],
   "source": [
    "xgbc_clf = XGBClassifier()"
   ]
  },
  {
   "cell_type": "code",
   "execution_count": 11,
   "metadata": {
    "ExecuteTime": {
     "end_time": "2020-07-21T14:54:30.450544Z",
     "start_time": "2020-07-21T14:54:30.333168Z"
    }
   },
   "outputs": [
    {
     "name": "stdout",
     "output_type": "stream",
     "text": [
      "              precision    recall  f1-score   support\n",
      "\n",
      "           0       0.51      0.59      0.55       279\n",
      "           1       0.58      0.50      0.54       314\n",
      "\n",
      "    accuracy                           0.54       593\n",
      "   macro avg       0.55      0.55      0.54       593\n",
      "weighted avg       0.55      0.54      0.54       593\n",
      "\n",
      "[[166 113]\n",
      " [158 156]]\n",
      "Training Accuracy Score ->  66.94772344013491\n",
      "Test Accuracy Score ->  54.300168634064086\n"
     ]
    }
   ],
   "source": [
    "model_eval(xgbc_clf)"
   ]
  },
  {
   "cell_type": "markdown",
   "metadata": {},
   "source": [
    "## Support Vector Machine Classifier"
   ]
  },
  {
   "cell_type": "code",
   "execution_count": 12,
   "metadata": {
    "ExecuteTime": {
     "end_time": "2020-07-21T14:54:33.277496Z",
     "start_time": "2020-07-21T14:54:33.274934Z"
    }
   },
   "outputs": [],
   "source": [
    "svc_clf = SVC()"
   ]
  },
  {
   "cell_type": "code",
   "execution_count": 13,
   "metadata": {
    "ExecuteTime": {
     "end_time": "2020-07-21T14:54:33.775561Z",
     "start_time": "2020-07-21T14:54:33.499011Z"
    }
   },
   "outputs": [
    {
     "name": "stdout",
     "output_type": "stream",
     "text": [
      "              precision    recall  f1-score   support\n",
      "\n",
      "           0       0.54      0.61      0.57       279\n",
      "           1       0.61      0.55      0.58       314\n",
      "\n",
      "    accuracy                           0.58       593\n",
      "   macro avg       0.58      0.58      0.58       593\n",
      "weighted avg       0.58      0.58      0.58       593\n",
      "\n",
      "[[169 110]\n",
      " [142 172]]\n",
      "Training Accuracy Score ->  60.286677908937605\n",
      "Test Accuracy Score ->  57.50421585160203\n"
     ]
    }
   ],
   "source": [
    "model_eval(svc_clf)"
   ]
  },
  {
   "cell_type": "markdown",
   "metadata": {},
   "source": [
    "## Multinomial Naive Bayes Classifier"
   ]
  },
  {
   "cell_type": "code",
   "execution_count": 14,
   "metadata": {
    "ExecuteTime": {
     "end_time": "2020-07-21T15:02:06.976096Z",
     "start_time": "2020-07-21T15:02:06.973125Z"
    }
   },
   "outputs": [],
   "source": [
    "nbc = MultinomialNB()"
   ]
  },
  {
   "cell_type": "code",
   "execution_count": 17,
   "metadata": {
    "ExecuteTime": {
     "end_time": "2020-07-21T15:04:15.205867Z",
     "start_time": "2020-07-21T15:04:15.202987Z"
    }
   },
   "outputs": [],
   "source": [
    "c_vectorizer = CountVectorizer()"
   ]
  },
  {
   "cell_type": "code",
   "execution_count": 18,
   "metadata": {
    "ExecuteTime": {
     "end_time": "2020-07-21T15:05:23.727570Z",
     "start_time": "2020-07-21T15:05:13.087970Z"
    }
   },
   "outputs": [],
   "source": [
    "Xc_vect = c_vectorizer.fit_transform(X)"
   ]
  },
  {
   "cell_type": "code",
   "execution_count": 22,
   "metadata": {
    "ExecuteTime": {
     "end_time": "2020-07-21T15:08:43.539797Z",
     "start_time": "2020-07-21T15:08:43.520785Z"
    }
   },
   "outputs": [],
   "source": [
    "X_train_cvect, X_test_cvect, y_train, y_test = train_test_split(Xc_vect, y)"
   ]
  },
  {
   "cell_type": "code",
   "execution_count": 23,
   "metadata": {
    "ExecuteTime": {
     "end_time": "2020-07-21T15:08:44.284052Z",
     "start_time": "2020-07-21T15:08:44.240508Z"
    }
   },
   "outputs": [
    {
     "data": {
      "text/plain": [
       "MultinomialNB()"
      ]
     },
     "execution_count": 23,
     "metadata": {},
     "output_type": "execute_result"
    }
   ],
   "source": [
    "nbc.fit(X_train_cvect, y_train)"
   ]
  },
  {
   "cell_type": "code",
   "execution_count": 24,
   "metadata": {
    "ExecuteTime": {
     "end_time": "2020-07-21T15:08:44.918587Z",
     "start_time": "2020-07-21T15:08:44.855417Z"
    }
   },
   "outputs": [
    {
     "name": "stdout",
     "output_type": "stream",
     "text": [
      "              precision    recall  f1-score   support\n",
      "\n",
      "           0       0.57      0.87      0.69       365\n",
      "           1       0.74      0.36      0.48       377\n",
      "\n",
      "    accuracy                           0.61       742\n",
      "   macro avg       0.65      0.61      0.59       742\n",
      "weighted avg       0.65      0.61      0.58       742\n",
      "\n",
      "[[317  48]\n",
      " [241 136]]\n",
      "Training Accuracy Score ->  82.99595141700405\n",
      "Test Accuracy Score ->  61.05121293800539\n"
     ]
    }
   ],
   "source": [
    "y_test_preds = nbc.predict(X_test_cvect)\n",
    "y_train_preds = nbc.predict(X_train_cvect)\n",
    "print(classification_report(y_test, y_test_preds))\n",
    "print(confusion_matrix(y_test, y_test_preds))\n",
    "print(\"Training Accuracy Score -> \",accuracy_score(y_train, y_train_preds)*100)\n",
    "print(\"Test Accuracy Score -> \",accuracy_score(y_test, y_test_preds)*100)"
   ]
  },
  {
   "cell_type": "markdown",
   "metadata": {},
   "source": [
    "## Dump Model to PKL File to Deploy"
   ]
  },
  {
   "cell_type": "code",
   "execution_count": 29,
   "metadata": {
    "ExecuteTime": {
     "end_time": "2020-07-21T15:15:07.851764Z",
     "start_time": "2020-07-21T15:15:07.837649Z"
    }
   },
   "outputs": [
    {
     "data": {
      "text/plain": [
       "['NB_script_model.pkl']"
      ]
     },
     "execution_count": 29,
     "metadata": {},
     "output_type": "execute_result"
    }
   ],
   "source": [
    "dump(nbc, 'NB_script_model.pkl')"
   ]
  }
 ],
 "metadata": {
  "kernelspec": {
   "display_name": "learn-env",
   "language": "python",
   "name": "learn-env"
  },
  "language_info": {
   "codemirror_mode": {
    "name": "ipython",
    "version": 3
   },
   "file_extension": ".py",
   "mimetype": "text/x-python",
   "name": "python",
   "nbconvert_exporter": "python",
   "pygments_lexer": "ipython3",
   "version": "3.6.9"
  },
  "toc": {
   "base_numbering": 1,
   "nav_menu": {},
   "number_sections": true,
   "sideBar": true,
   "skip_h1_title": false,
   "title_cell": "Table of Contents",
   "title_sidebar": "Contents",
   "toc_cell": false,
   "toc_position": {
    "height": "calc(100% - 180px)",
    "left": "10px",
    "top": "150px",
    "width": "364.8px"
   },
   "toc_section_display": true,
   "toc_window_display": true
  },
  "varInspector": {
   "cols": {
    "lenName": 16,
    "lenType": 16,
    "lenVar": 40
   },
   "kernels_config": {
    "python": {
     "delete_cmd_postfix": "",
     "delete_cmd_prefix": "del ",
     "library": "var_list.py",
     "varRefreshCmd": "print(var_dic_list())"
    },
    "r": {
     "delete_cmd_postfix": ") ",
     "delete_cmd_prefix": "rm(",
     "library": "var_list.r",
     "varRefreshCmd": "cat(var_dic_list()) "
    }
   },
   "types_to_exclude": [
    "module",
    "function",
    "builtin_function_or_method",
    "instance",
    "_Feature"
   ],
   "window_display": false
  }
 },
 "nbformat": 4,
 "nbformat_minor": 2
}
