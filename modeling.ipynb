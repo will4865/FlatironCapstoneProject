{
 "cells": [
  {
   "cell_type": "markdown",
   "metadata": {},
   "source": [
    "# Import Libraries and Data"
   ]
  },
  {
   "cell_type": "code",
   "execution_count": 63,
   "metadata": {
    "ExecuteTime": {
     "end_time": "2020-07-21T19:33:17.689884Z",
     "start_time": "2020-07-21T19:33:17.682610Z"
    }
   },
   "outputs": [],
   "source": [
    "import pandas as pd\n",
    "from sklearn.feature_extraction.text import TfidfVectorizer, CountVectorizer \n",
    "from sklearn.model_selection import train_test_split, GridSearchCV\n",
    "from sklearn.decomposition import TruncatedSVD\n",
    "from xgboost import XGBClassifier\n",
    "from sklearn.svm import SVC\n",
    "from sklearn.naive_bayes import MultinomialNB\n",
    "from sklearn.metrics import accuracy_score, classification_report, confusion_matrix\n",
    "from joblib import dump, load\n",
    "\n",
    "%run -i 'functions/model_eval.py'"
   ]
  },
  {
   "cell_type": "code",
   "execution_count": 42,
   "metadata": {
    "ExecuteTime": {
     "end_time": "2020-07-21T19:29:01.337732Z",
     "start_time": "2020-07-21T19:28:58.275193Z"
    }
   },
   "outputs": [
    {
     "data": {
      "text/html": [
       "<div>\n",
       "<style scoped>\n",
       "    .dataframe tbody tr th:only-of-type {\n",
       "        vertical-align: middle;\n",
       "    }\n",
       "\n",
       "    .dataframe tbody tr th {\n",
       "        vertical-align: top;\n",
       "    }\n",
       "\n",
       "    .dataframe thead th {\n",
       "        text-align: right;\n",
       "    }\n",
       "</style>\n",
       "<table border=\"1\" class=\"dataframe\">\n",
       "  <thead>\n",
       "    <tr style=\"text-align: right;\">\n",
       "      <th></th>\n",
       "      <th>Title</th>\n",
       "      <th>year</th>\n",
       "      <th>production_budget</th>\n",
       "      <th>domestic_gross</th>\n",
       "      <th>worldwide_gross</th>\n",
       "      <th>profit</th>\n",
       "      <th>ROI</th>\n",
       "      <th>script</th>\n",
       "      <th>Metascore</th>\n",
       "      <th>imdbRating</th>\n",
       "      <th>imdbID</th>\n",
       "      <th>ROI_scaled</th>\n",
       "      <th>Metascore_scaled</th>\n",
       "      <th>imdbRating_scaled</th>\n",
       "      <th>success_metric</th>\n",
       "      <th>cleaned_scripts</th>\n",
       "      <th>success_failure</th>\n",
       "      <th>word_cloud_scripts</th>\n",
       "      <th>word_count</th>\n",
       "    </tr>\n",
       "  </thead>\n",
       "  <tbody>\n",
       "    <tr>\n",
       "      <th>0</th>\n",
       "      <td>Pirates of the Caribbean: On Stranger Tides</td>\n",
       "      <td>2011</td>\n",
       "      <td>379000000</td>\n",
       "      <td>241063875</td>\n",
       "      <td>1045663875</td>\n",
       "      <td>666663875</td>\n",
       "      <td>1.76</td>\n",
       "      <td>Sub.Re-Edit.by. :: npdv.indoheroes[at]gmail.co...</td>\n",
       "      <td>45.0</td>\n",
       "      <td>6.6</td>\n",
       "      <td>tt1298650</td>\n",
       "      <td>0.005394</td>\n",
       "      <td>0.408602</td>\n",
       "      <td>0.649351</td>\n",
       "      <td>1.38</td>\n",
       "      <td>sub edit npdv indoheroes gmail com advertise p...</td>\n",
       "      <td>0</td>\n",
       "      <td>['sub', 'edit', 'npdv', 'indoheroes', 'gmail',...</td>\n",
       "      <td>3992</td>\n",
       "    </tr>\n",
       "    <tr>\n",
       "      <th>1</th>\n",
       "      <td>Avengers: Age of Ultron</td>\n",
       "      <td>2015</td>\n",
       "      <td>365000000</td>\n",
       "      <td>459005868</td>\n",
       "      <td>1396099202</td>\n",
       "      <td>1031099202</td>\n",
       "      <td>2.82</td>\n",
       "      <td>(DISTANT EXPLOSION) STRUCKER ON PA: Report to ...</td>\n",
       "      <td>66.0</td>\n",
       "      <td>7.3</td>\n",
       "      <td>tt2395427</td>\n",
       "      <td>0.007520</td>\n",
       "      <td>0.634409</td>\n",
       "      <td>0.740260</td>\n",
       "      <td>1.56</td>\n",
       "      <td>distant explosion strucker pa report stations ...</td>\n",
       "      <td>1</td>\n",
       "      <td>['distant', 'explosion', 'strucker', 'pa', 're...</td>\n",
       "      <td>5690</td>\n",
       "    </tr>\n",
       "    <tr>\n",
       "      <th>2</th>\n",
       "      <td>Justice League</td>\n",
       "      <td>2017</td>\n",
       "      <td>300000000</td>\n",
       "      <td>229024295</td>\n",
       "      <td>655945209</td>\n",
       "      <td>355945209</td>\n",
       "      <td>1.19</td>\n",
       "      <td>There he is! Oh, sorry. Superman, Superman, ca...</td>\n",
       "      <td>45.0</td>\n",
       "      <td>6.4</td>\n",
       "      <td>tt0974015</td>\n",
       "      <td>0.004251</td>\n",
       "      <td>0.408602</td>\n",
       "      <td>0.623377</td>\n",
       "      <td>1.34</td>\n",
       "      <td>oh sorry superman superman ask questions podca...</td>\n",
       "      <td>0</td>\n",
       "      <td>['oh', 'sorry', 'superman', 'superman', 'ask',...</td>\n",
       "      <td>3255</td>\n",
       "    </tr>\n",
       "    <tr>\n",
       "      <th>3</th>\n",
       "      <td>Spectre</td>\n",
       "      <td>2015</td>\n",
       "      <td>300000000</td>\n",
       "      <td>200074175</td>\n",
       "      <td>879620923</td>\n",
       "      <td>579620923</td>\n",
       "      <td>1.93</td>\n",
       "      <td>Where are you going? I won't be long. Welcome,...</td>\n",
       "      <td>60.0</td>\n",
       "      <td>6.8</td>\n",
       "      <td>tt2379713</td>\n",
       "      <td>0.005735</td>\n",
       "      <td>0.569892</td>\n",
       "      <td>0.675325</td>\n",
       "      <td>1.45</td>\n",
       "      <td>going long welcome signor soiarra trust pleasa...</td>\n",
       "      <td>1</td>\n",
       "      <td>['going', 'long', 'welcome', 'signor', 'soiarr...</td>\n",
       "      <td>2937</td>\n",
       "    </tr>\n",
       "    <tr>\n",
       "      <th>4</th>\n",
       "      <td>Batman v Superman: Dawn of Justice</td>\n",
       "      <td>2016</td>\n",
       "      <td>263000000</td>\n",
       "      <td>330360194</td>\n",
       "      <td>872395091</td>\n",
       "      <td>609395091</td>\n",
       "      <td>2.32</td>\n",
       "      <td>There was a time above. A time before. There w...</td>\n",
       "      <td>44.0</td>\n",
       "      <td>6.5</td>\n",
       "      <td>tt2975590</td>\n",
       "      <td>0.006517</td>\n",
       "      <td>0.397849</td>\n",
       "      <td>0.636364</td>\n",
       "      <td>1.36</td>\n",
       "      <td>time time perfect things diamond absolutes thi...</td>\n",
       "      <td>0</td>\n",
       "      <td>['time', 'time', 'perfect', 'things', 'diamond...</td>\n",
       "      <td>4451</td>\n",
       "    </tr>\n",
       "  </tbody>\n",
       "</table>\n",
       "</div>"
      ],
      "text/plain": [
       "                                         Title  year  production_budget  \\\n",
       "0  Pirates of the Caribbean: On Stranger Tides  2011          379000000   \n",
       "1                      Avengers: Age of Ultron  2015          365000000   \n",
       "2                               Justice League  2017          300000000   \n",
       "3                                      Spectre  2015          300000000   \n",
       "4           Batman v Superman: Dawn of Justice  2016          263000000   \n",
       "\n",
       "   domestic_gross  worldwide_gross      profit   ROI  \\\n",
       "0       241063875       1045663875   666663875  1.76   \n",
       "1       459005868       1396099202  1031099202  2.82   \n",
       "2       229024295        655945209   355945209  1.19   \n",
       "3       200074175        879620923   579620923  1.93   \n",
       "4       330360194        872395091   609395091  2.32   \n",
       "\n",
       "                                              script  Metascore  imdbRating  \\\n",
       "0  Sub.Re-Edit.by. :: npdv.indoheroes[at]gmail.co...       45.0         6.6   \n",
       "1  (DISTANT EXPLOSION) STRUCKER ON PA: Report to ...       66.0         7.3   \n",
       "2  There he is! Oh, sorry. Superman, Superman, ca...       45.0         6.4   \n",
       "3  Where are you going? I won't be long. Welcome,...       60.0         6.8   \n",
       "4  There was a time above. A time before. There w...       44.0         6.5   \n",
       "\n",
       "      imdbID  ROI_scaled  Metascore_scaled  imdbRating_scaled  success_metric  \\\n",
       "0  tt1298650    0.005394          0.408602           0.649351            1.38   \n",
       "1  tt2395427    0.007520          0.634409           0.740260            1.56   \n",
       "2  tt0974015    0.004251          0.408602           0.623377            1.34   \n",
       "3  tt2379713    0.005735          0.569892           0.675325            1.45   \n",
       "4  tt2975590    0.006517          0.397849           0.636364            1.36   \n",
       "\n",
       "                                     cleaned_scripts  success_failure  \\\n",
       "0  sub edit npdv indoheroes gmail com advertise p...                0   \n",
       "1  distant explosion strucker pa report stations ...                1   \n",
       "2  oh sorry superman superman ask questions podca...                0   \n",
       "3  going long welcome signor soiarra trust pleasa...                1   \n",
       "4  time time perfect things diamond absolutes thi...                0   \n",
       "\n",
       "                                  word_cloud_scripts  word_count  \n",
       "0  ['sub', 'edit', 'npdv', 'indoheroes', 'gmail',...        3992  \n",
       "1  ['distant', 'explosion', 'strucker', 'pa', 're...        5690  \n",
       "2  ['oh', 'sorry', 'superman', 'superman', 'ask',...        3255  \n",
       "3  ['going', 'long', 'welcome', 'signor', 'soiarr...        2937  \n",
       "4  ['time', 'time', 'perfect', 'things', 'diamond...        4451  "
      ]
     },
     "execution_count": 42,
     "metadata": {},
     "output_type": "execute_result"
    }
   ],
   "source": [
    "modeling_df = pd.read_csv('/Users/will4856/Downloads/modeling_df.csv', index_col='Unnamed: 0')\n",
    "modeling_df.head()"
   ]
  },
  {
   "cell_type": "code",
   "execution_count": 31,
   "metadata": {
    "ExecuteTime": {
     "end_time": "2020-07-21T17:59:32.232194Z",
     "start_time": "2020-07-21T17:59:22.125015Z"
    }
   },
   "outputs": [],
   "source": [
    "modeling_df.to_csv('/Users/will4856/Desktop/script_model/modeling_df.csv')"
   ]
  },
  {
   "cell_type": "markdown",
   "metadata": {},
   "source": [
    "# Data Pre-Processing"
   ]
  },
  {
   "cell_type": "code",
   "execution_count": 43,
   "metadata": {
    "ExecuteTime": {
     "end_time": "2020-07-21T19:29:04.368214Z",
     "start_time": "2020-07-21T19:29:04.362631Z"
    }
   },
   "outputs": [],
   "source": [
    "modeling_df = modeling_df.loc[modeling_df['cleaned_scripts'].notna()]"
   ]
  },
  {
   "cell_type": "code",
   "execution_count": 44,
   "metadata": {
    "ExecuteTime": {
     "end_time": "2020-07-21T19:29:06.647850Z",
     "start_time": "2020-07-21T19:29:05.081971Z"
    }
   },
   "outputs": [],
   "source": [
    "modeling_df['cleaned_scripts'] = modeling_df['cleaned_scripts'].map(lambda x: ''.join(x))"
   ]
  },
  {
   "cell_type": "code",
   "execution_count": 45,
   "metadata": {
    "ExecuteTime": {
     "end_time": "2020-07-21T19:29:06.992442Z",
     "start_time": "2020-07-21T19:29:06.954846Z"
    }
   },
   "outputs": [
    {
     "data": {
      "text/html": [
       "<div>\n",
       "<style scoped>\n",
       "    .dataframe tbody tr th:only-of-type {\n",
       "        vertical-align: middle;\n",
       "    }\n",
       "\n",
       "    .dataframe tbody tr th {\n",
       "        vertical-align: top;\n",
       "    }\n",
       "\n",
       "    .dataframe thead th {\n",
       "        text-align: right;\n",
       "    }\n",
       "</style>\n",
       "<table border=\"1\" class=\"dataframe\">\n",
       "  <thead>\n",
       "    <tr style=\"text-align: right;\">\n",
       "      <th></th>\n",
       "      <th>Title</th>\n",
       "      <th>year</th>\n",
       "      <th>production_budget</th>\n",
       "      <th>domestic_gross</th>\n",
       "      <th>worldwide_gross</th>\n",
       "      <th>profit</th>\n",
       "      <th>ROI</th>\n",
       "      <th>script</th>\n",
       "      <th>Metascore</th>\n",
       "      <th>imdbRating</th>\n",
       "      <th>imdbID</th>\n",
       "      <th>ROI_scaled</th>\n",
       "      <th>Metascore_scaled</th>\n",
       "      <th>imdbRating_scaled</th>\n",
       "      <th>success_metric</th>\n",
       "      <th>cleaned_scripts</th>\n",
       "      <th>success_failure</th>\n",
       "      <th>word_cloud_scripts</th>\n",
       "      <th>word_count</th>\n",
       "    </tr>\n",
       "  </thead>\n",
       "  <tbody>\n",
       "    <tr>\n",
       "      <th>0</th>\n",
       "      <td>Pirates of the Caribbean: On Stranger Tides</td>\n",
       "      <td>2011</td>\n",
       "      <td>379000000</td>\n",
       "      <td>241063875</td>\n",
       "      <td>1045663875</td>\n",
       "      <td>666663875</td>\n",
       "      <td>1.76</td>\n",
       "      <td>Sub.Re-Edit.by. :: npdv.indoheroes[at]gmail.co...</td>\n",
       "      <td>45.0</td>\n",
       "      <td>6.6</td>\n",
       "      <td>tt1298650</td>\n",
       "      <td>0.005394</td>\n",
       "      <td>0.408602</td>\n",
       "      <td>0.649351</td>\n",
       "      <td>1.38</td>\n",
       "      <td>sub edit npdv indoheroes gmail com advertise p...</td>\n",
       "      <td>0</td>\n",
       "      <td>['sub', 'edit', 'npdv', 'indoheroes', 'gmail',...</td>\n",
       "      <td>3992</td>\n",
       "    </tr>\n",
       "    <tr>\n",
       "      <th>1</th>\n",
       "      <td>Avengers: Age of Ultron</td>\n",
       "      <td>2015</td>\n",
       "      <td>365000000</td>\n",
       "      <td>459005868</td>\n",
       "      <td>1396099202</td>\n",
       "      <td>1031099202</td>\n",
       "      <td>2.82</td>\n",
       "      <td>(DISTANT EXPLOSION) STRUCKER ON PA: Report to ...</td>\n",
       "      <td>66.0</td>\n",
       "      <td>7.3</td>\n",
       "      <td>tt2395427</td>\n",
       "      <td>0.007520</td>\n",
       "      <td>0.634409</td>\n",
       "      <td>0.740260</td>\n",
       "      <td>1.56</td>\n",
       "      <td>distant explosion strucker pa report stations ...</td>\n",
       "      <td>1</td>\n",
       "      <td>['distant', 'explosion', 'strucker', 'pa', 're...</td>\n",
       "      <td>5690</td>\n",
       "    </tr>\n",
       "    <tr>\n",
       "      <th>2</th>\n",
       "      <td>Justice League</td>\n",
       "      <td>2017</td>\n",
       "      <td>300000000</td>\n",
       "      <td>229024295</td>\n",
       "      <td>655945209</td>\n",
       "      <td>355945209</td>\n",
       "      <td>1.19</td>\n",
       "      <td>There he is! Oh, sorry. Superman, Superman, ca...</td>\n",
       "      <td>45.0</td>\n",
       "      <td>6.4</td>\n",
       "      <td>tt0974015</td>\n",
       "      <td>0.004251</td>\n",
       "      <td>0.408602</td>\n",
       "      <td>0.623377</td>\n",
       "      <td>1.34</td>\n",
       "      <td>oh sorry superman superman ask questions podca...</td>\n",
       "      <td>0</td>\n",
       "      <td>['oh', 'sorry', 'superman', 'superman', 'ask',...</td>\n",
       "      <td>3255</td>\n",
       "    </tr>\n",
       "    <tr>\n",
       "      <th>3</th>\n",
       "      <td>Spectre</td>\n",
       "      <td>2015</td>\n",
       "      <td>300000000</td>\n",
       "      <td>200074175</td>\n",
       "      <td>879620923</td>\n",
       "      <td>579620923</td>\n",
       "      <td>1.93</td>\n",
       "      <td>Where are you going? I won't be long. Welcome,...</td>\n",
       "      <td>60.0</td>\n",
       "      <td>6.8</td>\n",
       "      <td>tt2379713</td>\n",
       "      <td>0.005735</td>\n",
       "      <td>0.569892</td>\n",
       "      <td>0.675325</td>\n",
       "      <td>1.45</td>\n",
       "      <td>going long welcome signor soiarra trust pleasa...</td>\n",
       "      <td>1</td>\n",
       "      <td>['going', 'long', 'welcome', 'signor', 'soiarr...</td>\n",
       "      <td>2937</td>\n",
       "    </tr>\n",
       "    <tr>\n",
       "      <th>4</th>\n",
       "      <td>Batman v Superman: Dawn of Justice</td>\n",
       "      <td>2016</td>\n",
       "      <td>263000000</td>\n",
       "      <td>330360194</td>\n",
       "      <td>872395091</td>\n",
       "      <td>609395091</td>\n",
       "      <td>2.32</td>\n",
       "      <td>There was a time above. A time before. There w...</td>\n",
       "      <td>44.0</td>\n",
       "      <td>6.5</td>\n",
       "      <td>tt2975590</td>\n",
       "      <td>0.006517</td>\n",
       "      <td>0.397849</td>\n",
       "      <td>0.636364</td>\n",
       "      <td>1.36</td>\n",
       "      <td>time time perfect things diamond absolutes thi...</td>\n",
       "      <td>0</td>\n",
       "      <td>['time', 'time', 'perfect', 'things', 'diamond...</td>\n",
       "      <td>4451</td>\n",
       "    </tr>\n",
       "    <tr>\n",
       "      <th>...</th>\n",
       "      <td>...</td>\n",
       "      <td>...</td>\n",
       "      <td>...</td>\n",
       "      <td>...</td>\n",
       "      <td>...</td>\n",
       "      <td>...</td>\n",
       "      <td>...</td>\n",
       "      <td>...</td>\n",
       "      <td>...</td>\n",
       "      <td>...</td>\n",
       "      <td>...</td>\n",
       "      <td>...</td>\n",
       "      <td>...</td>\n",
       "      <td>...</td>\n",
       "      <td>...</td>\n",
       "      <td>...</td>\n",
       "      <td>...</td>\n",
       "      <td>...</td>\n",
       "      <td>...</td>\n",
       "    </tr>\n",
       "    <tr>\n",
       "      <th>3004</th>\n",
       "      <td>Princess Mononoke</td>\n",
       "      <td>2005</td>\n",
       "      <td>20000000</td>\n",
       "      <td>2374107</td>\n",
       "      <td>150345863</td>\n",
       "      <td>130345863</td>\n",
       "      <td>6.52</td>\n",
       "      <td>[In  ancient  times, the land, lay  covered  i...</td>\n",
       "      <td>76.0</td>\n",
       "      <td>8.4</td>\n",
       "      <td>tt0119698</td>\n",
       "      <td>0.014939</td>\n",
       "      <td>0.741935</td>\n",
       "      <td>0.883117</td>\n",
       "      <td>1.80</td>\n",
       "      <td>ancient times land lay covered forests ages lo...</td>\n",
       "      <td>1</td>\n",
       "      <td>['ancient', 'times', 'land', 'lay', 'covered',...</td>\n",
       "      <td>4583</td>\n",
       "    </tr>\n",
       "    <tr>\n",
       "      <th>3005</th>\n",
       "      <td>Bad Grandpa</td>\n",
       "      <td>2006</td>\n",
       "      <td>15000000</td>\n",
       "      <td>102003019</td>\n",
       "      <td>160903019</td>\n",
       "      <td>145903019</td>\n",
       "      <td>9.73</td>\n",
       "      <td>[- Is it going?, - Yes., Okay., Leave a  messa...</td>\n",
       "      <td>54.0</td>\n",
       "      <td>6.5</td>\n",
       "      <td>tt3063516</td>\n",
       "      <td>0.021376</td>\n",
       "      <td>0.505376</td>\n",
       "      <td>0.636364</td>\n",
       "      <td>1.39</td>\n",
       "      <td>going yes okay leave message irving zisman fuc...</td>\n",
       "      <td>0</td>\n",
       "      <td>['going', 'yes', 'okay', 'leave', 'message', '...</td>\n",
       "      <td>5659</td>\n",
       "    </tr>\n",
       "    <tr>\n",
       "      <th>3006</th>\n",
       "      <td>High School Musical 3</td>\n",
       "      <td>2000</td>\n",
       "      <td>11000000</td>\n",
       "      <td>90559416</td>\n",
       "      <td>274392880</td>\n",
       "      <td>263392880</td>\n",
       "      <td>23.94</td>\n",
       "      <td>[Let's go!, - I'm open, I'm open., - I don't s...</td>\n",
       "      <td>57.0</td>\n",
       "      <td>4.8</td>\n",
       "      <td>tt0962726</td>\n",
       "      <td>0.049872</td>\n",
       "      <td>0.537634</td>\n",
       "      <td>0.415584</td>\n",
       "      <td>1.07</td>\n",
       "      <td>let go open open see take time run run go go l...</td>\n",
       "      <td>0</td>\n",
       "      <td>['let', 'go', 'open', 'open', 'see', 'take', '...</td>\n",
       "      <td>5185</td>\n",
       "    </tr>\n",
       "    <tr>\n",
       "      <th>3007</th>\n",
       "      <td>A Nightmare on Elm Street 5: The Dream Child</td>\n",
       "      <td>2014</td>\n",
       "      <td>6000000</td>\n",
       "      <td>22168359</td>\n",
       "      <td>22168359</td>\n",
       "      <td>16168359</td>\n",
       "      <td>2.69</td>\n",
       "      <td>[Sixty-eight... sixty-nine..., seventy... seve...</td>\n",
       "      <td>54.0</td>\n",
       "      <td>5.2</td>\n",
       "      <td>tt0097981</td>\n",
       "      <td>0.007259</td>\n",
       "      <td>0.505376</td>\n",
       "      <td>0.467532</td>\n",
       "      <td>1.12</td>\n",
       "      <td>sixty eight sixty nine seventy seventy one com...</td>\n",
       "      <td>0</td>\n",
       "      <td>['sixty', 'eight', 'sixty', 'nine', 'seventy',...</td>\n",
       "      <td>2095</td>\n",
       "    </tr>\n",
       "    <tr>\n",
       "      <th>3008</th>\n",
       "      <td>A Nightmare on Elm Street 2: Freddy's Revenge</td>\n",
       "      <td>2002</td>\n",
       "      <td>3000000</td>\n",
       "      <td>21163999</td>\n",
       "      <td>21163999</td>\n",
       "      <td>18163999</td>\n",
       "      <td>6.05</td>\n",
       "      <td>[O K. Take it easy., See you., Turn it down!, ...</td>\n",
       "      <td>43.0</td>\n",
       "      <td>5.5</td>\n",
       "      <td>tt0089686</td>\n",
       "      <td>0.013997</td>\n",
       "      <td>0.387097</td>\n",
       "      <td>0.506494</td>\n",
       "      <td>1.17</td>\n",
       "      <td>k take easy see turn serious way believe way l...</td>\n",
       "      <td>0</td>\n",
       "      <td>['k', 'take', 'easy', 'see', 'turn', 'serious'...</td>\n",
       "      <td>1705</td>\n",
       "    </tr>\n",
       "  </tbody>\n",
       "</table>\n",
       "<p>2965 rows × 19 columns</p>\n",
       "</div>"
      ],
      "text/plain": [
       "                                              Title  year  production_budget  \\\n",
       "0       Pirates of the Caribbean: On Stranger Tides  2011          379000000   \n",
       "1                           Avengers: Age of Ultron  2015          365000000   \n",
       "2                                    Justice League  2017          300000000   \n",
       "3                                           Spectre  2015          300000000   \n",
       "4                Batman v Superman: Dawn of Justice  2016          263000000   \n",
       "...                                             ...   ...                ...   \n",
       "3004                              Princess Mononoke  2005           20000000   \n",
       "3005                                    Bad Grandpa  2006           15000000   \n",
       "3006                          High School Musical 3  2000           11000000   \n",
       "3007   A Nightmare on Elm Street 5: The Dream Child  2014            6000000   \n",
       "3008  A Nightmare on Elm Street 2: Freddy's Revenge  2002            3000000   \n",
       "\n",
       "      domestic_gross  worldwide_gross      profit    ROI  \\\n",
       "0          241063875       1045663875   666663875   1.76   \n",
       "1          459005868       1396099202  1031099202   2.82   \n",
       "2          229024295        655945209   355945209   1.19   \n",
       "3          200074175        879620923   579620923   1.93   \n",
       "4          330360194        872395091   609395091   2.32   \n",
       "...              ...              ...         ...    ...   \n",
       "3004         2374107        150345863   130345863   6.52   \n",
       "3005       102003019        160903019   145903019   9.73   \n",
       "3006        90559416        274392880   263392880  23.94   \n",
       "3007        22168359         22168359    16168359   2.69   \n",
       "3008        21163999         21163999    18163999   6.05   \n",
       "\n",
       "                                                 script  Metascore  \\\n",
       "0     Sub.Re-Edit.by. :: npdv.indoheroes[at]gmail.co...       45.0   \n",
       "1     (DISTANT EXPLOSION) STRUCKER ON PA: Report to ...       66.0   \n",
       "2     There he is! Oh, sorry. Superman, Superman, ca...       45.0   \n",
       "3     Where are you going? I won't be long. Welcome,...       60.0   \n",
       "4     There was a time above. A time before. There w...       44.0   \n",
       "...                                                 ...        ...   \n",
       "3004  [In  ancient  times, the land, lay  covered  i...       76.0   \n",
       "3005  [- Is it going?, - Yes., Okay., Leave a  messa...       54.0   \n",
       "3006  [Let's go!, - I'm open, I'm open., - I don't s...       57.0   \n",
       "3007  [Sixty-eight... sixty-nine..., seventy... seve...       54.0   \n",
       "3008  [O K. Take it easy., See you., Turn it down!, ...       43.0   \n",
       "\n",
       "      imdbRating     imdbID  ROI_scaled  Metascore_scaled  imdbRating_scaled  \\\n",
       "0            6.6  tt1298650    0.005394          0.408602           0.649351   \n",
       "1            7.3  tt2395427    0.007520          0.634409           0.740260   \n",
       "2            6.4  tt0974015    0.004251          0.408602           0.623377   \n",
       "3            6.8  tt2379713    0.005735          0.569892           0.675325   \n",
       "4            6.5  tt2975590    0.006517          0.397849           0.636364   \n",
       "...          ...        ...         ...               ...                ...   \n",
       "3004         8.4  tt0119698    0.014939          0.741935           0.883117   \n",
       "3005         6.5  tt3063516    0.021376          0.505376           0.636364   \n",
       "3006         4.8  tt0962726    0.049872          0.537634           0.415584   \n",
       "3007         5.2  tt0097981    0.007259          0.505376           0.467532   \n",
       "3008         5.5  tt0089686    0.013997          0.387097           0.506494   \n",
       "\n",
       "      success_metric                                    cleaned_scripts  \\\n",
       "0               1.38  sub edit npdv indoheroes gmail com advertise p...   \n",
       "1               1.56  distant explosion strucker pa report stations ...   \n",
       "2               1.34  oh sorry superman superman ask questions podca...   \n",
       "3               1.45  going long welcome signor soiarra trust pleasa...   \n",
       "4               1.36  time time perfect things diamond absolutes thi...   \n",
       "...              ...                                                ...   \n",
       "3004            1.80  ancient times land lay covered forests ages lo...   \n",
       "3005            1.39  going yes okay leave message irving zisman fuc...   \n",
       "3006            1.07  let go open open see take time run run go go l...   \n",
       "3007            1.12  sixty eight sixty nine seventy seventy one com...   \n",
       "3008            1.17  k take easy see turn serious way believe way l...   \n",
       "\n",
       "      success_failure                                 word_cloud_scripts  \\\n",
       "0                   0  ['sub', 'edit', 'npdv', 'indoheroes', 'gmail',...   \n",
       "1                   1  ['distant', 'explosion', 'strucker', 'pa', 're...   \n",
       "2                   0  ['oh', 'sorry', 'superman', 'superman', 'ask',...   \n",
       "3                   1  ['going', 'long', 'welcome', 'signor', 'soiarr...   \n",
       "4                   0  ['time', 'time', 'perfect', 'things', 'diamond...   \n",
       "...               ...                                                ...   \n",
       "3004                1  ['ancient', 'times', 'land', 'lay', 'covered',...   \n",
       "3005                0  ['going', 'yes', 'okay', 'leave', 'message', '...   \n",
       "3006                0  ['let', 'go', 'open', 'open', 'see', 'take', '...   \n",
       "3007                0  ['sixty', 'eight', 'sixty', 'nine', 'seventy',...   \n",
       "3008                0  ['k', 'take', 'easy', 'see', 'turn', 'serious'...   \n",
       "\n",
       "      word_count  \n",
       "0           3992  \n",
       "1           5690  \n",
       "2           3255  \n",
       "3           2937  \n",
       "4           4451  \n",
       "...          ...  \n",
       "3004        4583  \n",
       "3005        5659  \n",
       "3006        5185  \n",
       "3007        2095  \n",
       "3008        1705  \n",
       "\n",
       "[2965 rows x 19 columns]"
      ]
     },
     "execution_count": 45,
     "metadata": {},
     "output_type": "execute_result"
    }
   ],
   "source": [
    "modeling_df"
   ]
  },
  {
   "cell_type": "markdown",
   "metadata": {},
   "source": [
    "## Vectorizing"
   ]
  },
  {
   "cell_type": "code",
   "execution_count": 145,
   "metadata": {
    "ExecuteTime": {
     "end_time": "2020-07-21T20:43:06.174088Z",
     "start_time": "2020-07-21T20:43:06.150898Z"
    }
   },
   "outputs": [],
   "source": [
    "vectorizer = TfidfVectorizer()"
   ]
  },
  {
   "cell_type": "code",
   "execution_count": 146,
   "metadata": {
    "ExecuteTime": {
     "end_time": "2020-07-21T20:43:06.463138Z",
     "start_time": "2020-07-21T20:43:06.459533Z"
    }
   },
   "outputs": [],
   "source": [
    "X = modeling_df['cleaned_scripts']\n",
    "y = modeling_df['success_failure']"
   ]
  },
  {
   "cell_type": "code",
   "execution_count": 147,
   "metadata": {
    "ExecuteTime": {
     "end_time": "2020-07-21T20:43:06.749315Z",
     "start_time": "2020-07-21T20:43:06.743767Z"
    }
   },
   "outputs": [],
   "source": [
    "X_train, X_test, y_train, y_test = train_test_split(X, y, random_state = 42, test_size = 0.33)"
   ]
  },
  {
   "cell_type": "code",
   "execution_count": 148,
   "metadata": {
    "ExecuteTime": {
     "end_time": "2020-07-21T20:43:32.305899Z",
     "start_time": "2020-07-21T20:43:07.013649Z"
    }
   },
   "outputs": [],
   "source": [
    "X_vect = vectorizer.fit_transform(X)\n",
    "X_train_tfidf = vectorizer.transform(X_train)\n",
    "X_test_tfidf = vectorizer.transform(X_test)"
   ]
  },
  {
   "cell_type": "markdown",
   "metadata": {},
   "source": [
    "## Dimensionality Reduction with TruncatedSVD"
   ]
  },
  {
   "cell_type": "code",
   "execution_count": 149,
   "metadata": {
    "ExecuteTime": {
     "end_time": "2020-07-21T20:43:32.559159Z",
     "start_time": "2020-07-21T20:43:32.554200Z"
    }
   },
   "outputs": [],
   "source": [
    "tsvd = TruncatedSVD()"
   ]
  },
  {
   "cell_type": "code",
   "execution_count": 150,
   "metadata": {
    "ExecuteTime": {
     "end_time": "2020-07-21T20:43:34.291827Z",
     "start_time": "2020-07-21T20:43:32.774204Z"
    }
   },
   "outputs": [],
   "source": [
    "tsvd.fit(X_vect)\n",
    "X_train_tsvd = tsvd.transform(X_train_tfidf)\n",
    "X_test_tsvd = tsvd.transform(X_test_tfidf)"
   ]
  },
  {
   "cell_type": "markdown",
   "metadata": {},
   "source": [
    "# Classification Modeling"
   ]
  },
  {
   "cell_type": "markdown",
   "metadata": {},
   "source": [
    "## XGBoosted Classifier"
   ]
  },
  {
   "cell_type": "code",
   "execution_count": 151,
   "metadata": {
    "ExecuteTime": {
     "end_time": "2020-07-21T20:43:34.561055Z",
     "start_time": "2020-07-21T20:43:34.558110Z"
    }
   },
   "outputs": [],
   "source": [
    "xgbc_clf = XGBClassifier()"
   ]
  },
  {
   "cell_type": "code",
   "execution_count": 152,
   "metadata": {
    "ExecuteTime": {
     "end_time": "2020-07-21T20:43:34.927290Z",
     "start_time": "2020-07-21T20:43:34.819070Z"
    }
   },
   "outputs": [
    {
     "name": "stdout",
     "output_type": "stream",
     "text": [
      "              precision    recall  f1-score   support\n",
      "\n",
      "           0       0.54      0.61      0.57       466\n",
      "           1       0.60      0.52      0.56       513\n",
      "\n",
      "    accuracy                           0.56       979\n",
      "   macro avg       0.57      0.57      0.56       979\n",
      "weighted avg       0.57      0.56      0.56       979\n",
      "\n",
      "[[285 181]\n",
      " [245 268]]\n",
      "Training Accuracy Score ->  66.71701913393755\n",
      "Test Accuracy Score ->  56.48621041879469\n"
     ]
    }
   ],
   "source": [
    "model_eval(xgbc_clf)"
   ]
  },
  {
   "cell_type": "code",
   "execution_count": 153,
   "metadata": {
    "ExecuteTime": {
     "end_time": "2020-07-21T20:43:35.184073Z",
     "start_time": "2020-07-21T20:43:35.174546Z"
    }
   },
   "outputs": [],
   "source": [
    "params_xgboost = {'max_depth': range(2,10,1),\n",
    "         'n_estimators': range(60,220,40),\n",
    "         'learning_rate': [0.1, 0.01, 0.05]}\n",
    "estimator_xgboost = XGBClassifier(\n",
    "    objective= 'binary:logistic',\n",
    "    n_jobs=-1,\n",
    "    seed=42, \n",
    ")\n",
    "grid_search_xgboost = GridSearchCV(\n",
    "    estimator=estimator_xgboost,\n",
    "    param_grid=params_xgboost,\n",
    "    scoring = 'accuracy',\n",
    "    n_jobs = -1,\n",
    "    cv = 10,\n",
    "    verbose=True)"
   ]
  },
  {
   "cell_type": "code",
   "execution_count": 154,
   "metadata": {
    "ExecuteTime": {
     "end_time": "2020-07-21T20:44:12.704794Z",
     "start_time": "2020-07-21T20:43:35.447442Z"
    }
   },
   "outputs": [
    {
     "name": "stdout",
     "output_type": "stream",
     "text": [
      "Fitting 10 folds for each of 96 candidates, totalling 960 fits\n"
     ]
    },
    {
     "name": "stderr",
     "output_type": "stream",
     "text": [
      "[Parallel(n_jobs=-1)]: Using backend LokyBackend with 8 concurrent workers.\n",
      "[Parallel(n_jobs=-1)]: Done  34 tasks      | elapsed:    2.4s\n",
      "[Parallel(n_jobs=-1)]: Done 184 tasks      | elapsed:    6.7s\n",
      "[Parallel(n_jobs=-1)]: Done 434 tasks      | elapsed:   15.7s\n",
      "[Parallel(n_jobs=-1)]: Done 784 tasks      | elapsed:   28.8s\n",
      "[Parallel(n_jobs=-1)]: Done 960 out of 960 | elapsed:   37.2s finished\n"
     ]
    },
    {
     "data": {
      "text/plain": [
       "GridSearchCV(cv=10, estimator=XGBClassifier(n_jobs=-1, seed=42), n_jobs=-1,\n",
       "             param_grid={'learning_rate': [0.1, 0.01, 0.05],\n",
       "                         'max_depth': range(2, 10),\n",
       "                         'n_estimators': range(60, 220, 40)},\n",
       "             scoring='accuracy', verbose=True)"
      ]
     },
     "execution_count": 154,
     "metadata": {},
     "output_type": "execute_result"
    }
   ],
   "source": [
    "grid_search_xgboost.fit(X_train_tsvd, y_train)"
   ]
  },
  {
   "cell_type": "code",
   "execution_count": 155,
   "metadata": {
    "ExecuteTime": {
     "end_time": "2020-07-21T20:44:12.998119Z",
     "start_time": "2020-07-21T20:44:12.994098Z"
    }
   },
   "outputs": [
    {
     "data": {
      "text/plain": [
       "{'learning_rate': 0.01, 'max_depth': 2, 'n_estimators': 100}"
      ]
     },
     "execution_count": 155,
     "metadata": {},
     "output_type": "execute_result"
    }
   ],
   "source": [
    "grid_search_xgboost.best_params_"
   ]
  },
  {
   "cell_type": "code",
   "execution_count": 156,
   "metadata": {
    "ExecuteTime": {
     "end_time": "2020-07-21T20:44:30.132477Z",
     "start_time": "2020-07-21T20:44:30.129045Z"
    }
   },
   "outputs": [],
   "source": [
    "xgbc_clf = XGBClassifier(objective = 'binary:logistic', learning_rate = 0.01, max_depth = 2, n_estimators = 100)"
   ]
  },
  {
   "cell_type": "code",
   "execution_count": 157,
   "metadata": {
    "ExecuteTime": {
     "end_time": "2020-07-21T20:44:30.787145Z",
     "start_time": "2020-07-21T20:44:30.700499Z"
    }
   },
   "outputs": [
    {
     "name": "stdout",
     "output_type": "stream",
     "text": [
      "              precision    recall  f1-score   support\n",
      "\n",
      "           0       0.55      0.60      0.57       466\n",
      "           1       0.60      0.56      0.58       513\n",
      "\n",
      "    accuracy                           0.58       979\n",
      "   macro avg       0.58      0.58      0.58       979\n",
      "weighted avg       0.58      0.58      0.58       979\n",
      "\n",
      "[[278 188]\n",
      " [228 285]]\n",
      "Training Accuracy Score ->  61.22860020140987\n",
      "Test Accuracy Score ->  57.507660878447396\n"
     ]
    }
   ],
   "source": [
    "model_eval(xgbc_clf)"
   ]
  },
  {
   "cell_type": "markdown",
   "metadata": {},
   "source": [
    "## Support Vector Machine Classifier"
   ]
  },
  {
   "cell_type": "code",
   "execution_count": 158,
   "metadata": {
    "ExecuteTime": {
     "end_time": "2020-07-21T20:44:50.732945Z",
     "start_time": "2020-07-21T20:44:50.730111Z"
    }
   },
   "outputs": [],
   "source": [
    "svc_clf = SVC()"
   ]
  },
  {
   "cell_type": "code",
   "execution_count": 159,
   "metadata": {
    "ExecuteTime": {
     "end_time": "2020-07-21T20:44:57.499000Z",
     "start_time": "2020-07-21T20:44:57.296814Z"
    }
   },
   "outputs": [
    {
     "name": "stdout",
     "output_type": "stream",
     "text": [
      "              precision    recall  f1-score   support\n",
      "\n",
      "           0       0.56      0.62      0.59       466\n",
      "           1       0.61      0.55      0.58       513\n",
      "\n",
      "    accuracy                           0.58       979\n",
      "   macro avg       0.59      0.58      0.58       979\n",
      "weighted avg       0.59      0.58      0.58       979\n",
      "\n",
      "[[289 177]\n",
      " [231 282]]\n",
      "Training Accuracy Score ->  60.87613293051359\n",
      "Test Accuracy Score ->  58.324821246169556\n"
     ]
    }
   ],
   "source": [
    "model_eval(svc_clf)"
   ]
  },
  {
   "cell_type": "code",
   "execution_count": 160,
   "metadata": {
    "ExecuteTime": {
     "end_time": "2020-07-21T20:45:05.408135Z",
     "start_time": "2020-07-21T20:45:05.404094Z"
    }
   },
   "outputs": [],
   "source": [
    "params_svc = {'C': [0.1, 1, 10, 100], 'gamma':[1,0.1,0.01,0.001]}\n",
    "estimator_svc = SVC(kernel='linear',\n",
    "                    class_weight='balanced')\n",
    "grid_search_svc = GridSearchCV(estimator=estimator_svc, \n",
    "                              param_grid=params_svc,\n",
    "                              scoring = 'accuracy',\n",
    "                              n_jobs = -1,\n",
    "                              cv = 10,\n",
    "                              verbose = True)"
   ]
  },
  {
   "cell_type": "code",
   "execution_count": 161,
   "metadata": {
    "ExecuteTime": {
     "end_time": "2020-07-21T20:45:08.706435Z",
     "start_time": "2020-07-21T20:45:05.939702Z"
    }
   },
   "outputs": [
    {
     "name": "stdout",
     "output_type": "stream",
     "text": [
      "Fitting 10 folds for each of 16 candidates, totalling 160 fits\n"
     ]
    },
    {
     "name": "stderr",
     "output_type": "stream",
     "text": [
      "[Parallel(n_jobs=-1)]: Using backend LokyBackend with 8 concurrent workers.\n",
      "[Parallel(n_jobs=-1)]: Done  52 tasks      | elapsed:    1.0s\n",
      "[Parallel(n_jobs=-1)]: Done 160 out of 160 | elapsed:    2.7s finished\n"
     ]
    },
    {
     "data": {
      "text/plain": [
       "GridSearchCV(cv=10, estimator=SVC(class_weight='balanced', kernel='linear'),\n",
       "             n_jobs=-1,\n",
       "             param_grid={'C': [0.1, 1, 10, 100],\n",
       "                         'gamma': [1, 0.1, 0.01, 0.001]},\n",
       "             scoring='accuracy', verbose=True)"
      ]
     },
     "execution_count": 161,
     "metadata": {},
     "output_type": "execute_result"
    }
   ],
   "source": [
    "grid_search_svc.fit(X_train_tsvd, y_train)"
   ]
  },
  {
   "cell_type": "code",
   "execution_count": 162,
   "metadata": {
    "ExecuteTime": {
     "end_time": "2020-07-21T20:45:12.822430Z",
     "start_time": "2020-07-21T20:45:12.818172Z"
    }
   },
   "outputs": [
    {
     "data": {
      "text/plain": [
       "{'C': 1, 'gamma': 1}"
      ]
     },
     "execution_count": 162,
     "metadata": {},
     "output_type": "execute_result"
    }
   ],
   "source": [
    "grid_search_svc.best_params_"
   ]
  },
  {
   "cell_type": "code",
   "execution_count": 163,
   "metadata": {
    "ExecuteTime": {
     "end_time": "2020-07-21T20:45:20.771837Z",
     "start_time": "2020-07-21T20:45:20.768741Z"
    }
   },
   "outputs": [],
   "source": [
    "svc_clf = SVC(kernel = 'linear', C = 1, gamma = 1, class_weight='balanced')"
   ]
  },
  {
   "cell_type": "code",
   "execution_count": 164,
   "metadata": {
    "ExecuteTime": {
     "end_time": "2020-07-21T20:45:21.318234Z",
     "start_time": "2020-07-21T20:45:21.176411Z"
    }
   },
   "outputs": [
    {
     "name": "stdout",
     "output_type": "stream",
     "text": [
      "              precision    recall  f1-score   support\n",
      "\n",
      "           0       0.56      0.49      0.52       466\n",
      "           1       0.58      0.65      0.62       513\n",
      "\n",
      "    accuracy                           0.58       979\n",
      "   macro avg       0.57      0.57      0.57       979\n",
      "weighted avg       0.57      0.58      0.57       979\n",
      "\n",
      "[[227 239]\n",
      " [177 336]]\n",
      "Training Accuracy Score ->  57.95568982880162\n",
      "Test Accuracy Score ->  57.507660878447396\n"
     ]
    }
   ],
   "source": [
    "model_eval(svc_clf)"
   ]
  },
  {
   "cell_type": "markdown",
   "metadata": {},
   "source": [
    "## Multinomial Naive Bayes Classifier"
   ]
  },
  {
   "cell_type": "code",
   "execution_count": 137,
   "metadata": {
    "ExecuteTime": {
     "end_time": "2020-07-21T20:27:48.109295Z",
     "start_time": "2020-07-21T20:27:48.106587Z"
    }
   },
   "outputs": [],
   "source": [
    "nbc = MultinomialNB()"
   ]
  },
  {
   "cell_type": "code",
   "execution_count": 138,
   "metadata": {
    "ExecuteTime": {
     "end_time": "2020-07-21T20:27:48.486348Z",
     "start_time": "2020-07-21T20:27:48.445418Z"
    }
   },
   "outputs": [],
   "source": [
    "c_vectorizer = CountVectorizer()"
   ]
  },
  {
   "cell_type": "code",
   "execution_count": 139,
   "metadata": {
    "ExecuteTime": {
     "end_time": "2020-07-21T20:28:00.749909Z",
     "start_time": "2020-07-21T20:27:48.814777Z"
    }
   },
   "outputs": [],
   "source": [
    "Xc_vect = c_vectorizer.fit_transform(X)"
   ]
  },
  {
   "cell_type": "code",
   "execution_count": 140,
   "metadata": {
    "ExecuteTime": {
     "end_time": "2020-07-21T20:28:01.076041Z",
     "start_time": "2020-07-21T20:28:01.048882Z"
    }
   },
   "outputs": [],
   "source": [
    "X_train_cvect, X_test_cvect, y_train, y_test = train_test_split(Xc_vect, y, test_size = .5)"
   ]
  },
  {
   "cell_type": "code",
   "execution_count": 141,
   "metadata": {
    "ExecuteTime": {
     "end_time": "2020-07-21T20:28:01.420745Z",
     "start_time": "2020-07-21T20:28:01.371042Z"
    }
   },
   "outputs": [
    {
     "data": {
      "text/plain": [
       "MultinomialNB()"
      ]
     },
     "execution_count": 141,
     "metadata": {},
     "output_type": "execute_result"
    }
   ],
   "source": [
    "nbc.fit(X_train_cvect, y_train)"
   ]
  },
  {
   "cell_type": "code",
   "execution_count": 142,
   "metadata": {
    "ExecuteTime": {
     "end_time": "2020-07-21T20:28:01.794702Z",
     "start_time": "2020-07-21T20:28:01.712048Z"
    }
   },
   "outputs": [
    {
     "name": "stdout",
     "output_type": "stream",
     "text": [
      "              precision    recall  f1-score   support\n",
      "\n",
      "           0       0.55      0.88      0.68       731\n",
      "           1       0.72      0.29      0.41       752\n",
      "\n",
      "    accuracy                           0.58      1483\n",
      "   macro avg       0.63      0.59      0.55      1483\n",
      "weighted avg       0.64      0.58      0.54      1483\n",
      "\n",
      "[[646  85]\n",
      " [533 219]]\n",
      "Training Accuracy Score ->  82.05128205128204\n",
      "Test Accuracy Score ->  58.32771409305462\n"
     ]
    }
   ],
   "source": [
    "y_test_preds = nbc.predict(X_test_cvect)\n",
    "y_train_preds = nbc.predict(X_train_cvect)\n",
    "print(classification_report(y_test, y_test_preds))\n",
    "print(confusion_matrix(y_test, y_test_preds))\n",
    "print(\"Training Accuracy Score -> \",accuracy_score(y_train, y_train_preds)*100)\n",
    "print(\"Test Accuracy Score -> \",accuracy_score(y_test, y_test_preds)*100)"
   ]
  },
  {
   "cell_type": "markdown",
   "metadata": {},
   "source": [
    "## Dump Model to PKL File to Deploy"
   ]
  },
  {
   "cell_type": "code",
   "execution_count": 29,
   "metadata": {
    "ExecuteTime": {
     "end_time": "2020-07-21T15:15:07.851764Z",
     "start_time": "2020-07-21T15:15:07.837649Z"
    }
   },
   "outputs": [
    {
     "data": {
      "text/plain": [
       "['NB_script_model.pkl']"
      ]
     },
     "execution_count": 29,
     "metadata": {},
     "output_type": "execute_result"
    }
   ],
   "source": [
    "dump(nbc, 'NB_script_model.pkl')"
   ]
  },
  {
   "cell_type": "code",
   "execution_count": null,
   "metadata": {},
   "outputs": [],
   "source": []
  }
 ],
 "metadata": {
  "kernelspec": {
   "display_name": "learn-env",
   "language": "python",
   "name": "learn-env"
  },
  "language_info": {
   "codemirror_mode": {
    "name": "ipython",
    "version": 3
   },
   "file_extension": ".py",
   "mimetype": "text/x-python",
   "name": "python",
   "nbconvert_exporter": "python",
   "pygments_lexer": "ipython3",
   "version": "3.6.9"
  },
  "toc": {
   "base_numbering": 1,
   "nav_menu": {},
   "number_sections": true,
   "sideBar": true,
   "skip_h1_title": false,
   "title_cell": "Table of Contents",
   "title_sidebar": "Contents",
   "toc_cell": false,
   "toc_position": {
    "height": "calc(100% - 180px)",
    "left": "10px",
    "top": "150px",
    "width": "364.8px"
   },
   "toc_section_display": true,
   "toc_window_display": true
  },
  "varInspector": {
   "cols": {
    "lenName": 16,
    "lenType": 16,
    "lenVar": 40
   },
   "kernels_config": {
    "python": {
     "delete_cmd_postfix": "",
     "delete_cmd_prefix": "del ",
     "library": "var_list.py",
     "varRefreshCmd": "print(var_dic_list())"
    },
    "r": {
     "delete_cmd_postfix": ") ",
     "delete_cmd_prefix": "rm(",
     "library": "var_list.r",
     "varRefreshCmd": "cat(var_dic_list()) "
    }
   },
   "types_to_exclude": [
    "module",
    "function",
    "builtin_function_or_method",
    "instance",
    "_Feature"
   ],
   "window_display": false
  }
 },
 "nbformat": 4,
 "nbformat_minor": 2
}
