{
 "cells": [
  {
   "cell_type": "markdown",
   "metadata": {},
   "source": [
    "# Import Libraries and Data"
   ]
  },
  {
   "cell_type": "code",
   "execution_count": 77,
   "metadata": {
    "ExecuteTime": {
     "end_time": "2020-07-22T17:44:16.603328Z",
     "start_time": "2020-07-22T17:44:16.596652Z"
    }
   },
   "outputs": [],
   "source": [
    "import pandas as pd\n",
    "from sklearn.feature_extraction.text import TfidfVectorizer, CountVectorizer \n",
    "from sklearn.model_selection import train_test_split, GridSearchCV\n",
    "from sklearn.decomposition import TruncatedSVD\n",
    "from xgboost import XGBClassifier\n",
    "from sklearn.svm import SVC\n",
    "from sklearn.naive_bayes import MultinomialNB\n",
    "from sklearn.metrics import accuracy_score, classification_report, confusion_matrix\n",
    "from joblib import dump, load\n",
    "from sklearn import preprocessing\n",
    "\n",
    "%run -i 'functions/model_eval.py'"
   ]
  },
  {
   "cell_type": "code",
   "execution_count": 4,
   "metadata": {
    "ExecuteTime": {
     "end_time": "2020-07-22T16:17:56.114578Z",
     "start_time": "2020-07-22T16:17:53.216822Z"
    }
   },
   "outputs": [
    {
     "data": {
      "text/html": [
       "<div>\n",
       "<style scoped>\n",
       "    .dataframe tbody tr th:only-of-type {\n",
       "        vertical-align: middle;\n",
       "    }\n",
       "\n",
       "    .dataframe tbody tr th {\n",
       "        vertical-align: top;\n",
       "    }\n",
       "\n",
       "    .dataframe thead th {\n",
       "        text-align: right;\n",
       "    }\n",
       "</style>\n",
       "<table border=\"1\" class=\"dataframe\">\n",
       "  <thead>\n",
       "    <tr style=\"text-align: right;\">\n",
       "      <th></th>\n",
       "      <th>Title</th>\n",
       "      <th>year</th>\n",
       "      <th>production_budget</th>\n",
       "      <th>domestic_gross</th>\n",
       "      <th>worldwide_gross</th>\n",
       "      <th>profit</th>\n",
       "      <th>ROI</th>\n",
       "      <th>script</th>\n",
       "      <th>Metascore</th>\n",
       "      <th>imdbRating</th>\n",
       "      <th>...</th>\n",
       "      <th>Metascore_scaled</th>\n",
       "      <th>imdbRating_scaled</th>\n",
       "      <th>success_metric</th>\n",
       "      <th>cleaned_scripts</th>\n",
       "      <th>success_failure</th>\n",
       "      <th>word_cloud_scripts</th>\n",
       "      <th>word_count</th>\n",
       "      <th>WPM</th>\n",
       "      <th>unique_word_count</th>\n",
       "      <th>total_vocab_diversity</th>\n",
       "    </tr>\n",
       "  </thead>\n",
       "  <tbody>\n",
       "    <tr>\n",
       "      <th>0</th>\n",
       "      <td>Pirates of the Caribbean: On Stranger Tides</td>\n",
       "      <td>2011</td>\n",
       "      <td>379000000</td>\n",
       "      <td>241063875</td>\n",
       "      <td>1045663875</td>\n",
       "      <td>666663875</td>\n",
       "      <td>1.76</td>\n",
       "      <td>Sub.Re-Edit.by. :: npdv.indoheroes[at]gmail.co...</td>\n",
       "      <td>45.0</td>\n",
       "      <td>6.6</td>\n",
       "      <td>...</td>\n",
       "      <td>0.408602</td>\n",
       "      <td>0.649351</td>\n",
       "      <td>1.38</td>\n",
       "      <td>sub edit npdv indoheroes gmail com advertise p...</td>\n",
       "      <td>0</td>\n",
       "      <td>['sub', 'edit', 'npdv', 'indoheroes', 'gmail',...</td>\n",
       "      <td>3992</td>\n",
       "      <td>29.4</td>\n",
       "      <td>1547</td>\n",
       "      <td>0.39</td>\n",
       "    </tr>\n",
       "    <tr>\n",
       "      <th>1</th>\n",
       "      <td>Avengers: Age of Ultron</td>\n",
       "      <td>2015</td>\n",
       "      <td>365000000</td>\n",
       "      <td>459005868</td>\n",
       "      <td>1396099202</td>\n",
       "      <td>1031099202</td>\n",
       "      <td>2.82</td>\n",
       "      <td>(DISTANT EXPLOSION) STRUCKER ON PA: Report to ...</td>\n",
       "      <td>66.0</td>\n",
       "      <td>7.3</td>\n",
       "      <td>...</td>\n",
       "      <td>0.634409</td>\n",
       "      <td>0.740260</td>\n",
       "      <td>1.56</td>\n",
       "      <td>distant explosion strucker pa report stations ...</td>\n",
       "      <td>1</td>\n",
       "      <td>['distant', 'explosion', 'strucker', 'pa', 're...</td>\n",
       "      <td>5690</td>\n",
       "      <td>40.4</td>\n",
       "      <td>1869</td>\n",
       "      <td>0.33</td>\n",
       "    </tr>\n",
       "    <tr>\n",
       "      <th>2</th>\n",
       "      <td>Justice League</td>\n",
       "      <td>2017</td>\n",
       "      <td>300000000</td>\n",
       "      <td>229024295</td>\n",
       "      <td>655945209</td>\n",
       "      <td>355945209</td>\n",
       "      <td>1.19</td>\n",
       "      <td>There he is! Oh, sorry. Superman, Superman, ca...</td>\n",
       "      <td>45.0</td>\n",
       "      <td>6.4</td>\n",
       "      <td>...</td>\n",
       "      <td>0.408602</td>\n",
       "      <td>0.623377</td>\n",
       "      <td>1.34</td>\n",
       "      <td>oh sorry superman superman ask questions podca...</td>\n",
       "      <td>0</td>\n",
       "      <td>['oh', 'sorry', 'superman', 'superman', 'ask',...</td>\n",
       "      <td>3255</td>\n",
       "      <td>27.1</td>\n",
       "      <td>1350</td>\n",
       "      <td>0.41</td>\n",
       "    </tr>\n",
       "    <tr>\n",
       "      <th>3</th>\n",
       "      <td>Spectre</td>\n",
       "      <td>2015</td>\n",
       "      <td>300000000</td>\n",
       "      <td>200074175</td>\n",
       "      <td>879620923</td>\n",
       "      <td>579620923</td>\n",
       "      <td>1.93</td>\n",
       "      <td>Where are you going? I won't be long. Welcome,...</td>\n",
       "      <td>60.0</td>\n",
       "      <td>6.8</td>\n",
       "      <td>...</td>\n",
       "      <td>0.569892</td>\n",
       "      <td>0.675325</td>\n",
       "      <td>1.45</td>\n",
       "      <td>going long welcome signor soiarra trust pleasa...</td>\n",
       "      <td>1</td>\n",
       "      <td>['going', 'long', 'welcome', 'signor', 'soiarr...</td>\n",
       "      <td>2937</td>\n",
       "      <td>19.8</td>\n",
       "      <td>1245</td>\n",
       "      <td>0.42</td>\n",
       "    </tr>\n",
       "    <tr>\n",
       "      <th>4</th>\n",
       "      <td>Batman v Superman: Dawn of Justice</td>\n",
       "      <td>2016</td>\n",
       "      <td>263000000</td>\n",
       "      <td>330360194</td>\n",
       "      <td>872395091</td>\n",
       "      <td>609395091</td>\n",
       "      <td>2.32</td>\n",
       "      <td>There was a time above. A time before. There w...</td>\n",
       "      <td>44.0</td>\n",
       "      <td>6.5</td>\n",
       "      <td>...</td>\n",
       "      <td>0.397849</td>\n",
       "      <td>0.636364</td>\n",
       "      <td>1.36</td>\n",
       "      <td>time time perfect things diamond absolutes thi...</td>\n",
       "      <td>0</td>\n",
       "      <td>['time', 'time', 'perfect', 'things', 'diamond...</td>\n",
       "      <td>4451</td>\n",
       "      <td>29.5</td>\n",
       "      <td>1748</td>\n",
       "      <td>0.39</td>\n",
       "    </tr>\n",
       "  </tbody>\n",
       "</table>\n",
       "<p>5 rows × 23 columns</p>\n",
       "</div>"
      ],
      "text/plain": [
       "                                         Title  year  production_budget  \\\n",
       "0  Pirates of the Caribbean: On Stranger Tides  2011          379000000   \n",
       "1                      Avengers: Age of Ultron  2015          365000000   \n",
       "2                               Justice League  2017          300000000   \n",
       "3                                      Spectre  2015          300000000   \n",
       "4           Batman v Superman: Dawn of Justice  2016          263000000   \n",
       "\n",
       "   domestic_gross  worldwide_gross      profit   ROI  \\\n",
       "0       241063875       1045663875   666663875  1.76   \n",
       "1       459005868       1396099202  1031099202  2.82   \n",
       "2       229024295        655945209   355945209  1.19   \n",
       "3       200074175        879620923   579620923  1.93   \n",
       "4       330360194        872395091   609395091  2.32   \n",
       "\n",
       "                                              script  Metascore  imdbRating  \\\n",
       "0  Sub.Re-Edit.by. :: npdv.indoheroes[at]gmail.co...       45.0         6.6   \n",
       "1  (DISTANT EXPLOSION) STRUCKER ON PA: Report to ...       66.0         7.3   \n",
       "2  There he is! Oh, sorry. Superman, Superman, ca...       45.0         6.4   \n",
       "3  Where are you going? I won't be long. Welcome,...       60.0         6.8   \n",
       "4  There was a time above. A time before. There w...       44.0         6.5   \n",
       "\n",
       "   ... Metascore_scaled  imdbRating_scaled  success_metric  \\\n",
       "0  ...         0.408602           0.649351            1.38   \n",
       "1  ...         0.634409           0.740260            1.56   \n",
       "2  ...         0.408602           0.623377            1.34   \n",
       "3  ...         0.569892           0.675325            1.45   \n",
       "4  ...         0.397849           0.636364            1.36   \n",
       "\n",
       "                                     cleaned_scripts  success_failure  \\\n",
       "0  sub edit npdv indoheroes gmail com advertise p...                0   \n",
       "1  distant explosion strucker pa report stations ...                1   \n",
       "2  oh sorry superman superman ask questions podca...                0   \n",
       "3  going long welcome signor soiarra trust pleasa...                1   \n",
       "4  time time perfect things diamond absolutes thi...                0   \n",
       "\n",
       "                                  word_cloud_scripts word_count   WPM  \\\n",
       "0  ['sub', 'edit', 'npdv', 'indoheroes', 'gmail',...       3992  29.4   \n",
       "1  ['distant', 'explosion', 'strucker', 'pa', 're...       5690  40.4   \n",
       "2  ['oh', 'sorry', 'superman', 'superman', 'ask',...       3255  27.1   \n",
       "3  ['going', 'long', 'welcome', 'signor', 'soiarr...       2937  19.8   \n",
       "4  ['time', 'time', 'perfect', 'things', 'diamond...       4451  29.5   \n",
       "\n",
       "  unique_word_count  total_vocab_diversity  \n",
       "0              1547                   0.39  \n",
       "1              1869                   0.33  \n",
       "2              1350                   0.41  \n",
       "3              1245                   0.42  \n",
       "4              1748                   0.39  \n",
       "\n",
       "[5 rows x 23 columns]"
      ]
     },
     "execution_count": 4,
     "metadata": {},
     "output_type": "execute_result"
    }
   ],
   "source": [
    "modeling_df = pd.read_csv('/Users/will4856/Downloads/modeling_df.csv', index_col='Unnamed: 0')\n",
    "modeling_df.head()"
   ]
  },
  {
   "cell_type": "code",
   "execution_count": 5,
   "metadata": {
    "ExecuteTime": {
     "end_time": "2020-07-22T16:17:56.121200Z",
     "start_time": "2020-07-22T16:17:56.118564Z"
    }
   },
   "outputs": [],
   "source": [
    "#modeling_df.to_csv('/Users/will4856/Desktop/script_model/modeling_df.csv')"
   ]
  },
  {
   "cell_type": "markdown",
   "metadata": {},
   "source": [
    "# Data Pre-Processing"
   ]
  },
  {
   "cell_type": "code",
   "execution_count": 6,
   "metadata": {
    "ExecuteTime": {
     "end_time": "2020-07-22T16:17:56.129929Z",
     "start_time": "2020-07-22T16:17:56.124115Z"
    }
   },
   "outputs": [],
   "source": [
    "modeling_df = modeling_df.loc[modeling_df['cleaned_scripts'].notna()]"
   ]
  },
  {
   "cell_type": "code",
   "execution_count": 7,
   "metadata": {
    "ExecuteTime": {
     "end_time": "2020-07-22T16:17:57.707738Z",
     "start_time": "2020-07-22T16:17:56.132028Z"
    }
   },
   "outputs": [],
   "source": [
    "modeling_df['cleaned_scripts'] = modeling_df['cleaned_scripts'].map(lambda x: ''.join(x))"
   ]
  },
  {
   "cell_type": "code",
   "execution_count": 8,
   "metadata": {
    "ExecuteTime": {
     "end_time": "2020-07-22T16:17:57.760653Z",
     "start_time": "2020-07-22T16:17:57.709903Z"
    }
   },
   "outputs": [
    {
     "data": {
      "text/html": [
       "<div>\n",
       "<style scoped>\n",
       "    .dataframe tbody tr th:only-of-type {\n",
       "        vertical-align: middle;\n",
       "    }\n",
       "\n",
       "    .dataframe tbody tr th {\n",
       "        vertical-align: top;\n",
       "    }\n",
       "\n",
       "    .dataframe thead th {\n",
       "        text-align: right;\n",
       "    }\n",
       "</style>\n",
       "<table border=\"1\" class=\"dataframe\">\n",
       "  <thead>\n",
       "    <tr style=\"text-align: right;\">\n",
       "      <th></th>\n",
       "      <th>Title</th>\n",
       "      <th>year</th>\n",
       "      <th>production_budget</th>\n",
       "      <th>domestic_gross</th>\n",
       "      <th>worldwide_gross</th>\n",
       "      <th>profit</th>\n",
       "      <th>ROI</th>\n",
       "      <th>script</th>\n",
       "      <th>Metascore</th>\n",
       "      <th>imdbRating</th>\n",
       "      <th>...</th>\n",
       "      <th>Metascore_scaled</th>\n",
       "      <th>imdbRating_scaled</th>\n",
       "      <th>success_metric</th>\n",
       "      <th>cleaned_scripts</th>\n",
       "      <th>success_failure</th>\n",
       "      <th>word_cloud_scripts</th>\n",
       "      <th>word_count</th>\n",
       "      <th>WPM</th>\n",
       "      <th>unique_word_count</th>\n",
       "      <th>total_vocab_diversity</th>\n",
       "    </tr>\n",
       "  </thead>\n",
       "  <tbody>\n",
       "    <tr>\n",
       "      <th>0</th>\n",
       "      <td>Pirates of the Caribbean: On Stranger Tides</td>\n",
       "      <td>2011</td>\n",
       "      <td>379000000</td>\n",
       "      <td>241063875</td>\n",
       "      <td>1045663875</td>\n",
       "      <td>666663875</td>\n",
       "      <td>1.76</td>\n",
       "      <td>Sub.Re-Edit.by. :: npdv.indoheroes[at]gmail.co...</td>\n",
       "      <td>45.0</td>\n",
       "      <td>6.6</td>\n",
       "      <td>...</td>\n",
       "      <td>0.408602</td>\n",
       "      <td>0.649351</td>\n",
       "      <td>1.38</td>\n",
       "      <td>sub edit npdv indoheroes gmail com advertise p...</td>\n",
       "      <td>0</td>\n",
       "      <td>['sub', 'edit', 'npdv', 'indoheroes', 'gmail',...</td>\n",
       "      <td>3992</td>\n",
       "      <td>29.4</td>\n",
       "      <td>1547</td>\n",
       "      <td>0.39</td>\n",
       "    </tr>\n",
       "    <tr>\n",
       "      <th>1</th>\n",
       "      <td>Avengers: Age of Ultron</td>\n",
       "      <td>2015</td>\n",
       "      <td>365000000</td>\n",
       "      <td>459005868</td>\n",
       "      <td>1396099202</td>\n",
       "      <td>1031099202</td>\n",
       "      <td>2.82</td>\n",
       "      <td>(DISTANT EXPLOSION) STRUCKER ON PA: Report to ...</td>\n",
       "      <td>66.0</td>\n",
       "      <td>7.3</td>\n",
       "      <td>...</td>\n",
       "      <td>0.634409</td>\n",
       "      <td>0.740260</td>\n",
       "      <td>1.56</td>\n",
       "      <td>distant explosion strucker pa report stations ...</td>\n",
       "      <td>1</td>\n",
       "      <td>['distant', 'explosion', 'strucker', 'pa', 're...</td>\n",
       "      <td>5690</td>\n",
       "      <td>40.4</td>\n",
       "      <td>1869</td>\n",
       "      <td>0.33</td>\n",
       "    </tr>\n",
       "    <tr>\n",
       "      <th>2</th>\n",
       "      <td>Justice League</td>\n",
       "      <td>2017</td>\n",
       "      <td>300000000</td>\n",
       "      <td>229024295</td>\n",
       "      <td>655945209</td>\n",
       "      <td>355945209</td>\n",
       "      <td>1.19</td>\n",
       "      <td>There he is! Oh, sorry. Superman, Superman, ca...</td>\n",
       "      <td>45.0</td>\n",
       "      <td>6.4</td>\n",
       "      <td>...</td>\n",
       "      <td>0.408602</td>\n",
       "      <td>0.623377</td>\n",
       "      <td>1.34</td>\n",
       "      <td>oh sorry superman superman ask questions podca...</td>\n",
       "      <td>0</td>\n",
       "      <td>['oh', 'sorry', 'superman', 'superman', 'ask',...</td>\n",
       "      <td>3255</td>\n",
       "      <td>27.1</td>\n",
       "      <td>1350</td>\n",
       "      <td>0.41</td>\n",
       "    </tr>\n",
       "    <tr>\n",
       "      <th>3</th>\n",
       "      <td>Spectre</td>\n",
       "      <td>2015</td>\n",
       "      <td>300000000</td>\n",
       "      <td>200074175</td>\n",
       "      <td>879620923</td>\n",
       "      <td>579620923</td>\n",
       "      <td>1.93</td>\n",
       "      <td>Where are you going? I won't be long. Welcome,...</td>\n",
       "      <td>60.0</td>\n",
       "      <td>6.8</td>\n",
       "      <td>...</td>\n",
       "      <td>0.569892</td>\n",
       "      <td>0.675325</td>\n",
       "      <td>1.45</td>\n",
       "      <td>going long welcome signor soiarra trust pleasa...</td>\n",
       "      <td>1</td>\n",
       "      <td>['going', 'long', 'welcome', 'signor', 'soiarr...</td>\n",
       "      <td>2937</td>\n",
       "      <td>19.8</td>\n",
       "      <td>1245</td>\n",
       "      <td>0.42</td>\n",
       "    </tr>\n",
       "    <tr>\n",
       "      <th>4</th>\n",
       "      <td>Batman v Superman: Dawn of Justice</td>\n",
       "      <td>2016</td>\n",
       "      <td>263000000</td>\n",
       "      <td>330360194</td>\n",
       "      <td>872395091</td>\n",
       "      <td>609395091</td>\n",
       "      <td>2.32</td>\n",
       "      <td>There was a time above. A time before. There w...</td>\n",
       "      <td>44.0</td>\n",
       "      <td>6.5</td>\n",
       "      <td>...</td>\n",
       "      <td>0.397849</td>\n",
       "      <td>0.636364</td>\n",
       "      <td>1.36</td>\n",
       "      <td>time time perfect things diamond absolutes thi...</td>\n",
       "      <td>0</td>\n",
       "      <td>['time', 'time', 'perfect', 'things', 'diamond...</td>\n",
       "      <td>4451</td>\n",
       "      <td>29.5</td>\n",
       "      <td>1748</td>\n",
       "      <td>0.39</td>\n",
       "    </tr>\n",
       "    <tr>\n",
       "      <th>...</th>\n",
       "      <td>...</td>\n",
       "      <td>...</td>\n",
       "      <td>...</td>\n",
       "      <td>...</td>\n",
       "      <td>...</td>\n",
       "      <td>...</td>\n",
       "      <td>...</td>\n",
       "      <td>...</td>\n",
       "      <td>...</td>\n",
       "      <td>...</td>\n",
       "      <td>...</td>\n",
       "      <td>...</td>\n",
       "      <td>...</td>\n",
       "      <td>...</td>\n",
       "      <td>...</td>\n",
       "      <td>...</td>\n",
       "      <td>...</td>\n",
       "      <td>...</td>\n",
       "      <td>...</td>\n",
       "      <td>...</td>\n",
       "      <td>...</td>\n",
       "    </tr>\n",
       "    <tr>\n",
       "      <th>3004</th>\n",
       "      <td>Princess Mononoke</td>\n",
       "      <td>2005</td>\n",
       "      <td>20000000</td>\n",
       "      <td>2374107</td>\n",
       "      <td>150345863</td>\n",
       "      <td>130345863</td>\n",
       "      <td>6.52</td>\n",
       "      <td>[In  ancient  times, the land, lay  covered  i...</td>\n",
       "      <td>76.0</td>\n",
       "      <td>8.4</td>\n",
       "      <td>...</td>\n",
       "      <td>0.741935</td>\n",
       "      <td>0.883117</td>\n",
       "      <td>1.80</td>\n",
       "      <td>ancient times land lay covered forests ages lo...</td>\n",
       "      <td>1</td>\n",
       "      <td>['ancient', 'times', 'land', 'lay', 'covered',...</td>\n",
       "      <td>4583</td>\n",
       "      <td>34.2</td>\n",
       "      <td>1235</td>\n",
       "      <td>0.27</td>\n",
       "    </tr>\n",
       "    <tr>\n",
       "      <th>3005</th>\n",
       "      <td>Bad Grandpa</td>\n",
       "      <td>2006</td>\n",
       "      <td>15000000</td>\n",
       "      <td>102003019</td>\n",
       "      <td>160903019</td>\n",
       "      <td>145903019</td>\n",
       "      <td>9.73</td>\n",
       "      <td>[- Is it going?, - Yes., Okay., Leave a  messa...</td>\n",
       "      <td>54.0</td>\n",
       "      <td>6.5</td>\n",
       "      <td>...</td>\n",
       "      <td>0.505376</td>\n",
       "      <td>0.636364</td>\n",
       "      <td>1.39</td>\n",
       "      <td>going yes okay leave message irving zisman fuc...</td>\n",
       "      <td>0</td>\n",
       "      <td>['going', 'yes', 'okay', 'leave', 'message', '...</td>\n",
       "      <td>5659</td>\n",
       "      <td>61.5</td>\n",
       "      <td>1526</td>\n",
       "      <td>0.27</td>\n",
       "    </tr>\n",
       "    <tr>\n",
       "      <th>3006</th>\n",
       "      <td>High School Musical 3</td>\n",
       "      <td>2000</td>\n",
       "      <td>11000000</td>\n",
       "      <td>90559416</td>\n",
       "      <td>274392880</td>\n",
       "      <td>263392880</td>\n",
       "      <td>23.94</td>\n",
       "      <td>[Let's go!, - I'm open, I'm open., - I don't s...</td>\n",
       "      <td>57.0</td>\n",
       "      <td>4.8</td>\n",
       "      <td>...</td>\n",
       "      <td>0.537634</td>\n",
       "      <td>0.415584</td>\n",
       "      <td>1.07</td>\n",
       "      <td>let go open open see take time run run go go l...</td>\n",
       "      <td>0</td>\n",
       "      <td>['let', 'go', 'open', 'open', 'see', 'take', '...</td>\n",
       "      <td>5185</td>\n",
       "      <td>46.3</td>\n",
       "      <td>1289</td>\n",
       "      <td>0.25</td>\n",
       "    </tr>\n",
       "    <tr>\n",
       "      <th>3007</th>\n",
       "      <td>A Nightmare on Elm Street 5: The Dream Child</td>\n",
       "      <td>2014</td>\n",
       "      <td>6000000</td>\n",
       "      <td>22168359</td>\n",
       "      <td>22168359</td>\n",
       "      <td>16168359</td>\n",
       "      <td>2.69</td>\n",
       "      <td>[Sixty-eight... sixty-nine..., seventy... seve...</td>\n",
       "      <td>54.0</td>\n",
       "      <td>5.2</td>\n",
       "      <td>...</td>\n",
       "      <td>0.505376</td>\n",
       "      <td>0.467532</td>\n",
       "      <td>1.12</td>\n",
       "      <td>sixty eight sixty nine seventy seventy one com...</td>\n",
       "      <td>0</td>\n",
       "      <td>['sixty', 'eight', 'sixty', 'nine', 'seventy',...</td>\n",
       "      <td>2095</td>\n",
       "      <td>23.5</td>\n",
       "      <td>828</td>\n",
       "      <td>0.40</td>\n",
       "    </tr>\n",
       "    <tr>\n",
       "      <th>3008</th>\n",
       "      <td>A Nightmare on Elm Street 2: Freddy's Revenge</td>\n",
       "      <td>2002</td>\n",
       "      <td>3000000</td>\n",
       "      <td>21163999</td>\n",
       "      <td>21163999</td>\n",
       "      <td>18163999</td>\n",
       "      <td>6.05</td>\n",
       "      <td>[O K. Take it easy., See you., Turn it down!, ...</td>\n",
       "      <td>43.0</td>\n",
       "      <td>5.5</td>\n",
       "      <td>...</td>\n",
       "      <td>0.387097</td>\n",
       "      <td>0.506494</td>\n",
       "      <td>1.17</td>\n",
       "      <td>k take easy see turn serious way believe way l...</td>\n",
       "      <td>0</td>\n",
       "      <td>['k', 'take', 'easy', 'see', 'turn', 'serious'...</td>\n",
       "      <td>1705</td>\n",
       "      <td>19.6</td>\n",
       "      <td>659</td>\n",
       "      <td>0.39</td>\n",
       "    </tr>\n",
       "  </tbody>\n",
       "</table>\n",
       "<p>2965 rows × 23 columns</p>\n",
       "</div>"
      ],
      "text/plain": [
       "                                              Title  year  production_budget  \\\n",
       "0       Pirates of the Caribbean: On Stranger Tides  2011          379000000   \n",
       "1                           Avengers: Age of Ultron  2015          365000000   \n",
       "2                                    Justice League  2017          300000000   \n",
       "3                                           Spectre  2015          300000000   \n",
       "4                Batman v Superman: Dawn of Justice  2016          263000000   \n",
       "...                                             ...   ...                ...   \n",
       "3004                              Princess Mononoke  2005           20000000   \n",
       "3005                                    Bad Grandpa  2006           15000000   \n",
       "3006                          High School Musical 3  2000           11000000   \n",
       "3007   A Nightmare on Elm Street 5: The Dream Child  2014            6000000   \n",
       "3008  A Nightmare on Elm Street 2: Freddy's Revenge  2002            3000000   \n",
       "\n",
       "      domestic_gross  worldwide_gross      profit    ROI  \\\n",
       "0          241063875       1045663875   666663875   1.76   \n",
       "1          459005868       1396099202  1031099202   2.82   \n",
       "2          229024295        655945209   355945209   1.19   \n",
       "3          200074175        879620923   579620923   1.93   \n",
       "4          330360194        872395091   609395091   2.32   \n",
       "...              ...              ...         ...    ...   \n",
       "3004         2374107        150345863   130345863   6.52   \n",
       "3005       102003019        160903019   145903019   9.73   \n",
       "3006        90559416        274392880   263392880  23.94   \n",
       "3007        22168359         22168359    16168359   2.69   \n",
       "3008        21163999         21163999    18163999   6.05   \n",
       "\n",
       "                                                 script  Metascore  \\\n",
       "0     Sub.Re-Edit.by. :: npdv.indoheroes[at]gmail.co...       45.0   \n",
       "1     (DISTANT EXPLOSION) STRUCKER ON PA: Report to ...       66.0   \n",
       "2     There he is! Oh, sorry. Superman, Superman, ca...       45.0   \n",
       "3     Where are you going? I won't be long. Welcome,...       60.0   \n",
       "4     There was a time above. A time before. There w...       44.0   \n",
       "...                                                 ...        ...   \n",
       "3004  [In  ancient  times, the land, lay  covered  i...       76.0   \n",
       "3005  [- Is it going?, - Yes., Okay., Leave a  messa...       54.0   \n",
       "3006  [Let's go!, - I'm open, I'm open., - I don't s...       57.0   \n",
       "3007  [Sixty-eight... sixty-nine..., seventy... seve...       54.0   \n",
       "3008  [O K. Take it easy., See you., Turn it down!, ...       43.0   \n",
       "\n",
       "      imdbRating  ... Metascore_scaled  imdbRating_scaled  success_metric  \\\n",
       "0            6.6  ...         0.408602           0.649351            1.38   \n",
       "1            7.3  ...         0.634409           0.740260            1.56   \n",
       "2            6.4  ...         0.408602           0.623377            1.34   \n",
       "3            6.8  ...         0.569892           0.675325            1.45   \n",
       "4            6.5  ...         0.397849           0.636364            1.36   \n",
       "...          ...  ...              ...                ...             ...   \n",
       "3004         8.4  ...         0.741935           0.883117            1.80   \n",
       "3005         6.5  ...         0.505376           0.636364            1.39   \n",
       "3006         4.8  ...         0.537634           0.415584            1.07   \n",
       "3007         5.2  ...         0.505376           0.467532            1.12   \n",
       "3008         5.5  ...         0.387097           0.506494            1.17   \n",
       "\n",
       "                                        cleaned_scripts  success_failure  \\\n",
       "0     sub edit npdv indoheroes gmail com advertise p...                0   \n",
       "1     distant explosion strucker pa report stations ...                1   \n",
       "2     oh sorry superman superman ask questions podca...                0   \n",
       "3     going long welcome signor soiarra trust pleasa...                1   \n",
       "4     time time perfect things diamond absolutes thi...                0   \n",
       "...                                                 ...              ...   \n",
       "3004  ancient times land lay covered forests ages lo...                1   \n",
       "3005  going yes okay leave message irving zisman fuc...                0   \n",
       "3006  let go open open see take time run run go go l...                0   \n",
       "3007  sixty eight sixty nine seventy seventy one com...                0   \n",
       "3008  k take easy see turn serious way believe way l...                0   \n",
       "\n",
       "                                     word_cloud_scripts word_count   WPM  \\\n",
       "0     ['sub', 'edit', 'npdv', 'indoheroes', 'gmail',...       3992  29.4   \n",
       "1     ['distant', 'explosion', 'strucker', 'pa', 're...       5690  40.4   \n",
       "2     ['oh', 'sorry', 'superman', 'superman', 'ask',...       3255  27.1   \n",
       "3     ['going', 'long', 'welcome', 'signor', 'soiarr...       2937  19.8   \n",
       "4     ['time', 'time', 'perfect', 'things', 'diamond...       4451  29.5   \n",
       "...                                                 ...        ...   ...   \n",
       "3004  ['ancient', 'times', 'land', 'lay', 'covered',...       4583  34.2   \n",
       "3005  ['going', 'yes', 'okay', 'leave', 'message', '...       5659  61.5   \n",
       "3006  ['let', 'go', 'open', 'open', 'see', 'take', '...       5185  46.3   \n",
       "3007  ['sixty', 'eight', 'sixty', 'nine', 'seventy',...       2095  23.5   \n",
       "3008  ['k', 'take', 'easy', 'see', 'turn', 'serious'...       1705  19.6   \n",
       "\n",
       "     unique_word_count  total_vocab_diversity  \n",
       "0                 1547                   0.39  \n",
       "1                 1869                   0.33  \n",
       "2                 1350                   0.41  \n",
       "3                 1245                   0.42  \n",
       "4                 1748                   0.39  \n",
       "...                ...                    ...  \n",
       "3004              1235                   0.27  \n",
       "3005              1526                   0.27  \n",
       "3006              1289                   0.25  \n",
       "3007               828                   0.40  \n",
       "3008               659                   0.39  \n",
       "\n",
       "[2965 rows x 23 columns]"
      ]
     },
     "execution_count": 8,
     "metadata": {},
     "output_type": "execute_result"
    }
   ],
   "source": [
    "modeling_df"
   ]
  },
  {
   "cell_type": "markdown",
   "metadata": {},
   "source": [
    "## Vectorizing"
   ]
  },
  {
   "cell_type": "code",
   "execution_count": 9,
   "metadata": {
    "ExecuteTime": {
     "end_time": "2020-07-22T16:17:57.765478Z",
     "start_time": "2020-07-22T16:17:57.762684Z"
    }
   },
   "outputs": [],
   "source": [
    "vectorizer = TfidfVectorizer()"
   ]
  },
  {
   "cell_type": "code",
   "execution_count": 10,
   "metadata": {
    "ExecuteTime": {
     "end_time": "2020-07-22T16:17:57.772452Z",
     "start_time": "2020-07-22T16:17:57.769776Z"
    }
   },
   "outputs": [],
   "source": [
    "X = modeling_df['cleaned_scripts']\n",
    "y = modeling_df['success_failure']"
   ]
  },
  {
   "cell_type": "code",
   "execution_count": 11,
   "metadata": {
    "ExecuteTime": {
     "end_time": "2020-07-22T16:17:57.780220Z",
     "start_time": "2020-07-22T16:17:57.775364Z"
    }
   },
   "outputs": [],
   "source": [
    "X_train, X_test, y_train, y_test = train_test_split(X, y, random_state = 42, test_size = 0.33)"
   ]
  },
  {
   "cell_type": "code",
   "execution_count": 12,
   "metadata": {
    "ExecuteTime": {
     "end_time": "2020-07-22T16:18:23.511115Z",
     "start_time": "2020-07-22T16:17:57.782154Z"
    }
   },
   "outputs": [],
   "source": [
    "X_vect = vectorizer.fit_transform(X)\n",
    "X_train_tfidf = vectorizer.transform(X_train)\n",
    "X_test_tfidf = vectorizer.transform(X_test)"
   ]
  },
  {
   "cell_type": "markdown",
   "metadata": {},
   "source": [
    "## Dimensionality Reduction with TruncatedSVD"
   ]
  },
  {
   "cell_type": "code",
   "execution_count": 13,
   "metadata": {
    "ExecuteTime": {
     "end_time": "2020-07-22T16:18:23.515787Z",
     "start_time": "2020-07-22T16:18:23.513188Z"
    }
   },
   "outputs": [],
   "source": [
    "tsvd = TruncatedSVD()"
   ]
  },
  {
   "cell_type": "code",
   "execution_count": 14,
   "metadata": {
    "ExecuteTime": {
     "end_time": "2020-07-22T16:18:25.276335Z",
     "start_time": "2020-07-22T16:18:23.518386Z"
    }
   },
   "outputs": [],
   "source": [
    "tsvd.fit(X_vect)\n",
    "X_train_tsvd = tsvd.transform(X_train_tfidf)\n",
    "X_test_tsvd = tsvd.transform(X_test_tfidf)"
   ]
  },
  {
   "cell_type": "markdown",
   "metadata": {},
   "source": [
    "# Classification Modeling"
   ]
  },
  {
   "cell_type": "markdown",
   "metadata": {},
   "source": [
    "## Empty Data Frame for Model Results"
   ]
  },
  {
   "cell_type": "code",
   "execution_count": 79,
   "metadata": {
    "ExecuteTime": {
     "end_time": "2020-07-22T17:55:41.666959Z",
     "start_time": "2020-07-22T17:55:41.663775Z"
    }
   },
   "outputs": [],
   "source": [
    "model_results = pd.DataFrame()"
   ]
  },
  {
   "cell_type": "markdown",
   "metadata": {},
   "source": [
    "## XGBoosted Classifier"
   ]
  },
  {
   "cell_type": "code",
   "execution_count": 15,
   "metadata": {
    "ExecuteTime": {
     "end_time": "2020-07-22T16:18:25.282047Z",
     "start_time": "2020-07-22T16:18:25.278397Z"
    }
   },
   "outputs": [],
   "source": [
    "xgbc_clf = XGBClassifier()"
   ]
  },
  {
   "cell_type": "code",
   "execution_count": 16,
   "metadata": {
    "ExecuteTime": {
     "end_time": "2020-07-22T16:18:25.391470Z",
     "start_time": "2020-07-22T16:18:25.284726Z"
    }
   },
   "outputs": [
    {
     "name": "stdout",
     "output_type": "stream",
     "text": [
      "              precision    recall  f1-score   support\n",
      "\n",
      "           0       0.55      0.62      0.58       466\n",
      "           1       0.61      0.54      0.57       513\n",
      "\n",
      "    accuracy                           0.58       979\n",
      "   macro avg       0.58      0.58      0.58       979\n",
      "weighted avg       0.58      0.58      0.58       979\n",
      "\n",
      "[[290 176]\n",
      " [237 276]]\n",
      "Training Accuracy Score ->  67.5226586102719\n",
      "Test Accuracy Score ->  57.81409601634321\n"
     ]
    }
   ],
   "source": [
    "model_eval(xgbc_clf)"
   ]
  },
  {
   "cell_type": "code",
   "execution_count": 80,
   "metadata": {
    "ExecuteTime": {
     "end_time": "2020-07-22T17:58:05.277076Z",
     "start_time": "2020-07-22T17:58:05.274199Z"
    }
   },
   "outputs": [],
   "source": [
    "column_names = ['model_#', 'model_type', 'train_accuracy', 'test_accuracy', 'train_test_diff' ,'negative_recall', \n",
    "                'positive_recall', 'negative_f_1', 'positive_f-1', 'notes']"
   ]
  },
  {
   "cell_type": "code",
   "execution_count": 81,
   "metadata": {
    "ExecuteTime": {
     "end_time": "2020-07-22T17:59:59.434389Z",
     "start_time": "2020-07-22T17:59:59.416299Z"
    }
   },
   "outputs": [
    {
     "data": {
      "text/html": [
       "<div>\n",
       "<style scoped>\n",
       "    .dataframe tbody tr th:only-of-type {\n",
       "        vertical-align: middle;\n",
       "    }\n",
       "\n",
       "    .dataframe tbody tr th {\n",
       "        vertical-align: top;\n",
       "    }\n",
       "\n",
       "    .dataframe thead th {\n",
       "        text-align: right;\n",
       "    }\n",
       "</style>\n",
       "<table border=\"1\" class=\"dataframe\">\n",
       "  <thead>\n",
       "    <tr style=\"text-align: right;\">\n",
       "      <th></th>\n",
       "      <th>model_#</th>\n",
       "      <th>model_type</th>\n",
       "      <th>train_accuracy</th>\n",
       "      <th>test_accuracy</th>\n",
       "      <th>train_test_diff</th>\n",
       "      <th>negative_recall</th>\n",
       "      <th>positive_recall</th>\n",
       "      <th>negative_f_1</th>\n",
       "      <th>positive_f-1</th>\n",
       "      <th>notes</th>\n",
       "    </tr>\n",
       "  </thead>\n",
       "  <tbody>\n",
       "    <tr>\n",
       "      <th>0</th>\n",
       "      <td>1</td>\n",
       "      <td>Vanilla XGBoost RFC</td>\n",
       "      <td>67.5</td>\n",
       "      <td>57.8</td>\n",
       "      <td>9.7</td>\n",
       "      <td>62.0</td>\n",
       "      <td>54.0</td>\n",
       "      <td>58.0</td>\n",
       "      <td>57.0</td>\n",
       "      <td>Vanilla model very basic, needs tuning</td>\n",
       "    </tr>\n",
       "  </tbody>\n",
       "</table>\n",
       "</div>"
      ],
      "text/plain": [
       "   model_#           model_type  train_accuracy  test_accuracy  \\\n",
       "0        1  Vanilla XGBoost RFC            67.5           57.8   \n",
       "\n",
       "   train_test_diff  negative_recall  positive_recall  negative_f_1  \\\n",
       "0              9.7             62.0             54.0          58.0   \n",
       "\n",
       "   positive_f-1                                   notes  \n",
       "0          57.0  Vanilla model very basic, needs tuning  "
      ]
     },
     "execution_count": 81,
     "metadata": {},
     "output_type": "execute_result"
    }
   ],
   "source": [
    "column_names = ['model_#', 'model_type', 'train_accuracy', 'test_accuracy', 'train_test_diff' ,'negative_recall', \n",
    "                'positive_recall', 'negative_f_1', 'positive_f-1', 'notes']\n",
    "results = [1, 'Vanilla XGBoost RFC', 67.5,57.8,9.7,62.0,54.0,58.0,57.0, 'Vanilla model very basic, needs tuning']\n",
    "results_dict = dict(zip(column_names,results))\n",
    "model_results1=pd.DataFrame(results_dict, index = range(1))\n",
    "model_results=model_results.append(model_results1)\n",
    "model_results"
   ]
  },
  {
   "cell_type": "code",
   "execution_count": 17,
   "metadata": {
    "ExecuteTime": {
     "end_time": "2020-07-22T16:18:25.398814Z",
     "start_time": "2020-07-22T16:18:25.393475Z"
    }
   },
   "outputs": [],
   "source": [
    "params_xgboost = {'max_depth': range(2,10,1),\n",
    "         'n_estimators': range(60,220,40),\n",
    "         'learning_rate': [0.1, 0.01, 0.05]}\n",
    "estimator_xgboost = XGBClassifier(\n",
    "    objective= 'binary:logistic',\n",
    "    n_jobs=-1,\n",
    "    seed=42, \n",
    ")\n",
    "grid_search_xgboost = GridSearchCV(\n",
    "    estimator=estimator_xgboost,\n",
    "    param_grid=params_xgboost,\n",
    "    scoring = 'accuracy',\n",
    "    n_jobs = -1,\n",
    "    cv = 10,\n",
    "    verbose=True)"
   ]
  },
  {
   "cell_type": "code",
   "execution_count": 18,
   "metadata": {
    "ExecuteTime": {
     "end_time": "2020-07-22T16:19:05.671357Z",
     "start_time": "2020-07-22T16:18:25.400949Z"
    }
   },
   "outputs": [
    {
     "name": "stdout",
     "output_type": "stream",
     "text": [
      "Fitting 10 folds for each of 96 candidates, totalling 960 fits\n"
     ]
    },
    {
     "name": "stderr",
     "output_type": "stream",
     "text": [
      "[Parallel(n_jobs=-1)]: Using backend LokyBackend with 8 concurrent workers.\n",
      "[Parallel(n_jobs=-1)]: Done  34 tasks      | elapsed:    2.3s\n",
      "[Parallel(n_jobs=-1)]: Done 184 tasks      | elapsed:    7.0s\n",
      "[Parallel(n_jobs=-1)]: Done 434 tasks      | elapsed:   17.5s\n",
      "[Parallel(n_jobs=-1)]: Done 784 tasks      | elapsed:   32.2s\n",
      "[Parallel(n_jobs=-1)]: Done 960 out of 960 | elapsed:   40.2s finished\n"
     ]
    },
    {
     "data": {
      "text/plain": [
       "GridSearchCV(cv=10, estimator=XGBClassifier(n_jobs=-1, seed=42), n_jobs=-1,\n",
       "             param_grid={'learning_rate': [0.1, 0.01, 0.05],\n",
       "                         'max_depth': range(2, 10),\n",
       "                         'n_estimators': range(60, 220, 40)},\n",
       "             scoring='accuracy', verbose=True)"
      ]
     },
     "execution_count": 18,
     "metadata": {},
     "output_type": "execute_result"
    }
   ],
   "source": [
    "grid_search_xgboost.fit(X_train_tsvd, y_train)"
   ]
  },
  {
   "cell_type": "code",
   "execution_count": 19,
   "metadata": {
    "ExecuteTime": {
     "end_time": "2020-07-22T16:19:05.678303Z",
     "start_time": "2020-07-22T16:19:05.673703Z"
    }
   },
   "outputs": [
    {
     "data": {
      "text/plain": [
       "{'learning_rate': 0.01, 'max_depth': 3, 'n_estimators': 60}"
      ]
     },
     "execution_count": 19,
     "metadata": {},
     "output_type": "execute_result"
    }
   ],
   "source": [
    "grid_search_xgboost.best_params_"
   ]
  },
  {
   "cell_type": "code",
   "execution_count": 20,
   "metadata": {
    "ExecuteTime": {
     "end_time": "2020-07-22T16:19:05.683926Z",
     "start_time": "2020-07-22T16:19:05.680369Z"
    }
   },
   "outputs": [],
   "source": [
    "xgbc_clf = XGBClassifier(objective = 'binary:logistic', learning_rate = 0.01, max_depth = 2, n_estimators = 100)"
   ]
  },
  {
   "cell_type": "code",
   "execution_count": 21,
   "metadata": {
    "ExecuteTime": {
     "end_time": "2020-07-22T16:19:05.781055Z",
     "start_time": "2020-07-22T16:19:05.685962Z"
    }
   },
   "outputs": [
    {
     "name": "stdout",
     "output_type": "stream",
     "text": [
      "              precision    recall  f1-score   support\n",
      "\n",
      "           0       0.55      0.59      0.57       466\n",
      "           1       0.60      0.56      0.58       513\n",
      "\n",
      "    accuracy                           0.58       979\n",
      "   macro avg       0.58      0.58      0.58       979\n",
      "weighted avg       0.58      0.58      0.58       979\n",
      "\n",
      "[[277 189]\n",
      " [227 286]]\n",
      "Training Accuracy Score ->  61.17824773413897\n",
      "Test Accuracy Score ->  57.507660878447396\n"
     ]
    }
   ],
   "source": [
    "model_eval(xgbc_clf)"
   ]
  },
  {
   "cell_type": "code",
   "execution_count": 82,
   "metadata": {
    "ExecuteTime": {
     "end_time": "2020-07-22T18:02:21.667871Z",
     "start_time": "2020-07-22T18:02:21.650007Z"
    }
   },
   "outputs": [
    {
     "data": {
      "text/html": [
       "<div>\n",
       "<style scoped>\n",
       "    .dataframe tbody tr th:only-of-type {\n",
       "        vertical-align: middle;\n",
       "    }\n",
       "\n",
       "    .dataframe tbody tr th {\n",
       "        vertical-align: top;\n",
       "    }\n",
       "\n",
       "    .dataframe thead th {\n",
       "        text-align: right;\n",
       "    }\n",
       "</style>\n",
       "<table border=\"1\" class=\"dataframe\">\n",
       "  <thead>\n",
       "    <tr style=\"text-align: right;\">\n",
       "      <th></th>\n",
       "      <th>model_#</th>\n",
       "      <th>model_type</th>\n",
       "      <th>train_accuracy</th>\n",
       "      <th>test_accuracy</th>\n",
       "      <th>train_test_diff</th>\n",
       "      <th>negative_recall</th>\n",
       "      <th>positive_recall</th>\n",
       "      <th>negative_f_1</th>\n",
       "      <th>positive_f-1</th>\n",
       "      <th>notes</th>\n",
       "    </tr>\n",
       "  </thead>\n",
       "  <tbody>\n",
       "    <tr>\n",
       "      <th>0</th>\n",
       "      <td>1</td>\n",
       "      <td>Vanilla XGBoost RFC</td>\n",
       "      <td>67.5</td>\n",
       "      <td>57.8</td>\n",
       "      <td>9.7</td>\n",
       "      <td>62.0</td>\n",
       "      <td>54.0</td>\n",
       "      <td>58.0</td>\n",
       "      <td>57.0</td>\n",
       "      <td>Vanilla model very basic, needs tuning</td>\n",
       "    </tr>\n",
       "    <tr>\n",
       "      <th>0</th>\n",
       "      <td>2</td>\n",
       "      <td>XGBoost GridSearched RFC</td>\n",
       "      <td>61.1</td>\n",
       "      <td>57.5</td>\n",
       "      <td>3.6</td>\n",
       "      <td>59.0</td>\n",
       "      <td>56.0</td>\n",
       "      <td>57.0</td>\n",
       "      <td>58.0</td>\n",
       "      <td>GridSearch performed better, no longer overfit...</td>\n",
       "    </tr>\n",
       "  </tbody>\n",
       "</table>\n",
       "</div>"
      ],
      "text/plain": [
       "   model_#                model_type  train_accuracy  test_accuracy  \\\n",
       "0        1       Vanilla XGBoost RFC            67.5           57.8   \n",
       "0        2  XGBoost GridSearched RFC            61.1           57.5   \n",
       "\n",
       "   train_test_diff  negative_recall  positive_recall  negative_f_1  \\\n",
       "0              9.7             62.0             54.0          58.0   \n",
       "0              3.6             59.0             56.0          57.0   \n",
       "\n",
       "   positive_f-1                                              notes  \n",
       "0          57.0             Vanilla model very basic, needs tuning  \n",
       "0          58.0  GridSearch performed better, no longer overfit...  "
      ]
     },
     "execution_count": 82,
     "metadata": {},
     "output_type": "execute_result"
    }
   ],
   "source": [
    "column_names = ['model_#', 'model_type', 'train_accuracy', 'test_accuracy', 'train_test_diff' ,'negative_recall', \n",
    "                'positive_recall', 'negative_f_1', 'positive_f-1', 'notes']\n",
    "results = [2, 'XGBoost GridSearched RFC', 61.1,57.5,3.6,59.0,56.0,57.0,58.0, 'GridSearch performed better, no longer overfitting']\n",
    "results_dict = dict(zip(column_names,results))\n",
    "model_results2=pd.DataFrame(results_dict, index = range(1))\n",
    "model_results=model_results.append(model_results2)\n",
    "model_results"
   ]
  },
  {
   "cell_type": "markdown",
   "metadata": {},
   "source": [
    "## Support Vector Machine Classifier"
   ]
  },
  {
   "cell_type": "code",
   "execution_count": 22,
   "metadata": {
    "ExecuteTime": {
     "end_time": "2020-07-22T16:19:05.786028Z",
     "start_time": "2020-07-22T16:19:05.783007Z"
    }
   },
   "outputs": [],
   "source": [
    "svc_clf = SVC()"
   ]
  },
  {
   "cell_type": "code",
   "execution_count": 23,
   "metadata": {
    "ExecuteTime": {
     "end_time": "2020-07-22T16:19:06.005145Z",
     "start_time": "2020-07-22T16:19:05.788973Z"
    }
   },
   "outputs": [
    {
     "name": "stdout",
     "output_type": "stream",
     "text": [
      "              precision    recall  f1-score   support\n",
      "\n",
      "           0       0.56      0.62      0.59       466\n",
      "           1       0.61      0.55      0.58       513\n",
      "\n",
      "    accuracy                           0.58       979\n",
      "   macro avg       0.59      0.58      0.58       979\n",
      "weighted avg       0.59      0.58      0.58       979\n",
      "\n",
      "[[289 177]\n",
      " [231 282]]\n",
      "Training Accuracy Score ->  60.87613293051359\n",
      "Test Accuracy Score ->  58.324821246169556\n"
     ]
    }
   ],
   "source": [
    "model_eval(svc_clf)"
   ]
  },
  {
   "cell_type": "code",
   "execution_count": 83,
   "metadata": {
    "ExecuteTime": {
     "end_time": "2020-07-22T18:03:45.960511Z",
     "start_time": "2020-07-22T18:03:45.941471Z"
    }
   },
   "outputs": [
    {
     "data": {
      "text/html": [
       "<div>\n",
       "<style scoped>\n",
       "    .dataframe tbody tr th:only-of-type {\n",
       "        vertical-align: middle;\n",
       "    }\n",
       "\n",
       "    .dataframe tbody tr th {\n",
       "        vertical-align: top;\n",
       "    }\n",
       "\n",
       "    .dataframe thead th {\n",
       "        text-align: right;\n",
       "    }\n",
       "</style>\n",
       "<table border=\"1\" class=\"dataframe\">\n",
       "  <thead>\n",
       "    <tr style=\"text-align: right;\">\n",
       "      <th></th>\n",
       "      <th>model_#</th>\n",
       "      <th>model_type</th>\n",
       "      <th>train_accuracy</th>\n",
       "      <th>test_accuracy</th>\n",
       "      <th>train_test_diff</th>\n",
       "      <th>negative_recall</th>\n",
       "      <th>positive_recall</th>\n",
       "      <th>negative_f_1</th>\n",
       "      <th>positive_f-1</th>\n",
       "      <th>notes</th>\n",
       "    </tr>\n",
       "  </thead>\n",
       "  <tbody>\n",
       "    <tr>\n",
       "      <th>0</th>\n",
       "      <td>1</td>\n",
       "      <td>Vanilla XGBoost RFC</td>\n",
       "      <td>67.5</td>\n",
       "      <td>57.8</td>\n",
       "      <td>9.7</td>\n",
       "      <td>62.0</td>\n",
       "      <td>54.0</td>\n",
       "      <td>58.0</td>\n",
       "      <td>57.0</td>\n",
       "      <td>Vanilla model very basic, needs tuning</td>\n",
       "    </tr>\n",
       "    <tr>\n",
       "      <th>0</th>\n",
       "      <td>2</td>\n",
       "      <td>XGBoost GridSearched RFC</td>\n",
       "      <td>61.1</td>\n",
       "      <td>57.5</td>\n",
       "      <td>3.6</td>\n",
       "      <td>59.0</td>\n",
       "      <td>56.0</td>\n",
       "      <td>57.0</td>\n",
       "      <td>58.0</td>\n",
       "      <td>GridSearch performed better, no longer overfit...</td>\n",
       "    </tr>\n",
       "    <tr>\n",
       "      <th>0</th>\n",
       "      <td>3</td>\n",
       "      <td>Vanilla SVC</td>\n",
       "      <td>60.8</td>\n",
       "      <td>58.3</td>\n",
       "      <td>2.5</td>\n",
       "      <td>62.0</td>\n",
       "      <td>55.0</td>\n",
       "      <td>59.0</td>\n",
       "      <td>58.0</td>\n",
       "      <td>Fit better than RFC, continue with GridSearch</td>\n",
       "    </tr>\n",
       "  </tbody>\n",
       "</table>\n",
       "</div>"
      ],
      "text/plain": [
       "   model_#                model_type  train_accuracy  test_accuracy  \\\n",
       "0        1       Vanilla XGBoost RFC            67.5           57.8   \n",
       "0        2  XGBoost GridSearched RFC            61.1           57.5   \n",
       "0        3               Vanilla SVC            60.8           58.3   \n",
       "\n",
       "   train_test_diff  negative_recall  positive_recall  negative_f_1  \\\n",
       "0              9.7             62.0             54.0          58.0   \n",
       "0              3.6             59.0             56.0          57.0   \n",
       "0              2.5             62.0             55.0          59.0   \n",
       "\n",
       "   positive_f-1                                              notes  \n",
       "0          57.0             Vanilla model very basic, needs tuning  \n",
       "0          58.0  GridSearch performed better, no longer overfit...  \n",
       "0          58.0      Fit better than RFC, continue with GridSearch  "
      ]
     },
     "execution_count": 83,
     "metadata": {},
     "output_type": "execute_result"
    }
   ],
   "source": [
    "column_names = ['model_#', 'model_type', 'train_accuracy', 'test_accuracy', 'train_test_diff' ,'negative_recall', \n",
    "                'positive_recall', 'negative_f_1', 'positive_f-1', 'notes']\n",
    "results = [3, 'Vanilla SVC', 60.8,58.3,2.5,62.0,55.0,59.0,58.0, 'Fit better than RFC, continue with GridSearch']\n",
    "results_dict = dict(zip(column_names,results))\n",
    "model_results3=pd.DataFrame(results_dict, index = range(1))\n",
    "model_results=model_results.append(model_results3)\n",
    "model_results"
   ]
  },
  {
   "cell_type": "code",
   "execution_count": 24,
   "metadata": {
    "ExecuteTime": {
     "end_time": "2020-07-22T16:19:06.011253Z",
     "start_time": "2020-07-22T16:19:06.007255Z"
    }
   },
   "outputs": [],
   "source": [
    "params_svc = {'C': [0.1, 1, 10, 100], 'gamma':[1,0.1,0.01,0.001]}\n",
    "estimator_svc = SVC(kernel='linear',\n",
    "                    class_weight='balanced')\n",
    "grid_search_svc = GridSearchCV(estimator=estimator_svc, \n",
    "                              param_grid=params_svc,\n",
    "                              scoring = 'accuracy',\n",
    "                              n_jobs = -1,\n",
    "                              cv = 10,\n",
    "                              verbose = True)"
   ]
  },
  {
   "cell_type": "code",
   "execution_count": 25,
   "metadata": {
    "ExecuteTime": {
     "end_time": "2020-07-22T16:19:08.789225Z",
     "start_time": "2020-07-22T16:19:06.022036Z"
    }
   },
   "outputs": [
    {
     "name": "stdout",
     "output_type": "stream",
     "text": [
      "Fitting 10 folds for each of 16 candidates, totalling 160 fits\n"
     ]
    },
    {
     "name": "stderr",
     "output_type": "stream",
     "text": [
      "[Parallel(n_jobs=-1)]: Using backend LokyBackend with 8 concurrent workers.\n",
      "[Parallel(n_jobs=-1)]: Done  52 tasks      | elapsed:    1.0s\n",
      "[Parallel(n_jobs=-1)]: Done 160 out of 160 | elapsed:    2.7s finished\n"
     ]
    },
    {
     "data": {
      "text/plain": [
       "GridSearchCV(cv=10, estimator=SVC(class_weight='balanced', kernel='linear'),\n",
       "             n_jobs=-1,\n",
       "             param_grid={'C': [0.1, 1, 10, 100],\n",
       "                         'gamma': [1, 0.1, 0.01, 0.001]},\n",
       "             scoring='accuracy', verbose=True)"
      ]
     },
     "execution_count": 25,
     "metadata": {},
     "output_type": "execute_result"
    }
   ],
   "source": [
    "grid_search_svc.fit(X_train_tsvd, y_train)"
   ]
  },
  {
   "cell_type": "code",
   "execution_count": 26,
   "metadata": {
    "ExecuteTime": {
     "end_time": "2020-07-22T16:19:08.798184Z",
     "start_time": "2020-07-22T16:19:08.794643Z"
    }
   },
   "outputs": [
    {
     "data": {
      "text/plain": [
       "{'C': 1, 'gamma': 1}"
      ]
     },
     "execution_count": 26,
     "metadata": {},
     "output_type": "execute_result"
    }
   ],
   "source": [
    "grid_search_svc.best_params_"
   ]
  },
  {
   "cell_type": "code",
   "execution_count": 27,
   "metadata": {
    "ExecuteTime": {
     "end_time": "2020-07-22T16:19:08.807539Z",
     "start_time": "2020-07-22T16:19:08.802724Z"
    }
   },
   "outputs": [],
   "source": [
    "svc_clf = SVC(kernel = 'linear', C = 1, gamma = 1, class_weight='balanced')"
   ]
  },
  {
   "cell_type": "code",
   "execution_count": 28,
   "metadata": {
    "ExecuteTime": {
     "end_time": "2020-07-22T16:19:08.941317Z",
     "start_time": "2020-07-22T16:19:08.809965Z"
    }
   },
   "outputs": [
    {
     "name": "stdout",
     "output_type": "stream",
     "text": [
      "              precision    recall  f1-score   support\n",
      "\n",
      "           0       0.56      0.49      0.52       466\n",
      "           1       0.58      0.65      0.62       513\n",
      "\n",
      "    accuracy                           0.58       979\n",
      "   macro avg       0.57      0.57      0.57       979\n",
      "weighted avg       0.57      0.58      0.57       979\n",
      "\n",
      "[[227 239]\n",
      " [177 336]]\n",
      "Training Accuracy Score ->  58.006042296072515\n",
      "Test Accuracy Score ->  57.507660878447396\n"
     ]
    }
   ],
   "source": [
    "model_eval(svc_clf)"
   ]
  },
  {
   "cell_type": "code",
   "execution_count": 84,
   "metadata": {
    "ExecuteTime": {
     "end_time": "2020-07-22T18:06:03.172983Z",
     "start_time": "2020-07-22T18:06:03.153467Z"
    }
   },
   "outputs": [
    {
     "data": {
      "text/html": [
       "<div>\n",
       "<style scoped>\n",
       "    .dataframe tbody tr th:only-of-type {\n",
       "        vertical-align: middle;\n",
       "    }\n",
       "\n",
       "    .dataframe tbody tr th {\n",
       "        vertical-align: top;\n",
       "    }\n",
       "\n",
       "    .dataframe thead th {\n",
       "        text-align: right;\n",
       "    }\n",
       "</style>\n",
       "<table border=\"1\" class=\"dataframe\">\n",
       "  <thead>\n",
       "    <tr style=\"text-align: right;\">\n",
       "      <th></th>\n",
       "      <th>model_#</th>\n",
       "      <th>model_type</th>\n",
       "      <th>train_accuracy</th>\n",
       "      <th>test_accuracy</th>\n",
       "      <th>train_test_diff</th>\n",
       "      <th>negative_recall</th>\n",
       "      <th>positive_recall</th>\n",
       "      <th>negative_f_1</th>\n",
       "      <th>positive_f-1</th>\n",
       "      <th>notes</th>\n",
       "    </tr>\n",
       "  </thead>\n",
       "  <tbody>\n",
       "    <tr>\n",
       "      <th>0</th>\n",
       "      <td>1</td>\n",
       "      <td>Vanilla XGBoost RFC</td>\n",
       "      <td>67.5</td>\n",
       "      <td>57.8</td>\n",
       "      <td>9.7</td>\n",
       "      <td>62.0</td>\n",
       "      <td>54.0</td>\n",
       "      <td>58.0</td>\n",
       "      <td>57.0</td>\n",
       "      <td>Vanilla model very basic, needs tuning</td>\n",
       "    </tr>\n",
       "    <tr>\n",
       "      <th>0</th>\n",
       "      <td>2</td>\n",
       "      <td>XGBoost GridSearched RFC</td>\n",
       "      <td>61.1</td>\n",
       "      <td>57.5</td>\n",
       "      <td>3.6</td>\n",
       "      <td>59.0</td>\n",
       "      <td>56.0</td>\n",
       "      <td>57.0</td>\n",
       "      <td>58.0</td>\n",
       "      <td>GridSearch performed better, no longer overfit...</td>\n",
       "    </tr>\n",
       "    <tr>\n",
       "      <th>0</th>\n",
       "      <td>3</td>\n",
       "      <td>Vanilla SVC</td>\n",
       "      <td>60.8</td>\n",
       "      <td>58.3</td>\n",
       "      <td>2.5</td>\n",
       "      <td>62.0</td>\n",
       "      <td>55.0</td>\n",
       "      <td>59.0</td>\n",
       "      <td>58.0</td>\n",
       "      <td>Fit better than RFC, continue with GridSearch</td>\n",
       "    </tr>\n",
       "    <tr>\n",
       "      <th>0</th>\n",
       "      <td>4</td>\n",
       "      <td>GridSearch SVC</td>\n",
       "      <td>58.0</td>\n",
       "      <td>57.5</td>\n",
       "      <td>0.5</td>\n",
       "      <td>49.0</td>\n",
       "      <td>65.0</td>\n",
       "      <td>52.0</td>\n",
       "      <td>62.0</td>\n",
       "      <td>No longer overfits</td>\n",
       "    </tr>\n",
       "  </tbody>\n",
       "</table>\n",
       "</div>"
      ],
      "text/plain": [
       "   model_#                model_type  train_accuracy  test_accuracy  \\\n",
       "0        1       Vanilla XGBoost RFC            67.5           57.8   \n",
       "0        2  XGBoost GridSearched RFC            61.1           57.5   \n",
       "0        3               Vanilla SVC            60.8           58.3   \n",
       "0        4            GridSearch SVC            58.0           57.5   \n",
       "\n",
       "   train_test_diff  negative_recall  positive_recall  negative_f_1  \\\n",
       "0              9.7             62.0             54.0          58.0   \n",
       "0              3.6             59.0             56.0          57.0   \n",
       "0              2.5             62.0             55.0          59.0   \n",
       "0              0.5             49.0             65.0          52.0   \n",
       "\n",
       "   positive_f-1                                              notes  \n",
       "0          57.0             Vanilla model very basic, needs tuning  \n",
       "0          58.0  GridSearch performed better, no longer overfit...  \n",
       "0          58.0      Fit better than RFC, continue with GridSearch  \n",
       "0          62.0                                 No longer overfits  "
      ]
     },
     "execution_count": 84,
     "metadata": {},
     "output_type": "execute_result"
    }
   ],
   "source": [
    "column_names = ['model_#', 'model_type', 'train_accuracy', 'test_accuracy', 'train_test_diff' ,'negative_recall', \n",
    "                'positive_recall', 'negative_f_1', 'positive_f-1', 'notes']\n",
    "results = [4, 'GridSearch SVC', 58.0,57.5,0.5,49.0,65.0,52.0,62.0, 'No longer overfits']\n",
    "results_dict = dict(zip(column_names,results))\n",
    "model_results4=pd.DataFrame(results_dict, index = range(1))\n",
    "model_results=model_results.append(model_results4)\n",
    "model_results"
   ]
  },
  {
   "cell_type": "markdown",
   "metadata": {},
   "source": [
    "## Multinomial Naive Bayes Classifier"
   ]
  },
  {
   "cell_type": "code",
   "execution_count": 29,
   "metadata": {
    "ExecuteTime": {
     "end_time": "2020-07-22T16:19:08.946498Z",
     "start_time": "2020-07-22T16:19:08.943219Z"
    }
   },
   "outputs": [],
   "source": [
    "nbc = MultinomialNB()"
   ]
  },
  {
   "cell_type": "code",
   "execution_count": 30,
   "metadata": {
    "ExecuteTime": {
     "end_time": "2020-07-22T16:19:08.951814Z",
     "start_time": "2020-07-22T16:19:08.948674Z"
    }
   },
   "outputs": [],
   "source": [
    "c_vectorizer = CountVectorizer()"
   ]
  },
  {
   "cell_type": "code",
   "execution_count": 31,
   "metadata": {
    "ExecuteTime": {
     "end_time": "2020-07-22T16:19:20.511906Z",
     "start_time": "2020-07-22T16:19:08.954678Z"
    }
   },
   "outputs": [],
   "source": [
    "Xc_vect = c_vectorizer.fit_transform(X)"
   ]
  },
  {
   "cell_type": "code",
   "execution_count": 32,
   "metadata": {
    "ExecuteTime": {
     "end_time": "2020-07-22T16:19:20.548993Z",
     "start_time": "2020-07-22T16:19:20.513902Z"
    }
   },
   "outputs": [],
   "source": [
    "X_train_cvect, X_test_cvect, y_train, y_test = train_test_split(Xc_vect, y, test_size = .5)"
   ]
  },
  {
   "cell_type": "code",
   "execution_count": 33,
   "metadata": {
    "ExecuteTime": {
     "end_time": "2020-07-22T16:19:20.590366Z",
     "start_time": "2020-07-22T16:19:20.550945Z"
    }
   },
   "outputs": [
    {
     "data": {
      "text/plain": [
       "MultinomialNB()"
      ]
     },
     "execution_count": 33,
     "metadata": {},
     "output_type": "execute_result"
    }
   ],
   "source": [
    "nbc.fit(X_train_cvect, y_train)"
   ]
  },
  {
   "cell_type": "code",
   "execution_count": 34,
   "metadata": {
    "ExecuteTime": {
     "end_time": "2020-07-22T16:19:20.685457Z",
     "start_time": "2020-07-22T16:19:20.593302Z"
    }
   },
   "outputs": [
    {
     "name": "stdout",
     "output_type": "stream",
     "text": [
      "              precision    recall  f1-score   support\n",
      "\n",
      "           0       0.58      0.86      0.69       741\n",
      "           1       0.72      0.37      0.49       742\n",
      "\n",
      "    accuracy                           0.61      1483\n",
      "   macro avg       0.65      0.61      0.59      1483\n",
      "weighted avg       0.65      0.61      0.59      1483\n",
      "\n",
      "[[635 106]\n",
      " [466 276]]\n",
      "Training Accuracy Score ->  86.30229419703103\n",
      "Test Accuracy Score ->  61.42953472690492\n"
     ]
    }
   ],
   "source": [
    "y_test_preds = nbc.predict(X_test_cvect)\n",
    "y_train_preds = nbc.predict(X_train_cvect)\n",
    "print(classification_report(y_test, y_test_preds))\n",
    "print(confusion_matrix(y_test, y_test_preds))\n",
    "print(\"Training Accuracy Score -> \",accuracy_score(y_train, y_train_preds)*100)\n",
    "print(\"Test Accuracy Score -> \",accuracy_score(y_test, y_test_preds)*100)"
   ]
  },
  {
   "cell_type": "code",
   "execution_count": 85,
   "metadata": {
    "ExecuteTime": {
     "end_time": "2020-07-22T18:07:20.618045Z",
     "start_time": "2020-07-22T18:07:20.597832Z"
    }
   },
   "outputs": [
    {
     "data": {
      "text/html": [
       "<div>\n",
       "<style scoped>\n",
       "    .dataframe tbody tr th:only-of-type {\n",
       "        vertical-align: middle;\n",
       "    }\n",
       "\n",
       "    .dataframe tbody tr th {\n",
       "        vertical-align: top;\n",
       "    }\n",
       "\n",
       "    .dataframe thead th {\n",
       "        text-align: right;\n",
       "    }\n",
       "</style>\n",
       "<table border=\"1\" class=\"dataframe\">\n",
       "  <thead>\n",
       "    <tr style=\"text-align: right;\">\n",
       "      <th></th>\n",
       "      <th>model_#</th>\n",
       "      <th>model_type</th>\n",
       "      <th>train_accuracy</th>\n",
       "      <th>test_accuracy</th>\n",
       "      <th>train_test_diff</th>\n",
       "      <th>negative_recall</th>\n",
       "      <th>positive_recall</th>\n",
       "      <th>negative_f_1</th>\n",
       "      <th>positive_f-1</th>\n",
       "      <th>notes</th>\n",
       "    </tr>\n",
       "  </thead>\n",
       "  <tbody>\n",
       "    <tr>\n",
       "      <th>0</th>\n",
       "      <td>1</td>\n",
       "      <td>Vanilla XGBoost RFC</td>\n",
       "      <td>67.5</td>\n",
       "      <td>57.8</td>\n",
       "      <td>9.7</td>\n",
       "      <td>62.0</td>\n",
       "      <td>54.0</td>\n",
       "      <td>58.0</td>\n",
       "      <td>57.0</td>\n",
       "      <td>Vanilla model very basic, needs tuning</td>\n",
       "    </tr>\n",
       "    <tr>\n",
       "      <th>0</th>\n",
       "      <td>2</td>\n",
       "      <td>XGBoost GridSearched RFC</td>\n",
       "      <td>61.1</td>\n",
       "      <td>57.5</td>\n",
       "      <td>3.6</td>\n",
       "      <td>59.0</td>\n",
       "      <td>56.0</td>\n",
       "      <td>57.0</td>\n",
       "      <td>58.0</td>\n",
       "      <td>GridSearch performed better, no longer overfit...</td>\n",
       "    </tr>\n",
       "    <tr>\n",
       "      <th>0</th>\n",
       "      <td>3</td>\n",
       "      <td>Vanilla SVC</td>\n",
       "      <td>60.8</td>\n",
       "      <td>58.3</td>\n",
       "      <td>2.5</td>\n",
       "      <td>62.0</td>\n",
       "      <td>55.0</td>\n",
       "      <td>59.0</td>\n",
       "      <td>58.0</td>\n",
       "      <td>Fit better than RFC, continue with GridSearch</td>\n",
       "    </tr>\n",
       "    <tr>\n",
       "      <th>0</th>\n",
       "      <td>4</td>\n",
       "      <td>GridSearch SVC</td>\n",
       "      <td>58.0</td>\n",
       "      <td>57.5</td>\n",
       "      <td>0.5</td>\n",
       "      <td>49.0</td>\n",
       "      <td>65.0</td>\n",
       "      <td>52.0</td>\n",
       "      <td>62.0</td>\n",
       "      <td>No longer overfits</td>\n",
       "    </tr>\n",
       "    <tr>\n",
       "      <th>0</th>\n",
       "      <td>5</td>\n",
       "      <td>Multinomial Naive Bayes</td>\n",
       "      <td>86.3</td>\n",
       "      <td>61.4</td>\n",
       "      <td>22.9</td>\n",
       "      <td>86.0</td>\n",
       "      <td>37.0</td>\n",
       "      <td>69.0</td>\n",
       "      <td>49.0</td>\n",
       "      <td>Massive overfitting</td>\n",
       "    </tr>\n",
       "  </tbody>\n",
       "</table>\n",
       "</div>"
      ],
      "text/plain": [
       "   model_#                model_type  train_accuracy  test_accuracy  \\\n",
       "0        1       Vanilla XGBoost RFC            67.5           57.8   \n",
       "0        2  XGBoost GridSearched RFC            61.1           57.5   \n",
       "0        3               Vanilla SVC            60.8           58.3   \n",
       "0        4            GridSearch SVC            58.0           57.5   \n",
       "0        5   Multinomial Naive Bayes            86.3           61.4   \n",
       "\n",
       "   train_test_diff  negative_recall  positive_recall  negative_f_1  \\\n",
       "0              9.7             62.0             54.0          58.0   \n",
       "0              3.6             59.0             56.0          57.0   \n",
       "0              2.5             62.0             55.0          59.0   \n",
       "0              0.5             49.0             65.0          52.0   \n",
       "0             22.9             86.0             37.0          69.0   \n",
       "\n",
       "   positive_f-1                                              notes  \n",
       "0          57.0             Vanilla model very basic, needs tuning  \n",
       "0          58.0  GridSearch performed better, no longer overfit...  \n",
       "0          58.0      Fit better than RFC, continue with GridSearch  \n",
       "0          62.0                                 No longer overfits  \n",
       "0          49.0                                Massive overfitting  "
      ]
     },
     "execution_count": 85,
     "metadata": {},
     "output_type": "execute_result"
    }
   ],
   "source": [
    "column_names = ['model_#', 'model_type', 'train_accuracy', 'test_accuracy', 'train_test_diff' ,'negative_recall', \n",
    "                'positive_recall', 'negative_f_1', 'positive_f-1', 'notes']\n",
    "results = [5, 'Multinomial Naive Bayes', 86.3,61.4,22.9,86.0,37.0,69.0,49.0, 'Massive overfitting']\n",
    "results_dict = dict(zip(column_names,results))\n",
    "model_results4=pd.DataFrame(results_dict, index = range(1))\n",
    "model_results=model_results.append(model_results4)\n",
    "model_results"
   ]
  },
  {
   "cell_type": "markdown",
   "metadata": {},
   "source": [
    "## Dump Model to PKL File to Deploy"
   ]
  },
  {
   "cell_type": "code",
   "execution_count": 29,
   "metadata": {
    "ExecuteTime": {
     "end_time": "2020-07-21T15:15:07.851764Z",
     "start_time": "2020-07-21T15:15:07.837649Z"
    }
   },
   "outputs": [
    {
     "data": {
      "text/plain": [
       "['NB_script_model.pkl']"
      ]
     },
     "execution_count": 29,
     "metadata": {},
     "output_type": "execute_result"
    }
   ],
   "source": [
    "dump(nbc, 'NB_script_model.pkl')"
   ]
  },
  {
   "cell_type": "markdown",
   "metadata": {},
   "source": [
    "# Introduce More Features to Model"
   ]
  },
  {
   "cell_type": "code",
   "execution_count": 46,
   "metadata": {
    "ExecuteTime": {
     "end_time": "2020-07-22T17:30:58.552771Z",
     "start_time": "2020-07-22T17:30:58.548385Z"
    }
   },
   "outputs": [],
   "source": [
    "X = modeling_df[['word_count', 'WPM', 'unique_word_count', 'total_vocab_diversity']]\n",
    "y = modeling_df['success_failure']"
   ]
  },
  {
   "cell_type": "code",
   "execution_count": 45,
   "metadata": {
    "ExecuteTime": {
     "end_time": "2020-07-22T17:30:35.969683Z",
     "start_time": "2020-07-22T17:30:35.956707Z"
    }
   },
   "outputs": [
    {
     "name": "stdout",
     "output_type": "stream",
     "text": [
      "<class 'pandas.core.frame.DataFrame'>\n",
      "Int64Index: 2965 entries, 0 to 3008\n",
      "Data columns (total 23 columns):\n",
      " #   Column                 Non-Null Count  Dtype  \n",
      "---  ------                 --------------  -----  \n",
      " 0   Title                  2965 non-null   object \n",
      " 1   year                   2965 non-null   int64  \n",
      " 2   production_budget      2965 non-null   int64  \n",
      " 3   domestic_gross         2965 non-null   int64  \n",
      " 4   worldwide_gross        2965 non-null   int64  \n",
      " 5   profit                 2965 non-null   int64  \n",
      " 6   ROI                    2965 non-null   float64\n",
      " 7   script                 2965 non-null   object \n",
      " 8   Metascore              2965 non-null   float64\n",
      " 9   imdbRating             2965 non-null   float64\n",
      " 10  imdbID                 2965 non-null   object \n",
      " 11  Runtime                2965 non-null   int64  \n",
      " 12  ROI_scaled             2965 non-null   float64\n",
      " 13  Metascore_scaled       2965 non-null   float64\n",
      " 14  imdbRating_scaled      2965 non-null   float64\n",
      " 15  success_metric         2965 non-null   float64\n",
      " 16  cleaned_scripts        2965 non-null   object \n",
      " 17  success_failure        2965 non-null   int64  \n",
      " 18  word_cloud_scripts     2965 non-null   object \n",
      " 19  word_count             2965 non-null   int64  \n",
      " 20  WPM                    2965 non-null   float64\n",
      " 21  unique_word_count      2965 non-null   int64  \n",
      " 22  total_vocab_diversity  2965 non-null   float64\n",
      "dtypes: float64(9), int64(9), object(5)\n",
      "memory usage: 555.9+ KB\n"
     ]
    }
   ],
   "source": [
    "modeling_df.info()"
   ]
  },
  {
   "cell_type": "markdown",
   "metadata": {},
   "source": [
    "## XGBoost Model w/ Only New Features"
   ]
  },
  {
   "cell_type": "code",
   "execution_count": 73,
   "metadata": {
    "ExecuteTime": {
     "end_time": "2020-07-22T17:42:39.492262Z",
     "start_time": "2020-07-22T17:42:39.486408Z"
    }
   },
   "outputs": [],
   "source": [
    "#vectorizer = TfidfVectorizer()\n",
    "X_train, X_test, y_train, y_test = train_test_split(X, y, random_state = 42, test_size = 0.25)\n",
    "#X_vect = vectorizer.fit_transform(X)\n",
    "#X_train_tfidf = vectorizer.transform(X_train)\n",
    "#X_test_tfidf = vectorizer.transform(X_test)\n",
    "#tsvd = TruncatedSVD()\n",
    "#tsvd.fit(X_vect)\n",
    "#X_train_tsvd = tsvd.transform(X_train_tfidf)\n",
    "#X_test_tsvd = tsvd.transform(X_test_tfidf)"
   ]
  },
  {
   "cell_type": "code",
   "execution_count": 48,
   "metadata": {
    "ExecuteTime": {
     "end_time": "2020-07-22T17:31:06.158210Z",
     "start_time": "2020-07-22T17:31:06.155514Z"
    }
   },
   "outputs": [],
   "source": [
    "xgbc_clf = XGBClassifier()"
   ]
  },
  {
   "cell_type": "code",
   "execution_count": 49,
   "metadata": {
    "ExecuteTime": {
     "end_time": "2020-07-22T17:31:10.220015Z",
     "start_time": "2020-07-22T17:31:10.093180Z"
    }
   },
   "outputs": [
    {
     "data": {
      "text/plain": [
       "XGBClassifier()"
      ]
     },
     "execution_count": 49,
     "metadata": {},
     "output_type": "execute_result"
    }
   ],
   "source": [
    "xgbc_clf.fit(X_train, y_train)"
   ]
  },
  {
   "cell_type": "code",
   "execution_count": 50,
   "metadata": {
    "ExecuteTime": {
     "end_time": "2020-07-22T17:31:59.545995Z",
     "start_time": "2020-07-22T17:31:59.524176Z"
    }
   },
   "outputs": [
    {
     "name": "stdout",
     "output_type": "stream",
     "text": [
      "              precision    recall  f1-score   support\n",
      "\n",
      "           0       0.61      0.64      0.63       361\n",
      "           1       0.64      0.62      0.63       381\n",
      "\n",
      "    accuracy                           0.63       742\n",
      "   macro avg       0.63      0.63      0.63       742\n",
      "weighted avg       0.63      0.63      0.63       742\n",
      "\n",
      "[[231 130]\n",
      " [146 235]]\n",
      "Training Accuracy Score ->  73.27935222672065\n",
      "Test Accuracy Score ->  62.8032345013477\n"
     ]
    }
   ],
   "source": [
    "y_test_preds = xgbc_clf.predict(X_test)\n",
    "y_train_preds = xgbc_clf.predict(X_train)\n",
    "print(classification_report(y_test, y_test_preds))\n",
    "print(confusion_matrix(y_test, y_test_preds))\n",
    "print(\"Training Accuracy Score -> \",accuracy_score(y_train, y_train_preds)*100)\n",
    "print(\"Test Accuracy Score -> \",accuracy_score(y_test, y_test_preds)*100)"
   ]
  },
  {
   "cell_type": "code",
   "execution_count": 51,
   "metadata": {
    "ExecuteTime": {
     "end_time": "2020-07-22T17:32:31.918929Z",
     "start_time": "2020-07-22T17:32:31.914308Z"
    }
   },
   "outputs": [],
   "source": [
    "params_xgboost = {'max_depth': range(2,10,1),\n",
    "         'n_estimators': range(60,220,40),\n",
    "         'learning_rate': [0.1, 0.01, 0.05]}\n",
    "estimator_xgboost = XGBClassifier(\n",
    "    objective= 'binary:logistic',\n",
    "    n_jobs=-1,\n",
    "    seed=42, \n",
    ")\n",
    "grid_search_xgboost = GridSearchCV(\n",
    "    estimator=estimator_xgboost,\n",
    "    param_grid=params_xgboost,\n",
    "    scoring = 'accuracy',\n",
    "    n_jobs = -1,\n",
    "    cv = 10,\n",
    "    verbose=True)"
   ]
  },
  {
   "cell_type": "code",
   "execution_count": 52,
   "metadata": {
    "ExecuteTime": {
     "end_time": "2020-07-22T17:33:39.541031Z",
     "start_time": "2020-07-22T17:32:47.116078Z"
    }
   },
   "outputs": [
    {
     "name": "stdout",
     "output_type": "stream",
     "text": [
      "Fitting 10 folds for each of 96 candidates, totalling 960 fits\n"
     ]
    },
    {
     "name": "stderr",
     "output_type": "stream",
     "text": [
      "[Parallel(n_jobs=-1)]: Using backend LokyBackend with 8 concurrent workers.\n",
      "[Parallel(n_jobs=-1)]: Done  34 tasks      | elapsed:    2.3s\n",
      "[Parallel(n_jobs=-1)]: Done 184 tasks      | elapsed:    8.2s\n",
      "[Parallel(n_jobs=-1)]: Done 434 tasks      | elapsed:   21.7s\n",
      "[Parallel(n_jobs=-1)]: Done 784 tasks      | elapsed:   40.9s\n",
      "[Parallel(n_jobs=-1)]: Done 960 out of 960 | elapsed:   52.3s finished\n"
     ]
    },
    {
     "data": {
      "text/plain": [
       "GridSearchCV(cv=10, estimator=XGBClassifier(n_jobs=-1, seed=42), n_jobs=-1,\n",
       "             param_grid={'learning_rate': [0.1, 0.01, 0.05],\n",
       "                         'max_depth': range(2, 10),\n",
       "                         'n_estimators': range(60, 220, 40)},\n",
       "             scoring='accuracy', verbose=True)"
      ]
     },
     "execution_count": 52,
     "metadata": {},
     "output_type": "execute_result"
    }
   ],
   "source": [
    "grid_search_xgboost.fit(X_train, y_train)"
   ]
  },
  {
   "cell_type": "code",
   "execution_count": 54,
   "metadata": {
    "ExecuteTime": {
     "end_time": "2020-07-22T17:34:28.370613Z",
     "start_time": "2020-07-22T17:34:28.366019Z"
    }
   },
   "outputs": [
    {
     "data": {
      "text/plain": [
       "{'learning_rate': 0.1, 'max_depth': 4, 'n_estimators': 60}"
      ]
     },
     "execution_count": 54,
     "metadata": {},
     "output_type": "execute_result"
    }
   ],
   "source": [
    "grid_search_xgboost.best_params_"
   ]
  },
  {
   "cell_type": "code",
   "execution_count": 67,
   "metadata": {
    "ExecuteTime": {
     "end_time": "2020-07-22T17:40:27.863038Z",
     "start_time": "2020-07-22T17:40:27.858521Z"
    }
   },
   "outputs": [],
   "source": [
    "xgbc_clf = XGBClassifier(learning_rate=0.1, max_depth=1, n_estimators=100, objective = 'binary:logistic')"
   ]
  },
  {
   "cell_type": "code",
   "execution_count": 68,
   "metadata": {
    "ExecuteTime": {
     "end_time": "2020-07-22T17:40:29.355107Z",
     "start_time": "2020-07-22T17:40:29.265123Z"
    }
   },
   "outputs": [
    {
     "name": "stdout",
     "output_type": "stream",
     "text": [
      "              precision    recall  f1-score   support\n",
      "\n",
      "           0       0.57      0.77      0.66       361\n",
      "           1       0.68      0.46      0.55       381\n",
      "\n",
      "    accuracy                           0.61       742\n",
      "   macro avg       0.63      0.61      0.60       742\n",
      "weighted avg       0.63      0.61      0.60       742\n",
      "\n",
      "[[277  84]\n",
      " [205 176]]\n",
      "Training Accuracy Score ->  64.55240665766982\n",
      "Test Accuracy Score ->  61.05121293800539\n"
     ]
    }
   ],
   "source": [
    "xgbc_clf.fit(X_train, y_train)\n",
    "y_test_preds = xgbc_clf.predict(X_test)\n",
    "y_train_preds = xgbc_clf.predict(X_train)\n",
    "print(classification_report(y_test, y_test_preds))\n",
    "print(confusion_matrix(y_test, y_test_preds))\n",
    "print(\"Training Accuracy Score -> \",accuracy_score(y_train, y_train_preds)*100)\n",
    "print(\"Test Accuracy Score -> \",accuracy_score(y_test, y_test_preds)*100)"
   ]
  },
  {
   "cell_type": "markdown",
   "metadata": {},
   "source": [
    "## Support Vector Machine w/ Only New Features"
   ]
  },
  {
   "cell_type": "code",
   "execution_count": null,
   "metadata": {},
   "outputs": [],
   "source": []
  }
 ],
 "metadata": {
  "kernelspec": {
   "display_name": "learn-env",
   "language": "python",
   "name": "learn-env"
  },
  "language_info": {
   "codemirror_mode": {
    "name": "ipython",
    "version": 3
   },
   "file_extension": ".py",
   "mimetype": "text/x-python",
   "name": "python",
   "nbconvert_exporter": "python",
   "pygments_lexer": "ipython3",
   "version": "3.6.9"
  },
  "toc": {
   "base_numbering": 1,
   "nav_menu": {},
   "number_sections": true,
   "sideBar": true,
   "skip_h1_title": false,
   "title_cell": "Table of Contents",
   "title_sidebar": "Contents",
   "toc_cell": false,
   "toc_position": {
    "height": "calc(100% - 180px)",
    "left": "10px",
    "top": "150px",
    "width": "364.8px"
   },
   "toc_section_display": true,
   "toc_window_display": true
  },
  "varInspector": {
   "cols": {
    "lenName": 16,
    "lenType": 16,
    "lenVar": 40
   },
   "kernels_config": {
    "python": {
     "delete_cmd_postfix": "",
     "delete_cmd_prefix": "del ",
     "library": "var_list.py",
     "varRefreshCmd": "print(var_dic_list())"
    },
    "r": {
     "delete_cmd_postfix": ") ",
     "delete_cmd_prefix": "rm(",
     "library": "var_list.r",
     "varRefreshCmd": "cat(var_dic_list()) "
    }
   },
   "types_to_exclude": [
    "module",
    "function",
    "builtin_function_or_method",
    "instance",
    "_Feature"
   ],
   "window_display": false
  }
 },
 "nbformat": 4,
 "nbformat_minor": 2
}
