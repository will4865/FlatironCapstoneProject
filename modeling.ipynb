{
 "cells": [
  {
   "cell_type": "markdown",
   "metadata": {},
   "source": [
    "# Import Libraries and Data"
   ]
  },
  {
   "cell_type": "code",
   "execution_count": 1,
   "metadata": {
    "ExecuteTime": {
     "end_time": "2020-07-20T20:49:16.756623Z",
     "start_time": "2020-07-20T20:49:15.856750Z"
    }
   },
   "outputs": [],
   "source": [
    "import pandas as pd\n",
    "from sklearn.feature_extraction.text import TfidfVectorizer\n",
    "from sklearn.model_selection import train_test_split\n",
    "from sklearn.decomposition import TruncatedSVD\n",
    "from xgboost import XGBClassifier\n",
    "from sklearn.svm import SVC\n",
    "from sklearn.naive_bayes import MultinomialNB\n",
    "from sklearn.metrics import accuracy_score, classification_report, confusion_matrix\n",
    "\n",
    "%run -i 'functions/model_eval.py'"
   ]
  },
  {
   "cell_type": "code",
   "execution_count": 2,
   "metadata": {
    "ExecuteTime": {
     "end_time": "2020-07-20T20:49:19.761638Z",
     "start_time": "2020-07-20T20:49:16.771109Z"
    }
   },
   "outputs": [
    {
     "data": {
      "text/html": [
       "<div>\n",
       "<style scoped>\n",
       "    .dataframe tbody tr th:only-of-type {\n",
       "        vertical-align: middle;\n",
       "    }\n",
       "\n",
       "    .dataframe tbody tr th {\n",
       "        vertical-align: top;\n",
       "    }\n",
       "\n",
       "    .dataframe thead th {\n",
       "        text-align: right;\n",
       "    }\n",
       "</style>\n",
       "<table border=\"1\" class=\"dataframe\">\n",
       "  <thead>\n",
       "    <tr style=\"text-align: right;\">\n",
       "      <th></th>\n",
       "      <th>Title</th>\n",
       "      <th>year</th>\n",
       "      <th>production_budget</th>\n",
       "      <th>domestic_gross</th>\n",
       "      <th>worldwide_gross</th>\n",
       "      <th>profit</th>\n",
       "      <th>ROI</th>\n",
       "      <th>script</th>\n",
       "      <th>Metascore</th>\n",
       "      <th>imdbRating</th>\n",
       "      <th>imdbID</th>\n",
       "      <th>ROI_scaled</th>\n",
       "      <th>Metascore_scaled</th>\n",
       "      <th>imdbRating_scaled</th>\n",
       "      <th>success_metric</th>\n",
       "      <th>cleaned_scripts_lemmatize</th>\n",
       "      <th>success_failure</th>\n",
       "      <th>word_cloud_scripts</th>\n",
       "    </tr>\n",
       "  </thead>\n",
       "  <tbody>\n",
       "    <tr>\n",
       "      <th>0</th>\n",
       "      <td>Pirates of the Caribbean: On Stranger Tides</td>\n",
       "      <td>2011</td>\n",
       "      <td>379000000</td>\n",
       "      <td>241063875</td>\n",
       "      <td>1045663875</td>\n",
       "      <td>666663875</td>\n",
       "      <td>1.76</td>\n",
       "      <td>Sub.Re-Edit.by. :: npdv.indoheroes[at]gmail.co...</td>\n",
       "      <td>45.0</td>\n",
       "      <td>6.6</td>\n",
       "      <td>tt1298650</td>\n",
       "      <td>0.005394</td>\n",
       "      <td>0.408602</td>\n",
       "      <td>0.649351</td>\n",
       "      <td>1.38</td>\n",
       "      <td>sub edit npdv indoheroes gmail com advertise p...</td>\n",
       "      <td>0</td>\n",
       "      <td>['sub', 'edit', 'npdv', 'indoheroes', 'gmail',...</td>\n",
       "    </tr>\n",
       "    <tr>\n",
       "      <th>1</th>\n",
       "      <td>Avengers: Age of Ultron</td>\n",
       "      <td>2015</td>\n",
       "      <td>365000000</td>\n",
       "      <td>459005868</td>\n",
       "      <td>1396099202</td>\n",
       "      <td>1031099202</td>\n",
       "      <td>2.82</td>\n",
       "      <td>(DISTANT EXPLOSION) STRUCKER ON PA: Report to ...</td>\n",
       "      <td>66.0</td>\n",
       "      <td>7.3</td>\n",
       "      <td>tt2395427</td>\n",
       "      <td>0.007520</td>\n",
       "      <td>0.634409</td>\n",
       "      <td>0.740260</td>\n",
       "      <td>1.56</td>\n",
       "      <td>distant explosion strucker pa report station i...</td>\n",
       "      <td>1</td>\n",
       "      <td>['distant', 'explosion', 'strucker', 'pa', 're...</td>\n",
       "    </tr>\n",
       "    <tr>\n",
       "      <th>2</th>\n",
       "      <td>Justice League</td>\n",
       "      <td>2017</td>\n",
       "      <td>300000000</td>\n",
       "      <td>229024295</td>\n",
       "      <td>655945209</td>\n",
       "      <td>355945209</td>\n",
       "      <td>1.19</td>\n",
       "      <td>There he is! Oh, sorry. Superman, Superman, ca...</td>\n",
       "      <td>45.0</td>\n",
       "      <td>6.4</td>\n",
       "      <td>tt0974015</td>\n",
       "      <td>0.004251</td>\n",
       "      <td>0.408602</td>\n",
       "      <td>0.623377</td>\n",
       "      <td>1.34</td>\n",
       "      <td>oh sorry superman superman ask question podcas...</td>\n",
       "      <td>0</td>\n",
       "      <td>['oh', 'sorry', 'superman', 'superman', 'ask',...</td>\n",
       "    </tr>\n",
       "    <tr>\n",
       "      <th>3</th>\n",
       "      <td>Spectre</td>\n",
       "      <td>2015</td>\n",
       "      <td>300000000</td>\n",
       "      <td>200074175</td>\n",
       "      <td>879620923</td>\n",
       "      <td>579620923</td>\n",
       "      <td>1.93</td>\n",
       "      <td>Where are you going? I won't be long. Welcome,...</td>\n",
       "      <td>60.0</td>\n",
       "      <td>6.8</td>\n",
       "      <td>tt2379713</td>\n",
       "      <td>0.005735</td>\n",
       "      <td>0.569892</td>\n",
       "      <td>0.675325</td>\n",
       "      <td>1.45</td>\n",
       "      <td>going long welcome signor soiarra trust pleasa...</td>\n",
       "      <td>1</td>\n",
       "      <td>['going', 'long', 'welcome', 'signor', 'soiarr...</td>\n",
       "    </tr>\n",
       "    <tr>\n",
       "      <th>4</th>\n",
       "      <td>Batman v Superman: Dawn of Justice</td>\n",
       "      <td>2016</td>\n",
       "      <td>263000000</td>\n",
       "      <td>330360194</td>\n",
       "      <td>872395091</td>\n",
       "      <td>609395091</td>\n",
       "      <td>2.32</td>\n",
       "      <td>There was a time above. A time before. There w...</td>\n",
       "      <td>44.0</td>\n",
       "      <td>6.5</td>\n",
       "      <td>tt2975590</td>\n",
       "      <td>0.006517</td>\n",
       "      <td>0.397849</td>\n",
       "      <td>0.636364</td>\n",
       "      <td>1.36</td>\n",
       "      <td>time time perfect thing diamond absolute thing...</td>\n",
       "      <td>0</td>\n",
       "      <td>['time', 'time', 'perfect', 'thing', 'diamond'...</td>\n",
       "    </tr>\n",
       "  </tbody>\n",
       "</table>\n",
       "</div>"
      ],
      "text/plain": [
       "                                         Title  year  production_budget  \\\n",
       "0  Pirates of the Caribbean: On Stranger Tides  2011          379000000   \n",
       "1                      Avengers: Age of Ultron  2015          365000000   \n",
       "2                               Justice League  2017          300000000   \n",
       "3                                      Spectre  2015          300000000   \n",
       "4           Batman v Superman: Dawn of Justice  2016          263000000   \n",
       "\n",
       "   domestic_gross  worldwide_gross      profit   ROI  \\\n",
       "0       241063875       1045663875   666663875  1.76   \n",
       "1       459005868       1396099202  1031099202  2.82   \n",
       "2       229024295        655945209   355945209  1.19   \n",
       "3       200074175        879620923   579620923  1.93   \n",
       "4       330360194        872395091   609395091  2.32   \n",
       "\n",
       "                                              script  Metascore  imdbRating  \\\n",
       "0  Sub.Re-Edit.by. :: npdv.indoheroes[at]gmail.co...       45.0         6.6   \n",
       "1  (DISTANT EXPLOSION) STRUCKER ON PA: Report to ...       66.0         7.3   \n",
       "2  There he is! Oh, sorry. Superman, Superman, ca...       45.0         6.4   \n",
       "3  Where are you going? I won't be long. Welcome,...       60.0         6.8   \n",
       "4  There was a time above. A time before. There w...       44.0         6.5   \n",
       "\n",
       "      imdbID  ROI_scaled  Metascore_scaled  imdbRating_scaled  success_metric  \\\n",
       "0  tt1298650    0.005394          0.408602           0.649351            1.38   \n",
       "1  tt2395427    0.007520          0.634409           0.740260            1.56   \n",
       "2  tt0974015    0.004251          0.408602           0.623377            1.34   \n",
       "3  tt2379713    0.005735          0.569892           0.675325            1.45   \n",
       "4  tt2975590    0.006517          0.397849           0.636364            1.36   \n",
       "\n",
       "                           cleaned_scripts_lemmatize  success_failure  \\\n",
       "0  sub edit npdv indoheroes gmail com advertise p...                0   \n",
       "1  distant explosion strucker pa report station i...                1   \n",
       "2  oh sorry superman superman ask question podcas...                0   \n",
       "3  going long welcome signor soiarra trust pleasa...                1   \n",
       "4  time time perfect thing diamond absolute thing...                0   \n",
       "\n",
       "                                  word_cloud_scripts  \n",
       "0  ['sub', 'edit', 'npdv', 'indoheroes', 'gmail',...  \n",
       "1  ['distant', 'explosion', 'strucker', 'pa', 're...  \n",
       "2  ['oh', 'sorry', 'superman', 'superman', 'ask',...  \n",
       "3  ['going', 'long', 'welcome', 'signor', 'soiarr...  \n",
       "4  ['time', 'time', 'perfect', 'thing', 'diamond'...  "
      ]
     },
     "execution_count": 2,
     "metadata": {},
     "output_type": "execute_result"
    }
   ],
   "source": [
    "modeling_df = pd.read_csv('/Users/will4856/Downloads/modeling_df.csv', index_col='Unnamed: 0')\n",
    "modeling_df.head()"
   ]
  },
  {
   "cell_type": "markdown",
   "metadata": {},
   "source": [
    "# Data Pre-Processing"
   ]
  },
  {
   "cell_type": "code",
   "execution_count": 4,
   "metadata": {
    "ExecuteTime": {
     "end_time": "2020-07-20T18:08:02.870092Z",
     "start_time": "2020-07-20T18:08:02.851674Z"
    },
    "scrolled": false
   },
   "outputs": [
    {
     "data": {
      "text/html": [
       "<div>\n",
       "<style scoped>\n",
       "    .dataframe tbody tr th:only-of-type {\n",
       "        vertical-align: middle;\n",
       "    }\n",
       "\n",
       "    .dataframe tbody tr th {\n",
       "        vertical-align: top;\n",
       "    }\n",
       "\n",
       "    .dataframe thead th {\n",
       "        text-align: right;\n",
       "    }\n",
       "</style>\n",
       "<table border=\"1\" class=\"dataframe\">\n",
       "  <thead>\n",
       "    <tr style=\"text-align: right;\">\n",
       "      <th></th>\n",
       "      <th>Title</th>\n",
       "      <th>year</th>\n",
       "      <th>production_budget</th>\n",
       "      <th>domestic_gross</th>\n",
       "      <th>worldwide_gross</th>\n",
       "      <th>profit</th>\n",
       "      <th>ROI</th>\n",
       "      <th>script</th>\n",
       "      <th>Metascore</th>\n",
       "      <th>imdbRating</th>\n",
       "      <th>imdbID</th>\n",
       "      <th>ROI_scaled</th>\n",
       "      <th>Metascore_scaled</th>\n",
       "      <th>imdbRating_scaled</th>\n",
       "      <th>success_metric</th>\n",
       "      <th>cleaned_scripts</th>\n",
       "      <th>success_failure</th>\n",
       "    </tr>\n",
       "  </thead>\n",
       "  <tbody>\n",
       "    <tr>\n",
       "      <td>0</td>\n",
       "      <td>The Amazing Spider-Man</td>\n",
       "      <td>2012</td>\n",
       "      <td>220000000</td>\n",
       "      <td>262030663</td>\n",
       "      <td>757890267</td>\n",
       "      <td>537890267</td>\n",
       "      <td>2.44</td>\n",
       "      <td>&lt;font color=\"#D900D9\"&gt;(♪♪♪)&lt;/font&gt; &lt;font color...</td>\n",
       "      <td>66.0</td>\n",
       "      <td>6.9</td>\n",
       "      <td>tt0948470</td>\n",
       "      <td>0.006758</td>\n",
       "      <td>0.634409</td>\n",
       "      <td>0.688312</td>\n",
       "      <td>1.48</td>\n",
       "      <td>♪♪♪ peter five four three two one ready or not...</td>\n",
       "      <td>1</td>\n",
       "    </tr>\n",
       "    <tr>\n",
       "      <td>1</td>\n",
       "      <td>Battleship</td>\n",
       "      <td>2012</td>\n",
       "      <td>220000000</td>\n",
       "      <td>65233400</td>\n",
       "      <td>313477717</td>\n",
       "      <td>93477717</td>\n",
       "      <td>0.42</td>\n",
       "      <td>&lt;font color=\"#808080\"&gt;NOGRADY:&lt;/font&gt; Today re...</td>\n",
       "      <td>41.0</td>\n",
       "      <td>5.8</td>\n",
       "      <td>tt1440129</td>\n",
       "      <td>0.002707</td>\n",
       "      <td>0.365591</td>\n",
       "      <td>0.545455</td>\n",
       "      <td>1.22</td>\n",
       "      <td>nogrady today really mark the first stage of a...</td>\n",
       "      <td>0</td>\n",
       "    </tr>\n",
       "    <tr>\n",
       "      <td>2</td>\n",
       "      <td>Maleficent</td>\n",
       "      <td>2014</td>\n",
       "      <td>180000000</td>\n",
       "      <td>241407328</td>\n",
       "      <td>758536735</td>\n",
       "      <td>578536735</td>\n",
       "      <td>3.21</td>\n",
       "      <td>&lt;font color=\"#808080\"&gt;NARRATOR:&lt;/font&gt; Let us ...</td>\n",
       "      <td>56.0</td>\n",
       "      <td>7.0</td>\n",
       "      <td>tt1587310</td>\n",
       "      <td>0.008302</td>\n",
       "      <td>0.526882</td>\n",
       "      <td>0.701299</td>\n",
       "      <td>1.48</td>\n",
       "      <td>narrator let u tell an old story anew and we w...</td>\n",
       "      <td>1</td>\n",
       "    </tr>\n",
       "    <tr>\n",
       "      <td>3</td>\n",
       "      <td>Thor: The Dark World</td>\n",
       "      <td>2013</td>\n",
       "      <td>150000000</td>\n",
       "      <td>206362140</td>\n",
       "      <td>644602516</td>\n",
       "      <td>494602516</td>\n",
       "      <td>3.30</td>\n",
       "      <td>&lt;font color=\"#808080\"&gt;ODIN:&lt;/font&gt; Long before...</td>\n",
       "      <td>54.0</td>\n",
       "      <td>6.9</td>\n",
       "      <td>tt1981115</td>\n",
       "      <td>0.008482</td>\n",
       "      <td>0.505376</td>\n",
       "      <td>0.688312</td>\n",
       "      <td>1.46</td>\n",
       "      <td>odin long before the birth of light there wa d...</td>\n",
       "      <td>1</td>\n",
       "    </tr>\n",
       "    <tr>\n",
       "      <td>4</td>\n",
       "      <td>Pan</td>\n",
       "      <td>2015</td>\n",
       "      <td>150000000</td>\n",
       "      <td>35088320</td>\n",
       "      <td>151525973</td>\n",
       "      <td>1525973</td>\n",
       "      <td>0.01</td>\n",
       "      <td>PAN Translation and review by Angel. I am goin...</td>\n",
       "      <td>36.0</td>\n",
       "      <td>5.7</td>\n",
       "      <td>tt3332064</td>\n",
       "      <td>0.001885</td>\n",
       "      <td>0.311828</td>\n",
       "      <td>0.532468</td>\n",
       "      <td>1.19</td>\n",
       "      <td>pan translation and review by angel i am going...</td>\n",
       "      <td>0</td>\n",
       "    </tr>\n",
       "  </tbody>\n",
       "</table>\n",
       "</div>"
      ],
      "text/plain": [
       "                    Title  year  production_budget  domestic_gross  \\\n",
       "0  The Amazing Spider-Man  2012          220000000       262030663   \n",
       "1              Battleship  2012          220000000        65233400   \n",
       "2              Maleficent  2014          180000000       241407328   \n",
       "3    Thor: The Dark World  2013          150000000       206362140   \n",
       "4                     Pan  2015          150000000        35088320   \n",
       "\n",
       "   worldwide_gross     profit   ROI  \\\n",
       "0        757890267  537890267  2.44   \n",
       "1        313477717   93477717  0.42   \n",
       "2        758536735  578536735  3.21   \n",
       "3        644602516  494602516  3.30   \n",
       "4        151525973    1525973  0.01   \n",
       "\n",
       "                                              script  Metascore  imdbRating  \\\n",
       "0  <font color=\"#D900D9\">(♪♪♪)</font> <font color...       66.0         6.9   \n",
       "1  <font color=\"#808080\">NOGRADY:</font> Today re...       41.0         5.8   \n",
       "2  <font color=\"#808080\">NARRATOR:</font> Let us ...       56.0         7.0   \n",
       "3  <font color=\"#808080\">ODIN:</font> Long before...       54.0         6.9   \n",
       "4  PAN Translation and review by Angel. I am goin...       36.0         5.7   \n",
       "\n",
       "      imdbID  ROI_scaled  Metascore_scaled  imdbRating_scaled  success_metric  \\\n",
       "0  tt0948470    0.006758          0.634409           0.688312            1.48   \n",
       "1  tt1440129    0.002707          0.365591           0.545455            1.22   \n",
       "2  tt1587310    0.008302          0.526882           0.701299            1.48   \n",
       "3  tt1981115    0.008482          0.505376           0.688312            1.46   \n",
       "4  tt3332064    0.001885          0.311828           0.532468            1.19   \n",
       "\n",
       "                                     cleaned_scripts  success_failure  \n",
       "0  ♪♪♪ peter five four three two one ready or not...                1  \n",
       "1  nogrady today really mark the first stage of a...                0  \n",
       "2  narrator let u tell an old story anew and we w...                1  \n",
       "3  odin long before the birth of light there wa d...                1  \n",
       "4  pan translation and review by angel i am going...                0  "
      ]
     },
     "execution_count": 4,
     "metadata": {},
     "output_type": "execute_result"
    }
   ],
   "source": [
    "modeling_df.head()"
   ]
  },
  {
   "cell_type": "code",
   "execution_count": 20,
   "metadata": {
    "ExecuteTime": {
     "end_time": "2020-07-20T18:18:49.141505Z",
     "start_time": "2020-07-20T18:18:49.134880Z"
    }
   },
   "outputs": [],
   "source": [
    "modeling_df = modeling_df.loc[modeling_df['cleaned_scripts'].notna()]"
   ]
  },
  {
   "cell_type": "markdown",
   "metadata": {},
   "source": [
    "## Vectorizing"
   ]
  },
  {
   "cell_type": "code",
   "execution_count": 28,
   "metadata": {
    "ExecuteTime": {
     "end_time": "2020-07-20T18:26:32.186068Z",
     "start_time": "2020-07-20T18:26:32.183345Z"
    }
   },
   "outputs": [],
   "source": [
    "vectorizer = TfidfVectorizer()"
   ]
  },
  {
   "cell_type": "code",
   "execution_count": 29,
   "metadata": {
    "ExecuteTime": {
     "end_time": "2020-07-20T18:26:32.920833Z",
     "start_time": "2020-07-20T18:26:32.918074Z"
    }
   },
   "outputs": [],
   "source": [
    "X = modeling_df['cleaned_scripts']\n",
    "y = modeling_df['success_failure']"
   ]
  },
  {
   "cell_type": "code",
   "execution_count": 30,
   "metadata": {
    "ExecuteTime": {
     "end_time": "2020-07-20T18:26:33.315478Z",
     "start_time": "2020-07-20T18:26:33.310775Z"
    }
   },
   "outputs": [],
   "source": [
    "X_train, X_test, y_train, y_test = train_test_split(X, y, random_state = 42, test_size = 0.2)"
   ]
  },
  {
   "cell_type": "code",
   "execution_count": 31,
   "metadata": {
    "ExecuteTime": {
     "end_time": "2020-07-20T18:27:29.062122Z",
     "start_time": "2020-07-20T18:26:45.718037Z"
    }
   },
   "outputs": [],
   "source": [
    "X_vect = vectorizer.fit_transform(X)\n",
    "X_train_tfidf = vectorizer.transform(X_train)\n",
    "X_test_tfidf = vectorizer.transform(X_test)"
   ]
  },
  {
   "cell_type": "markdown",
   "metadata": {},
   "source": [
    "## Dimensionality Reduction with TruncatedSVD"
   ]
  },
  {
   "cell_type": "code",
   "execution_count": 44,
   "metadata": {
    "ExecuteTime": {
     "end_time": "2020-07-20T18:32:56.350530Z",
     "start_time": "2020-07-20T18:32:56.347553Z"
    }
   },
   "outputs": [],
   "source": [
    "tsvd = TruncatedSVD()"
   ]
  },
  {
   "cell_type": "code",
   "execution_count": 45,
   "metadata": {
    "ExecuteTime": {
     "end_time": "2020-07-20T18:34:23.771217Z",
     "start_time": "2020-07-20T18:34:21.224664Z"
    }
   },
   "outputs": [],
   "source": [
    "tsvd.fit(X_vect)\n",
    "X_train_tsvd = tsvd.transform(X_train_tfidf)\n",
    "X_test_tsvd = tsvd.transform(X_test_tfidf)"
   ]
  },
  {
   "cell_type": "markdown",
   "metadata": {},
   "source": [
    "# Modeling"
   ]
  },
  {
   "cell_type": "markdown",
   "metadata": {},
   "source": [
    "## XGBoosted Classifier"
   ]
  },
  {
   "cell_type": "code",
   "execution_count": 74,
   "metadata": {
    "ExecuteTime": {
     "end_time": "2020-07-20T18:51:43.265295Z",
     "start_time": "2020-07-20T18:51:43.262603Z"
    }
   },
   "outputs": [],
   "source": [
    "xgbc_clf = XGBClassifier()"
   ]
  },
  {
   "cell_type": "code",
   "execution_count": 75,
   "metadata": {
    "ExecuteTime": {
     "end_time": "2020-07-20T18:51:44.078300Z",
     "start_time": "2020-07-20T18:51:43.959576Z"
    }
   },
   "outputs": [
    {
     "name": "stdout",
     "output_type": "stream",
     "text": [
      "              precision    recall  f1-score   support\n",
      "\n",
      "           0       0.55      0.65      0.60       283\n",
      "           1       0.62      0.53      0.57       311\n",
      "\n",
      "    accuracy                           0.58       594\n",
      "   macro avg       0.59      0.59      0.58       594\n",
      "weighted avg       0.59      0.58      0.58       594\n",
      "\n",
      "[[183 100]\n",
      " [147 164]]\n",
      "Training Accuracy Score ->  64.92411467116358\n",
      "Test Accuracy Score ->  58.417508417508415\n"
     ]
    }
   ],
   "source": [
    "model_eval(xgbc_clf)"
   ]
  },
  {
   "cell_type": "markdown",
   "metadata": {},
   "source": [
    "## Support Vector Machine Classifier"
   ]
  },
  {
   "cell_type": "code",
   "execution_count": 76,
   "metadata": {
    "ExecuteTime": {
     "end_time": "2020-07-20T18:51:46.386518Z",
     "start_time": "2020-07-20T18:51:46.383806Z"
    }
   },
   "outputs": [],
   "source": [
    "svc_clf = SVC()"
   ]
  },
  {
   "cell_type": "code",
   "execution_count": 77,
   "metadata": {
    "ExecuteTime": {
     "end_time": "2020-07-20T18:51:47.084171Z",
     "start_time": "2020-07-20T18:51:46.809097Z"
    }
   },
   "outputs": [
    {
     "name": "stderr",
     "output_type": "stream",
     "text": [
      "/Users/will4856/opt/anaconda3/envs/learn-env/lib/python3.6/site-packages/sklearn/svm/base.py:193: FutureWarning: The default value of gamma will change from 'auto' to 'scale' in version 0.22 to account better for unscaled features. Set gamma explicitly to 'auto' or 'scale' to avoid this warning.\n",
      "  \"avoid this warning.\", FutureWarning)\n"
     ]
    },
    {
     "name": "stdout",
     "output_type": "stream",
     "text": [
      "              precision    recall  f1-score   support\n",
      "\n",
      "           0       0.52      0.82      0.64       283\n",
      "           1       0.66      0.32      0.43       311\n",
      "\n",
      "    accuracy                           0.56       594\n",
      "   macro avg       0.59      0.57      0.53       594\n",
      "weighted avg       0.60      0.56      0.53       594\n",
      "\n",
      "[[233  50]\n",
      " [213  98]]\n",
      "Training Accuracy Score ->  56.155143338954474\n",
      "Test Accuracy Score ->  55.72390572390572\n"
     ]
    }
   ],
   "source": [
    "model_eval(svc_clf)"
   ]
  },
  {
   "cell_type": "code",
   "execution_count": null,
   "metadata": {},
   "outputs": [],
   "source": []
  }
 ],
 "metadata": {
  "kernelspec": {
   "display_name": "learn-env",
   "language": "python",
   "name": "learn-env"
  },
  "language_info": {
   "codemirror_mode": {
    "name": "ipython",
    "version": 3
   },
   "file_extension": ".py",
   "mimetype": "text/x-python",
   "name": "python",
   "nbconvert_exporter": "python",
   "pygments_lexer": "ipython3",
   "version": "3.6.9"
  },
  "toc": {
   "base_numbering": 1,
   "nav_menu": {},
   "number_sections": true,
   "sideBar": true,
   "skip_h1_title": false,
   "title_cell": "Table of Contents",
   "title_sidebar": "Contents",
   "toc_cell": false,
   "toc_position": {
    "height": "calc(100% - 180px)",
    "left": "10px",
    "top": "150px",
    "width": "364.8px"
   },
   "toc_section_display": true,
   "toc_window_display": true
  },
  "varInspector": {
   "cols": {
    "lenName": 16,
    "lenType": 16,
    "lenVar": 40
   },
   "kernels_config": {
    "python": {
     "delete_cmd_postfix": "",
     "delete_cmd_prefix": "del ",
     "library": "var_list.py",
     "varRefreshCmd": "print(var_dic_list())"
    },
    "r": {
     "delete_cmd_postfix": ") ",
     "delete_cmd_prefix": "rm(",
     "library": "var_list.r",
     "varRefreshCmd": "cat(var_dic_list()) "
    }
   },
   "types_to_exclude": [
    "module",
    "function",
    "builtin_function_or_method",
    "instance",
    "_Feature"
   ],
   "window_display": false
  }
 },
 "nbformat": 4,
 "nbformat_minor": 2
}
