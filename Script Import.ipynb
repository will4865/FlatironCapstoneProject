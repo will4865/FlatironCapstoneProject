{
 "cells": [
  {
   "cell_type": "code",
   "execution_count": 1,
   "metadata": {
    "ExecuteTime": {
     "end_time": "2020-07-07T20:53:09.297307Z",
     "start_time": "2020-07-07T20:53:08.367685Z"
    }
   },
   "outputs": [],
   "source": [
    "import pandas as pd\n",
    "from selenium import webdriver\n",
    "from selenium.webdriver.common.keys import Keys\n",
    "import string\n",
    "import requests\n",
    "import re\n",
    "from bs4 import BeautifulSoup\n",
    "import csv"
   ]
  },
  {
   "cell_type": "code",
   "execution_count": 2,
   "metadata": {
    "ExecuteTime": {
     "end_time": "2020-07-07T20:53:41.058583Z",
     "start_time": "2020-07-07T20:53:41.019679Z"
    }
   },
   "outputs": [
    {
     "data": {
      "text/html": [
       "<div>\n",
       "<style scoped>\n",
       "    .dataframe tbody tr th:only-of-type {\n",
       "        vertical-align: middle;\n",
       "    }\n",
       "\n",
       "    .dataframe tbody tr th {\n",
       "        vertical-align: top;\n",
       "    }\n",
       "\n",
       "    .dataframe thead th {\n",
       "        text-align: right;\n",
       "    }\n",
       "</style>\n",
       "<table border=\"1\" class=\"dataframe\">\n",
       "  <thead>\n",
       "    <tr style=\"text-align: right;\">\n",
       "      <th></th>\n",
       "      <th>title</th>\n",
       "      <th>year</th>\n",
       "      <th>production_budget</th>\n",
       "      <th>domestic_gross</th>\n",
       "      <th>worldwide_gross</th>\n",
       "      <th>profit</th>\n",
       "      <th>ROI</th>\n",
       "      <th>success</th>\n",
       "    </tr>\n",
       "  </thead>\n",
       "  <tbody>\n",
       "    <tr>\n",
       "      <td>0</td>\n",
       "      <td>Avengers: Endgame</td>\n",
       "      <td>2019</td>\n",
       "      <td>400000000</td>\n",
       "      <td>858373000</td>\n",
       "      <td>2797800564</td>\n",
       "      <td>2397800564</td>\n",
       "      <td>5.99</td>\n",
       "      <td>1</td>\n",
       "    </tr>\n",
       "    <tr>\n",
       "      <td>1</td>\n",
       "      <td>Pirates of the Caribbean: On Stranger Tides</td>\n",
       "      <td>2011</td>\n",
       "      <td>379000000</td>\n",
       "      <td>241063875</td>\n",
       "      <td>1045663875</td>\n",
       "      <td>666663875</td>\n",
       "      <td>1.76</td>\n",
       "      <td>1</td>\n",
       "    </tr>\n",
       "    <tr>\n",
       "      <td>2</td>\n",
       "      <td>Avengers: Age of Ultron</td>\n",
       "      <td>2015</td>\n",
       "      <td>365000000</td>\n",
       "      <td>459005868</td>\n",
       "      <td>1396099202</td>\n",
       "      <td>1031099202</td>\n",
       "      <td>2.82</td>\n",
       "      <td>1</td>\n",
       "    </tr>\n",
       "    <tr>\n",
       "      <td>3</td>\n",
       "      <td>Star Wars Ep. VII: The Force Awakens</td>\n",
       "      <td>2015</td>\n",
       "      <td>306000000</td>\n",
       "      <td>936662225</td>\n",
       "      <td>2068223624</td>\n",
       "      <td>1762223624</td>\n",
       "      <td>5.76</td>\n",
       "      <td>1</td>\n",
       "    </tr>\n",
       "    <tr>\n",
       "      <td>4</td>\n",
       "      <td>Avengers: Infinity War</td>\n",
       "      <td>2018</td>\n",
       "      <td>300000000</td>\n",
       "      <td>678815482</td>\n",
       "      <td>2048359754</td>\n",
       "      <td>1748359754</td>\n",
       "      <td>5.83</td>\n",
       "      <td>1</td>\n",
       "    </tr>\n",
       "    <tr>\n",
       "      <td>...</td>\n",
       "      <td>...</td>\n",
       "      <td>...</td>\n",
       "      <td>...</td>\n",
       "      <td>...</td>\n",
       "      <td>...</td>\n",
       "      <td>...</td>\n",
       "      <td>...</td>\n",
       "      <td>...</td>\n",
       "    </tr>\n",
       "    <tr>\n",
       "      <td>5867</td>\n",
       "      <td>20,000 Leagues Under the Sea</td>\n",
       "      <td>2013</td>\n",
       "      <td>200000</td>\n",
       "      <td>8000000</td>\n",
       "      <td>8000000</td>\n",
       "      <td>7800000</td>\n",
       "      <td>39.00</td>\n",
       "      <td>1</td>\n",
       "    </tr>\n",
       "    <tr>\n",
       "      <td>5868</td>\n",
       "      <td>Swingers</td>\n",
       "      <td>2000</td>\n",
       "      <td>200000</td>\n",
       "      <td>4505922</td>\n",
       "      <td>6618578</td>\n",
       "      <td>6418578</td>\n",
       "      <td>32.09</td>\n",
       "      <td>1</td>\n",
       "    </tr>\n",
       "    <tr>\n",
       "      <td>5899</td>\n",
       "      <td>She's Gotta Have It</td>\n",
       "      <td>2010</td>\n",
       "      <td>175000</td>\n",
       "      <td>7137502</td>\n",
       "      <td>7137502</td>\n",
       "      <td>6962502</td>\n",
       "      <td>39.79</td>\n",
       "      <td>1</td>\n",
       "    </tr>\n",
       "    <tr>\n",
       "      <td>5908</td>\n",
       "      <td>Sweet Sweetback's Baad Asssss Song</td>\n",
       "      <td>2015</td>\n",
       "      <td>150000</td>\n",
       "      <td>15200000</td>\n",
       "      <td>15200000</td>\n",
       "      <td>15050000</td>\n",
       "      <td>100.33</td>\n",
       "      <td>1</td>\n",
       "    </tr>\n",
       "    <tr>\n",
       "      <td>5909</td>\n",
       "      <td>Once</td>\n",
       "      <td>2012</td>\n",
       "      <td>150000</td>\n",
       "      <td>9445857</td>\n",
       "      <td>23151277</td>\n",
       "      <td>23001277</td>\n",
       "      <td>153.34</td>\n",
       "      <td>1</td>\n",
       "    </tr>\n",
       "  </tbody>\n",
       "</table>\n",
       "<p>3374 rows × 8 columns</p>\n",
       "</div>"
      ],
      "text/plain": [
       "                                            title  year  production_budget  \\\n",
       "0                               Avengers: Endgame  2019          400000000   \n",
       "1     Pirates of the Caribbean: On Stranger Tides  2011          379000000   \n",
       "2                         Avengers: Age of Ultron  2015          365000000   \n",
       "3            Star Wars Ep. VII: The Force Awakens  2015          306000000   \n",
       "4                          Avengers: Infinity War  2018          300000000   \n",
       "...                                           ...   ...                ...   \n",
       "5867                 20,000 Leagues Under the Sea  2013             200000   \n",
       "5868                                     Swingers  2000             200000   \n",
       "5899                          She's Gotta Have It  2010             175000   \n",
       "5908           Sweet Sweetback's Baad Asssss Song  2015             150000   \n",
       "5909                                         Once  2012             150000   \n",
       "\n",
       "      domestic_gross  worldwide_gross      profit     ROI  success  \n",
       "0          858373000       2797800564  2397800564    5.99        1  \n",
       "1          241063875       1045663875   666663875    1.76        1  \n",
       "2          459005868       1396099202  1031099202    2.82        1  \n",
       "3          936662225       2068223624  1762223624    5.76        1  \n",
       "4          678815482       2048359754  1748359754    5.83        1  \n",
       "...              ...              ...         ...     ...      ...  \n",
       "5867         8000000          8000000     7800000   39.00        1  \n",
       "5868         4505922          6618578     6418578   32.09        1  \n",
       "5899         7137502          7137502     6962502   39.79        1  \n",
       "5908        15200000         15200000    15050000  100.33        1  \n",
       "5909         9445857         23151277    23001277  153.34        1  \n",
       "\n",
       "[3374 rows x 8 columns]"
      ]
     },
     "execution_count": 2,
     "metadata": {},
     "output_type": "execute_result"
    }
   ],
   "source": [
    "all_films = pd.read_csv('all_films.csv', index_col= 'Unnamed: 0')\n",
    "all_films"
   ]
  },
  {
   "cell_type": "code",
   "execution_count": null,
   "metadata": {
    "ExecuteTime": {
     "end_time": "2020-07-07T15:04:51.085550Z",
     "start_time": "2020-07-07T15:04:51.082496Z"
    }
   },
   "outputs": [],
   "source": [
    "#driver = webdriver.Safari()\n",
    "#driver.get(\"https://www.imsdb.com/\")\n",
    "#elem = driver.find_element_by_name(\"search_query\")\n",
    "#elem.clear()\n",
    "#elem.send_keys(\"avengers\")\n",
    "#elem.send_keys(Keys.RETURN)\n",
    "#assert \"No results found.\" not in driver.page_source\n",
    "#driver.close()"
   ]
  },
  {
   "cell_type": "code",
   "execution_count": null,
   "metadata": {
    "ExecuteTime": {
     "end_time": "2020-07-07T15:04:51.090870Z",
     "start_time": "2020-07-07T15:04:51.088500Z"
    }
   },
   "outputs": [],
   "source": [
    "alphabet_string = string.ascii_uppercase"
   ]
  },
  {
   "cell_type": "code",
   "execution_count": null,
   "metadata": {
    "ExecuteTime": {
     "end_time": "2020-07-07T15:04:51.096130Z",
     "start_time": "2020-07-07T15:04:51.093339Z"
    }
   },
   "outputs": [],
   "source": [
    "alphabet_list = list(alphabet_string)"
   ]
  },
  {
   "cell_type": "code",
   "execution_count": null,
   "metadata": {
    "ExecuteTime": {
     "end_time": "2020-07-07T15:04:51.100902Z",
     "start_time": "2020-07-07T15:04:51.098156Z"
    }
   },
   "outputs": [],
   "source": [
    "alphabet_list.append('0')"
   ]
  },
  {
   "cell_type": "code",
   "execution_count": null,
   "metadata": {
    "ExecuteTime": {
     "end_time": "2020-07-07T15:04:51.108152Z",
     "start_time": "2020-07-07T15:04:51.102766Z"
    }
   },
   "outputs": [],
   "source": [
    "script_titles = []\n",
    "def pull_script_titles(url):\n",
    "    temp_titles1 = []\n",
    "    temp_titles2 = []\n",
    "    html_page = requests.get(url)\n",
    "    soup = BeautifulSoup(html_page.content,'html.parser')\n",
    "    titles = list(soup.findAll('p'))\n",
    "    for x in titles:\n",
    "        temp_titles1.append(str(x).split('title=\"')[1])\n",
    "    for x in temp_titles1:\n",
    "        temp_titles2.append(x.split('\">')[0])\n",
    "    for x in temp_titles2:\n",
    "        script_titles.append(x.replace(' Script',''))"
   ]
  },
  {
   "cell_type": "code",
   "execution_count": null,
   "metadata": {
    "ExecuteTime": {
     "end_time": "2020-07-07T15:04:57.982635Z",
     "start_time": "2020-07-07T15:04:51.110221Z"
    }
   },
   "outputs": [],
   "source": [
    "for i in alphabet_list:\n",
    "    pull_script_titles('https://www.imsdb.com/alphabetical/{}'.format(i))"
   ]
  },
  {
   "cell_type": "code",
   "execution_count": null,
   "metadata": {
    "ExecuteTime": {
     "end_time": "2020-07-07T15:04:57.991236Z",
     "start_time": "2020-07-07T15:04:57.987677Z"
    }
   },
   "outputs": [],
   "source": [
    "len(script_titles)"
   ]
  },
  {
   "cell_type": "code",
   "execution_count": null,
   "metadata": {
    "ExecuteTime": {
     "end_time": "2020-07-07T15:04:57.999859Z",
     "start_time": "2020-07-07T15:04:57.995756Z"
    }
   },
   "outputs": [],
   "source": [
    "for x in script_titles:\n",
    "    if x[-3:] == 'The':\n",
    "        script_titles.append(str(x[-3:] + ' ' + x[:-3]).replace(', ',''))"
   ]
  },
  {
   "cell_type": "code",
   "execution_count": null,
   "metadata": {
    "ExecuteTime": {
     "end_time": "2020-07-07T15:04:58.369128Z",
     "start_time": "2020-07-07T15:04:58.002450Z"
    }
   },
   "outputs": [],
   "source": [
    "matches = []\n",
    "for x in list(all_films['title']):\n",
    "    for y in script_titles:\n",
    "        if x == y:\n",
    "            matches.append(x)"
   ]
  },
  {
   "cell_type": "code",
   "execution_count": null,
   "metadata": {
    "ExecuteTime": {
     "end_time": "2020-07-07T15:04:58.374564Z",
     "start_time": "2020-07-07T15:04:58.371271Z"
    }
   },
   "outputs": [],
   "source": [
    "len(matches)"
   ]
  },
  {
   "cell_type": "code",
   "execution_count": null,
   "metadata": {
    "ExecuteTime": {
     "end_time": "2020-07-07T15:05:00.369957Z",
     "start_time": "2020-07-07T15:05:00.344222Z"
    }
   },
   "outputs": [],
   "source": [
    "all_films['script_available_IMSDB'] = ['yes' if x in matches else 'no' for x in list(all_films['title'])]"
   ]
  },
  {
   "cell_type": "code",
   "execution_count": null,
   "metadata": {
    "ExecuteTime": {
     "end_time": "2020-07-07T15:05:00.911407Z",
     "start_time": "2020-07-07T15:05:00.905451Z"
    }
   },
   "outputs": [],
   "source": [
    "all_films['script_available_IMSDB'].value_counts()"
   ]
  },
  {
   "cell_type": "code",
   "execution_count": null,
   "metadata": {
    "ExecuteTime": {
     "end_time": "2020-07-07T15:09:03.167519Z",
     "start_time": "2020-07-07T15:09:01.677597Z"
    }
   },
   "outputs": [],
   "source": [
    "html_page = requests.get('http://www.dailyscript.com/movie.html')\n",
    "soup = BeautifulSoup(html_page.content,'html.parser')\n",
    "titles = list(soup.findAll('a'))\n",
    "daily_titles = list(titles)[8::2]"
   ]
  },
  {
   "cell_type": "code",
   "execution_count": null,
   "metadata": {
    "ExecuteTime": {
     "end_time": "2020-07-07T15:12:34.368119Z",
     "start_time": "2020-07-07T15:12:34.363679Z"
    }
   },
   "outputs": [],
   "source": [
    "str(daily_titles[0]).split('\">')[1][:-4]"
   ]
  },
  {
   "cell_type": "code",
   "execution_count": null,
   "metadata": {
    "ExecuteTime": {
     "end_time": "2020-07-07T15:12:17.972890Z",
     "start_time": "2020-07-07T15:12:17.948104Z"
    }
   },
   "outputs": [],
   "source": [
    "daily_titles"
   ]
  },
  {
   "cell_type": "code",
   "execution_count": null,
   "metadata": {
    "ExecuteTime": {
     "end_time": "2020-07-07T15:13:56.979544Z",
     "start_time": "2020-07-07T15:13:56.964116Z"
    }
   },
   "outputs": [],
   "source": [
    "new_daily_titles = []\n",
    "for x in daily_titles:\n",
    "    new_daily_titles.append(str(x).split('\">')[1][:-4])"
   ]
  },
  {
   "cell_type": "code",
   "execution_count": null,
   "metadata": {
    "ExecuteTime": {
     "end_time": "2020-07-07T15:15:35.799544Z",
     "start_time": "2020-07-07T15:15:35.795704Z"
    }
   },
   "outputs": [],
   "source": [
    "len(new_daily_titles)"
   ]
  },
  {
   "cell_type": "code",
   "execution_count": null,
   "metadata": {
    "ExecuteTime": {
     "end_time": "2020-07-07T15:15:40.082205Z",
     "start_time": "2020-07-07T15:15:39.812489Z"
    }
   },
   "outputs": [],
   "source": [
    "html_page = requests.get('http://www.dailyscript.com/movie_n-z.html')\n",
    "soup = BeautifulSoup(html_page.content,'html.parser')\n",
    "titles = list(soup.findAll('a'))\n",
    "daily_titles = list(titles)[8::2]\n",
    "for x in daily_titles:\n",
    "    new_daily_titles.append(str(x).split('\">')[1][:-4])"
   ]
  },
  {
   "cell_type": "code",
   "execution_count": null,
   "metadata": {
    "ExecuteTime": {
     "end_time": "2020-07-07T15:15:44.302878Z",
     "start_time": "2020-07-07T15:15:44.298780Z"
    }
   },
   "outputs": [],
   "source": [
    "len(new_daily_titles)"
   ]
  },
  {
   "cell_type": "code",
   "execution_count": null,
   "metadata": {
    "ExecuteTime": {
     "end_time": "2020-07-07T15:16:06.244241Z",
     "start_time": "2020-07-07T15:16:06.232757Z"
    }
   },
   "outputs": [],
   "source": [
    "new_daily_titles"
   ]
  },
  {
   "cell_type": "code",
   "execution_count": null,
   "metadata": {
    "ExecuteTime": {
     "end_time": "2020-07-07T15:16:47.784566Z",
     "start_time": "2020-07-07T15:16:47.555372Z"
    }
   },
   "outputs": [],
   "source": [
    "matches = []\n",
    "for x in list(all_films['title']):\n",
    "    for y in new_daily_titles:\n",
    "        if x == y:\n",
    "            matches.append(x)"
   ]
  },
  {
   "cell_type": "code",
   "execution_count": null,
   "metadata": {
    "ExecuteTime": {
     "end_time": "2020-07-07T15:17:05.111570Z",
     "start_time": "2020-07-07T15:17:05.107470Z"
    }
   },
   "outputs": [],
   "source": [
    "len(matches)"
   ]
  },
  {
   "cell_type": "code",
   "execution_count": null,
   "metadata": {
    "ExecuteTime": {
     "end_time": "2020-07-07T15:17:19.686408Z",
     "start_time": "2020-07-07T15:17:19.675795Z"
    }
   },
   "outputs": [],
   "source": [
    "all_films['script_available_daily_script'] = ['yes' if x in matches else 'no' for x in list(all_films['title'])]"
   ]
  },
  {
   "cell_type": "code",
   "execution_count": null,
   "metadata": {
    "ExecuteTime": {
     "end_time": "2020-07-07T15:17:34.924637Z",
     "start_time": "2020-07-07T15:17:34.918689Z"
    }
   },
   "outputs": [],
   "source": [
    "all_films['script_available_daily_script'].value_counts()"
   ]
  },
  {
   "cell_type": "code",
   "execution_count": null,
   "metadata": {
    "ExecuteTime": {
     "end_time": "2020-07-07T15:17:49.702882Z",
     "start_time": "2020-07-07T15:17:49.683732Z"
    }
   },
   "outputs": [],
   "source": [
    "all_films"
   ]
  },
  {
   "cell_type": "code",
   "execution_count": null,
   "metadata": {
    "ExecuteTime": {
     "end_time": "2020-07-07T15:37:56.344404Z",
     "start_time": "2020-07-07T15:37:54.948132Z"
    }
   },
   "outputs": [],
   "source": [
    "html_page = requests.get('http://www.moviescriptsandscreenplays.com/index.html#top')\n",
    "soup = BeautifulSoup(html_page.content,'html.parser')\n",
    "titles = list(soup.findAll('a'))\n",
    "msas_titles = list(titles)[13::6]\n",
    "msas_titles\n",
    "#print(soup)"
   ]
  },
  {
   "cell_type": "code",
   "execution_count": null,
   "metadata": {
    "ExecuteTime": {
     "end_time": "2020-07-07T15:40:12.550025Z",
     "start_time": "2020-07-07T15:40:12.539775Z"
    }
   },
   "outputs": [],
   "source": [
    "new_msas_titles = []\n",
    "for x in msas_titles:\n",
    "    new_msas_titles.append(str(x).split('\">')[1][:-4])"
   ]
  },
  {
   "cell_type": "code",
   "execution_count": null,
   "metadata": {
    "ExecuteTime": {
     "end_time": "2020-07-07T15:40:20.082628Z",
     "start_time": "2020-07-07T15:40:20.075720Z"
    }
   },
   "outputs": [],
   "source": [
    "new_msas_titles"
   ]
  },
  {
   "cell_type": "code",
   "execution_count": null,
   "metadata": {
    "ExecuteTime": {
     "end_time": "2020-07-07T15:42:20.374098Z",
     "start_time": "2020-07-07T15:42:20.299907Z"
    }
   },
   "outputs": [],
   "source": [
    "matches = []\n",
    "for x in list(all_films['title']):\n",
    "    for y in new_msas_titles:\n",
    "        if x == y:\n",
    "            matches.append(x)"
   ]
  },
  {
   "cell_type": "code",
   "execution_count": null,
   "metadata": {
    "ExecuteTime": {
     "end_time": "2020-07-07T15:42:25.188518Z",
     "start_time": "2020-07-07T15:42:25.185015Z"
    }
   },
   "outputs": [],
   "source": [
    "len(matches)"
   ]
  },
  {
   "cell_type": "code",
   "execution_count": null,
   "metadata": {
    "ExecuteTime": {
     "end_time": "2020-07-07T15:47:29.165695Z",
     "start_time": "2020-07-07T15:47:27.873704Z"
    }
   },
   "outputs": [],
   "source": [
    "html_page = requests.get('http://www.moviescriptsandscreenplays.com/movie-scripts.html')\n",
    "soup = BeautifulSoup(html_page.content,'html.parser')\n",
    "titles = list(soup.findAll('a'))\n",
    "msas_titles = list(titles)[13::6]\n",
    "msas_titles"
   ]
  },
  {
   "cell_type": "code",
   "execution_count": null,
   "metadata": {
    "ExecuteTime": {
     "end_time": "2020-07-07T15:47:45.642492Z",
     "start_time": "2020-07-07T15:47:45.631909Z"
    }
   },
   "outputs": [],
   "source": [
    "for x in msas_titles:\n",
    "    new_msas_titles.append(str(x).split('\">')[1][:-4])"
   ]
  },
  {
   "cell_type": "code",
   "execution_count": null,
   "metadata": {
    "ExecuteTime": {
     "end_time": "2020-07-07T15:48:17.330403Z",
     "start_time": "2020-07-07T15:48:15.945950Z"
    }
   },
   "outputs": [],
   "source": [
    "html_page = requests.get('http://www.moviescriptsandscreenplays.com/movie-scripts2.html')\n",
    "soup = BeautifulSoup(html_page.content,'html.parser')\n",
    "titles = list(soup.findAll('a'))\n",
    "msas_titles = list(titles)[13::6]\n",
    "msas_titles"
   ]
  },
  {
   "cell_type": "code",
   "execution_count": null,
   "metadata": {
    "ExecuteTime": {
     "end_time": "2020-07-07T15:48:29.019433Z",
     "start_time": "2020-07-07T15:48:29.009485Z"
    }
   },
   "outputs": [],
   "source": [
    "for x in msas_titles:\n",
    "    new_msas_titles.append(str(x).split('\">')[1][:-4])"
   ]
  },
  {
   "cell_type": "code",
   "execution_count": null,
   "metadata": {
    "ExecuteTime": {
     "end_time": "2020-07-07T15:48:56.211152Z",
     "start_time": "2020-07-07T15:48:56.017096Z"
    }
   },
   "outputs": [],
   "source": [
    "matches = []\n",
    "for x in list(all_films['title']):\n",
    "    for y in new_msas_titles:\n",
    "        if x == y:\n",
    "            matches.append(x)\n",
    "len(matches)"
   ]
  },
  {
   "cell_type": "code",
   "execution_count": null,
   "metadata": {
    "ExecuteTime": {
     "end_time": "2020-07-07T15:50:03.872042Z",
     "start_time": "2020-07-07T15:50:03.856857Z"
    }
   },
   "outputs": [],
   "source": [
    "all_films['script_available_msas'] = ['yes' if x in matches else 'no' for x in list(all_films['title'])]\n",
    "all_films['script_available_msas'].value_counts()"
   ]
  },
  {
   "cell_type": "code",
   "execution_count": null,
   "metadata": {
    "ExecuteTime": {
     "end_time": "2020-07-07T15:50:15.260769Z",
     "start_time": "2020-07-07T15:50:15.256841Z"
    }
   },
   "outputs": [],
   "source": [
    "len(all_films)"
   ]
  },
  {
   "cell_type": "code",
   "execution_count": null,
   "metadata": {
    "ExecuteTime": {
     "end_time": "2020-07-07T15:50:51.350296Z",
     "start_time": "2020-07-07T15:50:51.345814Z"
    }
   },
   "outputs": [],
   "source": [
    "all_films.columns"
   ]
  },
  {
   "cell_type": "code",
   "execution_count": null,
   "metadata": {
    "ExecuteTime": {
     "end_time": "2020-07-07T15:52:12.973526Z",
     "start_time": "2020-07-07T15:52:12.962964Z"
    }
   },
   "outputs": [],
   "source": [
    "len(all_films.loc[(all_films['script_available_IMSDB'] == 'yes') | (all_films['script_available_daily_script'] == 'yes')\n",
    "                 | (all_films['script_available_msas'] == 'yes')])"
   ]
  },
  {
   "cell_type": "code",
   "execution_count": null,
   "metadata": {
    "ExecuteTime": {
     "end_time": "2020-07-07T16:03:17.042940Z",
     "start_time": "2020-07-07T16:03:16.375867Z"
    }
   },
   "outputs": [],
   "source": [
    "html_page = requests.get('http://www.script-o-rama.com/table.shtml')\n",
    "soup = BeautifulSoup(html_page.content,'html.parser')\n",
    "#print(soup)\n",
    "titles = list(soup.findAll('p', align = 'LEFT'))\n",
    "titles#[::2]\n",
    "#msas_titles = list(titles)[13::6]\n",
    "#msas_titles"
   ]
  },
  {
   "cell_type": "code",
   "execution_count": null,
   "metadata": {
    "ExecuteTime": {
     "end_time": "2020-07-07T16:07:58.370358Z",
     "start_time": "2020-07-07T16:07:58.365862Z"
    }
   },
   "outputs": [],
   "source": [
    "drew_scripts = []\n",
    "temp_titles = []\n",
    "def pull_drew_scripts(url):\n",
    "    html_page = requests.get(url)\n",
    "    soup = BeautifulSoup(html_page.content, 'html.parser')\n",
    "    titles = list(soup.findAll('p', align = 'LEFT'))[::2]\n",
    "    for x in titles:\n",
    "        temp_titles.append(str(x).split('<a')[1])"
   ]
  },
  {
   "cell_type": "code",
   "execution_count": null,
   "metadata": {
    "ExecuteTime": {
     "end_time": "2020-07-07T16:07:59.882356Z",
     "start_time": "2020-07-07T16:07:59.117578Z"
    }
   },
   "outputs": [],
   "source": [
    "pull_drew_scripts('http://www.script-o-rama.com/table.shtml')"
   ]
  },
  {
   "cell_type": "code",
   "execution_count": null,
   "metadata": {
    "ExecuteTime": {
     "end_time": "2020-07-07T16:08:00.621909Z",
     "start_time": "2020-07-07T16:08:00.615009Z"
    }
   },
   "outputs": [],
   "source": [
    "temp_titles"
   ]
  },
  {
   "cell_type": "code",
   "execution_count": null,
   "metadata": {
    "ExecuteTime": {
     "end_time": "2020-07-07T17:46:58.586009Z",
     "start_time": "2020-07-07T17:46:57.512029Z"
    }
   },
   "outputs": [],
   "source": [
    "kaggle_df = pd.read_csv('moviedataset.csv', index_col='Unnamed: 0')\n",
    "kaggle_df.head()"
   ]
  },
  {
   "cell_type": "code",
   "execution_count": null,
   "metadata": {
    "ExecuteTime": {
     "end_time": "2020-07-07T17:59:12.237162Z",
     "start_time": "2020-07-07T17:59:12.233536Z"
    }
   },
   "outputs": [],
   "source": [
    "print(df['Scripts'][1])"
   ]
  },
  {
   "cell_type": "code",
   "execution_count": null,
   "metadata": {
    "ExecuteTime": {
     "end_time": "2020-07-07T17:45:14.550465Z",
     "start_time": "2020-07-07T17:45:12.450260Z"
    }
   },
   "outputs": [],
   "source": [
    "matches = []\n",
    "for x in list(all_films['title']):\n",
    "    for y in list(df['movie title']):\n",
    "        if x == y:\n",
    "            matches.append(x)\n",
    "len(matches)"
   ]
  },
  {
   "cell_type": "code",
   "execution_count": null,
   "metadata": {
    "ExecuteTime": {
     "end_time": "2020-07-07T17:48:09.645747Z",
     "start_time": "2020-07-07T17:48:09.580317Z"
    }
   },
   "outputs": [],
   "source": [
    "all_films['script_available_kaggle_df'] = ['yes' if x in matches else 'no' for x in list(all_films['title'])]\n",
    "all_films['script_available_kaggle_df'].value_counts()"
   ]
  },
  {
   "cell_type": "code",
   "execution_count": null,
   "metadata": {
    "ExecuteTime": {
     "end_time": "2020-07-07T17:53:14.438538Z",
     "start_time": "2020-07-07T17:53:14.427286Z"
    }
   },
   "outputs": [],
   "source": [
    "len(all_films.loc[(all_films['script_available_IMSDB'] == 'yes') | (all_films['script_available_daily_script'] == 'yes')\n",
    "                 | (all_films['script_available_msas'] == 'yes') | (all_films['script_available_kaggle_df'] == 'yes')])/len(all_films)"
   ]
  },
  {
   "cell_type": "code",
   "execution_count": null,
   "metadata": {
    "ExecuteTime": {
     "end_time": "2020-07-07T18:19:14.145903Z",
     "start_time": "2020-07-07T18:19:14.142787Z"
    }
   },
   "outputs": [],
   "source": [
    "f = open(\"imsdb_sample.txt\", 'r')\n",
    "reader = csv.reader(f) "
   ]
  },
  {
   "cell_type": "code",
   "execution_count": null,
   "metadata": {
    "ExecuteTime": {
     "end_time": "2020-07-07T18:30:52.693722Z",
     "start_time": "2020-07-07T18:30:52.682348Z"
    }
   },
   "outputs": [],
   "source": [
    "df_aa = pd.read_csv('AA List - Sheet1.csv')\n",
    "df_aa"
   ]
  },
  {
   "cell_type": "code",
   "execution_count": null,
   "metadata": {
    "ExecuteTime": {
     "end_time": "2020-07-07T18:30:59.196682Z",
     "start_time": "2020-07-07T18:30:58.634511Z"
    }
   },
   "outputs": [],
   "source": [
    "matches = []\n",
    "for x in list(all_films['title']):\n",
    "    for y in list(df_aa['Title']):\n",
    "        if x == y:\n",
    "            matches.append(x)\n",
    "len(matches)"
   ]
  },
  {
   "cell_type": "code",
   "execution_count": null,
   "metadata": {
    "ExecuteTime": {
     "end_time": "2020-07-07T18:31:38.081991Z",
     "start_time": "2020-07-07T18:31:38.058162Z"
    }
   },
   "outputs": [],
   "source": [
    "all_films['script_available_aa'] = ['yes' if x in matches else 'no' for x in list(all_films['title'])]\n",
    "all_films['script_available_aa'].value_counts()"
   ]
  },
  {
   "cell_type": "code",
   "execution_count": null,
   "metadata": {
    "ExecuteTime": {
     "end_time": "2020-07-07T18:36:57.555536Z",
     "start_time": "2020-07-07T18:36:57.545780Z"
    }
   },
   "outputs": [],
   "source": [
    "all_script_films = all_films.loc[(all_films['script_available_IMSDB'] == 'yes') | (all_films['script_available_daily_script'] == 'yes')\n",
    "                 | (all_films['script_available_msas'] == 'yes') | (all_films['script_available_kaggle_df'] == 'yes')\n",
    "                 | (all_films['script_available_aa'] == 'yes')]"
   ]
  },
  {
   "cell_type": "code",
   "execution_count": null,
   "metadata": {
    "ExecuteTime": {
     "end_time": "2020-07-07T19:04:37.056611Z",
     "start_time": "2020-07-07T19:04:37.052036Z"
    }
   },
   "outputs": [],
   "source": [
    "all_films_kaggle = all_script_films.loc[all_script_films['script_available_kaggle_df'] == 'yes']"
   ]
  },
  {
   "cell_type": "code",
   "execution_count": null,
   "metadata": {
    "ExecuteTime": {
     "end_time": "2020-07-07T19:04:39.301369Z",
     "start_time": "2020-07-07T19:04:39.297494Z"
    }
   },
   "outputs": [],
   "source": [
    "kaggle_df = kaggle_df[['movie title','Scripts']]"
   ]
  },
  {
   "cell_type": "code",
   "execution_count": null,
   "metadata": {
    "ExecuteTime": {
     "end_time": "2020-07-07T19:04:39.674679Z",
     "start_time": "2020-07-07T19:04:39.666280Z"
    }
   },
   "outputs": [],
   "source": [
    "kaggle_df.head()"
   ]
  },
  {
   "cell_type": "code",
   "execution_count": null,
   "metadata": {
    "ExecuteTime": {
     "end_time": "2020-07-07T20:41:50.454456Z",
     "start_time": "2020-07-07T20:41:50.414056Z"
    }
   },
   "outputs": [],
   "source": [
    "building_df = all_films_kaggle.merge(kaggle_df, left_on='title', right_on='movie title').drop_duplicates('title')\n",
    "building_df = building_df.drop(columns = 'movie title')\n",
    "building_df"
   ]
  },
  {
   "cell_type": "code",
   "execution_count": null,
   "metadata": {
    "ExecuteTime": {
     "end_time": "2020-07-07T19:28:53.851230Z",
     "start_time": "2020-07-07T19:28:53.845518Z"
    }
   },
   "outputs": [],
   "source": [
    "imsdb_df = all_films.loc[(all_films['script_available_IMSDB'] == 'yes') & (all_films['script_available_kaggle_df'] == 'no')]"
   ]
  },
  {
   "cell_type": "code",
   "execution_count": null,
   "metadata": {
    "ExecuteTime": {
     "end_time": "2020-07-07T19:30:00.299400Z",
     "start_time": "2020-07-07T19:30:00.294074Z"
    }
   },
   "outputs": [],
   "source": [
    "imsdb_df = imsdb_df.drop_duplicates('title')"
   ]
  },
  {
   "cell_type": "code",
   "execution_count": null,
   "metadata": {
    "ExecuteTime": {
     "end_time": "2020-07-07T19:30:06.153880Z",
     "start_time": "2020-07-07T19:30:06.132189Z"
    }
   },
   "outputs": [],
   "source": [
    "imsdb_df"
   ]
  },
  {
   "cell_type": "code",
   "execution_count": null,
   "metadata": {
    "ExecuteTime": {
     "end_time": "2020-07-07T20:03:07.063216Z",
     "start_time": "2020-07-07T20:03:07.058698Z"
    }
   },
   "outputs": [],
   "source": [
    "search_list_the = []\n",
    "search_list = []\n",
    "for x in list(imsdb_df['title']):\n",
    "    if x[:3] == 'The':\n",
    "        search_list_the.append((x[4:] + ', ' + x[:3]).replace(' ','-'))\n",
    "    else:\n",
    "        search_list.append(x.replace(' ','-'))"
   ]
  },
  {
   "cell_type": "code",
   "execution_count": null,
   "metadata": {
    "ExecuteTime": {
     "end_time": "2020-07-07T20:05:28.810654Z",
     "start_time": "2020-07-07T20:05:28.179577Z"
    }
   },
   "outputs": [],
   "source": [
    "html_page = requests.get('https://www.imsdb.com/scripts/Last-Samurai,-The.html')\n",
    "soup = BeautifulSoup(html_page.content,'html.parser')\n",
    "titles = list(soup.findAll('pre'))\n",
    "titles"
   ]
  },
  {
   "cell_type": "code",
   "execution_count": null,
   "metadata": {
    "ExecuteTime": {
     "end_time": "2020-07-07T20:12:33.526052Z",
     "start_time": "2020-07-07T20:12:33.522195Z"
    }
   },
   "outputs": [],
   "source": [
    "imsdb_scripts = []\n",
    "def script_pull_imsdb(url):\n",
    "    html_page = requests.get(url)\n",
    "    soup = BeautifulSoup(html_page.content, 'html.parser')\n",
    "    script = str(soup.findAll('pre'))\n",
    "    imsdb_scripts.append(script)"
   ]
  },
  {
   "cell_type": "code",
   "execution_count": null,
   "metadata": {
    "ExecuteTime": {
     "end_time": "2020-07-07T20:14:34.834282Z",
     "start_time": "2020-07-07T20:12:34.676193Z"
    }
   },
   "outputs": [],
   "source": [
    "for x in search_list:\n",
    "    script_pull_imsdb('https://www.imsdb.com/scripts/{}.html'.format(x))"
   ]
  },
  {
   "cell_type": "code",
   "execution_count": null,
   "metadata": {
    "ExecuteTime": {
     "end_time": "2020-07-07T20:15:49.072902Z",
     "start_time": "2020-07-07T20:15:49.069190Z"
    }
   },
   "outputs": [],
   "source": [
    "len(imsdb_scripts)"
   ]
  },
  {
   "cell_type": "code",
   "execution_count": null,
   "metadata": {
    "ExecuteTime": {
     "end_time": "2020-07-07T20:19:43.585610Z",
     "start_time": "2020-07-07T20:19:43.581706Z"
    }
   },
   "outputs": [],
   "source": [
    "len(search_list)"
   ]
  },
  {
   "cell_type": "code",
   "execution_count": null,
   "metadata": {
    "ExecuteTime": {
     "end_time": "2020-07-07T20:25:01.515487Z",
     "start_time": "2020-07-07T20:25:01.512456Z"
    }
   },
   "outputs": [],
   "source": [
    "full_search = dict(zip(search_list, imsdb_scripts))"
   ]
  },
  {
   "cell_type": "code",
   "execution_count": null,
   "metadata": {
    "ExecuteTime": {
     "end_time": "2020-07-07T20:25:47.441431Z",
     "start_time": "2020-07-07T20:25:47.304829Z"
    }
   },
   "outputs": [],
   "source": [
    "full_search = pd.DataFrame(full_search, index = range(1)).T"
   ]
  },
  {
   "cell_type": "code",
   "execution_count": null,
   "metadata": {
    "ExecuteTime": {
     "end_time": "2020-07-07T20:27:13.635730Z",
     "start_time": "2020-07-07T20:27:13.631310Z"
    }
   },
   "outputs": [],
   "source": [
    "full_search = full_search.rename(columns = {0:'script'})"
   ]
  },
  {
   "cell_type": "code",
   "execution_count": null,
   "metadata": {
    "ExecuteTime": {
     "end_time": "2020-07-07T20:28:05.635307Z",
     "start_time": "2020-07-07T20:28:05.631871Z"
    }
   },
   "outputs": [],
   "source": [
    "full_search = full_search.reset_index()"
   ]
  },
  {
   "cell_type": "code",
   "execution_count": null,
   "metadata": {
    "ExecuteTime": {
     "end_time": "2020-07-07T20:28:55.173005Z",
     "start_time": "2020-07-07T20:28:55.167322Z"
    }
   },
   "outputs": [],
   "source": [
    "full_search = full_search.rename(columns = {'index':'title'})"
   ]
  },
  {
   "cell_type": "code",
   "execution_count": null,
   "metadata": {
    "ExecuteTime": {
     "end_time": "2020-07-07T20:30:12.198699Z",
     "start_time": "2020-07-07T20:30:12.194592Z"
    }
   },
   "outputs": [],
   "source": [
    "missing_imsdb = full_search.loc[full_search['script'] == '[]']"
   ]
  },
  {
   "cell_type": "code",
   "execution_count": null,
   "metadata": {
    "ExecuteTime": {
     "end_time": "2020-07-07T20:30:42.035894Z",
     "start_time": "2020-07-07T20:30:42.031842Z"
    }
   },
   "outputs": [],
   "source": [
    "full_search = full_search.loc[full_search['script'] != '[]']"
   ]
  },
  {
   "cell_type": "code",
   "execution_count": null,
   "metadata": {
    "ExecuteTime": {
     "end_time": "2020-07-07T20:31:43.546723Z",
     "start_time": "2020-07-07T20:31:43.542413Z"
    }
   },
   "outputs": [],
   "source": [
    "full_search['title'] = full_search['title'].map(lambda x: x.replace('-', ' '))"
   ]
  },
  {
   "cell_type": "code",
   "execution_count": null,
   "metadata": {
    "ExecuteTime": {
     "end_time": "2020-07-07T20:33:26.858205Z",
     "start_time": "2020-07-07T20:33:26.830254Z"
    }
   },
   "outputs": [],
   "source": [
    "full_search = full_search.rename(columns = {'title':'title1'})\n",
    "full_search"
   ]
  },
  {
   "cell_type": "code",
   "execution_count": null,
   "metadata": {
    "ExecuteTime": {
     "end_time": "2020-07-07T20:39:41.462207Z",
     "start_time": "2020-07-07T20:39:41.415252Z"
    }
   },
   "outputs": [],
   "source": [
    "imsdb1 = all_films.merge(full_search, left_on='title', right_on='title1').drop_duplicates('title')\n",
    "imsdb1 = imsdb1.drop(columns = 'title1')\n",
    "imsdb1"
   ]
  },
  {
   "cell_type": "code",
   "execution_count": null,
   "metadata": {
    "ExecuteTime": {
     "end_time": "2020-07-07T20:42:57.782895Z",
     "start_time": "2020-07-07T20:42:57.755198Z"
    }
   },
   "outputs": [],
   "source": [
    "building_df = building_df.rename(columns = {'Scripts': 'script'})\n",
    "building_df"
   ]
  },
  {
   "cell_type": "code",
   "execution_count": null,
   "metadata": {
    "ExecuteTime": {
     "end_time": "2020-07-07T20:43:41.989810Z",
     "start_time": "2020-07-07T20:43:41.954064Z"
    }
   },
   "outputs": [],
   "source": [
    "building_df = pd.concat([building_df, imsdb1])\n",
    "building_df"
   ]
  },
  {
   "cell_type": "code",
   "execution_count": null,
   "metadata": {
    "ExecuteTime": {
     "end_time": "2020-07-07T20:44:55.727306Z",
     "start_time": "2020-07-07T20:44:53.242035Z"
    }
   },
   "outputs": [],
   "source": [
    "building_df.to_csv('building_csv')"
   ]
  },
  {
   "cell_type": "code",
   "execution_count": null,
   "metadata": {},
   "outputs": [],
   "source": [
    "pd.read_csv('Users')"
   ]
  }
 ],
 "metadata": {
  "kernelspec": {
   "display_name": "learn-env",
   "language": "python",
   "name": "learn-env"
  },
  "language_info": {
   "codemirror_mode": {
    "name": "ipython",
    "version": 3
   },
   "file_extension": ".py",
   "mimetype": "text/x-python",
   "name": "python",
   "nbconvert_exporter": "python",
   "pygments_lexer": "ipython3",
   "version": "3.6.9"
  },
  "varInspector": {
   "cols": {
    "lenName": 16,
    "lenType": 16,
    "lenVar": 40
   },
   "kernels_config": {
    "python": {
     "delete_cmd_postfix": "",
     "delete_cmd_prefix": "del ",
     "library": "var_list.py",
     "varRefreshCmd": "print(var_dic_list())"
    },
    "r": {
     "delete_cmd_postfix": ") ",
     "delete_cmd_prefix": "rm(",
     "library": "var_list.r",
     "varRefreshCmd": "cat(var_dic_list()) "
    }
   },
   "types_to_exclude": [
    "module",
    "function",
    "builtin_function_or_method",
    "instance",
    "_Feature"
   ],
   "window_display": false
  }
 },
 "nbformat": 4,
 "nbformat_minor": 2
}
