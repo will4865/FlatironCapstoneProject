{
 "cells": [
  {
   "cell_type": "code",
   "execution_count": 12,
   "metadata": {
    "ExecuteTime": {
     "end_time": "2020-07-06T20:35:48.735461Z",
     "start_time": "2020-07-06T20:35:48.674188Z"
    }
   },
   "outputs": [],
   "source": [
    "import pandas as pd\n",
    "from selenium import webdriver\n",
    "from selenium.webdriver.common.keys import Keys"
   ]
  },
  {
   "cell_type": "code",
   "execution_count": 11,
   "metadata": {
    "ExecuteTime": {
     "end_time": "2020-07-06T20:22:45.170640Z",
     "start_time": "2020-07-06T20:22:45.144628Z"
    }
   },
   "outputs": [
    {
     "data": {
      "text/html": [
       "<div>\n",
       "<style scoped>\n",
       "    .dataframe tbody tr th:only-of-type {\n",
       "        vertical-align: middle;\n",
       "    }\n",
       "\n",
       "    .dataframe tbody tr th {\n",
       "        vertical-align: top;\n",
       "    }\n",
       "\n",
       "    .dataframe thead th {\n",
       "        text-align: right;\n",
       "    }\n",
       "</style>\n",
       "<table border=\"1\" class=\"dataframe\">\n",
       "  <thead>\n",
       "    <tr style=\"text-align: right;\">\n",
       "      <th></th>\n",
       "      <th>title</th>\n",
       "      <th>year</th>\n",
       "      <th>production_budget</th>\n",
       "      <th>domestic_gross</th>\n",
       "      <th>worldwide_gross</th>\n",
       "      <th>profit</th>\n",
       "      <th>ROI</th>\n",
       "      <th>success</th>\n",
       "    </tr>\n",
       "  </thead>\n",
       "  <tbody>\n",
       "    <tr>\n",
       "      <td>0</td>\n",
       "      <td>Avengers: Endgame</td>\n",
       "      <td>2019</td>\n",
       "      <td>400000000</td>\n",
       "      <td>858373000</td>\n",
       "      <td>2797800564</td>\n",
       "      <td>2397800564</td>\n",
       "      <td>5.99</td>\n",
       "      <td>1</td>\n",
       "    </tr>\n",
       "    <tr>\n",
       "      <td>1</td>\n",
       "      <td>Pirates of the Caribbean: On Stranger Tides</td>\n",
       "      <td>2011</td>\n",
       "      <td>379000000</td>\n",
       "      <td>241063875</td>\n",
       "      <td>1045663875</td>\n",
       "      <td>666663875</td>\n",
       "      <td>1.76</td>\n",
       "      <td>1</td>\n",
       "    </tr>\n",
       "    <tr>\n",
       "      <td>2</td>\n",
       "      <td>Avengers: Age of Ultron</td>\n",
       "      <td>2015</td>\n",
       "      <td>365000000</td>\n",
       "      <td>459005868</td>\n",
       "      <td>1396099202</td>\n",
       "      <td>1031099202</td>\n",
       "      <td>2.82</td>\n",
       "      <td>1</td>\n",
       "    </tr>\n",
       "    <tr>\n",
       "      <td>3</td>\n",
       "      <td>Star Wars Ep. VII: The Force Awakens</td>\n",
       "      <td>2015</td>\n",
       "      <td>306000000</td>\n",
       "      <td>936662225</td>\n",
       "      <td>2068223624</td>\n",
       "      <td>1762223624</td>\n",
       "      <td>5.76</td>\n",
       "      <td>1</td>\n",
       "    </tr>\n",
       "    <tr>\n",
       "      <td>4</td>\n",
       "      <td>Avengers: Infinity War</td>\n",
       "      <td>2018</td>\n",
       "      <td>300000000</td>\n",
       "      <td>678815482</td>\n",
       "      <td>2048359754</td>\n",
       "      <td>1748359754</td>\n",
       "      <td>5.83</td>\n",
       "      <td>1</td>\n",
       "    </tr>\n",
       "    <tr>\n",
       "      <td>...</td>\n",
       "      <td>...</td>\n",
       "      <td>...</td>\n",
       "      <td>...</td>\n",
       "      <td>...</td>\n",
       "      <td>...</td>\n",
       "      <td>...</td>\n",
       "      <td>...</td>\n",
       "      <td>...</td>\n",
       "    </tr>\n",
       "    <tr>\n",
       "      <td>5867</td>\n",
       "      <td>20,000 Leagues Under the Sea</td>\n",
       "      <td>2013</td>\n",
       "      <td>200000</td>\n",
       "      <td>8000000</td>\n",
       "      <td>8000000</td>\n",
       "      <td>7800000</td>\n",
       "      <td>39.00</td>\n",
       "      <td>1</td>\n",
       "    </tr>\n",
       "    <tr>\n",
       "      <td>5868</td>\n",
       "      <td>Swingers</td>\n",
       "      <td>2000</td>\n",
       "      <td>200000</td>\n",
       "      <td>4505922</td>\n",
       "      <td>6618578</td>\n",
       "      <td>6418578</td>\n",
       "      <td>32.09</td>\n",
       "      <td>1</td>\n",
       "    </tr>\n",
       "    <tr>\n",
       "      <td>5899</td>\n",
       "      <td>She's Gotta Have It</td>\n",
       "      <td>2010</td>\n",
       "      <td>175000</td>\n",
       "      <td>7137502</td>\n",
       "      <td>7137502</td>\n",
       "      <td>6962502</td>\n",
       "      <td>39.79</td>\n",
       "      <td>1</td>\n",
       "    </tr>\n",
       "    <tr>\n",
       "      <td>5908</td>\n",
       "      <td>Sweet Sweetback's Baad Asssss Song</td>\n",
       "      <td>2015</td>\n",
       "      <td>150000</td>\n",
       "      <td>15200000</td>\n",
       "      <td>15200000</td>\n",
       "      <td>15050000</td>\n",
       "      <td>100.33</td>\n",
       "      <td>1</td>\n",
       "    </tr>\n",
       "    <tr>\n",
       "      <td>5909</td>\n",
       "      <td>Once</td>\n",
       "      <td>2012</td>\n",
       "      <td>150000</td>\n",
       "      <td>9445857</td>\n",
       "      <td>23151277</td>\n",
       "      <td>23001277</td>\n",
       "      <td>153.34</td>\n",
       "      <td>1</td>\n",
       "    </tr>\n",
       "  </tbody>\n",
       "</table>\n",
       "<p>3374 rows × 8 columns</p>\n",
       "</div>"
      ],
      "text/plain": [
       "                                            title  year  production_budget  \\\n",
       "0                               Avengers: Endgame  2019          400000000   \n",
       "1     Pirates of the Caribbean: On Stranger Tides  2011          379000000   \n",
       "2                         Avengers: Age of Ultron  2015          365000000   \n",
       "3            Star Wars Ep. VII: The Force Awakens  2015          306000000   \n",
       "4                          Avengers: Infinity War  2018          300000000   \n",
       "...                                           ...   ...                ...   \n",
       "5867                 20,000 Leagues Under the Sea  2013             200000   \n",
       "5868                                     Swingers  2000             200000   \n",
       "5899                          She's Gotta Have It  2010             175000   \n",
       "5908           Sweet Sweetback's Baad Asssss Song  2015             150000   \n",
       "5909                                         Once  2012             150000   \n",
       "\n",
       "      domestic_gross  worldwide_gross      profit     ROI  success  \n",
       "0          858373000       2797800564  2397800564    5.99        1  \n",
       "1          241063875       1045663875   666663875    1.76        1  \n",
       "2          459005868       1396099202  1031099202    2.82        1  \n",
       "3          936662225       2068223624  1762223624    5.76        1  \n",
       "4          678815482       2048359754  1748359754    5.83        1  \n",
       "...              ...              ...         ...     ...      ...  \n",
       "5867         8000000          8000000     7800000   39.00        1  \n",
       "5868         4505922          6618578     6418578   32.09        1  \n",
       "5899         7137502          7137502     6962502   39.79        1  \n",
       "5908        15200000         15200000    15050000  100.33        1  \n",
       "5909         9445857         23151277    23001277  153.34        1  \n",
       "\n",
       "[3374 rows x 8 columns]"
      ]
     },
     "execution_count": 11,
     "metadata": {},
     "output_type": "execute_result"
    }
   ],
   "source": [
    "all_films = pd.read_csv('all_films.csv', index_col= 'Unnamed: 0')\n",
    "all_films"
   ]
  },
  {
   "cell_type": "code",
   "execution_count": 17,
   "metadata": {
    "ExecuteTime": {
     "end_time": "2020-07-06T20:48:16.697874Z",
     "start_time": "2020-07-06T20:48:12.691976Z"
    }
   },
   "outputs": [],
   "source": [
    "driver = webdriver.Safari()\n",
    "driver.get(\"https://www.imsdb.com/\")\n",
    "elem = driver.find_element_by_name(\"search_query\")\n",
    "elem.clear()\n",
    "elem.send_keys(\"avengers\")\n",
    "elem.send_keys(Keys.RETURN)\n",
    "assert \"No results found.\" not in driver.page_source\n",
    "#driver.close()"
   ]
  },
  {
   "cell_type": "code",
   "execution_count": null,
   "metadata": {},
   "outputs": [],
   "source": []
  }
 ],
 "metadata": {
  "kernelspec": {
   "display_name": "learn-env",
   "language": "python",
   "name": "learn-env"
  },
  "language_info": {
   "codemirror_mode": {
    "name": "ipython",
    "version": 3
   },
   "file_extension": ".py",
   "mimetype": "text/x-python",
   "name": "python",
   "nbconvert_exporter": "python",
   "pygments_lexer": "ipython3",
   "version": "3.6.9"
  },
  "varInspector": {
   "cols": {
    "lenName": 16,
    "lenType": 16,
    "lenVar": 40
   },
   "kernels_config": {
    "python": {
     "delete_cmd_postfix": "",
     "delete_cmd_prefix": "del ",
     "library": "var_list.py",
     "varRefreshCmd": "print(var_dic_list())"
    },
    "r": {
     "delete_cmd_postfix": ") ",
     "delete_cmd_prefix": "rm(",
     "library": "var_list.r",
     "varRefreshCmd": "cat(var_dic_list()) "
    }
   },
   "types_to_exclude": [
    "module",
    "function",
    "builtin_function_or_method",
    "instance",
    "_Feature"
   ],
   "window_display": false
  }
 },
 "nbformat": 4,
 "nbformat_minor": 2
}
