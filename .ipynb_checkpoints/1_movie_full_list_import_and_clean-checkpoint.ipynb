{
 "cells": [
  {
   "cell_type": "markdown",
   "metadata": {},
   "source": [
    "# Import Libraries"
   ]
  },
  {
   "cell_type": "markdown",
   "metadata": {},
   "source": [
    "##### Imported necessary libraries to web scrape movie list from TheNumbers.com"
   ]
  },
  {
   "cell_type": "code",
   "execution_count": 127,
   "metadata": {
    "ExecuteTime": {
     "end_time": "2020-07-06T19:01:32.133800Z",
     "start_time": "2020-07-06T19:01:32.126974Z"
    }
   },
   "outputs": [],
   "source": [
    "import requests\n",
    "import pandas as pd\n",
    "from bs4 import BeautifulSoup\n",
    "from nltk.corpus import stopwords\n",
    "import re\n",
    "from nltk import word_tokenize, FreqDist\n",
    "import string\n",
    "from nltk.stem import WordNetLemmatizer\n",
    "import matplotlib.pyplot as plt\n",
    "import numpy as np\n",
    "%matplotlib inline\n",
    "pd.set_option('display.max_columns', 500)\n",
    "pd.set_option('display.max_rows', 500)"
   ]
  },
  {
   "cell_type": "markdown",
   "metadata": {},
   "source": [
    "# Function Engineering"
   ]
  },
  {
   "cell_type": "code",
   "execution_count": 3,
   "metadata": {
    "ExecuteTime": {
     "end_time": "2020-07-16T14:26:34.859050Z",
     "start_time": "2020-07-16T14:26:34.851290Z"
    }
   },
   "outputs": [],
   "source": [
    "def get_tn(url):\n",
    "    '''automates pull of release_date, title, production_budget, dom_box_office, and worldwide_box_office\n",
    "    \n",
    "    url: url of  thenumbers.com page that lists relevant info for web scraping\n",
    "        example: https://www.the-numbers.com/movie/budgets/all'''\n",
    "    html_page = requests.get(url)\n",
    "    soup = BeautifulSoup(html_page.content,'html.parser')\n",
    "    titles = soup.findAll('td')\n",
    "    new_test_entry = list(titles)\n",
    "    final_release_dates = new_test_entry[1:][::3][::2]\n",
    "    for x in final_release_dates:\n",
    "        new_final_release_dates.append(str(x).split('\">')[1][:-9])\n",
    "    final_titles = new_test_entry[2:][::3][::2]\n",
    "    for x in final_titles:\n",
    "        new_final_titles.append(str(x).split('=summary\">')[1][:-13])\n",
    "    final_prod_bud = new_test_entry[3:][::3][::2]\n",
    "    for x in final_prod_bud:\n",
    "        new_final_prod_bud.append(str(x).split('$')[1][:-5])\n",
    "    final_dom_gross = new_test_entry[4:][::3][::2]\n",
    "    for x in final_dom_gross:\n",
    "        new_final_dom_gross.append(str(x).split('$')[1][:-5])\n",
    "    final_world_gross = new_test_entry[5:][::3][::2]\n",
    "    for x in final_world_gross:\n",
    "        new_final_world_gross.append(str(x).split('$')[1][:-5])"
   ]
  },
  {
   "cell_type": "markdown",
   "metadata": {},
   "source": [
    "# Web Scraping w/ Beautiful Soup"
   ]
  },
  {
   "cell_type": "markdown",
   "metadata": {},
   "source": [
    "## Test w/ Beautiful Soup"
   ]
  },
  {
   "cell_type": "markdown",
   "metadata": {},
   "source": [
    "##### The first step will be to web scrape for a complete list of films released in theaters over the last 20 years, along with their release dates, budgets, and domestic/worldwide gross. I will be using data pulled from TheNumbers.com and will only be including movies released (or re-released in theaters) after 2000 with budget numbers available. \n",
    "\n",
    "##### Used Beautiful Soup to scrape test page for movie titles, release dates, budgets, domestic gross, and worldwide gross"
   ]
  },
  {
   "cell_type": "code",
   "execution_count": 43,
   "metadata": {
    "ExecuteTime": {
     "end_time": "2020-07-06T18:20:21.412656Z",
     "start_time": "2020-07-06T18:20:20.988126Z"
    },
    "scrolled": true
   },
   "outputs": [
    {
     "data": {
      "text/plain": [
       "[<td class=\"data\">1</td>,\n",
       " <td><a href=\"/box-office-chart/daily/2019/04/23\">Apr 23, 2019</a></td>,\n",
       " <td><b><a href=\"/movie/Avengers-Endgame-(2019)#tab=summary\">Avengers: Endgame</a></b></td>,\n",
       " <td class=\"data\"> $400,000,000</td>,\n",
       " <td class=\"data\"> $858,373,000</td>,\n",
       " <td class=\"data\"> $2,797,800,564</td>,\n",
       " <td class=\"data\">2</td>,\n",
       " <td><a href=\"/box-office-chart/daily/2011/05/20\">May 20, 2011</a></td>,\n",
       " <td><b><a href=\"/movie/Pirates-of-the-Caribbean-On-Stranger-Tides#tab=summary\">Pirates of the Caribbean: On Stranger Tides</a></b></td>,\n",
       " <td class=\"data\"> $379,000,000</td>,\n",
       " <td class=\"data\"> $241,063,875</td>,\n",
       " <td class=\"data\"> $1,045,663,875</td>,\n",
       " <td class=\"data\">3</td>,\n",
       " <td><a href=\"/box-office-chart/daily/2015/04/22\">Apr 22, 2015</a></td>,\n",
       " <td><b><a href=\"/movie/Avengers-Age-of-Ultron#tab=summary\">Avengers: Age of Ultron</a></b></td>,\n",
       " <td class=\"data\"> $365,000,000</td>,\n",
       " <td class=\"data\"> $459,005,868</td>,\n",
       " <td class=\"data\"> $1,396,099,202</td>,\n",
       " <td class=\"data\">4</td>,\n",
       " <td><a href=\"/box-office-chart/daily/2015/12/16\">Dec 16, 2015</a></td>,\n",
       " <td><b><a href=\"/movie/Star-Wars-Ep-VII-The-Force-Awakens#tab=summary\">Star Wars Ep. VII: The Force Awakens</a></b></td>,\n",
       " <td class=\"data\"> $306,000,000</td>,\n",
       " <td class=\"data\"> $936,662,225</td>,\n",
       " <td class=\"data\"> $2,068,223,624</td>,\n",
       " <td class=\"data\">5</td>,\n",
       " <td><a href=\"/box-office-chart/daily/2018/04/25\">Apr 25, 2018</a></td>,\n",
       " <td><b><a href=\"/movie/Avengers-Infinity-War#tab=summary\">Avengers: Infinity War</a></b></td>,\n",
       " <td class=\"data\"> $300,000,000</td>,\n",
       " <td class=\"data\"> $678,815,482</td>,\n",
       " <td class=\"data\"> $2,048,359,754</td>,\n",
       " <td class=\"data\">6</td>,\n",
       " <td><a href=\"/box-office-chart/daily/2007/05/24\">May 24, 2007</a></td>,\n",
       " <td><b><a href=\"/movie/Pirates-of-the-Caribbean-At-Worlds-End#tab=summary\">Pirates of the Caribbean: At Worldâs End</a></b></td>,\n",
       " <td class=\"data\"> $300,000,000</td>,\n",
       " <td class=\"data\"> $309,420,425</td>,\n",
       " <td class=\"data\"> $963,420,425</td>,\n",
       " <td class=\"data\">7</td>,\n",
       " <td><a href=\"/box-office-chart/daily/2017/11/13\">Nov 13, 2017</a></td>,\n",
       " <td><b><a href=\"/movie/Justice-League-(2017)#tab=summary\">Justice League</a></b></td>,\n",
       " <td class=\"data\"> $300,000,000</td>,\n",
       " <td class=\"data\"> $229,024,295</td>,\n",
       " <td class=\"data\"> $655,945,209</td>,\n",
       " <td class=\"data\">8</td>,\n",
       " <td><a href=\"/box-office-chart/daily/2015/10/06\">Oct 6, 2015</a></td>,\n",
       " <td><b><a href=\"/movie/Spectre#tab=summary\">Spectre</a></b></td>,\n",
       " <td class=\"data\"> $300,000,000</td>,\n",
       " <td class=\"data\"> $200,074,175</td>,\n",
       " <td class=\"data\"> $879,620,923</td>,\n",
       " <td class=\"data\">9</td>,\n",
       " <td><a href=\"/box-office-chart/daily/2019/12/18\">Dec 18, 2019</a></td>,\n",
       " <td><b><a href=\"/movie/Star-Wars-The-Rise-of-Skywalker-(2019)#tab=summary\">Star Wars: The Rise of Skywalker</a></b></td>,\n",
       " <td class=\"data\"> $275,000,000</td>,\n",
       " <td class=\"data\"> $515,202,542</td>,\n",
       " <td class=\"data\"> $1,073,469,600</td>,\n",
       " <td class=\"data\">10</td>,\n",
       " <td><a href=\"/box-office-chart/daily/2018/05/23\">May 23, 2018</a></td>,\n",
       " <td><b><a href=\"/movie/Solo-A-Star-Wars-Story#tab=summary\">Solo: A Star Wars Story</a></b></td>,\n",
       " <td class=\"data\"> $275,000,000</td>,\n",
       " <td class=\"data\"> $213,767,512</td>,\n",
       " <td class=\"data\"> $393,151,347</td>,\n",
       " <td class=\"data\">11</td>,\n",
       " <td><a href=\"/box-office-chart/daily/2012/03/07\">Mar 7, 2012</a></td>,\n",
       " <td><b><a href=\"/movie/John-Carter-of-Mars#tab=summary\">John Carter</a></b></td>,\n",
       " <td class=\"data\"> $263,700,000</td>,\n",
       " <td class=\"data\"> $73,058,679</td>,\n",
       " <td class=\"data\"> $282,778,100</td>,\n",
       " <td class=\"data\">12</td>,\n",
       " <td><a href=\"/box-office-chart/daily/2016/03/23\">Mar 23, 2016</a></td>,\n",
       " <td><b><a href=\"/movie/Batman-v-Superman-Dawn-of-Justice#tab=summary\">Batman v Superman: Dawn of Justice</a></b></td>,\n",
       " <td class=\"data\"> $263,000,000</td>,\n",
       " <td class=\"data\"> $330,360,194</td>,\n",
       " <td class=\"data\"> $872,395,091</td>,\n",
       " <td class=\"data\">13</td>,\n",
       " <td><a href=\"/box-office-chart/daily/2019/07/11\">Jul 11, 2019</a></td>,\n",
       " <td><b><a href=\"/movie/Lion-King-The-(Live-Action)-(2019)#tab=summary\">The Lion King</a></b></td>,\n",
       " <td class=\"data\"> $260,000,000</td>,\n",
       " <td class=\"data\"> $543,638,043</td>,\n",
       " <td class=\"data\"> $1,656,943,394</td>,\n",
       " <td class=\"data\">14</td>,\n",
       " <td><a href=\"/box-office-chart/daily/2010/11/24\">Nov 24, 2010</a></td>,\n",
       " <td><b><a href=\"/movie/Tangled#tab=summary\">Tangled</a></b></td>,\n",
       " <td class=\"data\"> $260,000,000</td>,\n",
       " <td class=\"data\"> $200,821,936</td>,\n",
       " <td class=\"data\"> $585,727,091</td>,\n",
       " <td class=\"data\">15</td>,\n",
       " <td><a href=\"/box-office-chart/daily/2007/05/04\">May 4, 2007</a></td>,\n",
       " <td><b><a href=\"/movie/Spider-Man-3#tab=summary\">Spider-Man 3</a></b></td>,\n",
       " <td class=\"data\"> $258,000,000</td>,\n",
       " <td class=\"data\"> $336,530,303</td>,\n",
       " <td class=\"data\"> $894,860,230</td>,\n",
       " <td class=\"data\">16</td>,\n",
       " <td><a href=\"/box-office-chart/daily/2016/04/22\">Apr 22, 2016</a></td>,\n",
       " <td><b><a href=\"/movie/Captain-America-Civil-War#tab=summary\">Captain America: Civil War</a></b></td>,\n",
       " <td class=\"data\"> $250,000,000</td>,\n",
       " <td class=\"data\"> $408,084,349</td>,\n",
       " <td class=\"data\"> $1,153,284,349</td>,\n",
       " <td class=\"data\">17</td>,\n",
       " <td><a href=\"/box-office-chart/daily/2009/07/15\">Jul 15, 2009</a></td>,\n",
       " <td><b><a href=\"/movie/Harry-Potter-and-the-Half-Blood-Prince#tab=summary\">Harry Potter and the Half-Blood Prince</a></b></td>,\n",
       " <td class=\"data\"> $250,000,000</td>,\n",
       " <td class=\"data\"> $302,089,278</td>,\n",
       " <td class=\"data\"> $935,213,767</td>,\n",
       " <td class=\"data\">18</td>,\n",
       " <td><a href=\"/box-office-chart/daily/2013/12/13\">Dec 13, 2013</a></td>,\n",
       " <td><b><a href=\"/movie/Hobbit-The-Desolation-of-Smaug-The#tab=summary\">The Hobbit: The Desolation of Smaug</a></b></td>,\n",
       " <td class=\"data\"> $250,000,000</td>,\n",
       " <td class=\"data\"> $258,241,522</td>,\n",
       " <td class=\"data\"> $960,241,522</td>,\n",
       " <td class=\"data\">19</td>,\n",
       " <td><a href=\"/box-office-chart/daily/2014/12/10\">Dec 10, 2014</a></td>,\n",
       " <td><b><a href=\"/movie/Hobbit-The-Battle-of-the-Five-Armies-The#tab=summary\">The Hobbit: The Battle of the Five Armies</a></b></td>,\n",
       " <td class=\"data\"> $250,000,000</td>,\n",
       " <td class=\"data\"> $255,119,788</td>,\n",
       " <td class=\"data\"> $945,577,621</td>,\n",
       " <td class=\"data\">20</td>,\n",
       " <td><a href=\"/box-office-chart/daily/2017/04/07\">Apr 7, 2017</a></td>,\n",
       " <td><b><a href=\"/movie/Fate-of-the-Furious-The#tab=summary\">The Fate of the Furious</a></b></td>,\n",
       " <td class=\"data\"> $250,000,000</td>,\n",
       " <td class=\"data\"> $225,764,765</td>,\n",
       " <td class=\"data\"> $1,238,764,765</td>,\n",
       " <td class=\"data\">21</td>,\n",
       " <td><a href=\"/box-office-chart/daily/2020/11/12\">Nov 12, 2020</a></td>,\n",
       " <td><b><a href=\"/movie/No-Time-to-Die#tab=summary\">No Time to Die</a></b></td>,\n",
       " <td class=\"data\"> $250,000,000</td>,\n",
       " <td class=\"data\"> $0</td>,\n",
       " <td class=\"data\"> $0</td>,\n",
       " <td class=\"data\">22</td>,\n",
       " <td><a href=\"/box-office-chart/daily/2009/12/17\">Dec 17, 2009</a></td>,\n",
       " <td><b><a href=\"/movie/Avatar#tab=summary\">Avatar</a></b></td>,\n",
       " <td class=\"data\"> $237,000,000</td>,\n",
       " <td class=\"data\"> $760,507,625</td>,\n",
       " <td class=\"data\"> $2,788,701,337</td>,\n",
       " <td class=\"data\">23</td>,\n",
       " <td><a href=\"/box-office-chart/daily/2006/06/28\">Jun 28, 2006</a></td>,\n",
       " <td><b><a href=\"/movie/Superman-Returns#tab=summary\">Superman Returns</a></b></td>,\n",
       " <td class=\"data\"> $232,000,000</td>,\n",
       " <td class=\"data\"> $200,120,000</td>,\n",
       " <td class=\"data\"> $391,081,192</td>,\n",
       " <td class=\"data\">24</td>,\n",
       " <td><a href=\"/box-office-chart/daily/2012/07/19\">Jul 19, 2012</a></td>,\n",
       " <td><b><a href=\"/movie/Dark-Knight-Rises-The#tab=summary\">The Dark Knight Rises</a></b></td>,\n",
       " <td class=\"data\"> $230,000,000</td>,\n",
       " <td class=\"data\"> $448,139,099</td>,\n",
       " <td class=\"data\"> $1,084,439,099</td>,\n",
       " <td class=\"data\">25</td>,\n",
       " <td><a href=\"/box-office-chart/daily/2017/05/23\">May 23, 2017</a></td>,\n",
       " <td><b><a href=\"/movie/Pirates-of-the-Caribbean-Dead-Men-Tell-No-Tales#tab=summary\">Pirates of the Caribbean: Dead Men Tell No Tales</a></b></td>,\n",
       " <td class=\"data\"> $230,000,000</td>,\n",
       " <td class=\"data\"> $172,558,876</td>,\n",
       " <td class=\"data\"> $788,241,137</td>,\n",
       " <td class=\"data\">26</td>,\n",
       " <td><a href=\"/box-office-chart/daily/2008/11/14\">Nov 14, 2008</a></td>,\n",
       " <td><b><a href=\"/movie/Quantum-of-Solace#tab=summary\">Quantum of Solace</a></b></td>,\n",
       " <td class=\"data\"> $230,000,000</td>,\n",
       " <td class=\"data\"> $169,368,427</td>,\n",
       " <td class=\"data\"> $591,692,078</td>,\n",
       " <td class=\"data\">27</td>,\n",
       " <td><a href=\"/box-office-chart/daily/2012/04/25\">Apr 25, 2012</a></td>,\n",
       " <td><b><a href=\"/movie/Avengers-The-(2012)#tab=summary\">The Avengers</a></b></td>,\n",
       " <td class=\"data\"> $225,000,000</td>,\n",
       " <td class=\"data\"> $623,357,910</td>,\n",
       " <td class=\"data\"> $1,515,100,211</td>,\n",
       " <td class=\"data\">28</td>,\n",
       " <td><a href=\"/box-office-chart/daily/2006/07/07\">Jul 7, 2006</a></td>,\n",
       " <td><b><a href=\"/movie/Pirates-of-the-Caribbean-Dead-Mans-Chest#tab=summary\">Pirates of the Caribbean: Dead Manâs Chest</a></b></td>,\n",
       " <td class=\"data\"> $225,000,000</td>,\n",
       " <td class=\"data\"> $423,315,812</td>,\n",
       " <td class=\"data\"> $1,066,215,812</td>,\n",
       " <td class=\"data\">29</td>,\n",
       " <td><a href=\"/box-office-chart/daily/2013/06/14\">Jun 14, 2013</a></td>,\n",
       " <td><b><a href=\"/movie/Man-of-Steel#tab=summary\">Man of Steel</a></b></td>,\n",
       " <td class=\"data\"> $225,000,000</td>,\n",
       " <td class=\"data\"> $291,045,518</td>,\n",
       " <td class=\"data\"> $667,999,518</td>,\n",
       " <td class=\"data\">30</td>,\n",
       " <td><a href=\"/box-office-chart/daily/2008/05/16\">May 16, 2008</a></td>,\n",
       " <td><b><a href=\"/movie/Chronicles-of-Narnia-Prince-Caspian-The#tab=summary\">The Chronicles of Narnia: Prince Caspian</a></b></td>,\n",
       " <td class=\"data\"> $225,000,000</td>,\n",
       " <td class=\"data\"> $141,621,490</td>,\n",
       " <td class=\"data\"> $417,341,288</td>,\n",
       " <td class=\"data\">31</td>,\n",
       " <td><a href=\"/box-office-chart/daily/2013/07/02\">Jul 2, 2013</a></td>,\n",
       " <td><b><a href=\"/movie/Lone-Ranger-The#tab=summary\">The Lone Ranger</a></b></td>,\n",
       " <td class=\"data\"> $225,000,000</td>,\n",
       " <td class=\"data\"> $89,302,115</td>,\n",
       " <td class=\"data\"> $260,002,115</td>,\n",
       " <td class=\"data\">32</td>,\n",
       " <td><a href=\"/box-office-chart/daily/2020/07/17\">Jul 17, 2020</a></td>,\n",
       " <td><b><a href=\"/movie/Tenet-(2020)#tab=summary\">Tenet</a></b></td>,\n",
       " <td class=\"data\"> $224,000,000</td>,\n",
       " <td class=\"data\"> $0</td>,\n",
       " <td class=\"data\"> $0</td>,\n",
       " <td class=\"data\">33</td>,\n",
       " <td><a href=\"/box-office-chart/daily/2012/06/27\">Jun 27, 2012</a></td>,\n",
       " <td><b><a href=\"/movie/Amazing-Spider-Man-The#tab=summary\">The Amazing Spider-Man</a></b></td>,\n",
       " <td class=\"data\"> $220,000,000</td>,\n",
       " <td class=\"data\"> $262,030,663</td>,\n",
       " <td class=\"data\"> $757,890,267</td>,\n",
       " <td class=\"data\">34</td>,\n",
       " <td><a href=\"/box-office-chart/daily/2012/04/11\">Apr 11, 2012</a></td>,\n",
       " <td><b><a href=\"/movie/Battleship#tab=summary\">Battleship</a></b></td>,\n",
       " <td class=\"data\"> $220,000,000</td>,\n",
       " <td class=\"data\"> $65,233,400</td>,\n",
       " <td class=\"data\"> $313,477,717</td>,\n",
       " <td class=\"data\">35</td>,\n",
       " <td><a href=\"/box-office-chart/daily/2017/06/20\">Jun 20, 2017</a></td>,\n",
       " <td><b><a href=\"/movie/Transformers-The-Last-Knight#tab=summary\">Transformers: The Last Knight</a></b></td>,\n",
       " <td class=\"data\"> $217,000,000</td>,\n",
       " <td class=\"data\"> $130,168,683</td>,\n",
       " <td class=\"data\"> $602,893,340</td>,\n",
       " <td class=\"data\">36</td>,\n",
       " <td><a href=\"/box-office-chart/daily/2015/06/09\">Jun 9, 2015</a></td>,\n",
       " <td><b><a href=\"/movie/Jurassic-World#tab=summary\">Jurassic World</a></b></td>,\n",
       " <td class=\"data\"> $215,000,000</td>,\n",
       " <td class=\"data\"> $652,270,625</td>,\n",
       " <td class=\"data\"> $1,670,400,637</td>,\n",
       " <td class=\"data\">37</td>,\n",
       " <td><a href=\"/box-office-chart/daily/2012/05/23\">May 23, 2012</a></td>,\n",
       " <td><b><a href=\"/movie/Men-in-Black-3#tab=summary\">Men in Black 3</a></b></td>,\n",
       " <td class=\"data\"> $215,000,000</td>,\n",
       " <td class=\"data\"> $179,020,854</td>,\n",
       " <td class=\"data\"> $654,213,485</td>,\n",
       " <td class=\"data\">38</td>,\n",
       " <td><a href=\"/box-office-chart/daily/2009/06/24\">Jun 24, 2009</a></td>,\n",
       " <td><b><a href=\"/movie/Transformers-Revenge-of-the-Fallen#tab=summary\">Transformers: Revenge of the Fallen</a></b></td>,\n",
       " <td class=\"data\"> $210,000,000</td>,\n",
       " <td class=\"data\"> $402,111,870</td>,\n",
       " <td class=\"data\"> $836,519,699</td>,\n",
       " <td class=\"data\">39</td>,\n",
       " <td><a href=\"/box-office-chart/daily/2014/06/25\">Jun 25, 2014</a></td>,\n",
       " <td><b><a href=\"/movie/Transformers-Age-of-Extinction#tab=summary\">Transformers: Age of Extinction</a></b></td>,\n",
       " <td class=\"data\"> $210,000,000</td>,\n",
       " <td class=\"data\"> $245,439,076</td>,\n",
       " <td class=\"data\"> $1,104,054,072</td>,\n",
       " <td class=\"data\">40</td>,\n",
       " <td><a href=\"/box-office-chart/daily/2006/05/26\">May 26, 2006</a></td>,\n",
       " <td><b><a href=\"/movie/X-Men-The-Last-Stand#tab=summary\">X-Men: The Last Stand</a></b></td>,\n",
       " <td class=\"data\"> $210,000,000</td>,\n",
       " <td class=\"data\"> $234,362,462</td>,\n",
       " <td class=\"data\"> $459,260,946</td>,\n",
       " <td class=\"data\">41</td>,\n",
       " <td><a href=\"/box-office-chart/daily/2010/05/14\">May 14, 2010</a></td>,\n",
       " <td><b><a href=\"/movie/Robin-Hood-(2010)#tab=summary\">Robin Hood</a></b></td>,\n",
       " <td class=\"data\"> $210,000,000</td>,\n",
       " <td class=\"data\"> $105,487,148</td>,\n",
       " <td class=\"data\"> $322,459,006</td>,\n",
       " <td class=\"data\">42</td>,\n",
       " <td><a href=\"/box-office-chart/daily/2005/12/14\">Dec 14, 2005</a></td>,\n",
       " <td><b><a href=\"/movie/King-Kong-(2005)#tab=summary\">King Kong</a></b></td>,\n",
       " <td class=\"data\"> $207,000,000</td>,\n",
       " <td class=\"data\"> $218,080,025</td>,\n",
       " <td class=\"data\"> $550,517,357</td>,\n",
       " <td class=\"data\">43</td>,\n",
       " <td><a href=\"/box-office-chart/daily/2007/12/07\">Dec 7, 2007</a></td>,\n",
       " <td><b><a href=\"/movie/His-Dark-Materials-The-Golden-Compass#tab=summary\">The Golden Compass</a></b></td>,\n",
       " <td class=\"data\"> $205,000,000</td>,\n",
       " <td class=\"data\"> $70,107,728</td>,\n",
       " <td class=\"data\"> $367,262,558</td>,\n",
       " <td class=\"data\">44</td>,\n",
       " <td><a href=\"/box-office-chart/daily/2018/02/13\">Feb 13, 2018</a></td>,\n",
       " <td><b><a href=\"/movie/Black-Panther#tab=summary\">Black Panther</a></b></td>,\n",
       " <td class=\"data\"> $200,000,000</td>,\n",
       " <td class=\"data\"> $700,059,566</td>,\n",
       " <td class=\"data\"> $1,346,103,376</td>,\n",
       " <td class=\"data\">45</td>,\n",
       " <td><a href=\"/box-office-chart/daily/1997/12/19\">Dec 19, 1997</a></td>,\n",
       " <td><b><a href=\"/movie/Titanic-(1997)#tab=summary\">Titanic</a></b></td>,\n",
       " <td class=\"data\"> $200,000,000</td>,\n",
       " <td class=\"data\"> $659,363,944</td>,\n",
       " <td class=\"data\"> $2,208,208,395</td>,\n",
       " <td class=\"data\">46</td>,\n",
       " <td><a href=\"/box-office-chart/daily/2017/12/13\">Dec 13, 2017</a></td>,\n",
       " <td><b><a href=\"/movie/Star-Wars-Ep-VIII-The-Last-Jedi#tab=summary\">Star Wars Ep. VIII: The Last Jedi</a></b></td>,\n",
       " <td class=\"data\"> $200,000,000</td>,\n",
       " <td class=\"data\"> $620,181,382</td>,\n",
       " <td class=\"data\"> $1,332,539,889</td>,\n",
       " <td class=\"data\">47</td>,\n",
       " <td><a href=\"/box-office-chart/daily/2018/06/15\">Jun 15, 2018</a></td>,\n",
       " <td><b><a href=\"/movie/Incredibles-2#tab=summary\">Incredibles 2</a></b></td>,\n",
       " <td class=\"data\"> $200,000,000</td>,\n",
       " <td class=\"data\"> $608,581,744</td>,\n",
       " <td class=\"data\"> $1,242,805,359</td>,\n",
       " <td class=\"data\">48</td>,\n",
       " <td><a href=\"/box-office-chart/daily/2016/12/14\">Dec 14, 2016</a></td>,\n",
       " <td><b><a href=\"/movie/Rogue-One-A-Star-Wars-Story#tab=summary\">Rogue One: A Star Wars Story</a></b></td>,\n",
       " <td class=\"data\"> $200,000,000</td>,\n",
       " <td class=\"data\"> $532,177,324</td>,\n",
       " <td class=\"data\"> $1,056,057,273</td>,\n",
       " <td class=\"data\">49</td>,\n",
       " <td><a href=\"/box-office-chart/daily/2016/06/16\">Jun 16, 2016</a></td>,\n",
       " <td><b><a href=\"/movie/Finding-Dory#tab=summary\">Finding Dory</a></b></td>,\n",
       " <td class=\"data\"> $200,000,000</td>,\n",
       " <td class=\"data\"> $486,295,561</td>,\n",
       " <td class=\"data\"> $1,025,363,627</td>,\n",
       " <td class=\"data\">50</td>,\n",
       " <td><a href=\"/box-office-chart/daily/2019/06/20\">Jun 20, 2019</a></td>,\n",
       " <td><b><a href=\"/movie/Toy-Story-4-(2019)#tab=summary\">Toy Story 4</a></b></td>,\n",
       " <td class=\"data\"> $200,000,000</td>,\n",
       " <td class=\"data\"> $434,038,008</td>,\n",
       " <td class=\"data\"> $1,073,394,813</td>,\n",
       " <td class=\"data\">51</td>,\n",
       " <td><a href=\"/box-office-chart/daily/2010/06/18\">Jun 18, 2010</a></td>,\n",
       " <td><b><a href=\"/movie/Toy-Story-3#tab=summary\">Toy Story 3</a></b></td>,\n",
       " <td class=\"data\"> $200,000,000</td>,\n",
       " <td class=\"data\"> $415,004,880</td>,\n",
       " <td class=\"data\"> $1,068,879,522</td>,\n",
       " <td class=\"data\">52</td>,\n",
       " <td><a href=\"/box-office-chart/daily/2013/04/24\">Apr 24, 2013</a></td>,\n",
       " <td><b><a href=\"/movie/Iron-Man-3#tab=summary\">Iron Man 3</a></b></td>,\n",
       " <td class=\"data\"> $200,000,000</td>,\n",
       " <td class=\"data\"> $408,992,272</td>,\n",
       " <td class=\"data\"> $1,215,392,272</td>,\n",
       " <td class=\"data\">53</td>,\n",
       " <td><a href=\"/box-office-chart/daily/2017/04/28\">Apr 28, 2017</a></td>,\n",
       " <td><b><a href=\"/movie/Guardians-of-the-Galaxy-Vol-2#tab=summary\">Guardians of the Galaxy Vol 2</a></b></td>,\n",
       " <td class=\"data\"> $200,000,000</td>,\n",
       " <td class=\"data\"> $389,813,101</td>,\n",
       " <td class=\"data\"> $869,113,101</td>,\n",
       " <td class=\"data\">54</td>,\n",
       " <td><a href=\"/box-office-chart/daily/2004/06/30\">Jun 30, 2004</a></td>,\n",
       " <td><b><a href=\"/movie/Spider-Man-2#tab=summary\">Spider-Man 2</a></b></td>,\n",
       " <td class=\"data\"> $200,000,000</td>,\n",
       " <td class=\"data\"> $373,524,485</td>,\n",
       " <td class=\"data\"> $794,697,557</td>,\n",
       " <td class=\"data\">55</td>,\n",
       " <td><a href=\"/box-office-chart/daily/2010/03/05\">Mar 5, 2010</a></td>,\n",
       " <td><b><a href=\"/movie/Alice-in-Wonderland-(2010)#tab=summary\">Alice in Wonderland</a></b></td>,\n",
       " <td class=\"data\"> $200,000,000</td>,\n",
       " <td class=\"data\"> $334,191,110</td>,\n",
       " <td class=\"data\"> $1,025,491,110</td>,\n",
       " <td class=\"data\">56</td>,\n",
       " <td><a href=\"/box-office-chart/daily/2012/10/26\">Oct 26, 2012</a></td>,\n",
       " <td><b><a href=\"/movie/Skyfall#tab=summary\">Skyfall</a></b></td>,\n",
       " <td class=\"data\"> $200,000,000</td>,\n",
       " <td class=\"data\"> $304,360,277</td>,\n",
       " <td class=\"data\"> $1,110,526,981</td>,\n",
       " <td class=\"data\">57</td>,\n",
       " <td><a href=\"/box-office-chart/daily/2012/12/11\">Dec 11, 2012</a></td>,\n",
       " <td><b><a href=\"/movie/Hobbit-An-Unexpected-Journey-The#tab=summary\">The Hobbit: An Unexpected Journey</a></b></td>,\n",
       " <td class=\"data\"> $200,000,000</td>,\n",
       " <td class=\"data\"> $303,003,568</td>,\n",
       " <td class=\"data\"> $1,017,003,568</td>,\n",
       " <td class=\"data\">58</td>,\n",
       " <td><a href=\"/box-office-chart/daily/2013/06/21\">Jun 21, 2013</a></td>,\n",
       " <td><b><a href=\"/movie/Monsters-University#tab=summary\">Monsters University</a></b></td>,\n",
       " <td class=\"data\"> $200,000,000</td>,\n",
       " <td class=\"data\"> $268,488,329</td>,\n",
       " <td class=\"data\"> $743,588,329</td>,\n",
       " <td class=\"data\">59</td>,\n",
       " <td><a href=\"/box-office-chart/daily/2013/03/08\">Mar 8, 2013</a></td>,\n",
       " <td><b><a href=\"/movie/Oz-The-Great-and-Powerful#tab=summary\">Oz the Great and Powerful</a></b></td>,\n",
       " <td class=\"data\"> $200,000,000</td>,\n",
       " <td class=\"data\"> $234,770,996</td>,\n",
       " <td class=\"data\"> $490,359,051</td>,\n",
       " <td class=\"data\">60</td>,\n",
       " <td><a href=\"/box-office-chart/daily/2014/05/21\">May 21, 2014</a></td>,\n",
       " <td><b><a href=\"/movie/X-Men-Days-of-Future-Past#tab=summary\">X-Men: Days of Future Past</a></b></td>,\n",
       " <td class=\"data\"> $200,000,000</td>,\n",
       " <td class=\"data\"> $233,921,534</td>,\n",
       " <td class=\"data\"> $747,862,775</td>,\n",
       " <td class=\"data\">61</td>,\n",
       " <td><a href=\"/box-office-chart/daily/2014/04/16\">Apr 16, 2014</a></td>,\n",
       " <td><b><a href=\"/movie/Amazing-Spider-Man-2-The#tab=summary\">The Amazing Spider-Man 2</a></b></td>,\n",
       " <td class=\"data\"> $200,000,000</td>,\n",
       " <td class=\"data\"> $202,853,933</td>,\n",
       " <td class=\"data\"> $708,996,336</td>,\n",
       " <td class=\"data\">62</td>,\n",
       " <td><a href=\"/box-office-chart/daily/2011/06/23\">Jun 23, 2011</a></td>,\n",
       " <td><b><a href=\"/movie/Cars-2#tab=summary\">Cars 2</a></b></td>,\n",
       " <td class=\"data\"> $200,000,000</td>,\n",
       " <td class=\"data\"> $191,450,875</td>,\n",
       " <td class=\"data\"> $560,155,383</td>,\n",
       " <td class=\"data\">63</td>,\n",
       " <td><a href=\"/box-office-chart/daily/2019/07/31\">Jul 31, 2019</a></td>,\n",
       " <td><b><a href=\"/movie/Fast-and-Furious-Presents-Hobbs-and-Shaw-(2019)#tab=summary\">Fast &amp; Furious Presents: Hobbs &amp; Shaw</a></b></td>,\n",
       " <td class=\"data\"> $200,000,000</td>,\n",
       " <td class=\"data\"> $173,956,935</td>,\n",
       " <td class=\"data\"> $760,574,453</td>,\n",
       " <td class=\"data\">64</td>,\n",
       " <td><a href=\"/box-office-chart/daily/2010/12/17\">Dec 17, 2010</a></td>,\n",
       " <td><b><a href=\"/movie/Tron-Legacy#tab=summary\">Tron: Legacy</a></b></td>,\n",
       " <td class=\"data\"> $200,000,000</td>,\n",
       " <td class=\"data\"> $172,062,763</td>,\n",
       " <td class=\"data\"> $400,062,763</td>,\n",
       " <td class=\"data\">65</td>,\n",
       " <td><a href=\"/box-office-chart/daily/2009/11/12\">Nov 12, 2009</a></td>,\n",
       " <td><b><a href=\"/movie/2012#tab=summary\">2012</a></b></td>,\n",
       " <td class=\"data\"> $200,000,000</td>,\n",
       " <td class=\"data\"> $166,112,167</td>,\n",
       " <td class=\"data\"> $757,677,748</td>,\n",
       " <td class=\"data\">66</td>,\n",
       " <td><a href=\"/box-office-chart/daily/2018/11/14\">Nov 14, 2018</a></td>,\n",
       " <td><b><a href=\"/movie/Fantastic-Beasts-The-Crimes-of-Grindelwald-(2018)#tab=summary\">Fantastic Beasts: The Crimes of Grindelwald</a></b></td>,\n",
       " <td class=\"data\"> $200,000,000</td>,\n",
       " <td class=\"data\"> $159,555,901</td>,\n",
       " <td class=\"data\"> $652,220,086</td>,\n",
       " <td class=\"data\">67</td>,\n",
       " <td><a href=\"/box-office-chart/daily/2009/05/21\">May 21, 2009</a></td>,\n",
       " <td><b><a href=\"/movie/Terminator-Salvation#tab=summary\">Terminator Salvation</a></b></td>,\n",
       " <td class=\"data\"> $200,000,000</td>,\n",
       " <td class=\"data\"> $125,322,469</td>,\n",
       " <td class=\"data\"> $365,491,792</td>,\n",
       " <td class=\"data\">68</td>,\n",
       " <td><a href=\"/box-office-chart/daily/2011/06/17\">Jun 17, 2011</a></td>,\n",
       " <td><b><a href=\"/movie/Green-Lantern-(2011)#tab=summary\">Green Lantern</a></b></td>,\n",
       " <td class=\"data\"> $200,000,000</td>,\n",
       " <td class=\"data\"> $116,601,172</td>,\n",
       " <td class=\"data\"> $219,535,492</td>,\n",
       " <td class=\"data\">69</td>,\n",
       " <td><a href=\"/box-office-chart/daily/2010/05/28\">May 28, 2010</a></td>,\n",
       " <td><b><a href=\"/movie/Prince-of-Persia-Sands-of-Time#tab=summary\">Prince of Persia: Sands of Time</a></b></td>,\n",
       " <td class=\"data\"> $200,000,000</td>,\n",
       " <td class=\"data\"> $90,759,676</td>,\n",
       " <td class=\"data\"> $336,359,676</td>,\n",
       " <td class=\"data\">70</td>,\n",
       " <td><a href=\"/box-office-chart/daily/2019/06/05\">Jun 5, 2019</a></td>,\n",
       " <td><b><a href=\"/movie/Dark-Phoenix-(2019)#tab=summary\">Dark Phoenix</a></b></td>,\n",
       " <td class=\"data\"> $200,000,000</td>,\n",
       " <td class=\"data\"> $65,845,974</td>,\n",
       " <td class=\"data\"> $246,356,895</td>,\n",
       " <td class=\"data\">71</td>,\n",
       " <td><a href=\"/box-office-chart/daily/2011/06/29\">Jun 29, 2011</a></td>,\n",
       " <td><b><a href=\"/movie/Transformers-Dark-of-the-Moon#tab=summary\">Transformers: Dark of the Moon</a></b></td>,\n",
       " <td class=\"data\"> $195,000,000</td>,\n",
       " <td class=\"data\"> $352,390,543</td>,\n",
       " <td class=\"data\"> $1,123,794,079</td>,\n",
       " <td class=\"data\">72</td>,\n",
       " <td><a href=\"/box-office-chart/daily/2017/06/02\">Jun 2, 2017</a></td>,\n",
       " <td><b><a href=\"/movie/Mummy-The-(2017)#tab=summary\">The Mummy</a></b></td>,\n",
       " <td class=\"data\"> $195,000,000</td>,\n",
       " <td class=\"data\"> $80,101,125</td>,\n",
       " <td class=\"data\"> $409,953,905</td>,\n",
       " <td class=\"data\">73</td>,\n",
       " <td><a href=\"/box-office-chart/daily/2013/02/27\">Feb 27, 2013</a></td>,\n",
       " <td><b><a href=\"/movie/Jack-the-Giant-Slayer#tab=summary\">Jack the Giant Slayer</a></b></td>,\n",
       " <td class=\"data\"> $195,000,000</td>,\n",
       " <td class=\"data\"> $65,187,603</td>,\n",
       " <td class=\"data\"> $197,687,603</td>,\n",
       " <td class=\"data\">74</td>,\n",
       " <td><a href=\"/box-office-chart/daily/2015/04/01\">Apr 1, 2015</a></td>,\n",
       " <td><b><a href=\"/movie/Furious-7#tab=summary\">Furious 7</a></b></td>,\n",
       " <td class=\"data\"> $190,000,000</td>,\n",
       " <td class=\"data\"> $353,007,020</td>,\n",
       " <td class=\"data\"> $1,518,722,794</td>,\n",
       " <td class=\"data\">75</td>,\n",
       " <td><a href=\"/box-office-chart/daily/2013/05/16\">May 16, 2013</a></td>,\n",
       " <td><b><a href=\"/movie/Star-Trek-Into-Darkness#tab=summary\">Star Trek Into Darkness</a></b></td>,\n",
       " <td class=\"data\"> $190,000,000</td>,\n",
       " <td class=\"data\"> $228,778,661</td>,\n",
       " <td class=\"data\"> $467,381,584</td>,\n",
       " <td class=\"data\">76</td>,\n",
       " <td><a href=\"/box-office-chart/daily/2013/06/19\">Jun 19, 2013</a></td>,\n",
       " <td><b><a href=\"/movie/World-War-Z#tab=summary\">World War Z</a></b></td>,\n",
       " <td class=\"data\"> $190,000,000</td>,\n",
       " <td class=\"data\"> $202,359,711</td>,\n",
       " <td class=\"data\"> $531,514,650</td>,\n",
       " <td class=\"data\">77</td>,\n",
       " <td><a href=\"/box-office-chart/daily/2013/05/10\">May 10, 2013</a></td>,\n",
       " <td><b><a href=\"/movie/Great-Gatsby-The-(2011)#tab=summary\">The Great Gatsby</a></b></td>,\n",
       " <td class=\"data\"> $190,000,000</td>,\n",
       " <td class=\"data\"> $144,840,419</td>,\n",
       " <td class=\"data\"> $353,640,419</td>,\n",
       " <td class=\"data\">78</td>,\n",
       " <td><a href=\"/box-office-chart/daily/2009/11/06\">Nov 6, 2009</a></td>,\n",
       " <td><b><a href=\"/movie/Disneys-A-Christmas-Carol#tab=summary\">Disneyâs A Christmas Carol</a></b></td>,\n",
       " <td class=\"data\"> $190,000,000</td>,\n",
       " <td class=\"data\"> $137,855,863</td>,\n",
       " <td class=\"data\"> $315,709,697</td>,\n",
       " <td class=\"data\">79</td>,\n",
       " <td><a href=\"/box-office-chart/daily/2013/07/11\">Jul 11, 2013</a></td>,\n",
       " <td><b><a href=\"/movie/Pacific-Rim#tab=summary\">Pacific Rim</a></b></td>,\n",
       " <td class=\"data\"> $190,000,000</td>,\n",
       " <td class=\"data\"> $101,802,906</td>,\n",
       " <td class=\"data\"> $411,002,906</td>,\n",
       " <td class=\"data\">80</td>,\n",
       " <td><a href=\"/box-office-chart/daily/2015/11/25\">Nov 25, 2015</a></td>,\n",
       " <td><b><a href=\"/movie/Good-Dinosaur-The#tab=summary\">The Good Dinosaur</a></b></td>,\n",
       " <td class=\"data\"> $187,500,000</td>,\n",
       " <td class=\"data\"> $123,087,120</td>,\n",
       " <td class=\"data\"> $333,771,037</td>,\n",
       " <td class=\"data\">81</td>,\n",
       " <td><a href=\"/box-office-chart/daily/2008/05/02\">May 2, 2008</a></td>,\n",
       " <td><b><a href=\"/movie/Iron-Man#tab=summary\">Iron Man</a></b></td>,\n",
       " <td class=\"data\"> $186,000,000</td>,\n",
       " <td class=\"data\"> $318,604,126</td>,\n",
       " <td class=\"data\"> $585,171,547</td>,\n",
       " <td class=\"data\">82</td>,\n",
       " <td><a href=\"/box-office-chart/daily/2008/07/18\">Jul 18, 2008</a></td>,\n",
       " <td><b><a href=\"/movie/Dark-Knight-The#tab=summary\">The Dark Knight</a></b></td>,\n",
       " <td class=\"data\"> $185,000,000</td>,\n",
       " <td class=\"data\"> $533,720,947</td>,\n",
       " <td class=\"data\"> $1,001,996,207</td>,\n",
       " <td class=\"data\">83</td>,\n",
       " <td><a href=\"/box-office-chart/daily/2008/05/22\">May 22, 2008</a></td>,\n",
       " <td><b><a href=\"/movie/Indiana-Jones-and-the-Kingdom-of-the-Crystal-Skull#tab=summary\">Indiana Jones and the Kingdom of the Crystal Skull</a></b></td>,\n",
       " <td class=\"data\"> $185,000,000</td>,\n",
       " <td class=\"data\"> $317,101,119</td>,\n",
       " <td class=\"data\"> $786,635,413</td>,\n",
       " <td class=\"data\">84</td>,\n",
       " <td><a href=\"/box-office-chart/daily/2012/06/21\">Jun 21, 2012</a></td>,\n",
       " <td><b><a href=\"/movie/Brave#tab=summary\">Brave</a></b></td>,\n",
       " <td class=\"data\"> $185,000,000</td>,\n",
       " <td class=\"data\"> $237,282,182</td>,\n",
       " <td class=\"data\"> $554,606,532</td>,\n",
       " <td class=\"data\">85</td>,\n",
       " <td><a href=\"/box-office-chart/daily/2017/02/23\">Feb 23, 2017</a></td>,\n",
       " <td><b><a href=\"/movie/Kong-Skull-Island#tab=summary\">Kong: Skull Island</a></b></td>,\n",
       " <td class=\"data\"> $185,000,000</td>,\n",
       " <td class=\"data\"> $168,052,812</td>,\n",
       " <td class=\"data\"> $561,072,059</td>,\n",
       " <td class=\"data\">86</td>,\n",
       " <td><a href=\"/box-office-chart/daily/2016/07/21\">Jul 21, 2016</a></td>,\n",
       " <td><b><a href=\"/movie/Star-Trek-Beyond#tab=summary\">Star Trek Beyond</a></b></td>,\n",
       " <td class=\"data\"> $185,000,000</td>,\n",
       " <td class=\"data\"> $158,848,340</td>,\n",
       " <td class=\"data\"> $335,802,233</td>,\n",
       " <td class=\"data\">87</td>,\n",
       " <td><a href=\"/box-office-chart/daily/2019/10/17\">Oct 17, 2019</a></td>,\n",
       " <td><b><a href=\"/movie/Maleficent-Mistress-of-Evil-(2019)#tab=summary\">Maleficent: Mistress of Evil</a></b></td>,\n",
       " <td class=\"data\"> $185,000,000</td>,\n",
       " <td class=\"data\"> $113,929,605</td>,\n",
       " <td class=\"data\"> $489,346,495</td>,\n",
       " <td class=\"data\">88</td>,\n",
       " <td><a href=\"/box-office-chart/daily/2017/09/29\">Sep 29, 2017</a></td>,\n",
       " <td><b><a href=\"/movie/Blade-Runner-2049#tab=summary\">Blade Runner 2049</a></b></td>,\n",
       " <td class=\"data\"> $185,000,000</td>,\n",
       " <td class=\"data\"> $92,054,159</td>,\n",
       " <td class=\"data\"> $259,349,919</td>,\n",
       " <td class=\"data\">89</td>,\n",
       " <td><a href=\"/box-office-chart/daily/2019/10/25\">Oct 25, 2019</a></td>,\n",
       " <td><b><a href=\"/movie/Terminator-Dark-Fate-(2019)#tab=summary\">Terminator: Dark Fate</a></b></td>,\n",
       " <td class=\"data\"> $185,000,000</td>,\n",
       " <td class=\"data\"> $62,253,077</td>,\n",
       " <td class=\"data\"> $250,372,367</td>,\n",
       " <td class=\"data\">90</td>,\n",
       " <td><a href=\"/box-office-chart/daily/2019/05/22\">May 22, 2019</a></td>,\n",
       " <td><b><a href=\"/movie/Aladdin-(2019)#tab=summary\">Aladdin</a></b></td>,\n",
       " <td class=\"data\"> $182,000,000</td>,\n",
       " <td class=\"data\"> $355,559,216</td>,\n",
       " <td class=\"data\"> $1,050,959,216</td>,\n",
       " <td class=\"data\">91</td>,\n",
       " <td><a href=\"/box-office-chart/daily/2017/10/25\">Oct 25, 2017</a></td>,\n",
       " <td><b><a href=\"/movie/Thor-Ragnarok#tab=summary\">Thor: Ragnarok</a></b></td>,\n",
       " <td class=\"data\"> $180,000,000</td>,\n",
       " <td class=\"data\"> $315,058,289</td>,\n",
       " <td class=\"data\"> $853,958,289</td>,\n",
       " <td class=\"data\">92</td>,\n",
       " <td><a href=\"/box-office-chart/daily/2005/12/09\">Dec 9, 2005</a></td>,\n",
       " <td><b><a href=\"/movie/Chronicles-of-Narnia-The-Lion-the-Witch-and-the-Wardrobe-The#tab=summary\">The Chronicles of Narnia: The Lion, the Witch a…</a></b></td>,\n",
       " <td class=\"data\"> $180,000,000</td>,\n",
       " <td class=\"data\"> $291,710,957</td>,\n",
       " <td class=\"data\"> $720,539,572</td>,\n",
       " <td class=\"data\">93</td>,\n",
       " <td><a href=\"/box-office-chart/daily/2014/05/28\">May 28, 2014</a></td>,\n",
       " <td><b><a href=\"/movie/Maleficent#tab=summary\">Maleficent</a></b></td>,\n",
       " <td class=\"data\"> $180,000,000</td>,\n",
       " <td class=\"data\"> $241,407,328</td>,\n",
       " <td class=\"data\"> $758,536,735</td>,\n",
       " <td class=\"data\">94</td>,\n",
       " <td><a href=\"/box-office-chart/daily/2016/11/14\">Nov 14, 2016</a></td>,\n",
       " <td><b><a href=\"/movie/Fantastic-Beasts-and-Where-to-Find-Them#tab=summary\">Fantastic Beasts and Where to Find Them</a></b></td>,\n",
       " <td class=\"data\"> $180,000,000</td>,\n",
       " <td class=\"data\"> $234,037,575</td>,\n",
       " <td class=\"data\"> $814,037,575</td>,\n",
       " <td class=\"data\">95</td>,\n",
       " <td><a href=\"/box-office-chart/daily/2008/06/27\">Jun 27, 2008</a></td>,\n",
       " <td><b><a href=\"/movie/WALL-E#tab=summary\">WALL-E</a></b></td>,\n",
       " <td class=\"data\"> $180,000,000</td>,\n",
       " <td class=\"data\"> $223,808,164</td>,\n",
       " <td class=\"data\"> $532,508,025</td>,\n",
       " <td class=\"data\">96</td>,\n",
       " <td><a href=\"/box-office-chart/daily/2007/08/10\">Aug 10, 2007</a></td>,\n",
       " <td><b><a href=\"/movie/Rush-Hour-3#tab=summary\">Rush Hour 3</a></b></td>,\n",
       " <td class=\"data\"> $180,000,000</td>,\n",
       " <td class=\"data\"> $140,125,968</td>,\n",
       " <td class=\"data\"> $256,585,882</td>,\n",
       " <td class=\"data\">97</td>,\n",
       " <td><a href=\"/box-office-chart/daily/2016/06/27\">Jun 27, 2016</a></td>,\n",
       " <td><b><a href=\"/movie/Legend-of-Tarzan-The#tab=summary\">The Legend of Tarzan</a></b></td>,\n",
       " <td class=\"data\"> $180,000,000</td>,\n",
       " <td class=\"data\"> $126,643,061</td>,\n",
       " <td class=\"data\"> $348,902,025</td>,\n",
       " <td class=\"data\">98</td>,\n",
       " <td><a href=\"/box-office-chart/daily/2011/11/23\">Nov 23, 2011</a></td>,\n",
       " <td><b><a href=\"/movie/Hugo#tab=summary\">Hugo</a></b></td>,\n",
       " <td class=\"data\"> $180,000,000</td>,\n",
       " <td class=\"data\"> $73,864,507</td>,\n",
       " <td class=\"data\"> $180,047,784</td>,\n",
       " <td class=\"data\">99</td>,\n",
       " <td><a href=\"/box-office-chart/daily/2017/07/20\">Jul 20, 2017</a></td>,\n",
       " <td><b><a href=\"/movie/Valerian-and-the-City-of-a-Thousand-Planets-(France)#tab=summary\">Valerian and the City of a Thousand Planets</a></b></td>,\n",
       " <td class=\"data\"> $180,000,000</td>,\n",
       " <td class=\"data\"> $40,479,370</td>,\n",
       " <td class=\"data\"> $215,098,356</td>,\n",
       " <td class=\"data\">100</td>,\n",
       " <td><a href=\"/box-office-chart/daily/2015/02/06\">Feb 6, 2015</a></td>,\n",
       " <td><b><a href=\"/movie/Jupiter-Ascending#tab=summary\">Jupiter Ascending</a></b></td>,\n",
       " <td class=\"data\"> $179,000,000</td>,\n",
       " <td class=\"data\"> $47,482,519</td>,\n",
       " <td class=\"data\"> $181,982,519</td>]"
      ]
     },
     "execution_count": 43,
     "metadata": {},
     "output_type": "execute_result"
    }
   ],
   "source": [
    "url = 'https://www.the-numbers.com/movie/budgets/all'\n",
    "html_page = requests.get(url)\n",
    "soup = BeautifulSoup(html_page.content,'html.parser')\n",
    "titles = soup.findAll('td')\n",
    "new_test_entry = list(titles)\n",
    "new_test_entry"
   ]
  },
  {
   "cell_type": "code",
   "execution_count": 78,
   "metadata": {
    "ExecuteTime": {
     "end_time": "2020-07-06T18:32:28.301028Z",
     "start_time": "2020-07-06T18:32:28.297997Z"
    }
   },
   "outputs": [],
   "source": [
    "final_release_dates = new_test_entry[1:][::3][::2]"
   ]
  },
  {
   "cell_type": "markdown",
   "metadata": {},
   "source": [
    "##### Wrote For Loop to extract just the release dates for test page"
   ]
  },
  {
   "cell_type": "code",
   "execution_count": 79,
   "metadata": {
    "ExecuteTime": {
     "end_time": "2020-07-06T18:32:29.320624Z",
     "start_time": "2020-07-06T18:32:29.314022Z"
    }
   },
   "outputs": [],
   "source": [
    "new_final_release_dates = []\n",
    "for x in final_release_dates:\n",
    "    new_final_release_dates.append(str(x).split('\">')[1][:-9])"
   ]
  },
  {
   "cell_type": "code",
   "execution_count": 80,
   "metadata": {
    "ExecuteTime": {
     "end_time": "2020-07-06T18:32:29.821816Z",
     "start_time": "2020-07-06T18:32:29.817848Z"
    }
   },
   "outputs": [
    {
     "data": {
      "text/plain": [
       "100"
      ]
     },
     "execution_count": 80,
     "metadata": {},
     "output_type": "execute_result"
    }
   ],
   "source": [
    "len(new_final_release_dates)"
   ]
  },
  {
   "cell_type": "markdown",
   "metadata": {},
   "source": [
    "##### Wrote For Loop to extract just the movie titles for test page"
   ]
  },
  {
   "cell_type": "code",
   "execution_count": 89,
   "metadata": {
    "ExecuteTime": {
     "end_time": "2020-07-06T18:38:11.249626Z",
     "start_time": "2020-07-06T18:38:11.241250Z"
    }
   },
   "outputs": [
    {
     "data": {
      "text/plain": [
       "100"
      ]
     },
     "execution_count": 89,
     "metadata": {},
     "output_type": "execute_result"
    }
   ],
   "source": [
    "final_titles = new_test_entry[2:][::3][::2]\n",
    "new_final_titles = []\n",
    "for x in final_titles:\n",
    "    new_final_titles.append(str(x).split('=summary\">')[1][:-13])\n",
    "len(new_final_titles)"
   ]
  },
  {
   "cell_type": "markdown",
   "metadata": {},
   "source": [
    "##### Wrote For Loop to extract just the production budgets for test page"
   ]
  },
  {
   "cell_type": "code",
   "execution_count": 97,
   "metadata": {
    "ExecuteTime": {
     "end_time": "2020-07-06T18:41:31.448589Z",
     "start_time": "2020-07-06T18:41:31.441276Z"
    }
   },
   "outputs": [
    {
     "data": {
      "text/plain": [
       "100"
      ]
     },
     "execution_count": 97,
     "metadata": {},
     "output_type": "execute_result"
    }
   ],
   "source": [
    "final_prod_bud = new_test_entry[3:][::3][::2]\n",
    "new_final_prod_bud = []\n",
    "for x in final_prod_bud:\n",
    "    new_final_prod_bud.append(str(x).split('$')[1][:-5])\n",
    "len(new_final_prod_bud)"
   ]
  },
  {
   "cell_type": "markdown",
   "metadata": {},
   "source": [
    "##### Wrote For Loop to extract just the domestic box office gross for test page"
   ]
  },
  {
   "cell_type": "code",
   "execution_count": 102,
   "metadata": {
    "ExecuteTime": {
     "end_time": "2020-07-06T18:43:15.432696Z",
     "start_time": "2020-07-06T18:43:15.425303Z"
    }
   },
   "outputs": [
    {
     "data": {
      "text/plain": [
       "100"
      ]
     },
     "execution_count": 102,
     "metadata": {},
     "output_type": "execute_result"
    }
   ],
   "source": [
    "final_dom_gross = new_test_entry[4:][::3][::2]\n",
    "new_final_dom_gross = []\n",
    "for x in final_dom_gross:\n",
    "    new_final_dom_gross.append(str(x).split('$')[1][:-5])\n",
    "len(new_final_dom_gross)"
   ]
  },
  {
   "cell_type": "markdown",
   "metadata": {},
   "source": [
    "##### Wrote For Loop to extract just the worldwide box office gross for test page"
   ]
  },
  {
   "cell_type": "code",
   "execution_count": 106,
   "metadata": {
    "ExecuteTime": {
     "end_time": "2020-07-06T18:44:30.367506Z",
     "start_time": "2020-07-06T18:44:30.360482Z"
    }
   },
   "outputs": [
    {
     "data": {
      "text/plain": [
       "100"
      ]
     },
     "execution_count": 106,
     "metadata": {},
     "output_type": "execute_result"
    }
   ],
   "source": [
    "final_world_gross = new_test_entry[5:][::3][::2]\n",
    "new_final_world_gross = []\n",
    "for x in final_world_gross:\n",
    "    new_final_world_gross.append(str(x).split('$')[1][:-5])\n",
    "len(new_final_world_gross)"
   ]
  },
  {
   "cell_type": "markdown",
   "metadata": {},
   "source": [
    "##### Put together all data scraped into one data frame and renamed the colums"
   ]
  },
  {
   "cell_type": "code",
   "execution_count": 117,
   "metadata": {
    "ExecuteTime": {
     "end_time": "2020-07-06T18:51:19.960360Z",
     "start_time": "2020-07-06T18:51:19.935994Z"
    }
   },
   "outputs": [
    {
     "data": {
      "text/html": [
       "<div>\n",
       "<style scoped>\n",
       "    .dataframe tbody tr th:only-of-type {\n",
       "        vertical-align: middle;\n",
       "    }\n",
       "\n",
       "    .dataframe tbody tr th {\n",
       "        vertical-align: top;\n",
       "    }\n",
       "\n",
       "    .dataframe thead th {\n",
       "        text-align: right;\n",
       "    }\n",
       "</style>\n",
       "<table border=\"1\" class=\"dataframe\">\n",
       "  <thead>\n",
       "    <tr style=\"text-align: right;\">\n",
       "      <th></th>\n",
       "      <th>0</th>\n",
       "      <th>1</th>\n",
       "      <th>2</th>\n",
       "      <th>3</th>\n",
       "      <th>4</th>\n",
       "    </tr>\n",
       "  </thead>\n",
       "  <tbody>\n",
       "    <tr>\n",
       "      <td>0</td>\n",
       "      <td>Apr 23, 2019</td>\n",
       "      <td>Avengers: Endgame</td>\n",
       "      <td>[ $400,000,000]</td>\n",
       "      <td>858,373,000</td>\n",
       "      <td>2,797,800,564</td>\n",
       "    </tr>\n",
       "    <tr>\n",
       "      <td>1</td>\n",
       "      <td>May 20, 2011</td>\n",
       "      <td>Pirates of the Caribbean: On Stranger Tides</td>\n",
       "      <td>[ $379,000,000]</td>\n",
       "      <td>241,063,875</td>\n",
       "      <td>1,045,663,875</td>\n",
       "    </tr>\n",
       "    <tr>\n",
       "      <td>2</td>\n",
       "      <td>Apr 22, 2015</td>\n",
       "      <td>Avengers: Age of Ultron</td>\n",
       "      <td>[ $365,000,000]</td>\n",
       "      <td>459,005,868</td>\n",
       "      <td>1,396,099,202</td>\n",
       "    </tr>\n",
       "    <tr>\n",
       "      <td>3</td>\n",
       "      <td>Dec 16, 2015</td>\n",
       "      <td>Star Wars Ep. VII: The Force Awakens</td>\n",
       "      <td>[ $306,000,000]</td>\n",
       "      <td>936,662,225</td>\n",
       "      <td>2,068,223,624</td>\n",
       "    </tr>\n",
       "    <tr>\n",
       "      <td>4</td>\n",
       "      <td>Apr 25, 2018</td>\n",
       "      <td>Avengers: Infinity War</td>\n",
       "      <td>[ $300,000,000]</td>\n",
       "      <td>678,815,482</td>\n",
       "      <td>2,048,359,754</td>\n",
       "    </tr>\n",
       "  </tbody>\n",
       "</table>\n",
       "</div>"
      ],
      "text/plain": [
       "              0                                            1                2  \\\n",
       "0  Apr 23, 2019                            Avengers: Endgame  [ $400,000,000]   \n",
       "1  May 20, 2011  Pirates of the Caribbean: On Stranger Tides  [ $379,000,000]   \n",
       "2  Apr 22, 2015                      Avengers: Age of Ultron  [ $365,000,000]   \n",
       "3  Dec 16, 2015         Star Wars Ep. VII: The Force Awakens  [ $306,000,000]   \n",
       "4  Apr 25, 2018                       Avengers: Infinity War  [ $300,000,000]   \n",
       "\n",
       "             3              4  \n",
       "0  858,373,000  2,797,800,564  \n",
       "1  241,063,875  1,045,663,875  \n",
       "2  459,005,868  1,396,099,202  \n",
       "3  936,662,225  2,068,223,624  \n",
       "4  678,815,482  2,048,359,754  "
      ]
     },
     "execution_count": 117,
     "metadata": {},
     "output_type": "execute_result"
    }
   ],
   "source": [
    "all_films_df = pd.DataFrame([new_final_release_dates, new_final_titles, final_prod_bud, \n",
    "                             new_final_dom_gross, new_final_world_gross]).T\n",
    "all_films_df.head()"
   ]
  },
  {
   "cell_type": "code",
   "execution_count": 119,
   "metadata": {
    "ExecuteTime": {
     "end_time": "2020-07-06T18:52:00.640619Z",
     "start_time": "2020-07-06T18:52:00.636238Z"
    }
   },
   "outputs": [],
   "source": [
    "all_films_df.rename(columns = {0:'release_date',1:'title',2:'production_budget',3:'domestic_gross',\n",
    "                               4:'worldwide_gross'}, inplace=True)"
   ]
  },
  {
   "cell_type": "code",
   "execution_count": 120,
   "metadata": {
    "ExecuteTime": {
     "end_time": "2020-07-06T18:52:07.819414Z",
     "start_time": "2020-07-06T18:52:07.808019Z"
    }
   },
   "outputs": [
    {
     "data": {
      "text/html": [
       "<div>\n",
       "<style scoped>\n",
       "    .dataframe tbody tr th:only-of-type {\n",
       "        vertical-align: middle;\n",
       "    }\n",
       "\n",
       "    .dataframe tbody tr th {\n",
       "        vertical-align: top;\n",
       "    }\n",
       "\n",
       "    .dataframe thead th {\n",
       "        text-align: right;\n",
       "    }\n",
       "</style>\n",
       "<table border=\"1\" class=\"dataframe\">\n",
       "  <thead>\n",
       "    <tr style=\"text-align: right;\">\n",
       "      <th></th>\n",
       "      <th>release_date</th>\n",
       "      <th>title</th>\n",
       "      <th>production_budget</th>\n",
       "      <th>domestic_gross</th>\n",
       "      <th>worldwide_gross</th>\n",
       "    </tr>\n",
       "  </thead>\n",
       "  <tbody>\n",
       "    <tr>\n",
       "      <td>0</td>\n",
       "      <td>Apr 23, 2019</td>\n",
       "      <td>Avengers: Endgame</td>\n",
       "      <td>[ $400,000,000]</td>\n",
       "      <td>858,373,000</td>\n",
       "      <td>2,797,800,564</td>\n",
       "    </tr>\n",
       "    <tr>\n",
       "      <td>1</td>\n",
       "      <td>May 20, 2011</td>\n",
       "      <td>Pirates of the Caribbean: On Stranger Tides</td>\n",
       "      <td>[ $379,000,000]</td>\n",
       "      <td>241,063,875</td>\n",
       "      <td>1,045,663,875</td>\n",
       "    </tr>\n",
       "    <tr>\n",
       "      <td>2</td>\n",
       "      <td>Apr 22, 2015</td>\n",
       "      <td>Avengers: Age of Ultron</td>\n",
       "      <td>[ $365,000,000]</td>\n",
       "      <td>459,005,868</td>\n",
       "      <td>1,396,099,202</td>\n",
       "    </tr>\n",
       "    <tr>\n",
       "      <td>3</td>\n",
       "      <td>Dec 16, 2015</td>\n",
       "      <td>Star Wars Ep. VII: The Force Awakens</td>\n",
       "      <td>[ $306,000,000]</td>\n",
       "      <td>936,662,225</td>\n",
       "      <td>2,068,223,624</td>\n",
       "    </tr>\n",
       "    <tr>\n",
       "      <td>4</td>\n",
       "      <td>Apr 25, 2018</td>\n",
       "      <td>Avengers: Infinity War</td>\n",
       "      <td>[ $300,000,000]</td>\n",
       "      <td>678,815,482</td>\n",
       "      <td>2,048,359,754</td>\n",
       "    </tr>\n",
       "  </tbody>\n",
       "</table>\n",
       "</div>"
      ],
      "text/plain": [
       "   release_date                                        title  \\\n",
       "0  Apr 23, 2019                            Avengers: Endgame   \n",
       "1  May 20, 2011  Pirates of the Caribbean: On Stranger Tides   \n",
       "2  Apr 22, 2015                      Avengers: Age of Ultron   \n",
       "3  Dec 16, 2015         Star Wars Ep. VII: The Force Awakens   \n",
       "4  Apr 25, 2018                       Avengers: Infinity War   \n",
       "\n",
       "  production_budget domestic_gross worldwide_gross  \n",
       "0   [ $400,000,000]    858,373,000   2,797,800,564  \n",
       "1   [ $379,000,000]    241,063,875   1,045,663,875  \n",
       "2   [ $365,000,000]    459,005,868   1,396,099,202  \n",
       "3   [ $306,000,000]    936,662,225   2,068,223,624  \n",
       "4   [ $300,000,000]    678,815,482   2,048,359,754  "
      ]
     },
     "execution_count": 120,
     "metadata": {},
     "output_type": "execute_result"
    }
   ],
   "source": [
    "all_films_df.head()"
   ]
  },
  {
   "cell_type": "markdown",
   "metadata": {},
   "source": [
    "## Web Scrape All Titles from TheNumbers.com"
   ]
  },
  {
   "cell_type": "markdown",
   "metadata": {},
   "source": [
    "##### Using the information I gained from the test pull, I can now iterate through all pages of the TheNumbers site to grab the information I need. Created empty lists to add scraped data to later"
   ]
  },
  {
   "cell_type": "code",
   "execution_count": 139,
   "metadata": {
    "ExecuteTime": {
     "end_time": "2020-07-06T19:06:55.297098Z",
     "start_time": "2020-07-06T19:06:55.294070Z"
    }
   },
   "outputs": [],
   "source": [
    "new_final_release_dates = []\n",
    "new_final_titles = []\n",
    "new_final_prod_bud = []\n",
    "new_final_dom_gross = []\n",
    "new_final_world_gross = []"
   ]
  },
  {
   "cell_type": "markdown",
   "metadata": {},
   "source": [
    "##### TheNumbers.com pages include page numbers from 0 to 6001, skipping every hundred numbers. Created list using numpy to use in a for loop later"
   ]
  },
  {
   "cell_type": "code",
   "execution_count": 141,
   "metadata": {
    "ExecuteTime": {
     "end_time": "2020-07-06T19:06:56.919987Z",
     "start_time": "2020-07-06T19:06:56.917204Z"
    }
   },
   "outputs": [],
   "source": [
    "pages_to_pull = list(np.arange(101,6002,100))"
   ]
  },
  {
   "cell_type": "markdown",
   "metadata": {},
   "source": [
    "##### Web Scraped Info From First Non-Numbered Page"
   ]
  },
  {
   "cell_type": "code",
   "execution_count": 142,
   "metadata": {
    "ExecuteTime": {
     "end_time": "2020-07-06T19:06:58.162554Z",
     "start_time": "2020-07-06T19:06:57.565735Z"
    }
   },
   "outputs": [],
   "source": [
    "get_tn('https://www.the-numbers.com/movie/budgets/all')"
   ]
  },
  {
   "cell_type": "markdown",
   "metadata": {},
   "source": [
    "##### Iterate Through Page Numbers to Pull Info From All Pages"
   ]
  },
  {
   "cell_type": "code",
   "execution_count": 143,
   "metadata": {
    "ExecuteTime": {
     "end_time": "2020-07-06T19:07:38.887717Z",
     "start_time": "2020-07-06T19:07:02.021429Z"
    }
   },
   "outputs": [],
   "source": [
    "for page in pages_to_pull:\n",
    "    get_tn('https://www.the-numbers.com/movie/budgets/all/{}'.format(page))"
   ]
  },
  {
   "cell_type": "markdown",
   "metadata": {},
   "source": [
    "##### Pull Together All Data to One Data Frame"
   ]
  },
  {
   "cell_type": "code",
   "execution_count": 168,
   "metadata": {
    "ExecuteTime": {
     "end_time": "2020-07-06T19:18:31.563760Z",
     "start_time": "2020-07-06T19:18:30.781667Z"
    }
   },
   "outputs": [
    {
     "data": {
      "text/html": [
       "<div>\n",
       "<style scoped>\n",
       "    .dataframe tbody tr th:only-of-type {\n",
       "        vertical-align: middle;\n",
       "    }\n",
       "\n",
       "    .dataframe tbody tr th {\n",
       "        vertical-align: top;\n",
       "    }\n",
       "\n",
       "    .dataframe thead th {\n",
       "        text-align: right;\n",
       "    }\n",
       "</style>\n",
       "<table border=\"1\" class=\"dataframe\">\n",
       "  <thead>\n",
       "    <tr style=\"text-align: right;\">\n",
       "      <th></th>\n",
       "      <th>release_date</th>\n",
       "      <th>title</th>\n",
       "      <th>production_budget</th>\n",
       "      <th>domestic_gross</th>\n",
       "      <th>worldwide_gross</th>\n",
       "    </tr>\n",
       "  </thead>\n",
       "  <tbody>\n",
       "    <tr>\n",
       "      <td>0</td>\n",
       "      <td>Apr 23, 2019</td>\n",
       "      <td>Avengers: Endgame</td>\n",
       "      <td>400,000,000</td>\n",
       "      <td>858,373,000</td>\n",
       "      <td>2,797,800,564</td>\n",
       "    </tr>\n",
       "    <tr>\n",
       "      <td>1</td>\n",
       "      <td>May 20, 2011</td>\n",
       "      <td>Pirates of the Caribbean: On Stranger Tides</td>\n",
       "      <td>379,000,000</td>\n",
       "      <td>241,063,875</td>\n",
       "      <td>1,045,663,875</td>\n",
       "    </tr>\n",
       "    <tr>\n",
       "      <td>2</td>\n",
       "      <td>Apr 22, 2015</td>\n",
       "      <td>Avengers: Age of Ultron</td>\n",
       "      <td>365,000,000</td>\n",
       "      <td>459,005,868</td>\n",
       "      <td>1,396,099,202</td>\n",
       "    </tr>\n",
       "    <tr>\n",
       "      <td>3</td>\n",
       "      <td>Dec 16, 2015</td>\n",
       "      <td>Star Wars Ep. VII: The Force Awakens</td>\n",
       "      <td>306,000,000</td>\n",
       "      <td>936,662,225</td>\n",
       "      <td>2,068,223,624</td>\n",
       "    </tr>\n",
       "    <tr>\n",
       "      <td>4</td>\n",
       "      <td>Apr 25, 2018</td>\n",
       "      <td>Avengers: Infinity War</td>\n",
       "      <td>300,000,000</td>\n",
       "      <td>678,815,482</td>\n",
       "      <td>2,048,359,754</td>\n",
       "    </tr>\n",
       "  </tbody>\n",
       "</table>\n",
       "</div>"
      ],
      "text/plain": [
       "   release_date                                        title  \\\n",
       "0  Apr 23, 2019                            Avengers: Endgame   \n",
       "1  May 20, 2011  Pirates of the Caribbean: On Stranger Tides   \n",
       "2  Apr 22, 2015                      Avengers: Age of Ultron   \n",
       "3  Dec 16, 2015         Star Wars Ep. VII: The Force Awakens   \n",
       "4  Apr 25, 2018                       Avengers: Infinity War   \n",
       "\n",
       "  production_budget domestic_gross worldwide_gross  \n",
       "0       400,000,000    858,373,000   2,797,800,564  \n",
       "1       379,000,000    241,063,875   1,045,663,875  \n",
       "2       365,000,000    459,005,868   1,396,099,202  \n",
       "3       306,000,000    936,662,225   2,068,223,624  \n",
       "4       300,000,000    678,815,482   2,048,359,754  "
      ]
     },
     "execution_count": 168,
     "metadata": {},
     "output_type": "execute_result"
    }
   ],
   "source": [
    "all_films_df = pd.DataFrame([new_final_release_dates, new_final_titles, new_final_prod_bud, \n",
    "                             new_final_dom_gross, new_final_world_gross]).T\n",
    "all_films_df = all_films_df.rename(columns = {0:'release_date',1:'title',2:'production_budget',3:'domestic_gross',\n",
    "                               4:'worldwide_gross'})\n",
    "all_films_df.head()"
   ]
  },
  {
   "cell_type": "markdown",
   "metadata": {},
   "source": [
    "# Clean Scraped Data From Web"
   ]
  },
  {
   "cell_type": "markdown",
   "metadata": {},
   "source": [
    "##### Data in data frame must be cleaned to remove punctuation to convert to integers and converted to date/time format where necessary. Used for loops to clean integer columns first of commas"
   ]
  },
  {
   "cell_type": "code",
   "execution_count": 169,
   "metadata": {
    "ExecuteTime": {
     "end_time": "2020-07-06T19:18:33.318145Z",
     "start_time": "2020-07-06T19:18:33.315423Z"
    }
   },
   "outputs": [],
   "source": [
    "cols_to_clean = ['production_budget','domestic_gross','worldwide_gross', 'release_date']"
   ]
  },
  {
   "cell_type": "code",
   "execution_count": 170,
   "metadata": {
    "ExecuteTime": {
     "end_time": "2020-07-06T19:18:42.368122Z",
     "start_time": "2020-07-06T19:18:42.352103Z"
    }
   },
   "outputs": [],
   "source": [
    "for col in cols_to_clean:\n",
    "    all_films_df[col] = all_films_df[col].map(lambda x: x.replace(',',''))"
   ]
  },
  {
   "cell_type": "markdown",
   "metadata": {},
   "source": [
    "##### Used for loop to change first three cols to integer type"
   ]
  },
  {
   "cell_type": "code",
   "execution_count": 171,
   "metadata": {
    "ExecuteTime": {
     "end_time": "2020-07-06T19:19:18.852283Z",
     "start_time": "2020-07-06T19:19:18.843513Z"
    }
   },
   "outputs": [],
   "source": [
    "for col in cols_to_clean[0:3]:\n",
    "    all_films_df[col] = all_films_df[col].astype('int')"
   ]
  },
  {
   "cell_type": "code",
   "execution_count": 172,
   "metadata": {
    "ExecuteTime": {
     "end_time": "2020-07-06T19:19:19.636899Z",
     "start_time": "2020-07-06T19:19:19.628587Z"
    }
   },
   "outputs": [
    {
     "name": "stdout",
     "output_type": "stream",
     "text": [
      "<class 'pandas.core.frame.DataFrame'>\n",
      "RangeIndex: 6039 entries, 0 to 6038\n",
      "Data columns (total 5 columns):\n",
      "release_date         6039 non-null object\n",
      "title                6039 non-null object\n",
      "production_budget    6039 non-null int64\n",
      "domestic_gross       6039 non-null int64\n",
      "worldwide_gross      6039 non-null int64\n",
      "dtypes: int64(3), object(2)\n",
      "memory usage: 236.0+ KB\n"
     ]
    }
   ],
   "source": [
    "all_films_df.info()"
   ]
  },
  {
   "cell_type": "markdown",
   "metadata": {},
   "source": [
    "###### Removed films from data frame where release date was Unknown"
   ]
  },
  {
   "cell_type": "code",
   "execution_count": 176,
   "metadata": {
    "ExecuteTime": {
     "end_time": "2020-07-06T19:21:18.198479Z",
     "start_time": "2020-07-06T19:21:18.193770Z"
    }
   },
   "outputs": [],
   "source": [
    "all_films_df = all_films_df.loc[all_films_df['release_date'] != 'Unknown']"
   ]
  },
  {
   "cell_type": "markdown",
   "metadata": {},
   "source": [
    "##### Removed month and day info from release data colum so that only year remains"
   ]
  },
  {
   "cell_type": "code",
   "execution_count": 184,
   "metadata": {
    "ExecuteTime": {
     "end_time": "2020-07-06T19:23:48.474351Z",
     "start_time": "2020-07-06T19:23:48.469016Z"
    }
   },
   "outputs": [],
   "source": [
    "years = all_films_df['release_date']\n",
    "final_years = []\n",
    "for year in years:\n",
    "    final_years.append(year[-4:])"
   ]
  },
  {
   "cell_type": "code",
   "execution_count": 186,
   "metadata": {
    "ExecuteTime": {
     "end_time": "2020-07-06T19:23:56.481430Z",
     "start_time": "2020-07-06T19:23:56.477282Z"
    }
   },
   "outputs": [
    {
     "data": {
      "text/plain": [
       "5917"
      ]
     },
     "execution_count": 186,
     "metadata": {},
     "output_type": "execute_result"
    }
   ],
   "source": [
    "len(final_years)"
   ]
  },
  {
   "cell_type": "markdown",
   "metadata": {},
   "source": [
    "##### Rejoined year column to data frame"
   ]
  },
  {
   "cell_type": "code",
   "execution_count": 225,
   "metadata": {
    "ExecuteTime": {
     "end_time": "2020-07-06T19:38:47.127103Z",
     "start_time": "2020-07-06T19:38:47.120438Z"
    },
    "collapsed": true
   },
   "outputs": [],
   "source": [
    "new_all_films_df = all_films_df.join(pd.DataFrame(final_years,columns = ['year']))"
   ]
  },
  {
   "cell_type": "code",
   "execution_count": 226,
   "metadata": {
    "ExecuteTime": {
     "end_time": "2020-07-06T19:38:47.762248Z",
     "start_time": "2020-07-06T19:38:47.739068Z"
    }
   },
   "outputs": [
    {
     "data": {
      "text/html": [
       "<div>\n",
       "<style scoped>\n",
       "    .dataframe tbody tr th:only-of-type {\n",
       "        vertical-align: middle;\n",
       "    }\n",
       "\n",
       "    .dataframe tbody tr th {\n",
       "        vertical-align: top;\n",
       "    }\n",
       "\n",
       "    .dataframe thead th {\n",
       "        text-align: right;\n",
       "    }\n",
       "</style>\n",
       "<table border=\"1\" class=\"dataframe\">\n",
       "  <thead>\n",
       "    <tr style=\"text-align: right;\">\n",
       "      <th></th>\n",
       "      <th>production_budget</th>\n",
       "      <th>domestic_gross</th>\n",
       "      <th>worldwide_gross</th>\n",
       "    </tr>\n",
       "  </thead>\n",
       "  <tbody>\n",
       "    <tr>\n",
       "      <td>count</td>\n",
       "      <td>5.917000e+03</td>\n",
       "      <td>5.917000e+03</td>\n",
       "      <td>5.917000e+03</td>\n",
       "    </tr>\n",
       "    <tr>\n",
       "      <td>mean</td>\n",
       "      <td>3.197930e+07</td>\n",
       "      <td>4.258482e+07</td>\n",
       "      <td>9.386041e+07</td>\n",
       "    </tr>\n",
       "    <tr>\n",
       "      <td>std</td>\n",
       "      <td>4.194999e+07</td>\n",
       "      <td>6.989884e+07</td>\n",
       "      <td>1.818480e+08</td>\n",
       "    </tr>\n",
       "    <tr>\n",
       "      <td>min</td>\n",
       "      <td>1.100000e+03</td>\n",
       "      <td>0.000000e+00</td>\n",
       "      <td>0.000000e+00</td>\n",
       "    </tr>\n",
       "    <tr>\n",
       "      <td>25%</td>\n",
       "      <td>5.000000e+06</td>\n",
       "      <td>1.793359e+06</td>\n",
       "      <td>4.815890e+06</td>\n",
       "    </tr>\n",
       "    <tr>\n",
       "      <td>50%</td>\n",
       "      <td>1.700000e+07</td>\n",
       "      <td>1.758347e+07</td>\n",
       "      <td>2.902791e+07</td>\n",
       "    </tr>\n",
       "    <tr>\n",
       "      <td>75%</td>\n",
       "      <td>4.000000e+07</td>\n",
       "      <td>5.284272e+07</td>\n",
       "      <td>9.875400e+07</td>\n",
       "    </tr>\n",
       "    <tr>\n",
       "      <td>max</td>\n",
       "      <td>4.000000e+08</td>\n",
       "      <td>9.366622e+08</td>\n",
       "      <td>2.797801e+09</td>\n",
       "    </tr>\n",
       "  </tbody>\n",
       "</table>\n",
       "</div>"
      ],
      "text/plain": [
       "       production_budget  domestic_gross  worldwide_gross\n",
       "count       5.917000e+03    5.917000e+03     5.917000e+03\n",
       "mean        3.197930e+07    4.258482e+07     9.386041e+07\n",
       "std         4.194999e+07    6.989884e+07     1.818480e+08\n",
       "min         1.100000e+03    0.000000e+00     0.000000e+00\n",
       "25%         5.000000e+06    1.793359e+06     4.815890e+06\n",
       "50%         1.700000e+07    1.758347e+07     2.902791e+07\n",
       "75%         4.000000e+07    5.284272e+07     9.875400e+07\n",
       "max         4.000000e+08    9.366622e+08     2.797801e+09"
      ]
     },
     "execution_count": 226,
     "metadata": {},
     "output_type": "execute_result"
    }
   ],
   "source": [
    "new_all_films_df.describe()"
   ]
  },
  {
   "cell_type": "code",
   "execution_count": 227,
   "metadata": {
    "ExecuteTime": {
     "end_time": "2020-07-06T19:38:50.600029Z",
     "start_time": "2020-07-06T19:38:50.592801Z"
    }
   },
   "outputs": [],
   "source": [
    "new_all_films_df = new_all_films_df.dropna()"
   ]
  },
  {
   "cell_type": "markdown",
   "metadata": {
    "ExecuteTime": {
     "end_time": "2020-07-16T14:54:22.059471Z",
     "start_time": "2020-07-16T14:54:22.056021Z"
    }
   },
   "source": [
    "##### Converted year column to integer type"
   ]
  },
  {
   "cell_type": "code",
   "execution_count": 228,
   "metadata": {
    "ExecuteTime": {
     "end_time": "2020-07-06T19:38:51.992304Z",
     "start_time": "2020-07-06T19:38:51.987666Z"
    }
   },
   "outputs": [],
   "source": [
    "new_all_films_df['year'] = new_all_films_df['year'].astype('int')"
   ]
  },
  {
   "cell_type": "markdown",
   "metadata": {},
   "source": [
    "##### Plotted histogram to view distribution in the year column"
   ]
  },
  {
   "cell_type": "code",
   "execution_count": 229,
   "metadata": {
    "ExecuteTime": {
     "end_time": "2020-07-06T19:38:53.853058Z",
     "start_time": "2020-07-06T19:38:53.580658Z"
    }
   },
   "outputs": [
    {
     "data": {
      "text/plain": [
       "<matplotlib.axes._subplots.AxesSubplot at 0x7fb4fa24b9b0>"
      ]
     },
     "execution_count": 229,
     "metadata": {},
     "output_type": "execute_result"
    },
    {
     "data": {
      "image/png": "[encoded data removed]",
      "text/plain": [
       "<Figure size 1440x720 with 1 Axes>"
      ]
     },
     "metadata": {
      "needs_background": "light"
     },
     "output_type": "display_data"
    }
   ],
   "source": [
    "plt.figure(figsize=(20,10))\n",
    "new_all_films_df['year'].hist()"
   ]
  },
  {
   "cell_type": "code",
   "execution_count": 230,
   "metadata": {
    "ExecuteTime": {
     "end_time": "2020-07-06T19:38:57.284379Z",
     "start_time": "2020-07-06T19:38:57.260253Z"
    }
   },
   "outputs": [
    {
     "data": {
      "text/html": [
       "<div>\n",
       "<style scoped>\n",
       "    .dataframe tbody tr th:only-of-type {\n",
       "        vertical-align: middle;\n",
       "    }\n",
       "\n",
       "    .dataframe tbody tr th {\n",
       "        vertical-align: top;\n",
       "    }\n",
       "\n",
       "    .dataframe thead th {\n",
       "        text-align: right;\n",
       "    }\n",
       "</style>\n",
       "<table border=\"1\" class=\"dataframe\">\n",
       "  <thead>\n",
       "    <tr style=\"text-align: right;\">\n",
       "      <th></th>\n",
       "      <th>production_budget</th>\n",
       "      <th>domestic_gross</th>\n",
       "      <th>worldwide_gross</th>\n",
       "      <th>year</th>\n",
       "    </tr>\n",
       "  </thead>\n",
       "  <tbody>\n",
       "    <tr>\n",
       "      <td>count</td>\n",
       "      <td>5.812000e+03</td>\n",
       "      <td>5.812000e+03</td>\n",
       "      <td>5.812000e+03</td>\n",
       "      <td>5812.000000</td>\n",
       "    </tr>\n",
       "    <tr>\n",
       "      <td>mean</td>\n",
       "      <td>3.255601e+07</td>\n",
       "      <td>4.331895e+07</td>\n",
       "      <td>9.551012e+07</td>\n",
       "      <td>2004.328975</td>\n",
       "    </tr>\n",
       "    <tr>\n",
       "      <td>std</td>\n",
       "      <td>4.210527e+07</td>\n",
       "      <td>7.030738e+07</td>\n",
       "      <td>1.830623e+08</td>\n",
       "      <td>12.874204</td>\n",
       "    </tr>\n",
       "    <tr>\n",
       "      <td>min</td>\n",
       "      <td>1.500000e+05</td>\n",
       "      <td>0.000000e+00</td>\n",
       "      <td>0.000000e+00</td>\n",
       "      <td>1915.000000</td>\n",
       "    </tr>\n",
       "    <tr>\n",
       "      <td>25%</td>\n",
       "      <td>5.800000e+06</td>\n",
       "      <td>2.151261e+06</td>\n",
       "      <td>5.475305e+06</td>\n",
       "      <td>2000.000000</td>\n",
       "    </tr>\n",
       "    <tr>\n",
       "      <td>50%</td>\n",
       "      <td>1.800000e+07</td>\n",
       "      <td>1.837136e+07</td>\n",
       "      <td>3.032430e+07</td>\n",
       "      <td>2007.000000</td>\n",
       "    </tr>\n",
       "    <tr>\n",
       "      <td>75%</td>\n",
       "      <td>4.000000e+07</td>\n",
       "      <td>5.380563e+07</td>\n",
       "      <td>1.009808e+08</td>\n",
       "      <td>2013.000000</td>\n",
       "    </tr>\n",
       "    <tr>\n",
       "      <td>max</td>\n",
       "      <td>4.000000e+08</td>\n",
       "      <td>9.366622e+08</td>\n",
       "      <td>2.797801e+09</td>\n",
       "      <td>2022.000000</td>\n",
       "    </tr>\n",
       "  </tbody>\n",
       "</table>\n",
       "</div>"
      ],
      "text/plain": [
       "       production_budget  domestic_gross  worldwide_gross         year\n",
       "count       5.812000e+03    5.812000e+03     5.812000e+03  5812.000000\n",
       "mean        3.255601e+07    4.331895e+07     9.551012e+07  2004.328975\n",
       "std         4.210527e+07    7.030738e+07     1.830623e+08    12.874204\n",
       "min         1.500000e+05    0.000000e+00     0.000000e+00  1915.000000\n",
       "25%         5.800000e+06    2.151261e+06     5.475305e+06  2000.000000\n",
       "50%         1.800000e+07    1.837136e+07     3.032430e+07  2007.000000\n",
       "75%         4.000000e+07    5.380563e+07     1.009808e+08  2013.000000\n",
       "max         4.000000e+08    9.366622e+08     2.797801e+09  2022.000000"
      ]
     },
     "execution_count": 230,
     "metadata": {},
     "output_type": "execute_result"
    }
   ],
   "source": [
    "new_all_films_df.describe()"
   ]
  },
  {
   "cell_type": "code",
   "execution_count": 231,
   "metadata": {
    "ExecuteTime": {
     "end_time": "2020-07-06T19:39:13.121694Z",
     "start_time": "2020-07-06T19:39:13.114118Z"
    }
   },
   "outputs": [
    {
     "name": "stdout",
     "output_type": "stream",
     "text": [
      "<class 'pandas.core.frame.DataFrame'>\n",
      "Int64Index: 5812 entries, 0 to 5916\n",
      "Data columns (total 6 columns):\n",
      "release_date         5812 non-null object\n",
      "title                5812 non-null object\n",
      "production_budget    5812 non-null int64\n",
      "domestic_gross       5812 non-null int64\n",
      "worldwide_gross      5812 non-null int64\n",
      "year                 5812 non-null int64\n",
      "dtypes: int64(4), object(2)\n",
      "memory usage: 317.8+ KB\n"
     ]
    }
   ],
   "source": [
    "new_all_films_df.info()"
   ]
  },
  {
   "cell_type": "markdown",
   "metadata": {
    "ExecuteTime": {
     "end_time": "2020-07-16T15:00:25.376996Z",
     "start_time": "2020-07-16T15:00:25.372729Z"
    }
   },
   "source": [
    "##### Removed films that were released before the year 2000"
   ]
  },
  {
   "cell_type": "code",
   "execution_count": 232,
   "metadata": {
    "ExecuteTime": {
     "end_time": "2020-07-06T19:39:26.286822Z",
     "start_time": "2020-07-06T19:39:26.282186Z"
    }
   },
   "outputs": [],
   "source": [
    "all_films = new_all_films_df.loc[new_all_films_df['year'] >= 2000]"
   ]
  },
  {
   "cell_type": "code",
   "execution_count": 233,
   "metadata": {
    "ExecuteTime": {
     "end_time": "2020-07-06T19:39:26.966417Z",
     "start_time": "2020-07-06T19:39:26.962803Z"
    }
   },
   "outputs": [
    {
     "data": {
      "text/plain": [
       "4429"
      ]
     },
     "execution_count": 233,
     "metadata": {},
     "output_type": "execute_result"
    }
   ],
   "source": [
    "len(all_films)"
   ]
  },
  {
   "cell_type": "markdown",
   "metadata": {},
   "source": [
    "##### Removed films that made less that the 25% quartile in the worldwide gross column ($5.4 million)"
   ]
  },
  {
   "cell_type": "code",
   "execution_count": 234,
   "metadata": {
    "ExecuteTime": {
     "end_time": "2020-07-06T19:39:46.678721Z",
     "start_time": "2020-07-06T19:39:46.674281Z"
    }
   },
   "outputs": [],
   "source": [
    "all_films = all_films.loc[all_films['worldwide_gross'] >= 5.475305e+06]"
   ]
  },
  {
   "cell_type": "code",
   "execution_count": 235,
   "metadata": {
    "ExecuteTime": {
     "end_time": "2020-07-06T19:39:47.034931Z",
     "start_time": "2020-07-06T19:39:47.030840Z"
    }
   },
   "outputs": [
    {
     "data": {
      "text/plain": [
       "3374"
      ]
     },
     "execution_count": 235,
     "metadata": {},
     "output_type": "execute_result"
    }
   ],
   "source": [
    "len(all_films)"
   ]
  },
  {
   "cell_type": "markdown",
   "metadata": {},
   "source": [
    "# Feature Engineering"
   ]
  },
  {
   "cell_type": "markdown",
   "metadata": {},
   "source": [
    "##### Dropped release_date column"
   ]
  },
  {
   "cell_type": "code",
   "execution_count": 237,
   "metadata": {
    "ExecuteTime": {
     "end_time": "2020-07-06T19:40:42.920953Z",
     "start_time": "2020-07-06T19:40:42.916882Z"
    }
   },
   "outputs": [],
   "source": [
    "all_films = all_films.drop(columns = 'release_date')"
   ]
  },
  {
   "cell_type": "markdown",
   "metadata": {},
   "source": [
    "## Profit"
   ]
  },
  {
   "cell_type": "markdown",
   "metadata": {},
   "source": [
    "##### Added Profit column by subtracting production_budget from worldwide_gross"
   ]
  },
  {
   "cell_type": "code",
   "execution_count": 239,
   "metadata": {
    "ExecuteTime": {
     "end_time": "2020-07-06T19:42:35.546100Z",
     "start_time": "2020-07-06T19:42:35.528709Z"
    }
   },
   "outputs": [
    {
     "data": {
      "text/html": [
       "<div>\n",
       "<style scoped>\n",
       "    .dataframe tbody tr th:only-of-type {\n",
       "        vertical-align: middle;\n",
       "    }\n",
       "\n",
       "    .dataframe tbody tr th {\n",
       "        vertical-align: top;\n",
       "    }\n",
       "\n",
       "    .dataframe thead th {\n",
       "        text-align: right;\n",
       "    }\n",
       "</style>\n",
       "<table border=\"1\" class=\"dataframe\">\n",
       "  <thead>\n",
       "    <tr style=\"text-align: right;\">\n",
       "      <th></th>\n",
       "      <th>title</th>\n",
       "      <th>production_budget</th>\n",
       "      <th>domestic_gross</th>\n",
       "      <th>worldwide_gross</th>\n",
       "      <th>year</th>\n",
       "      <th>profit</th>\n",
       "    </tr>\n",
       "  </thead>\n",
       "  <tbody>\n",
       "    <tr>\n",
       "      <td>0</td>\n",
       "      <td>Avengers: Endgame</td>\n",
       "      <td>400000000</td>\n",
       "      <td>858373000</td>\n",
       "      <td>2797800564</td>\n",
       "      <td>2019</td>\n",
       "      <td>2397800564</td>\n",
       "    </tr>\n",
       "    <tr>\n",
       "      <td>1</td>\n",
       "      <td>Pirates of the Caribbean: On Stranger Tides</td>\n",
       "      <td>379000000</td>\n",
       "      <td>241063875</td>\n",
       "      <td>1045663875</td>\n",
       "      <td>2011</td>\n",
       "      <td>666663875</td>\n",
       "    </tr>\n",
       "    <tr>\n",
       "      <td>2</td>\n",
       "      <td>Avengers: Age of Ultron</td>\n",
       "      <td>365000000</td>\n",
       "      <td>459005868</td>\n",
       "      <td>1396099202</td>\n",
       "      <td>2015</td>\n",
       "      <td>1031099202</td>\n",
       "    </tr>\n",
       "    <tr>\n",
       "      <td>3</td>\n",
       "      <td>Star Wars Ep. VII: The Force Awakens</td>\n",
       "      <td>306000000</td>\n",
       "      <td>936662225</td>\n",
       "      <td>2068223624</td>\n",
       "      <td>2015</td>\n",
       "      <td>1762223624</td>\n",
       "    </tr>\n",
       "    <tr>\n",
       "      <td>4</td>\n",
       "      <td>Avengers: Infinity War</td>\n",
       "      <td>300000000</td>\n",
       "      <td>678815482</td>\n",
       "      <td>2048359754</td>\n",
       "      <td>2018</td>\n",
       "      <td>1748359754</td>\n",
       "    </tr>\n",
       "    <tr>\n",
       "      <td>...</td>\n",
       "      <td>...</td>\n",
       "      <td>...</td>\n",
       "      <td>...</td>\n",
       "      <td>...</td>\n",
       "      <td>...</td>\n",
       "      <td>...</td>\n",
       "    </tr>\n",
       "    <tr>\n",
       "      <td>5867</td>\n",
       "      <td>20,000 Leagues Under the Sea</td>\n",
       "      <td>200000</td>\n",
       "      <td>8000000</td>\n",
       "      <td>8000000</td>\n",
       "      <td>2013</td>\n",
       "      <td>7800000</td>\n",
       "    </tr>\n",
       "    <tr>\n",
       "      <td>5868</td>\n",
       "      <td>Swingers</td>\n",
       "      <td>200000</td>\n",
       "      <td>4505922</td>\n",
       "      <td>6618578</td>\n",
       "      <td>2000</td>\n",
       "      <td>6418578</td>\n",
       "    </tr>\n",
       "    <tr>\n",
       "      <td>5899</td>\n",
       "      <td>She's Gotta Have It</td>\n",
       "      <td>175000</td>\n",
       "      <td>7137502</td>\n",
       "      <td>7137502</td>\n",
       "      <td>2010</td>\n",
       "      <td>6962502</td>\n",
       "    </tr>\n",
       "    <tr>\n",
       "      <td>5908</td>\n",
       "      <td>Sweet Sweetback's Baad Asssss Song</td>\n",
       "      <td>150000</td>\n",
       "      <td>15200000</td>\n",
       "      <td>15200000</td>\n",
       "      <td>2015</td>\n",
       "      <td>15050000</td>\n",
       "    </tr>\n",
       "    <tr>\n",
       "      <td>5909</td>\n",
       "      <td>Once</td>\n",
       "      <td>150000</td>\n",
       "      <td>9445857</td>\n",
       "      <td>23151277</td>\n",
       "      <td>2012</td>\n",
       "      <td>23001277</td>\n",
       "    </tr>\n",
       "  </tbody>\n",
       "</table>\n",
       "<p>3374 rows × 6 columns</p>\n",
       "</div>"
      ],
      "text/plain": [
       "                                            title  production_budget  \\\n",
       "0                               Avengers: Endgame          400000000   \n",
       "1     Pirates of the Caribbean: On Stranger Tides          379000000   \n",
       "2                         Avengers: Age of Ultron          365000000   \n",
       "3            Star Wars Ep. VII: The Force Awakens          306000000   \n",
       "4                          Avengers: Infinity War          300000000   \n",
       "...                                           ...                ...   \n",
       "5867                 20,000 Leagues Under the Sea             200000   \n",
       "5868                                     Swingers             200000   \n",
       "5899                          She's Gotta Have It             175000   \n",
       "5908           Sweet Sweetback's Baad Asssss Song             150000   \n",
       "5909                                         Once             150000   \n",
       "\n",
       "      domestic_gross  worldwide_gross  year      profit  \n",
       "0          858373000       2797800564  2019  2397800564  \n",
       "1          241063875       1045663875  2011   666663875  \n",
       "2          459005868       1396099202  2015  1031099202  \n",
       "3          936662225       2068223624  2015  1762223624  \n",
       "4          678815482       2048359754  2018  1748359754  \n",
       "...              ...              ...   ...         ...  \n",
       "5867         8000000          8000000  2013     7800000  \n",
       "5868         4505922          6618578  2000     6418578  \n",
       "5899         7137502          7137502  2010     6962502  \n",
       "5908        15200000         15200000  2015    15050000  \n",
       "5909         9445857         23151277  2012    23001277  \n",
       "\n",
       "[3374 rows x 6 columns]"
      ]
     },
     "execution_count": 239,
     "metadata": {},
     "output_type": "execute_result"
    }
   ],
   "source": [
    "all_films['profit'] = all_films['worldwide_gross'] - all_films['production_budget']\n",
    "all_films"
   ]
  },
  {
   "cell_type": "markdown",
   "metadata": {},
   "source": [
    "## ROI"
   ]
  },
  {
   "cell_type": "markdown",
   "metadata": {},
   "source": [
    "##### Added ROI column by dividing profit column by production_budget"
   ]
  },
  {
   "cell_type": "code",
   "execution_count": 244,
   "metadata": {
    "ExecuteTime": {
     "end_time": "2020-07-06T19:45:32.410532Z",
     "start_time": "2020-07-06T19:45:32.395987Z"
    }
   },
   "outputs": [
    {
     "data": {
      "text/html": [
       "<div>\n",
       "<style scoped>\n",
       "    .dataframe tbody tr th:only-of-type {\n",
       "        vertical-align: middle;\n",
       "    }\n",
       "\n",
       "    .dataframe tbody tr th {\n",
       "        vertical-align: top;\n",
       "    }\n",
       "\n",
       "    .dataframe thead th {\n",
       "        text-align: right;\n",
       "    }\n",
       "</style>\n",
       "<table border=\"1\" class=\"dataframe\">\n",
       "  <thead>\n",
       "    <tr style=\"text-align: right;\">\n",
       "      <th></th>\n",
       "      <th>title</th>\n",
       "      <th>production_budget</th>\n",
       "      <th>domestic_gross</th>\n",
       "      <th>worldwide_gross</th>\n",
       "      <th>year</th>\n",
       "      <th>profit</th>\n",
       "      <th>ROI</th>\n",
       "    </tr>\n",
       "  </thead>\n",
       "  <tbody>\n",
       "    <tr>\n",
       "      <td>0</td>\n",
       "      <td>Avengers: Endgame</td>\n",
       "      <td>400000000</td>\n",
       "      <td>858373000</td>\n",
       "      <td>2797800564</td>\n",
       "      <td>2019</td>\n",
       "      <td>2397800564</td>\n",
       "      <td>5.99</td>\n",
       "    </tr>\n",
       "    <tr>\n",
       "      <td>1</td>\n",
       "      <td>Pirates of the Caribbean: On Stranger Tides</td>\n",
       "      <td>379000000</td>\n",
       "      <td>241063875</td>\n",
       "      <td>1045663875</td>\n",
       "      <td>2011</td>\n",
       "      <td>666663875</td>\n",
       "      <td>1.76</td>\n",
       "    </tr>\n",
       "    <tr>\n",
       "      <td>2</td>\n",
       "      <td>Avengers: Age of Ultron</td>\n",
       "      <td>365000000</td>\n",
       "      <td>459005868</td>\n",
       "      <td>1396099202</td>\n",
       "      <td>2015</td>\n",
       "      <td>1031099202</td>\n",
       "      <td>2.82</td>\n",
       "    </tr>\n",
       "    <tr>\n",
       "      <td>3</td>\n",
       "      <td>Star Wars Ep. VII: The Force Awakens</td>\n",
       "      <td>306000000</td>\n",
       "      <td>936662225</td>\n",
       "      <td>2068223624</td>\n",
       "      <td>2015</td>\n",
       "      <td>1762223624</td>\n",
       "      <td>5.76</td>\n",
       "    </tr>\n",
       "    <tr>\n",
       "      <td>4</td>\n",
       "      <td>Avengers: Infinity War</td>\n",
       "      <td>300000000</td>\n",
       "      <td>678815482</td>\n",
       "      <td>2048359754</td>\n",
       "      <td>2018</td>\n",
       "      <td>1748359754</td>\n",
       "      <td>5.83</td>\n",
       "    </tr>\n",
       "    <tr>\n",
       "      <td>...</td>\n",
       "      <td>...</td>\n",
       "      <td>...</td>\n",
       "      <td>...</td>\n",
       "      <td>...</td>\n",
       "      <td>...</td>\n",
       "      <td>...</td>\n",
       "      <td>...</td>\n",
       "    </tr>\n",
       "    <tr>\n",
       "      <td>5867</td>\n",
       "      <td>20,000 Leagues Under the Sea</td>\n",
       "      <td>200000</td>\n",
       "      <td>8000000</td>\n",
       "      <td>8000000</td>\n",
       "      <td>2013</td>\n",
       "      <td>7800000</td>\n",
       "      <td>39.00</td>\n",
       "    </tr>\n",
       "    <tr>\n",
       "      <td>5868</td>\n",
       "      <td>Swingers</td>\n",
       "      <td>200000</td>\n",
       "      <td>4505922</td>\n",
       "      <td>6618578</td>\n",
       "      <td>2000</td>\n",
       "      <td>6418578</td>\n",
       "      <td>32.09</td>\n",
       "    </tr>\n",
       "    <tr>\n",
       "      <td>5899</td>\n",
       "      <td>She's Gotta Have It</td>\n",
       "      <td>175000</td>\n",
       "      <td>7137502</td>\n",
       "      <td>7137502</td>\n",
       "      <td>2010</td>\n",
       "      <td>6962502</td>\n",
       "      <td>39.79</td>\n",
       "    </tr>\n",
       "    <tr>\n",
       "      <td>5908</td>\n",
       "      <td>Sweet Sweetback's Baad Asssss Song</td>\n",
       "      <td>150000</td>\n",
       "      <td>15200000</td>\n",
       "      <td>15200000</td>\n",
       "      <td>2015</td>\n",
       "      <td>15050000</td>\n",
       "      <td>100.33</td>\n",
       "    </tr>\n",
       "    <tr>\n",
       "      <td>5909</td>\n",
       "      <td>Once</td>\n",
       "      <td>150000</td>\n",
       "      <td>9445857</td>\n",
       "      <td>23151277</td>\n",
       "      <td>2012</td>\n",
       "      <td>23001277</td>\n",
       "      <td>153.34</td>\n",
       "    </tr>\n",
       "  </tbody>\n",
       "</table>\n",
       "<p>3374 rows × 7 columns</p>\n",
       "</div>"
      ],
      "text/plain": [
       "                                            title  production_budget  \\\n",
       "0                               Avengers: Endgame          400000000   \n",
       "1     Pirates of the Caribbean: On Stranger Tides          379000000   \n",
       "2                         Avengers: Age of Ultron          365000000   \n",
       "3            Star Wars Ep. VII: The Force Awakens          306000000   \n",
       "4                          Avengers: Infinity War          300000000   \n",
       "...                                           ...                ...   \n",
       "5867                 20,000 Leagues Under the Sea             200000   \n",
       "5868                                     Swingers             200000   \n",
       "5899                          She's Gotta Have It             175000   \n",
       "5908           Sweet Sweetback's Baad Asssss Song             150000   \n",
       "5909                                         Once             150000   \n",
       "\n",
       "      domestic_gross  worldwide_gross  year      profit     ROI  \n",
       "0          858373000       2797800564  2019  2397800564    5.99  \n",
       "1          241063875       1045663875  2011   666663875    1.76  \n",
       "2          459005868       1396099202  2015  1031099202    2.82  \n",
       "3          936662225       2068223624  2015  1762223624    5.76  \n",
       "4          678815482       2048359754  2018  1748359754    5.83  \n",
       "...              ...              ...   ...         ...     ...  \n",
       "5867         8000000          8000000  2013     7800000   39.00  \n",
       "5868         4505922          6618578  2000     6418578   32.09  \n",
       "5899         7137502          7137502  2010     6962502   39.79  \n",
       "5908        15200000         15200000  2015    15050000  100.33  \n",
       "5909         9445857         23151277  2012    23001277  153.34  \n",
       "\n",
       "[3374 rows x 7 columns]"
      ]
     },
     "execution_count": 244,
     "metadata": {},
     "output_type": "execute_result"
    }
   ],
   "source": [
    "all_films['ROI'] = round(all_films['profit'] / all_films['production_budget'],2)"
   ]
  },
  {
   "cell_type": "code",
   "execution_count": 250,
   "metadata": {
    "ExecuteTime": {
     "end_time": "2020-07-06T19:53:06.786255Z",
     "start_time": "2020-07-06T19:53:06.771727Z"
    }
   },
   "outputs": [
    {
     "data": {
      "text/html": [
       "<div>\n",
       "<style scoped>\n",
       "    .dataframe tbody tr th:only-of-type {\n",
       "        vertical-align: middle;\n",
       "    }\n",
       "\n",
       "    .dataframe tbody tr th {\n",
       "        vertical-align: top;\n",
       "    }\n",
       "\n",
       "    .dataframe thead th {\n",
       "        text-align: right;\n",
       "    }\n",
       "</style>\n",
       "<table border=\"1\" class=\"dataframe\">\n",
       "  <thead>\n",
       "    <tr style=\"text-align: right;\">\n",
       "      <th></th>\n",
       "      <th>title</th>\n",
       "      <th>year</th>\n",
       "      <th>production_budget</th>\n",
       "      <th>domestic_gross</th>\n",
       "      <th>worldwide_gross</th>\n",
       "      <th>profit</th>\n",
       "      <th>ROI</th>\n",
       "    </tr>\n",
       "  </thead>\n",
       "  <tbody>\n",
       "    <tr>\n",
       "      <td>0</td>\n",
       "      <td>Avengers: Endgame</td>\n",
       "      <td>2019</td>\n",
       "      <td>400000000</td>\n",
       "      <td>858373000</td>\n",
       "      <td>2797800564</td>\n",
       "      <td>2397800564</td>\n",
       "      <td>5.99</td>\n",
       "    </tr>\n",
       "    <tr>\n",
       "      <td>1</td>\n",
       "      <td>Pirates of the Caribbean: On Stranger Tides</td>\n",
       "      <td>2011</td>\n",
       "      <td>379000000</td>\n",
       "      <td>241063875</td>\n",
       "      <td>1045663875</td>\n",
       "      <td>666663875</td>\n",
       "      <td>1.76</td>\n",
       "    </tr>\n",
       "    <tr>\n",
       "      <td>2</td>\n",
       "      <td>Avengers: Age of Ultron</td>\n",
       "      <td>2015</td>\n",
       "      <td>365000000</td>\n",
       "      <td>459005868</td>\n",
       "      <td>1396099202</td>\n",
       "      <td>1031099202</td>\n",
       "      <td>2.82</td>\n",
       "    </tr>\n",
       "    <tr>\n",
       "      <td>3</td>\n",
       "      <td>Star Wars Ep. VII: The Force Awakens</td>\n",
       "      <td>2015</td>\n",
       "      <td>306000000</td>\n",
       "      <td>936662225</td>\n",
       "      <td>2068223624</td>\n",
       "      <td>1762223624</td>\n",
       "      <td>5.76</td>\n",
       "    </tr>\n",
       "    <tr>\n",
       "      <td>4</td>\n",
       "      <td>Avengers: Infinity War</td>\n",
       "      <td>2018</td>\n",
       "      <td>300000000</td>\n",
       "      <td>678815482</td>\n",
       "      <td>2048359754</td>\n",
       "      <td>1748359754</td>\n",
       "      <td>5.83</td>\n",
       "    </tr>\n",
       "    <tr>\n",
       "      <td>...</td>\n",
       "      <td>...</td>\n",
       "      <td>...</td>\n",
       "      <td>...</td>\n",
       "      <td>...</td>\n",
       "      <td>...</td>\n",
       "      <td>...</td>\n",
       "      <td>...</td>\n",
       "    </tr>\n",
       "    <tr>\n",
       "      <td>5867</td>\n",
       "      <td>20,000 Leagues Under the Sea</td>\n",
       "      <td>2013</td>\n",
       "      <td>200000</td>\n",
       "      <td>8000000</td>\n",
       "      <td>8000000</td>\n",
       "      <td>7800000</td>\n",
       "      <td>39.00</td>\n",
       "    </tr>\n",
       "    <tr>\n",
       "      <td>5868</td>\n",
       "      <td>Swingers</td>\n",
       "      <td>2000</td>\n",
       "      <td>200000</td>\n",
       "      <td>4505922</td>\n",
       "      <td>6618578</td>\n",
       "      <td>6418578</td>\n",
       "      <td>32.09</td>\n",
       "    </tr>\n",
       "    <tr>\n",
       "      <td>5899</td>\n",
       "      <td>She's Gotta Have It</td>\n",
       "      <td>2010</td>\n",
       "      <td>175000</td>\n",
       "      <td>7137502</td>\n",
       "      <td>7137502</td>\n",
       "      <td>6962502</td>\n",
       "      <td>39.79</td>\n",
       "    </tr>\n",
       "    <tr>\n",
       "      <td>5908</td>\n",
       "      <td>Sweet Sweetback's Baad Asssss Song</td>\n",
       "      <td>2015</td>\n",
       "      <td>150000</td>\n",
       "      <td>15200000</td>\n",
       "      <td>15200000</td>\n",
       "      <td>15050000</td>\n",
       "      <td>100.33</td>\n",
       "    </tr>\n",
       "    <tr>\n",
       "      <td>5909</td>\n",
       "      <td>Once</td>\n",
       "      <td>2012</td>\n",
       "      <td>150000</td>\n",
       "      <td>9445857</td>\n",
       "      <td>23151277</td>\n",
       "      <td>23001277</td>\n",
       "      <td>153.34</td>\n",
       "    </tr>\n",
       "  </tbody>\n",
       "</table>\n",
       "<p>3374 rows × 7 columns</p>\n",
       "</div>"
      ],
      "text/plain": [
       "                                            title  year  production_budget  \\\n",
       "0                               Avengers: Endgame  2019          400000000   \n",
       "1     Pirates of the Caribbean: On Stranger Tides  2011          379000000   \n",
       "2                         Avengers: Age of Ultron  2015          365000000   \n",
       "3            Star Wars Ep. VII: The Force Awakens  2015          306000000   \n",
       "4                          Avengers: Infinity War  2018          300000000   \n",
       "...                                           ...   ...                ...   \n",
       "5867                 20,000 Leagues Under the Sea  2013             200000   \n",
       "5868                                     Swingers  2000             200000   \n",
       "5899                          She's Gotta Have It  2010             175000   \n",
       "5908           Sweet Sweetback's Baad Asssss Song  2015             150000   \n",
       "5909                                         Once  2012             150000   \n",
       "\n",
       "      domestic_gross  worldwide_gross      profit     ROI  \n",
       "0          858373000       2797800564  2397800564    5.99  \n",
       "1          241063875       1045663875   666663875    1.76  \n",
       "2          459005868       1396099202  1031099202    2.82  \n",
       "3          936662225       2068223624  1762223624    5.76  \n",
       "4          678815482       2048359754  1748359754    5.83  \n",
       "...              ...              ...         ...     ...  \n",
       "5867         8000000          8000000     7800000   39.00  \n",
       "5868         4505922          6618578     6418578   32.09  \n",
       "5899         7137502          7137502     6962502   39.79  \n",
       "5908        15200000         15200000    15050000  100.33  \n",
       "5909         9445857         23151277    23001277  153.34  \n",
       "\n",
       "[3374 rows x 7 columns]"
      ]
     },
     "execution_count": 250,
     "metadata": {},
     "output_type": "execute_result"
    }
   ],
   "source": [
    "all_films = all_films[['title','year','production_budget','domestic_gross','worldwide_gross','profit','ROI']]\n",
    "all_films"
   ]
  },
  {
   "cell_type": "markdown",
   "metadata": {},
   "source": [
    "## Classifying Successes/Failure"
   ]
  },
  {
   "cell_type": "markdown",
   "metadata": {},
   "source": [
    "##### Classified films as successes or failures based on if the film made 1.5 times it's production budget (0 for failure, 1 for success)"
   ]
  },
  {
   "cell_type": "code",
   "execution_count": 253,
   "metadata": {
    "ExecuteTime": {
     "end_time": "2020-07-06T19:56:25.045594Z",
     "start_time": "2020-07-06T19:56:25.026685Z"
    }
   },
   "outputs": [
    {
     "name": "stderr",
     "output_type": "stream",
     "text": [
      "/Users/will4856/opt/anaconda3/envs/learn-env/lib/python3.6/site-packages/ipykernel_launcher.py:1: SettingWithCopyWarning: \n",
      "A value is trying to be set on a copy of a slice from a DataFrame.\n",
      "Try using .loc[row_indexer,col_indexer] = value instead\n",
      "\n",
      "See the caveats in the documentation: http://pandas.pydata.org/pandas-docs/stable/user_guide/indexing.html#returning-a-view-versus-a-copy\n",
      "  \"\"\"Entry point for launching an IPython kernel.\n"
     ]
    },
    {
     "data": {
      "text/html": [
       "<div>\n",
       "<style scoped>\n",
       "    .dataframe tbody tr th:only-of-type {\n",
       "        vertical-align: middle;\n",
       "    }\n",
       "\n",
       "    .dataframe tbody tr th {\n",
       "        vertical-align: top;\n",
       "    }\n",
       "\n",
       "    .dataframe thead th {\n",
       "        text-align: right;\n",
       "    }\n",
       "</style>\n",
       "<table border=\"1\" class=\"dataframe\">\n",
       "  <thead>\n",
       "    <tr style=\"text-align: right;\">\n",
       "      <th></th>\n",
       "      <th>title</th>\n",
       "      <th>year</th>\n",
       "      <th>production_budget</th>\n",
       "      <th>domestic_gross</th>\n",
       "      <th>worldwide_gross</th>\n",
       "      <th>profit</th>\n",
       "      <th>ROI</th>\n",
       "      <th>success</th>\n",
       "    </tr>\n",
       "  </thead>\n",
       "  <tbody>\n",
       "    <tr>\n",
       "      <td>0</td>\n",
       "      <td>Avengers: Endgame</td>\n",
       "      <td>2019</td>\n",
       "      <td>400000000</td>\n",
       "      <td>858373000</td>\n",
       "      <td>2797800564</td>\n",
       "      <td>2397800564</td>\n",
       "      <td>5.99</td>\n",
       "      <td>1</td>\n",
       "    </tr>\n",
       "    <tr>\n",
       "      <td>1</td>\n",
       "      <td>Pirates of the Caribbean: On Stranger Tides</td>\n",
       "      <td>2011</td>\n",
       "      <td>379000000</td>\n",
       "      <td>241063875</td>\n",
       "      <td>1045663875</td>\n",
       "      <td>666663875</td>\n",
       "      <td>1.76</td>\n",
       "      <td>1</td>\n",
       "    </tr>\n",
       "    <tr>\n",
       "      <td>2</td>\n",
       "      <td>Avengers: Age of Ultron</td>\n",
       "      <td>2015</td>\n",
       "      <td>365000000</td>\n",
       "      <td>459005868</td>\n",
       "      <td>1396099202</td>\n",
       "      <td>1031099202</td>\n",
       "      <td>2.82</td>\n",
       "      <td>1</td>\n",
       "    </tr>\n",
       "    <tr>\n",
       "      <td>3</td>\n",
       "      <td>Star Wars Ep. VII: The Force Awakens</td>\n",
       "      <td>2015</td>\n",
       "      <td>306000000</td>\n",
       "      <td>936662225</td>\n",
       "      <td>2068223624</td>\n",
       "      <td>1762223624</td>\n",
       "      <td>5.76</td>\n",
       "      <td>1</td>\n",
       "    </tr>\n",
       "    <tr>\n",
       "      <td>4</td>\n",
       "      <td>Avengers: Infinity War</td>\n",
       "      <td>2018</td>\n",
       "      <td>300000000</td>\n",
       "      <td>678815482</td>\n",
       "      <td>2048359754</td>\n",
       "      <td>1748359754</td>\n",
       "      <td>5.83</td>\n",
       "      <td>1</td>\n",
       "    </tr>\n",
       "    <tr>\n",
       "      <td>...</td>\n",
       "      <td>...</td>\n",
       "      <td>...</td>\n",
       "      <td>...</td>\n",
       "      <td>...</td>\n",
       "      <td>...</td>\n",
       "      <td>...</td>\n",
       "      <td>...</td>\n",
       "      <td>...</td>\n",
       "    </tr>\n",
       "    <tr>\n",
       "      <td>5867</td>\n",
       "      <td>20,000 Leagues Under the Sea</td>\n",
       "      <td>2013</td>\n",
       "      <td>200000</td>\n",
       "      <td>8000000</td>\n",
       "      <td>8000000</td>\n",
       "      <td>7800000</td>\n",
       "      <td>39.00</td>\n",
       "      <td>1</td>\n",
       "    </tr>\n",
       "    <tr>\n",
       "      <td>5868</td>\n",
       "      <td>Swingers</td>\n",
       "      <td>2000</td>\n",
       "      <td>200000</td>\n",
       "      <td>4505922</td>\n",
       "      <td>6618578</td>\n",
       "      <td>6418578</td>\n",
       "      <td>32.09</td>\n",
       "      <td>1</td>\n",
       "    </tr>\n",
       "    <tr>\n",
       "      <td>5899</td>\n",
       "      <td>She's Gotta Have It</td>\n",
       "      <td>2010</td>\n",
       "      <td>175000</td>\n",
       "      <td>7137502</td>\n",
       "      <td>7137502</td>\n",
       "      <td>6962502</td>\n",
       "      <td>39.79</td>\n",
       "      <td>1</td>\n",
       "    </tr>\n",
       "    <tr>\n",
       "      <td>5908</td>\n",
       "      <td>Sweet Sweetback's Baad Asssss Song</td>\n",
       "      <td>2015</td>\n",
       "      <td>150000</td>\n",
       "      <td>15200000</td>\n",
       "      <td>15200000</td>\n",
       "      <td>15050000</td>\n",
       "      <td>100.33</td>\n",
       "      <td>1</td>\n",
       "    </tr>\n",
       "    <tr>\n",
       "      <td>5909</td>\n",
       "      <td>Once</td>\n",
       "      <td>2012</td>\n",
       "      <td>150000</td>\n",
       "      <td>9445857</td>\n",
       "      <td>23151277</td>\n",
       "      <td>23001277</td>\n",
       "      <td>153.34</td>\n",
       "      <td>1</td>\n",
       "    </tr>\n",
       "  </tbody>\n",
       "</table>\n",
       "<p>3374 rows × 8 columns</p>\n",
       "</div>"
      ],
      "text/plain": [
       "                                            title  year  production_budget  \\\n",
       "0                               Avengers: Endgame  2019          400000000   \n",
       "1     Pirates of the Caribbean: On Stranger Tides  2011          379000000   \n",
       "2                         Avengers: Age of Ultron  2015          365000000   \n",
       "3            Star Wars Ep. VII: The Force Awakens  2015          306000000   \n",
       "4                          Avengers: Infinity War  2018          300000000   \n",
       "...                                           ...   ...                ...   \n",
       "5867                 20,000 Leagues Under the Sea  2013             200000   \n",
       "5868                                     Swingers  2000             200000   \n",
       "5899                          She's Gotta Have It  2010             175000   \n",
       "5908           Sweet Sweetback's Baad Asssss Song  2015             150000   \n",
       "5909                                         Once  2012             150000   \n",
       "\n",
       "      domestic_gross  worldwide_gross      profit     ROI  success  \n",
       "0          858373000       2797800564  2397800564    5.99        1  \n",
       "1          241063875       1045663875   666663875    1.76        1  \n",
       "2          459005868       1396099202  1031099202    2.82        1  \n",
       "3          936662225       2068223624  1762223624    5.76        1  \n",
       "4          678815482       2048359754  1748359754    5.83        1  \n",
       "...              ...              ...         ...     ...      ...  \n",
       "5867         8000000          8000000     7800000   39.00        1  \n",
       "5868         4505922          6618578     6418578   32.09        1  \n",
       "5899         7137502          7137502     6962502   39.79        1  \n",
       "5908        15200000         15200000    15050000  100.33        1  \n",
       "5909         9445857         23151277    23001277  153.34        1  \n",
       "\n",
       "[3374 rows x 8 columns]"
      ]
     },
     "execution_count": 253,
     "metadata": {},
     "output_type": "execute_result"
    }
   ],
   "source": [
    "all_films['success'] = [1 if x >= 1.5 else 0 for x in all_films['ROI']]\n",
    "all_films"
   ]
  },
  {
   "cell_type": "markdown",
   "metadata": {},
   "source": [
    "##### Saved data frame to csv file on local machine to be used in future notebooks"
   ]
  },
  {
   "cell_type": "code",
   "execution_count": 255,
   "metadata": {
    "ExecuteTime": {
     "end_time": "2020-07-06T19:58:06.050737Z",
     "start_time": "2020-07-06T19:58:06.008738Z"
    }
   },
   "outputs": [],
   "source": [
    "all_films.to_csv('all_films.csv')"
   ]
  }
 ],
 "metadata": {
  "kernelspec": {
   "display_name": "learn-env",
   "language": "python",
   "name": "learn-env"
  },
  "language_info": {
   "codemirror_mode": {
    "name": "ipython",
    "version": 3
   },
   "file_extension": ".py",
   "mimetype": "text/x-python",
   "name": "python",
   "nbconvert_exporter": "python",
   "pygments_lexer": "ipython3",
   "version": "3.6.9"
  },
  "toc": {
   "base_numbering": 1,
   "nav_menu": {},
   "number_sections": true,
   "sideBar": true,
   "skip_h1_title": false,
   "title_cell": "Table of Contents",
   "title_sidebar": "Contents",
   "toc_cell": false,
   "toc_position": {
    "height": "calc(100% - 180px)",
    "left": "10px",
    "top": "150px",
    "width": "234px"
   },
   "toc_section_display": true,
   "toc_window_display": true
  },
  "varInspector": {
   "cols": {
    "lenName": 16,
    "lenType": 16,
    "lenVar": 40
   },
   "kernels_config": {
    "python": {
     "delete_cmd_postfix": "",
     "delete_cmd_prefix": "del ",
     "library": "var_list.py",
     "varRefreshCmd": "print(var_dic_list())"
    },
    "r": {
     "delete_cmd_postfix": ") ",
     "delete_cmd_prefix": "rm(",
     "library": "var_list.r",
     "varRefreshCmd": "cat(var_dic_list()) "
    }
   },
   "types_to_exclude": [
    "module",
    "function",
    "builtin_function_or_method",
    "instance",
    "_Feature"
   ],
   "window_display": false
  }
 },
 "nbformat": 4,
 "nbformat_minor": 2
}
