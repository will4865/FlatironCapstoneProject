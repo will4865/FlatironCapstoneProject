{
 "cells": [
  {
   "cell_type": "code",
   "execution_count": 1,
   "metadata": {
    "ExecuteTime": {
     "end_time": "2020-07-01T12:19:00.105227Z",
     "start_time": "2020-07-01T12:18:57.502664Z"
    }
   },
   "outputs": [],
   "source": [
    "import requests\n",
    "import pandas as pd\n",
    "from bs4 import BeautifulSoup\n",
    "from nltk.corpus import stopwords\n",
    "import re\n",
    "from nltk import word_tokenize, FreqDist\n",
    "import string\n",
    "from nltk.stem import WordNetLemmatizer\n",
    "import matplotlib.pyplot as plt\n",
    "%matplotlib inline\n",
    "pd.set_option('display.max_columns', 500)"
   ]
  },
  {
   "cell_type": "markdown",
   "metadata": {},
   "source": [
    "# Functions"
   ]
  },
  {
   "cell_type": "code",
   "execution_count": 2,
   "metadata": {
    "ExecuteTime": {
     "end_time": "2020-07-01T12:19:00.118128Z",
     "start_time": "2020-07-01T12:19:00.107840Z"
    }
   },
   "outputs": [],
   "source": [
    "def clean_lemmatize_token(script):\n",
    "    stop_words = set(stopwords.words('english'))\n",
    "    cleaned = script.translate(str.maketrans('', '', string.punctuation)).lower()\n",
    "    tokenized = word_tokenize(cleaned)\n",
    "    filtered = [w for w in tokenized if not w in stop_words]\n",
    "    lemmatizer = WordNetLemmatizer()\n",
    "    lemmatized = []\n",
    "    for word in filtered:\n",
    "        lemmatized.append(lemmatizer.lemmatize(word))\n",
    "    return lemmatized"
   ]
  },
  {
   "cell_type": "code",
   "execution_count": 3,
   "metadata": {
    "ExecuteTime": {
     "end_time": "2020-07-01T12:19:00.124234Z",
     "start_time": "2020-07-01T12:19:00.120938Z"
    }
   },
   "outputs": [],
   "source": [
    "def pull_script(url):\n",
    "    html_page = requests.get(url)\n",
    "    soup = BeautifulSoup(html_page.content,'html.parser')\n",
    "    script = str(soup.findAll('pre'))\n",
    "    return script"
   ]
  },
  {
   "cell_type": "code",
   "execution_count": 4,
   "metadata": {
    "ExecuteTime": {
     "end_time": "2020-07-01T12:19:00.130720Z",
     "start_time": "2020-07-01T12:19:00.126550Z"
    }
   },
   "outputs": [],
   "source": [
    "top_films=[]\n",
    "def get_tn(url):\n",
    "    html_page = requests.get(url)\n",
    "    soup = BeautifulSoup(html_page.content,'html.parser')\n",
    "    titles = soup.find('tbody')\n",
    "    new_list = [a.find('a') for a in titles.findAll('b')]\n",
    "    for title in new_list:\n",
    "        top_films.append(str(title).split('summary\">')[1][:-4])"
   ]
  },
  {
   "cell_type": "code",
   "execution_count": 5,
   "metadata": {
    "ExecuteTime": {
     "end_time": "2020-07-01T12:19:00.136622Z",
     "start_time": "2020-07-01T12:19:00.132624Z"
    }
   },
   "outputs": [],
   "source": [
    "film_desc= []\n",
    "def omdb_get(list):\n",
    "    for film in list:\n",
    "        apikey='6ae08f30'\n",
    "        url = 'http://www.omdbapi.com/?apikey={}'.format(apikey)\n",
    "        t = film\n",
    "        plot = 'long'\n",
    "        url_params = {'t': t, 'plot' : plot}\n",
    "        response = requests.get(url, params = url_params)\n",
    "        film_desc.append(response.json()) "
   ]
  },
  {
   "cell_type": "markdown",
   "metadata": {},
   "source": [
    "# Testing Pulling Scripts From imsdb.com\n",
    "To-Do:\n",
    "1. make list of script-specific stop words \n",
    "2. remove all-caps character names from word distributions"
   ]
  },
  {
   "cell_type": "code",
   "execution_count": 6,
   "metadata": {
    "ExecuteTime": {
     "end_time": "2020-07-01T12:19:00.806407Z",
     "start_time": "2020-07-01T12:19:00.138973Z"
    }
   },
   "outputs": [],
   "source": [
    "test_script=pull_script('https://www.imsdb.com/scripts/Lord-of-the-Rings-Fellowship-of-the-Ring,-The.html')"
   ]
  },
  {
   "cell_type": "code",
   "execution_count": 7,
   "metadata": {
    "ExecuteTime": {
     "end_time": "2020-07-01T12:19:02.610462Z",
     "start_time": "2020-07-01T12:19:00.808523Z"
    }
   },
   "outputs": [
    {
     "data": {
      "text/plain": [
       "17449"
      ]
     },
     "execution_count": 7,
     "metadata": {},
     "output_type": "execute_result"
    }
   ],
   "source": [
    "test_script_token=clean_lemmatize_token(test_script)\n",
    "len(test_script_token)"
   ]
  },
  {
   "cell_type": "code",
   "execution_count": 8,
   "metadata": {
    "ExecuteTime": {
     "end_time": "2020-07-01T12:19:02.635602Z",
     "start_time": "2020-07-01T12:19:02.614657Z"
    }
   },
   "outputs": [
    {
     "data": {
      "text/plain": [
       "[('b', 2351),\n",
       " ('frodo', 461),\n",
       " ('gandalf', 338),\n",
       " ('bb', 235),\n",
       " ('sam', 171),\n",
       " ('ring', 168),\n",
       " ('contd', 163),\n",
       " ('bilbo', 121),\n",
       " ('aragorn', 110),\n",
       " ('look', 109),\n",
       " ('pippin', 105),\n",
       " ('boromir', 102),\n",
       " ('close', 100),\n",
       " ('cut', 100),\n",
       " ('continued', 94),\n",
       " ('bbcontinued', 94),\n",
       " ('merry', 93),\n",
       " ('bext', 86),\n",
       " ('strider', 83),\n",
       " ('one', 82),\n",
       " ('hobbit', 75),\n",
       " ('night', 75),\n",
       " ('day', 73),\n",
       " ('galadriel', 72),\n",
       " ('eye', 72),\n",
       " ('saruman', 65),\n",
       " ('vo', 62),\n",
       " ('suddenly', 60),\n",
       " ('away', 58),\n",
       " ('hand', 55),\n",
       " ('bint', 53),\n",
       " ('gimli', 52),\n",
       " ('back', 49),\n",
       " ('fellowship', 46),\n",
       " ('go', 46),\n",
       " ('towards', 45),\n",
       " ('come', 44),\n",
       " ('frodos', 43),\n",
       " ('arwen', 43),\n",
       " ('legolas', 43),\n",
       " ('elrond', 41),\n",
       " ('sword', 41),\n",
       " ('foot', 41),\n",
       " ('turn', 40),\n",
       " ('great', 39),\n",
       " ('face', 39),\n",
       " ('black', 38),\n",
       " ('know', 37),\n",
       " ('white', 36),\n",
       " ('end', 36)]"
      ]
     },
     "execution_count": 8,
     "metadata": {},
     "output_type": "execute_result"
    }
   ],
   "source": [
    "script_freqdist = FreqDist(test_script_token)\n",
    "script_freqdist.most_common(50)"
   ]
  },
  {
   "cell_type": "markdown",
   "metadata": {},
   "source": [
    "# Clean and Import IMDB Data"
   ]
  },
  {
   "cell_type": "code",
   "execution_count": 9,
   "metadata": {
    "ExecuteTime": {
     "end_time": "2020-07-01T12:19:02.642132Z",
     "start_time": "2020-07-01T12:19:02.639475Z"
    }
   },
   "outputs": [],
   "source": [
    "#imdb1 = pd.read_csv('/Users/will4856/ProjectDataFolder/title.basics_updated.tsv', sep = '\\t')\n",
    "#imdb2 = pd.read_csv('/Users/will4856/ProjectDataFolder/title.akas_updated.tsv', sep = '\\t')"
   ]
  },
  {
   "cell_type": "code",
   "execution_count": 10,
   "metadata": {
    "ExecuteTime": {
     "end_time": "2020-07-01T12:19:02.646281Z",
     "start_time": "2020-07-01T12:19:02.644162Z"
    }
   },
   "outputs": [],
   "source": [
    "#imdb2 = imdb2.loc[imdb2['region'] == 'US']\n",
    "#imdb_merge = imdb2.merge(imdb1, left_on = 'titleId', right_on = 'tconst')"
   ]
  },
  {
   "cell_type": "code",
   "execution_count": 11,
   "metadata": {
    "ExecuteTime": {
     "end_time": "2020-07-01T12:19:02.650480Z",
     "start_time": "2020-07-01T12:19:02.648204Z"
    }
   },
   "outputs": [],
   "source": [
    "#imdb_merge.head()"
   ]
  },
  {
   "cell_type": "code",
   "execution_count": 12,
   "metadata": {
    "ExecuteTime": {
     "end_time": "2020-07-01T12:19:02.654530Z",
     "start_time": "2020-07-01T12:19:02.652580Z"
    }
   },
   "outputs": [],
   "source": [
    "#imdb_merge = imdb_merge.loc[imdb_merge['titleType'] == 'movie']\n",
    "#imdb_merge.info()"
   ]
  },
  {
   "cell_type": "code",
   "execution_count": 13,
   "metadata": {
    "ExecuteTime": {
     "end_time": "2020-07-01T12:19:02.660770Z",
     "start_time": "2020-07-01T12:19:02.657264Z"
    }
   },
   "outputs": [],
   "source": [
    "#imdb_merge.replace(to_replace='\\\\N', value='0', inplace=True)\n",
    "#imdb_merge = imdb_merge.astype({'startYear':'int64'})"
   ]
  },
  {
   "cell_type": "code",
   "execution_count": 14,
   "metadata": {
    "ExecuteTime": {
     "end_time": "2020-07-01T12:19:02.666182Z",
     "start_time": "2020-07-01T12:19:02.663585Z"
    }
   },
   "outputs": [],
   "source": [
    "#imdb_merge['startYear'].value_counts()"
   ]
  },
  {
   "cell_type": "code",
   "execution_count": 15,
   "metadata": {
    "ExecuteTime": {
     "end_time": "2020-07-01T12:19:02.670835Z",
     "start_time": "2020-07-01T12:19:02.668396Z"
    }
   },
   "outputs": [],
   "source": [
    "#imdb_merge = imdb_merge.loc[imdb_merge.startYear != 0]"
   ]
  },
  {
   "cell_type": "code",
   "execution_count": 16,
   "metadata": {
    "ExecuteTime": {
     "end_time": "2020-07-01T12:19:02.675024Z",
     "start_time": "2020-07-01T12:19:02.672572Z"
    }
   },
   "outputs": [],
   "source": [
    "#imdb_merge.info()"
   ]
  },
  {
   "cell_type": "code",
   "execution_count": 17,
   "metadata": {
    "ExecuteTime": {
     "end_time": "2020-07-01T12:19:02.679561Z",
     "start_time": "2020-07-01T12:19:02.676981Z"
    }
   },
   "outputs": [],
   "source": [
    "#imdb_merge['startYear'].hist()"
   ]
  },
  {
   "cell_type": "code",
   "execution_count": 18,
   "metadata": {
    "ExecuteTime": {
     "end_time": "2020-07-01T12:19:02.685037Z",
     "start_time": "2020-07-01T12:19:02.681783Z"
    }
   },
   "outputs": [],
   "source": [
    "#imdb_merge.head(5)"
   ]
  },
  {
   "cell_type": "code",
   "execution_count": 19,
   "metadata": {
    "ExecuteTime": {
     "end_time": "2020-07-01T12:19:02.692420Z",
     "start_time": "2020-07-01T12:19:02.688441Z"
    }
   },
   "outputs": [],
   "source": [
    "#imdb_merge=imdb_merge.loc[imdb_merge['startYear'] >= 1975]"
   ]
  },
  {
   "cell_type": "code",
   "execution_count": 20,
   "metadata": {
    "ExecuteTime": {
     "end_time": "2020-07-01T12:19:02.697782Z",
     "start_time": "2020-07-01T12:19:02.695529Z"
    }
   },
   "outputs": [],
   "source": [
    "#imdb_merge.head()"
   ]
  },
  {
   "cell_type": "code",
   "execution_count": 21,
   "metadata": {
    "ExecuteTime": {
     "end_time": "2020-07-01T12:19:02.702206Z",
     "start_time": "2020-07-01T12:19:02.699776Z"
    }
   },
   "outputs": [],
   "source": [
    "#imdb_merge.sort_values('startYear').drop_duplicates('primaryTitle',keep='first')"
   ]
  },
  {
   "cell_type": "markdown",
   "metadata": {},
   "source": [
    "# Scraping From OMDB and The Numbers.com"
   ]
  },
  {
   "cell_type": "code",
   "execution_count": 22,
   "metadata": {
    "ExecuteTime": {
     "end_time": "2020-07-01T12:19:02.706344Z",
     "start_time": "2020-07-01T12:19:02.704193Z"
    }
   },
   "outputs": [],
   "source": [
    "#get_tn('https://www.the-numbers.com/box-office-records/worldwide/all-movies/cumulative/all-time')"
   ]
  },
  {
   "cell_type": "code",
   "execution_count": 23,
   "metadata": {
    "ExecuteTime": {
     "end_time": "2020-07-01T12:19:02.720077Z",
     "start_time": "2020-07-01T12:19:02.717363Z"
    }
   },
   "outputs": [],
   "source": [
    "#pages = ['101','201','301','401','501','601','701','801','901']"
   ]
  },
  {
   "cell_type": "code",
   "execution_count": 24,
   "metadata": {
    "ExecuteTime": {
     "end_time": "2020-07-01T12:19:02.727101Z",
     "start_time": "2020-07-01T12:19:02.725155Z"
    }
   },
   "outputs": [],
   "source": [
    "#for page in pages:\n",
    "    #get_tn(url='https://www.the-numbers.com/box-office-records/domestic/all-movies/cumulative/all-time/{}'.format(page))"
   ]
  },
  {
   "cell_type": "code",
   "execution_count": 25,
   "metadata": {
    "ExecuteTime": {
     "end_time": "2020-07-01T12:19:02.731964Z",
     "start_time": "2020-07-01T12:19:02.729132Z"
    }
   },
   "outputs": [],
   "source": [
    "#len(top_films)"
   ]
  },
  {
   "cell_type": "code",
   "execution_count": 26,
   "metadata": {
    "ExecuteTime": {
     "end_time": "2020-07-01T12:19:02.811040Z",
     "start_time": "2020-07-01T12:19:02.734798Z"
    }
   },
   "outputs": [
    {
     "data": {
      "text/html": [
       "<div>\n",
       "<style scoped>\n",
       "    .dataframe tbody tr th:only-of-type {\n",
       "        vertical-align: middle;\n",
       "    }\n",
       "\n",
       "    .dataframe tbody tr th {\n",
       "        vertical-align: top;\n",
       "    }\n",
       "\n",
       "    .dataframe thead th {\n",
       "        text-align: right;\n",
       "    }\n",
       "</style>\n",
       "<table border=\"1\" class=\"dataframe\">\n",
       "  <thead>\n",
       "    <tr style=\"text-align: right;\">\n",
       "      <th></th>\n",
       "      <th>Unnamed: 0</th>\n",
       "      <th>Title</th>\n",
       "      <th>Year</th>\n",
       "      <th>Rated</th>\n",
       "      <th>Released</th>\n",
       "      <th>Runtime</th>\n",
       "      <th>Genre</th>\n",
       "      <th>Director</th>\n",
       "      <th>Writer</th>\n",
       "      <th>Actors</th>\n",
       "      <th>Plot</th>\n",
       "      <th>Language</th>\n",
       "      <th>Country</th>\n",
       "      <th>Awards</th>\n",
       "      <th>Poster</th>\n",
       "      <th>Ratings</th>\n",
       "      <th>Metascore</th>\n",
       "      <th>imdbRating</th>\n",
       "      <th>imdbVotes</th>\n",
       "      <th>imdbID</th>\n",
       "      <th>Type</th>\n",
       "      <th>DVD</th>\n",
       "      <th>BoxOffice</th>\n",
       "      <th>Production</th>\n",
       "      <th>Website</th>\n",
       "      <th>Response</th>\n",
       "      <th>Error</th>\n",
       "      <th>totalSeasons</th>\n",
       "    </tr>\n",
       "  </thead>\n",
       "  <tbody>\n",
       "    <tr>\n",
       "      <td>0</td>\n",
       "      <td>0</td>\n",
       "      <td>Avengers: Endgame</td>\n",
       "      <td>2019</td>\n",
       "      <td>PG-13</td>\n",
       "      <td>26 Apr 2019</td>\n",
       "      <td>181 min</td>\n",
       "      <td>Action, Adventure, Drama, Sci-Fi</td>\n",
       "      <td>Anthony Russo, Joe Russo</td>\n",
       "      <td>Christopher Markus (screenplay by), Stephen Mc...</td>\n",
       "      <td>Robert Downey Jr., Chris Evans, Mark Ruffalo, ...</td>\n",
       "      <td>After the devastating events of Avengers: Infi...</td>\n",
       "      <td>English, Japanese, Xhosa, German</td>\n",
       "      <td>USA</td>\n",
       "      <td>Nominated for 1 Oscar. Another 65 wins &amp; 103 n...</td>\n",
       "      <td>https://m.media-amazon.com/images/M/MV5BMTc5MD...</td>\n",
       "      <td>[{'Source': 'Internet Movie Database', 'Value'...</td>\n",
       "      <td>78.0</td>\n",
       "      <td>8.4</td>\n",
       "      <td>730,943</td>\n",
       "      <td>tt4154796</td>\n",
       "      <td>movie</td>\n",
       "      <td>30 Jul 2019</td>\n",
       "      <td>NaN</td>\n",
       "      <td>Marvel Studios</td>\n",
       "      <td>NaN</td>\n",
       "      <td>True</td>\n",
       "      <td>NaN</td>\n",
       "      <td>NaN</td>\n",
       "    </tr>\n",
       "    <tr>\n",
       "      <td>1</td>\n",
       "      <td>1</td>\n",
       "      <td>Avatar</td>\n",
       "      <td>2009</td>\n",
       "      <td>PG-13</td>\n",
       "      <td>18 Dec 2009</td>\n",
       "      <td>162 min</td>\n",
       "      <td>Action, Adventure, Fantasy, Sci-Fi</td>\n",
       "      <td>James Cameron</td>\n",
       "      <td>James Cameron</td>\n",
       "      <td>Sam Worthington, Zoe Saldana, Sigourney Weaver...</td>\n",
       "      <td>A paraplegic Marine dispatched to the moon Pan...</td>\n",
       "      <td>English, Spanish</td>\n",
       "      <td>USA</td>\n",
       "      <td>Won 3 Oscars. Another 86 wins &amp; 129 nominations.</td>\n",
       "      <td>https://m.media-amazon.com/images/M/MV5BMTYwOT...</td>\n",
       "      <td>[{'Source': 'Internet Movie Database', 'Value'...</td>\n",
       "      <td>83.0</td>\n",
       "      <td>7.8</td>\n",
       "      <td>1,091,877</td>\n",
       "      <td>tt0499549</td>\n",
       "      <td>movie</td>\n",
       "      <td>22 Apr 2010</td>\n",
       "      <td>$749,700,000</td>\n",
       "      <td>20th Century Fox</td>\n",
       "      <td>NaN</td>\n",
       "      <td>True</td>\n",
       "      <td>NaN</td>\n",
       "      <td>NaN</td>\n",
       "    </tr>\n",
       "    <tr>\n",
       "      <td>2</td>\n",
       "      <td>2</td>\n",
       "      <td>Titanic</td>\n",
       "      <td>1997</td>\n",
       "      <td>PG-13</td>\n",
       "      <td>19 Dec 1997</td>\n",
       "      <td>194 min</td>\n",
       "      <td>Drama, Romance</td>\n",
       "      <td>James Cameron</td>\n",
       "      <td>James Cameron</td>\n",
       "      <td>Leonardo DiCaprio, Kate Winslet, Billy Zane, K...</td>\n",
       "      <td>A seventeen-year-old aristocrat falls in love ...</td>\n",
       "      <td>English, Swedish, Italian</td>\n",
       "      <td>USA, Mexico, Australia, Canada</td>\n",
       "      <td>Won 11 Oscars. Another 113 wins &amp; 83 nominations.</td>\n",
       "      <td>https://m.media-amazon.com/images/M/MV5BMDdmZG...</td>\n",
       "      <td>[{'Source': 'Internet Movie Database', 'Value'...</td>\n",
       "      <td>75.0</td>\n",
       "      <td>7.8</td>\n",
       "      <td>1,015,018</td>\n",
       "      <td>tt0120338</td>\n",
       "      <td>movie</td>\n",
       "      <td>10 Sep 2012</td>\n",
       "      <td>NaN</td>\n",
       "      <td>Paramount Pictures</td>\n",
       "      <td>NaN</td>\n",
       "      <td>True</td>\n",
       "      <td>NaN</td>\n",
       "      <td>NaN</td>\n",
       "    </tr>\n",
       "    <tr>\n",
       "      <td>3</td>\n",
       "      <td>3</td>\n",
       "      <td>NaN</td>\n",
       "      <td>NaN</td>\n",
       "      <td>NaN</td>\n",
       "      <td>NaN</td>\n",
       "      <td>NaN</td>\n",
       "      <td>NaN</td>\n",
       "      <td>NaN</td>\n",
       "      <td>NaN</td>\n",
       "      <td>NaN</td>\n",
       "      <td>NaN</td>\n",
       "      <td>NaN</td>\n",
       "      <td>NaN</td>\n",
       "      <td>NaN</td>\n",
       "      <td>NaN</td>\n",
       "      <td>NaN</td>\n",
       "      <td>NaN</td>\n",
       "      <td>NaN</td>\n",
       "      <td>NaN</td>\n",
       "      <td>NaN</td>\n",
       "      <td>NaN</td>\n",
       "      <td>NaN</td>\n",
       "      <td>NaN</td>\n",
       "      <td>NaN</td>\n",
       "      <td>NaN</td>\n",
       "      <td>False</td>\n",
       "      <td>Movie not found!</td>\n",
       "      <td>NaN</td>\n",
       "    </tr>\n",
       "    <tr>\n",
       "      <td>4</td>\n",
       "      <td>4</td>\n",
       "      <td>Avengers: Infinity War</td>\n",
       "      <td>2018</td>\n",
       "      <td>PG-13</td>\n",
       "      <td>27 Apr 2018</td>\n",
       "      <td>149 min</td>\n",
       "      <td>Action, Adventure, Sci-Fi</td>\n",
       "      <td>Anthony Russo, Joe Russo</td>\n",
       "      <td>Christopher Markus (screenplay by), Stephen Mc...</td>\n",
       "      <td>Robert Downey Jr., Chris Hemsworth, Mark Ruffa...</td>\n",
       "      <td>The Avengers and their allies must be willing ...</td>\n",
       "      <td>English</td>\n",
       "      <td>USA</td>\n",
       "      <td>Nominated for 1 Oscar. Another 46 wins &amp; 73 no...</td>\n",
       "      <td>https://m.media-amazon.com/images/M/MV5BMjMxNj...</td>\n",
       "      <td>[{'Source': 'Internet Movie Database', 'Value'...</td>\n",
       "      <td>68.0</td>\n",
       "      <td>8.5</td>\n",
       "      <td>777,609</td>\n",
       "      <td>tt4154756</td>\n",
       "      <td>movie</td>\n",
       "      <td>14 Aug 2018</td>\n",
       "      <td>$664,987,816</td>\n",
       "      <td>Walt Disney Pictures</td>\n",
       "      <td>NaN</td>\n",
       "      <td>True</td>\n",
       "      <td>NaN</td>\n",
       "      <td>NaN</td>\n",
       "    </tr>\n",
       "    <tr>\n",
       "      <td>5</td>\n",
       "      <td>5</td>\n",
       "      <td>Jurassic World</td>\n",
       "      <td>2015</td>\n",
       "      <td>PG-13</td>\n",
       "      <td>12 Jun 2015</td>\n",
       "      <td>124 min</td>\n",
       "      <td>Action, Adventure, Sci-Fi</td>\n",
       "      <td>Colin Trevorrow</td>\n",
       "      <td>Rick Jaffa (screenplay by), Amanda Silver (scr...</td>\n",
       "      <td>Chris Pratt, Bryce Dallas Howard, Irrfan Khan,...</td>\n",
       "      <td>A new theme park, built on the original site o...</td>\n",
       "      <td>English</td>\n",
       "      <td>USA</td>\n",
       "      <td>15 wins &amp; 57 nominations.</td>\n",
       "      <td>https://m.media-amazon.com/images/M/MV5BNzQ3OT...</td>\n",
       "      <td>[{'Source': 'Internet Movie Database', 'Value'...</td>\n",
       "      <td>59.0</td>\n",
       "      <td>7.0</td>\n",
       "      <td>563,786</td>\n",
       "      <td>tt0369610</td>\n",
       "      <td>movie</td>\n",
       "      <td>20 Oct 2015</td>\n",
       "      <td>$528,757,749</td>\n",
       "      <td>Universal Pictures</td>\n",
       "      <td>NaN</td>\n",
       "      <td>True</td>\n",
       "      <td>NaN</td>\n",
       "      <td>NaN</td>\n",
       "    </tr>\n",
       "    <tr>\n",
       "      <td>6</td>\n",
       "      <td>6</td>\n",
       "      <td>The Lion King</td>\n",
       "      <td>1994</td>\n",
       "      <td>G</td>\n",
       "      <td>24 Jun 1994</td>\n",
       "      <td>88 min</td>\n",
       "      <td>Animation, Adventure, Drama, Family, Musical</td>\n",
       "      <td>Roger Allers, Rob Minkoff</td>\n",
       "      <td>Irene Mecchi (screenplay by), Jonathan Roberts...</td>\n",
       "      <td>Rowan Atkinson, Matthew Broderick, Niketa Cala...</td>\n",
       "      <td>A lion cub prince is tricked by a treacherous ...</td>\n",
       "      <td>English, Swahili, Xhosa, Zulu</td>\n",
       "      <td>USA</td>\n",
       "      <td>Won 2 Oscars. Another 35 wins &amp; 34 nominations.</td>\n",
       "      <td>https://m.media-amazon.com/images/M/MV5BYTYxNG...</td>\n",
       "      <td>[{'Source': 'Internet Movie Database', 'Value'...</td>\n",
       "      <td>88.0</td>\n",
       "      <td>8.5</td>\n",
       "      <td>907,281</td>\n",
       "      <td>tt0110357</td>\n",
       "      <td>movie</td>\n",
       "      <td>07 Oct 2003</td>\n",
       "      <td>$94,240,635</td>\n",
       "      <td>Buena Vista</td>\n",
       "      <td>NaN</td>\n",
       "      <td>True</td>\n",
       "      <td>NaN</td>\n",
       "      <td>NaN</td>\n",
       "    </tr>\n",
       "    <tr>\n",
       "      <td>7</td>\n",
       "      <td>7</td>\n",
       "      <td>Furious 7</td>\n",
       "      <td>2015</td>\n",
       "      <td>PG-13</td>\n",
       "      <td>03 Apr 2015</td>\n",
       "      <td>137 min</td>\n",
       "      <td>Action, Adventure, Crime, Thriller</td>\n",
       "      <td>James Wan</td>\n",
       "      <td>Chris Morgan, Gary Scott Thompson (characters)</td>\n",
       "      <td>Vin Diesel, Paul Walker, Jason Statham, Michel...</td>\n",
       "      <td>Deckard Shaw seeks revenge against Dominic Tor...</td>\n",
       "      <td>English, Thai, Arabic, Spanish</td>\n",
       "      <td>USA, China, Japan, Canada, United Arab Emirates</td>\n",
       "      <td>Nominated for 1 Golden Globe. Another 33 wins ...</td>\n",
       "      <td>https://m.media-amazon.com/images/M/MV5BMTQxOT...</td>\n",
       "      <td>[{'Source': 'Internet Movie Database', 'Value'...</td>\n",
       "      <td>67.0</td>\n",
       "      <td>7.2</td>\n",
       "      <td>349,835</td>\n",
       "      <td>tt2820852</td>\n",
       "      <td>movie</td>\n",
       "      <td>15 Sep 2015</td>\n",
       "      <td>$316,986,481</td>\n",
       "      <td>Universal Pictures</td>\n",
       "      <td>NaN</td>\n",
       "      <td>True</td>\n",
       "      <td>NaN</td>\n",
       "      <td>NaN</td>\n",
       "    </tr>\n",
       "    <tr>\n",
       "      <td>8</td>\n",
       "      <td>8</td>\n",
       "      <td>The Avengers</td>\n",
       "      <td>2012</td>\n",
       "      <td>PG-13</td>\n",
       "      <td>04 May 2012</td>\n",
       "      <td>143 min</td>\n",
       "      <td>Action, Adventure, Sci-Fi</td>\n",
       "      <td>Joss Whedon</td>\n",
       "      <td>Joss Whedon (screenplay), Zak Penn (story), Jo...</td>\n",
       "      <td>Robert Downey Jr., Chris Evans, Mark Ruffalo, ...</td>\n",
       "      <td>Earth's mightiest heroes must come together an...</td>\n",
       "      <td>English, Russian, Hindi</td>\n",
       "      <td>USA</td>\n",
       "      <td>Nominated for 1 Oscar. Another 38 wins &amp; 79 no...</td>\n",
       "      <td>https://m.media-amazon.com/images/M/MV5BNDYxNj...</td>\n",
       "      <td>[{'Source': 'Internet Movie Database', 'Value'...</td>\n",
       "      <td>69.0</td>\n",
       "      <td>8.0</td>\n",
       "      <td>1,234,641</td>\n",
       "      <td>tt0848228</td>\n",
       "      <td>movie</td>\n",
       "      <td>25 Sep 2012</td>\n",
       "      <td>$623,279,547</td>\n",
       "      <td>Walt Disney Pictures</td>\n",
       "      <td>NaN</td>\n",
       "      <td>True</td>\n",
       "      <td>NaN</td>\n",
       "      <td>NaN</td>\n",
       "    </tr>\n",
       "    <tr>\n",
       "      <td>9</td>\n",
       "      <td>9</td>\n",
       "      <td>Frozen II</td>\n",
       "      <td>2019</td>\n",
       "      <td>PG</td>\n",
       "      <td>22 Nov 2019</td>\n",
       "      <td>103 min</td>\n",
       "      <td>Animation, Adventure, Comedy, Family, Fantasy,...</td>\n",
       "      <td>Chris Buck, Jennifer Lee</td>\n",
       "      <td>Jennifer Lee (screenplay by), Hans Christian A...</td>\n",
       "      <td>Kristen Bell, Idina Menzel, Josh Gad, Jonathan...</td>\n",
       "      <td>Anna, Elsa, Kristoff, Olaf and Sven leave Aren...</td>\n",
       "      <td>English</td>\n",
       "      <td>USA</td>\n",
       "      <td>Nominated for 1 Oscar. Another 15 wins &amp; 71 no...</td>\n",
       "      <td>https://m.media-amazon.com/images/M/MV5BMjA0Yj...</td>\n",
       "      <td>[{'Source': 'Internet Movie Database', 'Value'...</td>\n",
       "      <td>64.0</td>\n",
       "      <td>6.9</td>\n",
       "      <td>111,002</td>\n",
       "      <td>tt4520988</td>\n",
       "      <td>movie</td>\n",
       "      <td>NaN</td>\n",
       "      <td>NaN</td>\n",
       "      <td>NaN</td>\n",
       "      <td>NaN</td>\n",
       "      <td>True</td>\n",
       "      <td>NaN</td>\n",
       "      <td>NaN</td>\n",
       "    </tr>\n",
       "    <tr>\n",
       "      <td>10</td>\n",
       "      <td>10</td>\n",
       "      <td>Avengers: Age of Ultron</td>\n",
       "      <td>2015</td>\n",
       "      <td>PG-13</td>\n",
       "      <td>01 May 2015</td>\n",
       "      <td>141 min</td>\n",
       "      <td>Action, Adventure, Sci-Fi</td>\n",
       "      <td>Joss Whedon</td>\n",
       "      <td>Joss Whedon, Stan Lee (based on the Marvel com...</td>\n",
       "      <td>Robert Downey Jr., Chris Hemsworth, Mark Ruffa...</td>\n",
       "      <td>When Tony Stark and Bruce Banner try to jump-s...</td>\n",
       "      <td>English, Korean</td>\n",
       "      <td>USA</td>\n",
       "      <td>8 wins &amp; 47 nominations.</td>\n",
       "      <td>https://m.media-amazon.com/images/M/MV5BMTM4OG...</td>\n",
       "      <td>[{'Source': 'Internet Movie Database', 'Value'...</td>\n",
       "      <td>66.0</td>\n",
       "      <td>7.3</td>\n",
       "      <td>714,938</td>\n",
       "      <td>tt2395427</td>\n",
       "      <td>movie</td>\n",
       "      <td>02 Oct 2015</td>\n",
       "      <td>$429,113,729</td>\n",
       "      <td>Walt Disney Pictures</td>\n",
       "      <td>NaN</td>\n",
       "      <td>True</td>\n",
       "      <td>NaN</td>\n",
       "      <td>NaN</td>\n",
       "    </tr>\n",
       "    <tr>\n",
       "      <td>11</td>\n",
       "      <td>11</td>\n",
       "      <td>Black Panther</td>\n",
       "      <td>2018</td>\n",
       "      <td>PG-13</td>\n",
       "      <td>16 Feb 2018</td>\n",
       "      <td>134 min</td>\n",
       "      <td>Action, Adventure, Sci-Fi</td>\n",
       "      <td>Ryan Coogler</td>\n",
       "      <td>Ryan Coogler, Joe Robert Cole, Stan Lee (based...</td>\n",
       "      <td>Chadwick Boseman, Michael B. Jordan, Lupita Ny...</td>\n",
       "      <td>T'Challa, heir to the hidden but advanced king...</td>\n",
       "      <td>English, Swahili, Nama, Xhosa, Korean</td>\n",
       "      <td>USA</td>\n",
       "      <td>Won 3 Oscars. Another 109 wins &amp; 265 nominations.</td>\n",
       "      <td>https://m.media-amazon.com/images/M/MV5BMTg1MT...</td>\n",
       "      <td>[{'Source': 'Internet Movie Database', 'Value'...</td>\n",
       "      <td>88.0</td>\n",
       "      <td>7.3</td>\n",
       "      <td>583,565</td>\n",
       "      <td>tt1825683</td>\n",
       "      <td>movie</td>\n",
       "      <td>15 May 2018</td>\n",
       "      <td>$501,105,037</td>\n",
       "      <td>Marvel Studios</td>\n",
       "      <td>NaN</td>\n",
       "      <td>True</td>\n",
       "      <td>NaN</td>\n",
       "      <td>NaN</td>\n",
       "    </tr>\n",
       "    <tr>\n",
       "      <td>12</td>\n",
       "      <td>12</td>\n",
       "      <td>Harry Potter and the Deathly Hallows: Part 2</td>\n",
       "      <td>2011</td>\n",
       "      <td>PG-13</td>\n",
       "      <td>15 Jul 2011</td>\n",
       "      <td>130 min</td>\n",
       "      <td>Adventure, Drama, Fantasy, Mystery</td>\n",
       "      <td>David Yates</td>\n",
       "      <td>Steve Kloves (screenplay), J.K. Rowling (novel)</td>\n",
       "      <td>Ralph Fiennes, Michael Gambon, Alan Rickman, D...</td>\n",
       "      <td>Harry, Ron, and Hermione search for Voldemort'...</td>\n",
       "      <td>English</td>\n",
       "      <td>UK, USA</td>\n",
       "      <td>Nominated for 3 Oscars. Another 45 wins &amp; 91 n...</td>\n",
       "      <td>https://m.media-amazon.com/images/M/MV5BMjIyZG...</td>\n",
       "      <td>[{'Source': 'Internet Movie Database', 'Value'...</td>\n",
       "      <td>85.0</td>\n",
       "      <td>8.1</td>\n",
       "      <td>736,149</td>\n",
       "      <td>tt1201607</td>\n",
       "      <td>movie</td>\n",
       "      <td>11 Nov 2011</td>\n",
       "      <td>$381,000,185</td>\n",
       "      <td>Warner Bros. Pictures</td>\n",
       "      <td>NaN</td>\n",
       "      <td>True</td>\n",
       "      <td>NaN</td>\n",
       "      <td>NaN</td>\n",
       "    </tr>\n",
       "    <tr>\n",
       "      <td>13</td>\n",
       "      <td>13</td>\n",
       "      <td>NaN</td>\n",
       "      <td>NaN</td>\n",
       "      <td>NaN</td>\n",
       "      <td>NaN</td>\n",
       "      <td>NaN</td>\n",
       "      <td>NaN</td>\n",
       "      <td>NaN</td>\n",
       "      <td>NaN</td>\n",
       "      <td>NaN</td>\n",
       "      <td>NaN</td>\n",
       "      <td>NaN</td>\n",
       "      <td>NaN</td>\n",
       "      <td>NaN</td>\n",
       "      <td>NaN</td>\n",
       "      <td>NaN</td>\n",
       "      <td>NaN</td>\n",
       "      <td>NaN</td>\n",
       "      <td>NaN</td>\n",
       "      <td>NaN</td>\n",
       "      <td>NaN</td>\n",
       "      <td>NaN</td>\n",
       "      <td>NaN</td>\n",
       "      <td>NaN</td>\n",
       "      <td>NaN</td>\n",
       "      <td>False</td>\n",
       "      <td>Movie not found!</td>\n",
       "      <td>NaN</td>\n",
       "    </tr>\n",
       "    <tr>\n",
       "      <td>14</td>\n",
       "      <td>14</td>\n",
       "      <td>Jurassic World: Fallen Kingdom</td>\n",
       "      <td>2018</td>\n",
       "      <td>PG-13</td>\n",
       "      <td>22 Jun 2018</td>\n",
       "      <td>128 min</td>\n",
       "      <td>Action, Adventure, Sci-Fi</td>\n",
       "      <td>J.A. Bayona</td>\n",
       "      <td>Derek Connolly, Colin Trevorrow, Michael Crich...</td>\n",
       "      <td>Chris Pratt, Bryce Dallas Howard, Rafe Spall, ...</td>\n",
       "      <td>When the island's dormant volcano begins roari...</td>\n",
       "      <td>English, Russian</td>\n",
       "      <td>USA</td>\n",
       "      <td>4 wins &amp; 25 nominations.</td>\n",
       "      <td>https://m.media-amazon.com/images/M/MV5BNzIxMj...</td>\n",
       "      <td>[{'Source': 'Internet Movie Database', 'Value'...</td>\n",
       "      <td>51.0</td>\n",
       "      <td>6.2</td>\n",
       "      <td>248,322</td>\n",
       "      <td>tt4881806</td>\n",
       "      <td>movie</td>\n",
       "      <td>18 Sep 2018</td>\n",
       "      <td>NaN</td>\n",
       "      <td>Universal Pictures</td>\n",
       "      <td>NaN</td>\n",
       "      <td>True</td>\n",
       "      <td>NaN</td>\n",
       "      <td>NaN</td>\n",
       "    </tr>\n",
       "    <tr>\n",
       "      <td>15</td>\n",
       "      <td>15</td>\n",
       "      <td>Frozen</td>\n",
       "      <td>2013</td>\n",
       "      <td>PG</td>\n",
       "      <td>27 Nov 2013</td>\n",
       "      <td>102 min</td>\n",
       "      <td>Animation, Adventure, Comedy, Family, Fantasy,...</td>\n",
       "      <td>Chris Buck, Jennifer Lee</td>\n",
       "      <td>Jennifer Lee (screenplay by), Hans Christian A...</td>\n",
       "      <td>Kristen Bell, Idina Menzel, Jonathan Groff, Jo...</td>\n",
       "      <td>When the newly crowned Queen Elsa accidentally...</td>\n",
       "      <td>English, Norwegian</td>\n",
       "      <td>USA</td>\n",
       "      <td>Won 2 Oscars. Another 79 wins &amp; 59 nominations.</td>\n",
       "      <td>https://m.media-amazon.com/images/M/MV5BMTQ1Mj...</td>\n",
       "      <td>[{'Source': 'Internet Movie Database', 'Value'...</td>\n",
       "      <td>75.0</td>\n",
       "      <td>7.4</td>\n",
       "      <td>554,501</td>\n",
       "      <td>tt2294629</td>\n",
       "      <td>movie</td>\n",
       "      <td>18 Mar 2014</td>\n",
       "      <td>$400,736,600</td>\n",
       "      <td>Walt Disney Pictures</td>\n",
       "      <td>NaN</td>\n",
       "      <td>True</td>\n",
       "      <td>NaN</td>\n",
       "      <td>NaN</td>\n",
       "    </tr>\n",
       "    <tr>\n",
       "      <td>16</td>\n",
       "      <td>16</td>\n",
       "      <td>Beauty and the Beast</td>\n",
       "      <td>1991</td>\n",
       "      <td>G</td>\n",
       "      <td>22 Nov 1991</td>\n",
       "      <td>84 min</td>\n",
       "      <td>Animation, Family, Fantasy, Musical, Romance</td>\n",
       "      <td>Gary Trousdale, Kirk Wise</td>\n",
       "      <td>Linda Woolverton (animation screenplay by), Br...</td>\n",
       "      <td>Robby Benson, Jesse Corti, Rex Everhart, Angel...</td>\n",
       "      <td>A prince cursed to spend his days as a hideous...</td>\n",
       "      <td>English, French</td>\n",
       "      <td>USA</td>\n",
       "      <td>Won 2 Oscars. Another 26 wins &amp; 33 nominations.</td>\n",
       "      <td>https://m.media-amazon.com/images/M/MV5BMzE5MD...</td>\n",
       "      <td>[{'Source': 'Internet Movie Database', 'Value'...</td>\n",
       "      <td>95.0</td>\n",
       "      <td>8.0</td>\n",
       "      <td>406,983</td>\n",
       "      <td>tt0101414</td>\n",
       "      <td>movie</td>\n",
       "      <td>08 Oct 2002</td>\n",
       "      <td>$47,611,331</td>\n",
       "      <td>Buena Vista</td>\n",
       "      <td>NaN</td>\n",
       "      <td>True</td>\n",
       "      <td>NaN</td>\n",
       "      <td>NaN</td>\n",
       "    </tr>\n",
       "    <tr>\n",
       "      <td>17</td>\n",
       "      <td>17</td>\n",
       "      <td>Incredibles 2</td>\n",
       "      <td>2018</td>\n",
       "      <td>PG</td>\n",
       "      <td>15 Jun 2018</td>\n",
       "      <td>118 min</td>\n",
       "      <td>Animation, Action, Adventure, Comedy, Family, ...</td>\n",
       "      <td>Brad Bird</td>\n",
       "      <td>Brad Bird</td>\n",
       "      <td>Craig T. Nelson, Holly Hunter, Sarah Vowell, H...</td>\n",
       "      <td>The Incredibles hero family takes on a new mis...</td>\n",
       "      <td>English</td>\n",
       "      <td>USA</td>\n",
       "      <td>Nominated for 1 Oscar. Another 12 wins &amp; 73 no...</td>\n",
       "      <td>https://m.media-amazon.com/images/M/MV5BMTEzNz...</td>\n",
       "      <td>[{'Source': 'Internet Movie Database', 'Value'...</td>\n",
       "      <td>80.0</td>\n",
       "      <td>7.6</td>\n",
       "      <td>234,188</td>\n",
       "      <td>tt3606756</td>\n",
       "      <td>movie</td>\n",
       "      <td>23 Oct 2018</td>\n",
       "      <td>NaN</td>\n",
       "      <td>Disney/Pixar</td>\n",
       "      <td>NaN</td>\n",
       "      <td>True</td>\n",
       "      <td>NaN</td>\n",
       "      <td>NaN</td>\n",
       "    </tr>\n",
       "    <tr>\n",
       "      <td>18</td>\n",
       "      <td>18</td>\n",
       "      <td>The Fate of the Furious</td>\n",
       "      <td>2017</td>\n",
       "      <td>PG-13</td>\n",
       "      <td>14 Apr 2017</td>\n",
       "      <td>136 min</td>\n",
       "      <td>Action, Adventure, Crime, Thriller</td>\n",
       "      <td>F. Gary Gray</td>\n",
       "      <td>Gary Scott Thompson (based on characters creat...</td>\n",
       "      <td>Vin Diesel, Jason Statham, Dwayne Johnson, Mic...</td>\n",
       "      <td>When a mysterious woman seduces Dominic Torett...</td>\n",
       "      <td>English, Russian</td>\n",
       "      <td>China, USA, Japan</td>\n",
       "      <td>1 win &amp; 11 nominations.</td>\n",
       "      <td>https://m.media-amazon.com/images/M/MV5BMjMxOD...</td>\n",
       "      <td>[{'Source': 'Internet Movie Database', 'Value'...</td>\n",
       "      <td>56.0</td>\n",
       "      <td>6.7</td>\n",
       "      <td>196,404</td>\n",
       "      <td>tt4630562</td>\n",
       "      <td>movie</td>\n",
       "      <td>11 Jul 2017</td>\n",
       "      <td>$225,697,400</td>\n",
       "      <td>Universal Pictures</td>\n",
       "      <td>NaN</td>\n",
       "      <td>True</td>\n",
       "      <td>NaN</td>\n",
       "      <td>NaN</td>\n",
       "    </tr>\n",
       "    <tr>\n",
       "      <td>19</td>\n",
       "      <td>19</td>\n",
       "      <td>Iron Man 3</td>\n",
       "      <td>2013</td>\n",
       "      <td>PG-13</td>\n",
       "      <td>03 May 2013</td>\n",
       "      <td>130 min</td>\n",
       "      <td>Action, Adventure, Sci-Fi</td>\n",
       "      <td>Shane Black</td>\n",
       "      <td>Drew Pearce (screenplay by), Shane Black (scre...</td>\n",
       "      <td>Robert Downey Jr., Gwyneth Paltrow, Don Cheadl...</td>\n",
       "      <td>When Tony Stark's world is torn apart by a for...</td>\n",
       "      <td>English</td>\n",
       "      <td>USA</td>\n",
       "      <td>Nominated for 1 Oscar. Another 20 wins &amp; 62 no...</td>\n",
       "      <td>https://m.media-amazon.com/images/M/MV5BMjE5Mz...</td>\n",
       "      <td>[{'Source': 'Internet Movie Database', 'Value'...</td>\n",
       "      <td>62.0</td>\n",
       "      <td>7.2</td>\n",
       "      <td>734,396</td>\n",
       "      <td>tt1300854</td>\n",
       "      <td>movie</td>\n",
       "      <td>24 Sep 2013</td>\n",
       "      <td>$408,992,272</td>\n",
       "      <td>Walt Disney Pictures</td>\n",
       "      <td>NaN</td>\n",
       "      <td>True</td>\n",
       "      <td>NaN</td>\n",
       "      <td>NaN</td>\n",
       "    </tr>\n",
       "  </tbody>\n",
       "</table>\n",
       "</div>"
      ],
      "text/plain": [
       "    Unnamed: 0                                         Title  Year  Rated  \\\n",
       "0            0                             Avengers: Endgame  2019  PG-13   \n",
       "1            1                                        Avatar  2009  PG-13   \n",
       "2            2                                       Titanic  1997  PG-13   \n",
       "3            3                                           NaN   NaN    NaN   \n",
       "4            4                        Avengers: Infinity War  2018  PG-13   \n",
       "5            5                                Jurassic World  2015  PG-13   \n",
       "6            6                                 The Lion King  1994      G   \n",
       "7            7                                     Furious 7  2015  PG-13   \n",
       "8            8                                  The Avengers  2012  PG-13   \n",
       "9            9                                     Frozen II  2019     PG   \n",
       "10          10                       Avengers: Age of Ultron  2015  PG-13   \n",
       "11          11                                 Black Panther  2018  PG-13   \n",
       "12          12  Harry Potter and the Deathly Hallows: Part 2  2011  PG-13   \n",
       "13          13                                           NaN   NaN    NaN   \n",
       "14          14                Jurassic World: Fallen Kingdom  2018  PG-13   \n",
       "15          15                                        Frozen  2013     PG   \n",
       "16          16                          Beauty and the Beast  1991      G   \n",
       "17          17                                 Incredibles 2  2018     PG   \n",
       "18          18                       The Fate of the Furious  2017  PG-13   \n",
       "19          19                                    Iron Man 3  2013  PG-13   \n",
       "\n",
       "       Released  Runtime                                              Genre  \\\n",
       "0   26 Apr 2019  181 min                   Action, Adventure, Drama, Sci-Fi   \n",
       "1   18 Dec 2009  162 min                 Action, Adventure, Fantasy, Sci-Fi   \n",
       "2   19 Dec 1997  194 min                                     Drama, Romance   \n",
       "3           NaN      NaN                                                NaN   \n",
       "4   27 Apr 2018  149 min                          Action, Adventure, Sci-Fi   \n",
       "5   12 Jun 2015  124 min                          Action, Adventure, Sci-Fi   \n",
       "6   24 Jun 1994   88 min       Animation, Adventure, Drama, Family, Musical   \n",
       "7   03 Apr 2015  137 min                 Action, Adventure, Crime, Thriller   \n",
       "8   04 May 2012  143 min                          Action, Adventure, Sci-Fi   \n",
       "9   22 Nov 2019  103 min  Animation, Adventure, Comedy, Family, Fantasy,...   \n",
       "10  01 May 2015  141 min                          Action, Adventure, Sci-Fi   \n",
       "11  16 Feb 2018  134 min                          Action, Adventure, Sci-Fi   \n",
       "12  15 Jul 2011  130 min                 Adventure, Drama, Fantasy, Mystery   \n",
       "13          NaN      NaN                                                NaN   \n",
       "14  22 Jun 2018  128 min                          Action, Adventure, Sci-Fi   \n",
       "15  27 Nov 2013  102 min  Animation, Adventure, Comedy, Family, Fantasy,...   \n",
       "16  22 Nov 1991   84 min       Animation, Family, Fantasy, Musical, Romance   \n",
       "17  15 Jun 2018  118 min  Animation, Action, Adventure, Comedy, Family, ...   \n",
       "18  14 Apr 2017  136 min                 Action, Adventure, Crime, Thriller   \n",
       "19  03 May 2013  130 min                          Action, Adventure, Sci-Fi   \n",
       "\n",
       "                     Director  \\\n",
       "0    Anthony Russo, Joe Russo   \n",
       "1               James Cameron   \n",
       "2               James Cameron   \n",
       "3                         NaN   \n",
       "4    Anthony Russo, Joe Russo   \n",
       "5             Colin Trevorrow   \n",
       "6   Roger Allers, Rob Minkoff   \n",
       "7                   James Wan   \n",
       "8                 Joss Whedon   \n",
       "9    Chris Buck, Jennifer Lee   \n",
       "10                Joss Whedon   \n",
       "11               Ryan Coogler   \n",
       "12                David Yates   \n",
       "13                        NaN   \n",
       "14                J.A. Bayona   \n",
       "15   Chris Buck, Jennifer Lee   \n",
       "16  Gary Trousdale, Kirk Wise   \n",
       "17                  Brad Bird   \n",
       "18               F. Gary Gray   \n",
       "19                Shane Black   \n",
       "\n",
       "                                               Writer  \\\n",
       "0   Christopher Markus (screenplay by), Stephen Mc...   \n",
       "1                                       James Cameron   \n",
       "2                                       James Cameron   \n",
       "3                                                 NaN   \n",
       "4   Christopher Markus (screenplay by), Stephen Mc...   \n",
       "5   Rick Jaffa (screenplay by), Amanda Silver (scr...   \n",
       "6   Irene Mecchi (screenplay by), Jonathan Roberts...   \n",
       "7      Chris Morgan, Gary Scott Thompson (characters)   \n",
       "8   Joss Whedon (screenplay), Zak Penn (story), Jo...   \n",
       "9   Jennifer Lee (screenplay by), Hans Christian A...   \n",
       "10  Joss Whedon, Stan Lee (based on the Marvel com...   \n",
       "11  Ryan Coogler, Joe Robert Cole, Stan Lee (based...   \n",
       "12    Steve Kloves (screenplay), J.K. Rowling (novel)   \n",
       "13                                                NaN   \n",
       "14  Derek Connolly, Colin Trevorrow, Michael Crich...   \n",
       "15  Jennifer Lee (screenplay by), Hans Christian A...   \n",
       "16  Linda Woolverton (animation screenplay by), Br...   \n",
       "17                                          Brad Bird   \n",
       "18  Gary Scott Thompson (based on characters creat...   \n",
       "19  Drew Pearce (screenplay by), Shane Black (scre...   \n",
       "\n",
       "                                               Actors  \\\n",
       "0   Robert Downey Jr., Chris Evans, Mark Ruffalo, ...   \n",
       "1   Sam Worthington, Zoe Saldana, Sigourney Weaver...   \n",
       "2   Leonardo DiCaprio, Kate Winslet, Billy Zane, K...   \n",
       "3                                                 NaN   \n",
       "4   Robert Downey Jr., Chris Hemsworth, Mark Ruffa...   \n",
       "5   Chris Pratt, Bryce Dallas Howard, Irrfan Khan,...   \n",
       "6   Rowan Atkinson, Matthew Broderick, Niketa Cala...   \n",
       "7   Vin Diesel, Paul Walker, Jason Statham, Michel...   \n",
       "8   Robert Downey Jr., Chris Evans, Mark Ruffalo, ...   \n",
       "9   Kristen Bell, Idina Menzel, Josh Gad, Jonathan...   \n",
       "10  Robert Downey Jr., Chris Hemsworth, Mark Ruffa...   \n",
       "11  Chadwick Boseman, Michael B. Jordan, Lupita Ny...   \n",
       "12  Ralph Fiennes, Michael Gambon, Alan Rickman, D...   \n",
       "13                                                NaN   \n",
       "14  Chris Pratt, Bryce Dallas Howard, Rafe Spall, ...   \n",
       "15  Kristen Bell, Idina Menzel, Jonathan Groff, Jo...   \n",
       "16  Robby Benson, Jesse Corti, Rex Everhart, Angel...   \n",
       "17  Craig T. Nelson, Holly Hunter, Sarah Vowell, H...   \n",
       "18  Vin Diesel, Jason Statham, Dwayne Johnson, Mic...   \n",
       "19  Robert Downey Jr., Gwyneth Paltrow, Don Cheadl...   \n",
       "\n",
       "                                                 Plot  \\\n",
       "0   After the devastating events of Avengers: Infi...   \n",
       "1   A paraplegic Marine dispatched to the moon Pan...   \n",
       "2   A seventeen-year-old aristocrat falls in love ...   \n",
       "3                                                 NaN   \n",
       "4   The Avengers and their allies must be willing ...   \n",
       "5   A new theme park, built on the original site o...   \n",
       "6   A lion cub prince is tricked by a treacherous ...   \n",
       "7   Deckard Shaw seeks revenge against Dominic Tor...   \n",
       "8   Earth's mightiest heroes must come together an...   \n",
       "9   Anna, Elsa, Kristoff, Olaf and Sven leave Aren...   \n",
       "10  When Tony Stark and Bruce Banner try to jump-s...   \n",
       "11  T'Challa, heir to the hidden but advanced king...   \n",
       "12  Harry, Ron, and Hermione search for Voldemort'...   \n",
       "13                                                NaN   \n",
       "14  When the island's dormant volcano begins roari...   \n",
       "15  When the newly crowned Queen Elsa accidentally...   \n",
       "16  A prince cursed to spend his days as a hideous...   \n",
       "17  The Incredibles hero family takes on a new mis...   \n",
       "18  When a mysterious woman seduces Dominic Torett...   \n",
       "19  When Tony Stark's world is torn apart by a for...   \n",
       "\n",
       "                                 Language  \\\n",
       "0        English, Japanese, Xhosa, German   \n",
       "1                        English, Spanish   \n",
       "2               English, Swedish, Italian   \n",
       "3                                     NaN   \n",
       "4                                 English   \n",
       "5                                 English   \n",
       "6           English, Swahili, Xhosa, Zulu   \n",
       "7          English, Thai, Arabic, Spanish   \n",
       "8                 English, Russian, Hindi   \n",
       "9                                 English   \n",
       "10                        English, Korean   \n",
       "11  English, Swahili, Nama, Xhosa, Korean   \n",
       "12                                English   \n",
       "13                                    NaN   \n",
       "14                       English, Russian   \n",
       "15                     English, Norwegian   \n",
       "16                        English, French   \n",
       "17                                English   \n",
       "18                       English, Russian   \n",
       "19                                English   \n",
       "\n",
       "                                            Country  \\\n",
       "0                                               USA   \n",
       "1                                               USA   \n",
       "2                    USA, Mexico, Australia, Canada   \n",
       "3                                               NaN   \n",
       "4                                               USA   \n",
       "5                                               USA   \n",
       "6                                               USA   \n",
       "7   USA, China, Japan, Canada, United Arab Emirates   \n",
       "8                                               USA   \n",
       "9                                               USA   \n",
       "10                                              USA   \n",
       "11                                              USA   \n",
       "12                                          UK, USA   \n",
       "13                                              NaN   \n",
       "14                                              USA   \n",
       "15                                              USA   \n",
       "16                                              USA   \n",
       "17                                              USA   \n",
       "18                                China, USA, Japan   \n",
       "19                                              USA   \n",
       "\n",
       "                                               Awards  \\\n",
       "0   Nominated for 1 Oscar. Another 65 wins & 103 n...   \n",
       "1    Won 3 Oscars. Another 86 wins & 129 nominations.   \n",
       "2   Won 11 Oscars. Another 113 wins & 83 nominations.   \n",
       "3                                                 NaN   \n",
       "4   Nominated for 1 Oscar. Another 46 wins & 73 no...   \n",
       "5                           15 wins & 57 nominations.   \n",
       "6     Won 2 Oscars. Another 35 wins & 34 nominations.   \n",
       "7   Nominated for 1 Golden Globe. Another 33 wins ...   \n",
       "8   Nominated for 1 Oscar. Another 38 wins & 79 no...   \n",
       "9   Nominated for 1 Oscar. Another 15 wins & 71 no...   \n",
       "10                           8 wins & 47 nominations.   \n",
       "11  Won 3 Oscars. Another 109 wins & 265 nominations.   \n",
       "12  Nominated for 3 Oscars. Another 45 wins & 91 n...   \n",
       "13                                                NaN   \n",
       "14                           4 wins & 25 nominations.   \n",
       "15    Won 2 Oscars. Another 79 wins & 59 nominations.   \n",
       "16    Won 2 Oscars. Another 26 wins & 33 nominations.   \n",
       "17  Nominated for 1 Oscar. Another 12 wins & 73 no...   \n",
       "18                            1 win & 11 nominations.   \n",
       "19  Nominated for 1 Oscar. Another 20 wins & 62 no...   \n",
       "\n",
       "                                               Poster  \\\n",
       "0   https://m.media-amazon.com/images/M/MV5BMTc5MD...   \n",
       "1   https://m.media-amazon.com/images/M/MV5BMTYwOT...   \n",
       "2   https://m.media-amazon.com/images/M/MV5BMDdmZG...   \n",
       "3                                                 NaN   \n",
       "4   https://m.media-amazon.com/images/M/MV5BMjMxNj...   \n",
       "5   https://m.media-amazon.com/images/M/MV5BNzQ3OT...   \n",
       "6   https://m.media-amazon.com/images/M/MV5BYTYxNG...   \n",
       "7   https://m.media-amazon.com/images/M/MV5BMTQxOT...   \n",
       "8   https://m.media-amazon.com/images/M/MV5BNDYxNj...   \n",
       "9   https://m.media-amazon.com/images/M/MV5BMjA0Yj...   \n",
       "10  https://m.media-amazon.com/images/M/MV5BMTM4OG...   \n",
       "11  https://m.media-amazon.com/images/M/MV5BMTg1MT...   \n",
       "12  https://m.media-amazon.com/images/M/MV5BMjIyZG...   \n",
       "13                                                NaN   \n",
       "14  https://m.media-amazon.com/images/M/MV5BNzIxMj...   \n",
       "15  https://m.media-amazon.com/images/M/MV5BMTQ1Mj...   \n",
       "16  https://m.media-amazon.com/images/M/MV5BMzE5MD...   \n",
       "17  https://m.media-amazon.com/images/M/MV5BMTEzNz...   \n",
       "18  https://m.media-amazon.com/images/M/MV5BMjMxOD...   \n",
       "19  https://m.media-amazon.com/images/M/MV5BMjE5Mz...   \n",
       "\n",
       "                                              Ratings  Metascore  imdbRating  \\\n",
       "0   [{'Source': 'Internet Movie Database', 'Value'...       78.0         8.4   \n",
       "1   [{'Source': 'Internet Movie Database', 'Value'...       83.0         7.8   \n",
       "2   [{'Source': 'Internet Movie Database', 'Value'...       75.0         7.8   \n",
       "3                                                 NaN        NaN         NaN   \n",
       "4   [{'Source': 'Internet Movie Database', 'Value'...       68.0         8.5   \n",
       "5   [{'Source': 'Internet Movie Database', 'Value'...       59.0         7.0   \n",
       "6   [{'Source': 'Internet Movie Database', 'Value'...       88.0         8.5   \n",
       "7   [{'Source': 'Internet Movie Database', 'Value'...       67.0         7.2   \n",
       "8   [{'Source': 'Internet Movie Database', 'Value'...       69.0         8.0   \n",
       "9   [{'Source': 'Internet Movie Database', 'Value'...       64.0         6.9   \n",
       "10  [{'Source': 'Internet Movie Database', 'Value'...       66.0         7.3   \n",
       "11  [{'Source': 'Internet Movie Database', 'Value'...       88.0         7.3   \n",
       "12  [{'Source': 'Internet Movie Database', 'Value'...       85.0         8.1   \n",
       "13                                                NaN        NaN         NaN   \n",
       "14  [{'Source': 'Internet Movie Database', 'Value'...       51.0         6.2   \n",
       "15  [{'Source': 'Internet Movie Database', 'Value'...       75.0         7.4   \n",
       "16  [{'Source': 'Internet Movie Database', 'Value'...       95.0         8.0   \n",
       "17  [{'Source': 'Internet Movie Database', 'Value'...       80.0         7.6   \n",
       "18  [{'Source': 'Internet Movie Database', 'Value'...       56.0         6.7   \n",
       "19  [{'Source': 'Internet Movie Database', 'Value'...       62.0         7.2   \n",
       "\n",
       "    imdbVotes     imdbID   Type          DVD     BoxOffice  \\\n",
       "0     730,943  tt4154796  movie  30 Jul 2019           NaN   \n",
       "1   1,091,877  tt0499549  movie  22 Apr 2010  $749,700,000   \n",
       "2   1,015,018  tt0120338  movie  10 Sep 2012           NaN   \n",
       "3         NaN        NaN    NaN          NaN           NaN   \n",
       "4     777,609  tt4154756  movie  14 Aug 2018  $664,987,816   \n",
       "5     563,786  tt0369610  movie  20 Oct 2015  $528,757,749   \n",
       "6     907,281  tt0110357  movie  07 Oct 2003   $94,240,635   \n",
       "7     349,835  tt2820852  movie  15 Sep 2015  $316,986,481   \n",
       "8   1,234,641  tt0848228  movie  25 Sep 2012  $623,279,547   \n",
       "9     111,002  tt4520988  movie          NaN           NaN   \n",
       "10    714,938  tt2395427  movie  02 Oct 2015  $429,113,729   \n",
       "11    583,565  tt1825683  movie  15 May 2018  $501,105,037   \n",
       "12    736,149  tt1201607  movie  11 Nov 2011  $381,000,185   \n",
       "13        NaN        NaN    NaN          NaN           NaN   \n",
       "14    248,322  tt4881806  movie  18 Sep 2018           NaN   \n",
       "15    554,501  tt2294629  movie  18 Mar 2014  $400,736,600   \n",
       "16    406,983  tt0101414  movie  08 Oct 2002   $47,611,331   \n",
       "17    234,188  tt3606756  movie  23 Oct 2018           NaN   \n",
       "18    196,404  tt4630562  movie  11 Jul 2017  $225,697,400   \n",
       "19    734,396  tt1300854  movie  24 Sep 2013  $408,992,272   \n",
       "\n",
       "               Production Website  Response             Error  totalSeasons  \n",
       "0          Marvel Studios     NaN      True               NaN           NaN  \n",
       "1        20th Century Fox     NaN      True               NaN           NaN  \n",
       "2      Paramount Pictures     NaN      True               NaN           NaN  \n",
       "3                     NaN     NaN     False  Movie not found!           NaN  \n",
       "4    Walt Disney Pictures     NaN      True               NaN           NaN  \n",
       "5      Universal Pictures     NaN      True               NaN           NaN  \n",
       "6             Buena Vista     NaN      True               NaN           NaN  \n",
       "7      Universal Pictures     NaN      True               NaN           NaN  \n",
       "8    Walt Disney Pictures     NaN      True               NaN           NaN  \n",
       "9                     NaN     NaN      True               NaN           NaN  \n",
       "10   Walt Disney Pictures     NaN      True               NaN           NaN  \n",
       "11         Marvel Studios     NaN      True               NaN           NaN  \n",
       "12  Warner Bros. Pictures     NaN      True               NaN           NaN  \n",
       "13                    NaN     NaN     False  Movie not found!           NaN  \n",
       "14     Universal Pictures     NaN      True               NaN           NaN  \n",
       "15   Walt Disney Pictures     NaN      True               NaN           NaN  \n",
       "16            Buena Vista     NaN      True               NaN           NaN  \n",
       "17           Disney/Pixar     NaN      True               NaN           NaN  \n",
       "18     Universal Pictures     NaN      True               NaN           NaN  \n",
       "19   Walt Disney Pictures     NaN      True               NaN           NaN  "
      ]
     },
     "execution_count": 26,
     "metadata": {},
     "output_type": "execute_result"
    }
   ],
   "source": [
    "df = pd.read_csv('omdb_pull.csv')\n",
    "df.head(20)"
   ]
  },
  {
   "cell_type": "code",
   "execution_count": 27,
   "metadata": {
    "ExecuteTime": {
     "end_time": "2020-07-01T12:19:02.823473Z",
     "start_time": "2020-07-01T12:19:02.813258Z"
    }
   },
   "outputs": [
    {
     "data": {
      "text/plain": [
       "Unnamed: 0        0\n",
       "Title            77\n",
       "Year             77\n",
       "Rated            84\n",
       "Released         78\n",
       "Runtime          78\n",
       "Genre            78\n",
       "Director         83\n",
       "Writer           80\n",
       "Actors           77\n",
       "Plot             79\n",
       "Language         77\n",
       "Country          77\n",
       "Awards           88\n",
       "Poster           79\n",
       "Ratings          77\n",
       "Metascore        92\n",
       "imdbRating       78\n",
       "imdbVotes        78\n",
       "imdbID           77\n",
       "Type             77\n",
       "DVD             102\n",
       "BoxOffice       437\n",
       "Production      106\n",
       "Website         999\n",
       "Response          0\n",
       "Error           923\n",
       "totalSeasons    995\n",
       "dtype: int64"
      ]
     },
     "execution_count": 27,
     "metadata": {},
     "output_type": "execute_result"
    }
   ],
   "source": [
    "df.isna().sum()"
   ]
  },
  {
   "cell_type": "code",
   "execution_count": 28,
   "metadata": {
    "ExecuteTime": {
     "end_time": "2020-07-01T12:19:02.830096Z",
     "start_time": "2020-07-01T12:19:02.825741Z"
    }
   },
   "outputs": [],
   "source": [
    "df=df.drop(columns = ['Error','totalSeasons','Website'])"
   ]
  },
  {
   "cell_type": "code",
   "execution_count": 29,
   "metadata": {
    "ExecuteTime": {
     "end_time": "2020-07-01T12:19:04.706778Z",
     "start_time": "2020-07-01T12:19:02.832103Z"
    }
   },
   "outputs": [
    {
     "data": {
      "text/plain": [
       "<matplotlib.axes._subplots.AxesSubplot at 0x7fa842a21550>"
      ]
     },
     "execution_count": 29,
     "metadata": {},
     "output_type": "execute_result"
    },
    {
     "data": {
      "image/png": "[encoded data removed]",
      "text/plain": [
       "<Figure size 5040x2160 with 1 Axes>"
      ]
     },
     "metadata": {
      "needs_background": "light"
     },
     "output_type": "display_data"
    }
   ],
   "source": [
    "df['Year'].hist(figsize=(70,30))"
   ]
  },
  {
   "cell_type": "code",
   "execution_count": 30,
   "metadata": {
    "ExecuteTime": {
     "end_time": "2020-07-01T12:19:04.713010Z",
     "start_time": "2020-07-01T12:19:04.709128Z"
    }
   },
   "outputs": [],
   "source": [
    "df['Year'] = df['Year'].fillna('0')"
   ]
  },
  {
   "cell_type": "code",
   "execution_count": 31,
   "metadata": {
    "ExecuteTime": {
     "end_time": "2020-07-01T12:19:04.722598Z",
     "start_time": "2020-07-01T12:19:04.715399Z"
    }
   },
   "outputs": [
    {
     "data": {
      "text/plain": [
       "0      2019\n",
       "1      2009\n",
       "2      1997\n",
       "3         0\n",
       "4      2018\n",
       "       ... \n",
       "995    1999\n",
       "996    2012\n",
       "997    2015\n",
       "998    2008\n",
       "999    1990\n",
       "Name: Year, Length: 1000, dtype: object"
      ]
     },
     "execution_count": 31,
     "metadata": {},
     "output_type": "execute_result"
    }
   ],
   "source": [
    "df['Year']"
   ]
  },
  {
   "cell_type": "code",
   "execution_count": 32,
   "metadata": {
    "ExecuteTime": {
     "end_time": "2020-07-01T12:19:04.732244Z",
     "start_time": "2020-07-01T12:19:04.727353Z"
    }
   },
   "outputs": [
    {
     "data": {
      "text/plain": [
       "1000"
      ]
     },
     "execution_count": 32,
     "metadata": {},
     "output_type": "execute_result"
    }
   ],
   "source": [
    "len(df)"
   ]
  },
  {
   "cell_type": "code",
   "execution_count": 33,
   "metadata": {
    "ExecuteTime": {
     "end_time": "2020-07-01T12:19:05.852916Z",
     "start_time": "2020-07-01T12:19:04.734490Z"
    },
    "scrolled": true
   },
   "outputs": [
    {
     "data": {
      "text/plain": [
       "<matplotlib.axes._subplots.AxesSubplot at 0x7fa842cb3438>"
      ]
     },
     "execution_count": 33,
     "metadata": {},
     "output_type": "execute_result"
    },
    {
     "data": {
      "image/png": "[encoded data removed]",
      "text/plain": [
       "<Figure size 2160x720 with 1 Axes>"
      ]
     },
     "metadata": {
      "needs_background": "light"
     },
     "output_type": "display_data"
    }
   ],
   "source": [
    "df['Year'].hist(figsize=(30,10))"
   ]
  },
  {
   "cell_type": "markdown",
   "metadata": {},
   "source": [
    "# Pulling All Films Produced 2000-2019 From TheNumbers.com"
   ]
  },
  {
   "cell_type": "code",
   "execution_count": 83,
   "metadata": {
    "ExecuteTime": {
     "end_time": "2020-07-01T12:59:06.679133Z",
     "start_time": "2020-07-01T12:59:06.674257Z"
    }
   },
   "outputs": [],
   "source": [
    "all_titles = []\n",
    "def get_tn_all_films(url):\n",
    "    html_page = requests.get(url)\n",
    "    soup = BeautifulSoup(html_page.content,'html.parser')\n",
    "    titles = soup.findAll('b')\n",
    "    titles = titles[:-3]\n",
    "    for title in titles:\n",
    "        all_titles.append(str(title).split('summary\">')[1][:-8])"
   ]
  },
  {
   "cell_type": "code",
   "execution_count": 84,
   "metadata": {
    "ExecuteTime": {
     "end_time": "2020-07-01T12:59:40.873091Z",
     "start_time": "2020-07-01T12:59:07.079416Z"
    }
   },
   "outputs": [],
   "source": [
    "year_list = list(np.arange(2000,2020,1))\n",
    "for year in year_list:\n",
    "    get_tn_all_films('https://www.the-numbers.com/movies/year/{}'.format(year))"
   ]
  },
  {
   "cell_type": "code",
   "execution_count": 88,
   "metadata": {
    "ExecuteTime": {
     "end_time": "2020-07-01T13:00:28.129562Z",
     "start_time": "2020-07-01T13:00:28.126057Z"
    }
   },
   "outputs": [
    {
     "data": {
      "text/plain": [
       "32465"
      ]
     },
     "execution_count": 88,
     "metadata": {},
     "output_type": "execute_result"
    }
   ],
   "source": [
    "len(all_titles)"
   ]
  },
  {
   "cell_type": "code",
   "execution_count": 97,
   "metadata": {
    "ExecuteTime": {
     "end_time": "2020-07-01T13:03:56.293259Z",
     "start_time": "2020-07-01T13:03:56.288221Z"
    }
   },
   "outputs": [],
   "source": [
    "all_rev = []\n",
    "def get_tn_all_rev(url):\n",
    "    html_page = requests.get(url)\n",
    "    soup = BeautifulSoup(html_page.content,'html.parser')\n",
    "    revenue = soup.findAll('td', class_='data')\n",
    "    for item in revenue:\n",
    "        all_rev.append(str(item).split('\"data\">')[1][:-5])"
   ]
  },
  {
   "cell_type": "code",
   "execution_count": 98,
   "metadata": {
    "ExecuteTime": {
     "end_time": "2020-07-01T13:04:53.956715Z",
     "start_time": "2020-07-01T13:04:18.853167Z"
    }
   },
   "outputs": [],
   "source": [
    "for year in year_list:\n",
    "    get_tn_all_rev('https://www.the-numbers.com/movies/year/{}'.format(year))"
   ]
  },
  {
   "cell_type": "code",
   "execution_count": 99,
   "metadata": {
    "ExecuteTime": {
     "end_time": "2020-07-01T13:04:54.035261Z",
     "start_time": "2020-07-01T13:04:54.030725Z"
    }
   },
   "outputs": [
    {
     "data": {
      "text/plain": [
       "32465"
      ]
     },
     "execution_count": 99,
     "metadata": {},
     "output_type": "execute_result"
    }
   ],
   "source": [
    "len(all_rev)"
   ]
  },
  {
   "cell_type": "code",
   "execution_count": 102,
   "metadata": {
    "ExecuteTime": {
     "end_time": "2020-07-01T13:07:15.770208Z",
     "start_time": "2020-07-01T13:07:15.749429Z"
    }
   },
   "outputs": [
    {
     "data": {
      "text/html": [
       "<div>\n",
       "<style scoped>\n",
       "    .dataframe tbody tr th:only-of-type {\n",
       "        vertical-align: middle;\n",
       "    }\n",
       "\n",
       "    .dataframe tbody tr th {\n",
       "        vertical-align: top;\n",
       "    }\n",
       "\n",
       "    .dataframe thead th {\n",
       "        text-align: right;\n",
       "    }\n",
       "</style>\n",
       "<table border=\"1\" class=\"dataframe\">\n",
       "  <thead>\n",
       "    <tr style=\"text-align: right;\">\n",
       "      <th></th>\n",
       "      <th>title</th>\n",
       "      <th>revenue</th>\n",
       "    </tr>\n",
       "  </thead>\n",
       "  <tbody>\n",
       "    <tr>\n",
       "      <td>0</td>\n",
       "      <td>Bakha Satang</td>\n",
       "      <td>$76,576</td>\n",
       "    </tr>\n",
       "    <tr>\n",
       "      <td>1</td>\n",
       "      <td>Bulandi</td>\n",
       "      <td>$203,548</td>\n",
       "    </tr>\n",
       "    <tr>\n",
       "      <td>2</td>\n",
       "      <td>Life is to Whistle</td>\n",
       "      <td>$63,574</td>\n",
       "    </tr>\n",
       "    <tr>\n",
       "      <td>3</td>\n",
       "      <td>Mela</td>\n",
       "      <td>$220,524</td>\n",
       "    </tr>\n",
       "    <tr>\n",
       "      <td>4</td>\n",
       "      <td>Trans</td>\n",
       "      <td>$9,623</td>\n",
       "    </tr>\n",
       "  </tbody>\n",
       "</table>\n",
       "</div>"
      ],
      "text/plain": [
       "                title   revenue\n",
       "0        Bakha Satang   $76,576\n",
       "1             Bulandi  $203,548\n",
       "2  Life is to Whistle   $63,574\n",
       "3                Mela  $220,524\n",
       "4               Trans    $9,623"
      ]
     },
     "execution_count": 102,
     "metadata": {},
     "output_type": "execute_result"
    }
   ],
   "source": [
    "df = pd.DataFrame(zip(all_titles,all_rev), columns = ['title','revenue'])\n",
    "df.head()"
   ]
  },
  {
   "cell_type": "code",
   "execution_count": 114,
   "metadata": {
    "ExecuteTime": {
     "end_time": "2020-07-01T13:11:05.036276Z",
     "start_time": "2020-07-01T13:11:04.997680Z"
    }
   },
   "outputs": [
    {
     "data": {
      "text/html": [
       "<div>\n",
       "<style scoped>\n",
       "    .dataframe tbody tr th:only-of-type {\n",
       "        vertical-align: middle;\n",
       "    }\n",
       "\n",
       "    .dataframe tbody tr th {\n",
       "        vertical-align: top;\n",
       "    }\n",
       "\n",
       "    .dataframe thead th {\n",
       "        text-align: right;\n",
       "    }\n",
       "</style>\n",
       "<table border=\"1\" class=\"dataframe\">\n",
       "  <thead>\n",
       "    <tr style=\"text-align: right;\">\n",
       "      <th></th>\n",
       "      <th>title</th>\n",
       "      <th>revenue</th>\n",
       "    </tr>\n",
       "  </thead>\n",
       "  <tbody>\n",
       "    <tr>\n",
       "      <td>0</td>\n",
       "      <td>Bakha Satang</td>\n",
       "      <td>76576</td>\n",
       "    </tr>\n",
       "    <tr>\n",
       "      <td>1</td>\n",
       "      <td>Bulandi</td>\n",
       "      <td>203548</td>\n",
       "    </tr>\n",
       "    <tr>\n",
       "      <td>2</td>\n",
       "      <td>Life is to Whistle</td>\n",
       "      <td>63574</td>\n",
       "    </tr>\n",
       "    <tr>\n",
       "      <td>3</td>\n",
       "      <td>Mela</td>\n",
       "      <td>220524</td>\n",
       "    </tr>\n",
       "    <tr>\n",
       "      <td>4</td>\n",
       "      <td>Trans</td>\n",
       "      <td>9623</td>\n",
       "    </tr>\n",
       "  </tbody>\n",
       "</table>\n",
       "</div>"
      ],
      "text/plain": [
       "                title  revenue\n",
       "0        Bakha Satang    76576\n",
       "1             Bulandi   203548\n",
       "2  Life is to Whistle    63574\n",
       "3                Mela   220524\n",
       "4               Trans     9623"
      ]
     },
     "execution_count": 114,
     "metadata": {},
     "output_type": "execute_result"
    }
   ],
   "source": [
    "df['revenue'] = df['revenue'].map(lambda x: x.replace('$',''))\n",
    "df['revenue'] = df['revenue'].map(lambda x: x.replace(',',''))\n",
    "df['revenue'] = df['revenue'].astype('int')"
   ]
  },
  {
   "cell_type": "code",
   "execution_count": 120,
   "metadata": {
    "ExecuteTime": {
     "end_time": "2020-07-01T13:14:41.411676Z",
     "start_time": "2020-07-01T13:14:41.401781Z"
    }
   },
   "outputs": [
    {
     "data": {
      "text/html": [
       "<div>\n",
       "<style scoped>\n",
       "    .dataframe tbody tr th:only-of-type {\n",
       "        vertical-align: middle;\n",
       "    }\n",
       "\n",
       "    .dataframe tbody tr th {\n",
       "        vertical-align: top;\n",
       "    }\n",
       "\n",
       "    .dataframe thead th {\n",
       "        text-align: right;\n",
       "    }\n",
       "</style>\n",
       "<table border=\"1\" class=\"dataframe\">\n",
       "  <thead>\n",
       "    <tr style=\"text-align: right;\">\n",
       "      <th></th>\n",
       "      <th>title</th>\n",
       "      <th>revenue</th>\n",
       "    </tr>\n",
       "  </thead>\n",
       "  <tbody>\n",
       "    <tr>\n",
       "      <td>5</td>\n",
       "      <td>The Life and Times of Hank Greenberg</td>\n",
       "      <td>1703901</td>\n",
       "    </tr>\n",
       "    <tr>\n",
       "      <td>6</td>\n",
       "      <td>My Dog Skip</td>\n",
       "      <td>35795319</td>\n",
       "    </tr>\n",
       "    <tr>\n",
       "      <td>7</td>\n",
       "      <td>Next Friday</td>\n",
       "      <td>59675307</td>\n",
       "    </tr>\n",
       "    <tr>\n",
       "      <td>9</td>\n",
       "      <td>Supernova</td>\n",
       "      <td>14816494</td>\n",
       "    </tr>\n",
       "    <tr>\n",
       "      <td>12</td>\n",
       "      <td>Down to You</td>\n",
       "      <td>20035310</td>\n",
       "    </tr>\n",
       "  </tbody>\n",
       "</table>\n",
       "</div>"
      ],
      "text/plain": [
       "                                   title   revenue\n",
       "5   The Life and Times of Hank Greenberg   1703901\n",
       "6                            My Dog Skip  35795319\n",
       "7                            Next Friday  59675307\n",
       "9                              Supernova  14816494\n",
       "12                           Down to You  20035310"
      ]
     },
     "execution_count": 120,
     "metadata": {},
     "output_type": "execute_result"
    }
   ],
   "source": [
    "df=df.loc[df['revenue'] >= 1000000]\n",
    "df.head()"
   ]
  },
  {
   "cell_type": "code",
   "execution_count": 121,
   "metadata": {
    "ExecuteTime": {
     "end_time": "2020-07-01T13:14:46.671984Z",
     "start_time": "2020-07-01T13:14:46.655701Z"
    }
   },
   "outputs": [
    {
     "data": {
      "text/html": [
       "<div>\n",
       "<style scoped>\n",
       "    .dataframe tbody tr th:only-of-type {\n",
       "        vertical-align: middle;\n",
       "    }\n",
       "\n",
       "    .dataframe tbody tr th {\n",
       "        vertical-align: top;\n",
       "    }\n",
       "\n",
       "    .dataframe thead th {\n",
       "        text-align: right;\n",
       "    }\n",
       "</style>\n",
       "<table border=\"1\" class=\"dataframe\">\n",
       "  <thead>\n",
       "    <tr style=\"text-align: right;\">\n",
       "      <th></th>\n",
       "      <th>revenue</th>\n",
       "    </tr>\n",
       "  </thead>\n",
       "  <tbody>\n",
       "    <tr>\n",
       "      <td>count</td>\n",
       "      <td>9.782000e+03</td>\n",
       "    </tr>\n",
       "    <tr>\n",
       "      <td>mean</td>\n",
       "      <td>6.002758e+07</td>\n",
       "    </tr>\n",
       "    <tr>\n",
       "      <td>std</td>\n",
       "      <td>1.572214e+08</td>\n",
       "    </tr>\n",
       "    <tr>\n",
       "      <td>min</td>\n",
       "      <td>1.000000e+06</td>\n",
       "    </tr>\n",
       "    <tr>\n",
       "      <td>25%</td>\n",
       "      <td>2.879936e+06</td>\n",
       "    </tr>\n",
       "    <tr>\n",
       "      <td>50%</td>\n",
       "      <td>9.135289e+06</td>\n",
       "    </tr>\n",
       "    <tr>\n",
       "      <td>75%</td>\n",
       "      <td>4.379488e+07</td>\n",
       "    </tr>\n",
       "    <tr>\n",
       "      <td>max</td>\n",
       "      <td>3.217664e+09</td>\n",
       "    </tr>\n",
       "  </tbody>\n",
       "</table>\n",
       "</div>"
      ],
      "text/plain": [
       "            revenue\n",
       "count  9.782000e+03\n",
       "mean   6.002758e+07\n",
       "std    1.572214e+08\n",
       "min    1.000000e+06\n",
       "25%    2.879936e+06\n",
       "50%    9.135289e+06\n",
       "75%    4.379488e+07\n",
       "max    3.217664e+09"
      ]
     },
     "execution_count": 121,
     "metadata": {},
     "output_type": "execute_result"
    }
   ],
   "source": [
    "df.describe()"
   ]
  },
  {
   "cell_type": "code",
   "execution_count": null,
   "metadata": {
    "ExecuteTime": {
     "end_time": "2020-07-01T13:19:24.641977Z",
     "start_time": "2020-07-01T13:19:24.629784Z"
    }
   },
   "outputs": [],
   "source": []
  },
  {
   "cell_type": "code",
   "execution_count": null,
   "metadata": {},
   "outputs": [],
   "source": []
  }
 ],
 "metadata": {
  "kernelspec": {
   "display_name": "learn-env",
   "language": "python",
   "name": "learn-env"
  },
  "language_info": {
   "codemirror_mode": {
    "name": "ipython",
    "version": 3
   },
   "file_extension": ".py",
   "mimetype": "text/x-python",
   "name": "python",
   "nbconvert_exporter": "python",
   "pygments_lexer": "ipython3",
   "version": "3.6.9"
  },
  "varInspector": {
   "cols": {
    "lenName": 16,
    "lenType": 16,
    "lenVar": 40
   },
   "kernels_config": {
    "python": {
     "delete_cmd_postfix": "",
     "delete_cmd_prefix": "del ",
     "library": "var_list.py",
     "varRefreshCmd": "print(var_dic_list())"
    },
    "r": {
     "delete_cmd_postfix": ") ",
     "delete_cmd_prefix": "rm(",
     "library": "var_list.r",
     "varRefreshCmd": "cat(var_dic_list()) "
    }
   },
   "types_to_exclude": [
    "module",
    "function",
    "builtin_function_or_method",
    "instance",
    "_Feature"
   ],
   "window_display": false
  }
 },
 "nbformat": 4,
 "nbformat_minor": 2
}
